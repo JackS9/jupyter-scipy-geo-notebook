{
 "cells": [
  {
   "cell_type": "markdown",
   "metadata": {
    "extensions": {
     "jupyter_dashboards": {
      "version": 1,
      "views": {
       "grid_default": {
        "col": 0,
        "height": 4,
        "hidden": false,
        "row": 0,
        "width": 4
       },
       "report_default": {
        "hidden": false
       }
      }
     }
    }
   },
   "source": [
    "# Analysis and display of water quality indicators along Greenup pool of Ohio River"
   ]
  },
  {
   "cell_type": "markdown",
   "metadata": {},
   "source": [
    "<h3>Quick index:</h3>\n",
    "<ul>\n",
    "    <li><a href=#map>Map</a></li>\n",
    "    <li><a href=#transect_plots>Transect Plots</a></li>\n",
    "    <li><a href=#ironton_usgs_plots>USGS Gage at Ironton</a></li>\n",
    "    <li><a href=#locks_plots>Sonde data at RCBI and Greenup Locks</a></li>    \n",
    "    <li><a href=#transect_3d_profiles>Transect 3D Profiles</a></li>\n",
    "    <li><a href=#orsanco_data>ORSANCO Data</a></li>\n",
    "</ul>"
   ]
  },
  {
   "cell_type": "markdown",
   "metadata": {
    "extensions": {
     "jupyter_dashboards": {
      "version": 1,
      "views": {
       "grid_default": {
        "col": 0,
        "height": 13,
        "hidden": false,
        "row": 4,
        "width": 12
       },
       "report_default": {
        "hidden": false
       }
      }
     }
    }
   },
   "source": [
    "#### TODO:\n",
    "* **NWS** (weather) data\n",
    "* **WQP** data\n",
    "* WV DEP data (**TAGIS**)\n",
    "* Other SENSE/AFI data \n",
    "  * Sediment data from **Booner tubes** (Jones)\n",
    "  * **Chlorophyll** and **algal counts** from grab sample analyses\n",
    "* Plots in **marker popups**\n",
    "* Put all local data in a **database** and access from there\n",
    "* **ORSANCO** data (from Tom Jones):\n",
    " * More **sediment composition** plots:\n",
    "   * Add distribution plots, correlation plots, multiple-Z plots on same graph\n",
    " * Do same for **Fish populations, Macro invertebrates, Substrate types, Water quality**\n",
    " * Cross correlations between any pair"
   ]
  },
  {
   "cell_type": "markdown",
   "metadata": {},
   "source": [
    "## == Get things set up =="
   ]
  },
  {
   "cell_type": "markdown",
   "metadata": {
    "extensions": {
     "jupyter_dashboards": {
      "version": 1,
      "views": {
       "grid_default": {
        "col": 0,
        "height": 5,
        "hidden": false,
        "row": 17,
        "width": 12
       },
       "report_default": {
        "hidden": false
       }
      }
     }
    }
   },
   "source": [
    "### To install packages locally (e.g., folium, geopandas, fiona):\n",
    "```\n",
    "%%bash -l\n",
    "use -e -r anaconda3-5.1\n",
    "pip install folium --prefix=. --upgrade-strategy only-if-needed\n",
    "```"
   ]
  },
  {
   "cell_type": "markdown",
   "metadata": {
    "extensions": {
     "jupyter_dashboards": {
      "version": 1,
      "views": {
       "grid_default": {
        "hidden": true
       },
       "report_default": {
        "hidden": true
       }
      }
     }
    }
   },
   "source": [
    "#### To access them:\n",
    "```\n",
    "import os, sys\n",
    "sys.path.insert(0,'lib/python3.7/site-packages') # Add locally installed packages to path\n",
    "```"
   ]
  },
  {
   "cell_type": "markdown",
   "metadata": {},
   "source": [
    "### Create output directory if it does not already exist"
   ]
  },
  {
   "cell_type": "code",
   "execution_count": 1,
   "metadata": {},
   "outputs": [],
   "source": [
    "!mkdir -p data/Greenup/out"
   ]
  },
  {
   "cell_type": "markdown",
   "metadata": {},
   "source": [
    "### Use full width of browser window"
   ]
  },
  {
   "cell_type": "code",
   "execution_count": 2,
   "metadata": {},
   "outputs": [
    {
     "data": {
      "text/html": [
       "<style>.container { width:100% !important; }</style>"
      ],
      "text/plain": [
       "<IPython.core.display.HTML object>"
      ]
     },
     "metadata": {},
     "output_type": "display_data"
    }
   ],
   "source": [
    "from IPython.core.display import display, HTML\n",
    "display(HTML(\"<style>.container { width:100% !important; }</style>\"))"
   ]
  },
  {
   "cell_type": "markdown",
   "metadata": {
    "extensions": {
     "jupyter_dashboards": {
      "version": 1,
      "views": {
       "grid_default": {
        "col": 4,
        "height": 4,
        "hidden": false,
        "row": 0,
        "width": 4
       },
       "report_default": {
        "hidden": false
       }
      }
     }
    }
   },
   "source": [
    "### Enable R-style DataFrames with Pandas, numerical arrays and matrices with NumPy"
   ]
  },
  {
   "cell_type": "code",
   "execution_count": 3,
   "metadata": {
    "extensions": {
     "jupyter_dashboards": {
      "version": 1,
      "views": {
       "grid_default": {
        "hidden": true
       },
       "report_default": {
        "hidden": true
       }
      }
     }
    }
   },
   "outputs": [],
   "source": [
    "import pandas as pd\n",
    "import numpy as np"
   ]
  },
  {
   "cell_type": "markdown",
   "metadata": {
    "extensions": {
     "jupyter_dashboards": {
      "version": 1,
      "views": {
       "grid_default": {
        "col": 4,
        "height": 4,
        "hidden": false,
        "row": 0,
        "width": 4
       },
       "report_default": {
        "hidden": false
       }
      }
     }
    }
   },
   "source": [
    "### Enable Math functions"
   ]
  },
  {
   "cell_type": "code",
   "execution_count": 4,
   "metadata": {
    "extensions": {
     "jupyter_dashboards": {
      "version": 1,
      "views": {
       "grid_default": {
        "hidden": true
       },
       "report_default": {
        "hidden": true
       }
      }
     }
    }
   },
   "outputs": [],
   "source": [
    "import math"
   ]
  },
  {
   "cell_type": "markdown",
   "metadata": {
    "extensions": {
     "jupyter_dashboards": {
      "version": 1,
      "views": {
       "grid_default": {
        "col": 4,
        "height": 4,
        "hidden": false,
        "row": 0,
        "width": 4
       },
       "report_default": {
        "hidden": false
       }
      }
     }
    }
   },
   "source": [
    "### Enable working with Dates and Times"
   ]
  },
  {
   "cell_type": "code",
   "execution_count": 5,
   "metadata": {
    "extensions": {
     "jupyter_dashboards": {
      "version": 1,
      "views": {
       "grid_default": {
        "hidden": true
       },
       "report_default": {
        "hidden": true
       }
      }
     }
    }
   },
   "outputs": [],
   "source": [
    "import time"
   ]
  },
  {
   "cell_type": "markdown",
   "metadata": {
    "extensions": {
     "jupyter_dashboards": {
      "version": 1,
      "views": {
       "grid_default": {
        "col": 4,
        "height": 4,
        "hidden": false,
        "row": 0,
        "width": 4
       },
       "report_default": {
        "hidden": false
       }
      }
     }
    }
   },
   "source": [
    "### Enable Pandas scatter plot matrices"
   ]
  },
  {
   "cell_type": "code",
   "execution_count": 6,
   "metadata": {
    "extensions": {
     "jupyter_dashboards": {
      "version": 1,
      "views": {
       "grid_default": {
        "hidden": true
       },
       "report_default": {
        "hidden": true
       }
      }
     }
    }
   },
   "outputs": [],
   "source": [
    "from pandas.plotting import scatter_matrix"
   ]
  },
  {
   "cell_type": "markdown",
   "metadata": {
    "extensions": {
     "jupyter_dashboards": {
      "version": 1,
      "views": {
       "grid_default": {
        "col": 4,
        "height": 4,
        "hidden": false,
        "row": 0,
        "width": 4
       },
       "report_default": {
        "hidden": false
       }
      }
     }
    }
   },
   "source": [
    "### Enable inline MATLAB-style plotting with MatPlotLib"
   ]
  },
  {
   "cell_type": "code",
   "execution_count": 7,
   "metadata": {
    "extensions": {
     "jupyter_dashboards": {
      "version": 1,
      "views": {
       "grid_default": {
        "hidden": true
       },
       "report_default": {
        "hidden": true
       }
      }
     }
    }
   },
   "outputs": [],
   "source": [
    "import matplotlib.pyplot as plt\n",
    "%matplotlib inline"
   ]
  },
  {
   "cell_type": "markdown",
   "metadata": {
    "extensions": {
     "jupyter_dashboards": {
      "version": 1,
      "views": {
       "grid_default": {},
       "report_default": {
        "hidden": false
       }
      }
     }
    }
   },
   "source": [
    "### Enable 3D plotting in MatPlotLib using MPlot3D toolkit"
   ]
  },
  {
   "cell_type": "code",
   "execution_count": 8,
   "metadata": {
    "extensions": {
     "jupyter_dashboards": {
      "version": 1,
      "views": {
       "grid_default": {
        "hidden": true
       },
       "report_default": {
        "hidden": true
       }
      }
     }
    }
   },
   "outputs": [],
   "source": [
    "from mpl_toolkits.mplot3d import Axes3D"
   ]
  },
  {
   "cell_type": "markdown",
   "metadata": {
    "extensions": {
     "jupyter_dashboards": {
      "version": 1,
      "views": {
       "grid_default": {},
       "report_default": {
        "hidden": false
       }
      }
     }
    }
   },
   "source": [
    "### Enable interactive plots using iPyWidgets"
   ]
  },
  {
   "cell_type": "code",
   "execution_count": 9,
   "metadata": {
    "extensions": {
     "jupyter_dashboards": {
      "version": 1,
      "views": {
       "grid_default": {
        "hidden": true
       },
       "report_default": {
        "hidden": true
       }
      }
     }
    }
   },
   "outputs": [],
   "source": [
    "import ipywidgets as widgets\n",
    "from ipywidgets import interact, interactive, fixed, interact_manual"
   ]
  },
  {
   "cell_type": "markdown",
   "metadata": {
    "extensions": {
     "jupyter_dashboards": {
      "version": 1,
      "views": {
       "grid_default": {},
       "report_default": {
        "hidden": false
       }
      }
     }
    }
   },
   "source": [
    "### Enable geospatial DataFrames with GeoPandas (built on Fiona, which is built on GDAL/OGR)"
   ]
  },
  {
   "cell_type": "code",
   "execution_count": 10,
   "metadata": {
    "extensions": {
     "jupyter_dashboards": {
      "version": 1,
      "views": {
       "grid_default": {
        "hidden": true
       },
       "report_default": {
        "hidden": true
       }
      }
     }
    }
   },
   "outputs": [],
   "source": [
    "import geopandas as gpd"
   ]
  },
  {
   "cell_type": "markdown",
   "metadata": {},
   "source": [
    "### Enable other geospatial functions using Shapely"
   ]
  },
  {
   "cell_type": "code",
   "execution_count": 11,
   "metadata": {},
   "outputs": [],
   "source": [
    "import shapely\n",
    "from shapely.geometry import Point"
   ]
  },
  {
   "cell_type": "markdown",
   "metadata": {
    "extensions": {
     "jupyter_dashboards": {
      "version": 1,
      "views": {
       "grid_default": {},
       "report_default": {
        "hidden": false
       }
      }
     }
    }
   },
   "source": [
    "### Enable Leatlet.JS-based mapping with Folium "
   ]
  },
  {
   "cell_type": "code",
   "execution_count": 12,
   "metadata": {
    "extensions": {
     "jupyter_dashboards": {
      "version": 1,
      "views": {
       "grid_default": {
        "hidden": true
       },
       "report_default": {
        "hidden": true
       }
      }
     }
    }
   },
   "outputs": [],
   "source": [
    "import folium\n",
    "from folium import IFrame\n",
    "import folium.plugins as plugins"
   ]
  },
  {
   "cell_type": "markdown",
   "metadata": {
    "extensions": {
     "jupyter_dashboards": {
      "version": 1,
      "views": {
       "grid_default": {},
       "report_default": {
        "hidden": false
       }
      }
     }
    }
   },
   "source": [
    "### Enable additional HTML features with Branca"
   ]
  },
  {
   "cell_type": "code",
   "execution_count": 13,
   "metadata": {
    "extensions": {
     "jupyter_dashboards": {
      "version": 1,
      "views": {
       "grid_default": {
        "hidden": true
       },
       "report_default": {
        "hidden": true
       }
      }
     }
    }
   },
   "outputs": [],
   "source": [
    "import branca"
   ]
  },
  {
   "cell_type": "markdown",
   "metadata": {
    "extensions": {
     "jupyter_dashboards": {
      "version": 1,
      "views": {
       "grid_default": {},
       "report_default": {
        "hidden": false
       }
      }
     }
    }
   },
   "source": [
    "# == Sampling Sites =="
   ]
  },
  {
   "cell_type": "markdown",
   "metadata": {
    "extensions": {
     "jupyter_dashboards": {
      "version": 1,
      "views": {
       "grid_default": {},
       "report_default": {
        "hidden": false
       }
      }
     }
    }
   },
   "source": [
    "### Get all sampling sites along Greenup Pool of Ohio River\n",
    "#### TODO:\n",
    " * Add CSO positions"
   ]
  },
  {
   "cell_type": "code",
   "execution_count": 14,
   "metadata": {
    "extensions": {
     "jupyter_dashboards": {
      "version": 1,
      "views": {
       "grid_default": {
        "hidden": true
       },
       "report_default": {
        "hidden": true
       }
      }
     }
    }
   },
   "outputs": [],
   "source": [
    "ohio_river_sites = pd.read_csv('data/Greenup/ohio_river_sites.csv')\n",
    "site_geometries = gpd.GeoSeries(ohio_river_sites.apply(lambda z: Point(z['Longitude'],z['Latitude']),1),crs={'init':'epsg:4326'})\n",
    "ohio_river_sites = gpd.GeoDataFrame(ohio_river_sites.drop(['Latitude','Longitude'],1),geometry=site_geometries)\n",
    "#ohio_river_sites"
   ]
  },
  {
   "cell_type": "markdown",
   "metadata": {
    "extensions": {
     "jupyter_dashboards": {
      "version": 1,
      "views": {
       "grid_default": {
        "col": 0,
        "height": 4,
        "hidden": false,
        "row": 43,
        "width": 4
       },
       "report_default": {
        "hidden": false
       }
      }
     }
    }
   },
   "source": [
    "### Generate map of all sampling sites"
   ]
  },
  {
   "cell_type": "code",
   "execution_count": 15,
   "metadata": {
    "extensions": {
     "jupyter_dashboards": {
      "version": 1,
      "views": {
       "grid_default": {
        "hidden": true
       },
       "report_default": {
        "hidden": true
       }
      }
     }
    }
   },
   "outputs": [],
   "source": [
    "ohio_map = folium.Map([38.6, -82.5],zoom_start=10,tiles=None)"
   ]
  },
  {
   "cell_type": "markdown",
   "metadata": {},
   "source": [
    "#### TODO: \n",
    " * Look into **branca.element.IFrame** to preprocess HTML into IFrame -- construct a graph!\n",
    " * User Folium **MarkerCluster** and **FeatureGroup** to reduce number of markers (on Zoom out) and turn on/off different marker layers\n",
    " * Look at folium.plugins **HeatMap** and **HeatMapWithTime** -- only good for density, not property values!"
   ]
  },
  {
   "cell_type": "code",
   "execution_count": 16,
   "metadata": {},
   "outputs": [],
   "source": [
    "for i, row in ohio_river_sites.iterrows():\n",
    "    coord = [row.geometry.y,row.geometry.x]\n",
    "    label = row.Type+' @ '+row.Name\n",
    "    marker_type = 'pin'\n",
    "    radius = 3\n",
    "    color = 'red'\n",
    "    # Available colors: red, darkred, lightred, pink, green, darkgreen, lightgreen, blue, darkblue, lightblue, cadetblue, purple, darkpurple, orange, beige, black, gray, lightgray\n",
    "    icon = 'dashboard'\n",
    "    html = label\n",
    "    width = 500\n",
    "    height = 90\n",
    "    max_width = 1000\n",
    "    nav_params = '?distance=100'\n",
    "    if (row.Type == 'Transect'):\n",
    "        color = 'red'\n",
    "        html += '<br>'+row.Description\n",
    "    elif (row.Type == 'USGS Gage'):\n",
    "        marker_type = 'circle'\n",
    "        radius = 5\n",
    "        color = 'green'\n",
    "        fill = True\n",
    "        fill_color = color\n",
    "        html += '<br><a href=\\\"https://waterdata.usgs.gov/monitoring-location/0{0:.0f}'.format(row['USGS Code'])+'\\\",target=\\\"_blank\\\">Site info for USGS Gage: 0{0:.0f}'.format(row['USGS Code'])+'</a>'\n",
    "        html += '<br><a href=\\\"https://waterdata.usgs.gov/nwis/uv?site_no=0{0:.0f}'.format(row['USGS Code'])+'\\\",target=\\\"_blank\\\">Data for USGS Gage: 0{0:.0f}'.format(row['USGS Code'])+'</a>'\n",
    "        width = 1000\n",
    "        height = 500\n",
    "        if (row.Name == 'Huntington'):\n",
    "            nwis_site_json = gpd.read_file(\"https://cida.usgs.gov/nldi/nwissite/USGS-0{0:.0f}\".format(row['USGS Code']))\n",
    "            comid = nwis_site_json.comid[0]\n",
    "            comid_url = \"https://cida.usgs.gov/nldi/comid/\"+comid\n",
    "            #folium.GeoJson(nwis_site_json,name=\"NLDI USGS Gage\",show=False).add_to(ohio_map)\n",
    "            folium.GeoJson(comid_url+\"/basin\",name=\"Drainage Basin for USGS-0{0:.0f}\".format(row['USGS Code']),show=False).add_to(ohio_map)\n",
    "            folium.GeoJson(comid_url+\"/navigate/UM\",name=\"Upstream Main\",show=False).add_to(ohio_map)\n",
    "            folium.GeoJson(comid_url+\"/navigate/UT\"+nav_params,name=\"Tributaries Upstream\",show=False).add_to(ohio_map)\n",
    "            folium.GeoJson(comid_url+\"/navigate/UM/nwissite\"+nav_params,name=\"NWIS Sites Upstream Main\",show=False).add_to(ohio_map)\n",
    "            folium.GeoJson(comid_url+\"/navigate/UM/huc12pp\"+nav_params,name=\"HUC12 Pour Points Upstream Main\",show=False).add_to(ohio_map)\n",
    "            folium.GeoJson(comid_url+\"/navigate/UM/wqp\"+nav_params,name=\"WQP Stations Upstream Main\",show=False).add_to(ohio_map)\n",
    "            folium.GeoJson(comid_url+\"/navigate/DM\",name=\"Downstream Main\",show=False).add_to(ohio_map)\n",
    "            folium.GeoJson(comid_url+\"/navigate/DD\"+nav_params,name=\"Downstream Diversions\",show=False).add_to(ohio_map)\n",
    "            folium.GeoJson(comid_url+\"/navigate/DM/nwissite\"+nav_params,name=\"NWIS Sites Downstream Main\",show=False).add_to(ohio_map)\n",
    "            folium.GeoJson(comid_url+\"/navigate/DM/huc12pp\"+nav_params,name=\"HUC12 Pour Points Downstream Main\",show=False).add_to(ohio_map)\n",
    "            folium.GeoJson(comid_url+\"/navigate/DM/wqp\"+nav_params,name=\"WQP Stations Downstream Main\",show=False).add_to(ohio_map)\n",
    "        if (row.Name == 'Greenup'):\n",
    "            nwis_site_url = \"https://cida.usgs.gov/nldi/nwissite/USGS-0{0:.0f}\".format(row['USGS Code'])\n",
    "            nwis_site_json = gpd.read_file(nwis_site_url)\n",
    "            folium.GeoJson(nwis_site_url+\"/basin\",name=\"Drainage Basin for USGS-0{0:.0f}\".format(row['USGS Code']),show=False).add_to(ohio_map)\n",
    "            folium.GeoJson(nwis_site_url+\"/navigate/UT/huc12pp\"+nav_params,name=\"HUC12 Pour Points Upstream Tributaries\",show=False).add_to(ohio_map)\n",
    "            folium.GeoJson(nwis_site_url+\"/navigate/UT/wqp\"+nav_params,name=\"WQP Stations Upstream Tributaries\",show=False).add_to(ohio_map)\n",
    "    elif (row.Type == 'Locks and Dam'):\n",
    "        marker_type = 'circle'\n",
    "        radius = 5\n",
    "        color = 'red'\n",
    "        fill = True\n",
    "        fill_color = color\n",
    "        html += '<br><a href=\\\"https://www.lrh.usace.army.mil/Missions/Civil-Works/Locks-and-Dams/{0:s}'.format(row['USACE Code'])+'\\\",target=\\\"_blank\\\">Data for Locks and Dams at {0:s}'.format(row['Name'])+'</a>'\n",
    "    elif (row.Type == 'ORSANCO'):\n",
    "        marker_type = 'circle'\n",
    "        radius = 5\n",
    "        color = 'orange'\n",
    "        fill = True\n",
    "        fill_color = color\n",
    "    elif (row.Type == 'Sampling'):\n",
    "        marker_type = 'circle'\n",
    "        radius = 3\n",
    "        color = 'blue'\n",
    "        fill = True\n",
    "        fill_color = color\n",
    "    else:\n",
    "        continue\n",
    "    html += '<br>Lat: {0:.2f}'.format(row.geometry.y)+', Lon: {0:.2f}'.format(row.geometry.x)\n",
    "    html += '<br>RMI: {0:.1f}'.format(row.RMI)\n",
    "    iframe = folium.IFrame(html,width=width,height=height)\n",
    "    popup = folium.Popup(iframe,max_width=max_width)\n",
    "    if (marker_type == 'pin'):\n",
    "        folium.Marker(location=coord,icon=folium.Icon(color=color,icon=icon),popup=popup,tooltip=label).add_to(ohio_map)\n",
    "    elif (marker_type == 'circle'):\n",
    "        folium.CircleMarker(location=coord,radius=radius,color=color,popup=popup,tooltip=label).add_to(ohio_map)\n",
    "    else:\n",
    "        continue"
   ]
  },
  {
   "cell_type": "markdown",
   "metadata": {
    "extensions": {
     "jupyter_dashboards": {
      "version": 1,
      "views": {
       "grid_default": {},
       "report_default": {
        "hidden": false
       }
      }
     }
    }
   },
   "source": [
    "#### Add the builtin OpenStreetMap and Stamen Terrain basemaps"
   ]
  },
  {
   "cell_type": "code",
   "execution_count": 17,
   "metadata": {
    "extensions": {
     "jupyter_dashboards": {
      "version": 1,
      "views": {
       "grid_default": {},
       "report_default": {
        "hidden": false
       }
      }
     }
    }
   },
   "outputs": [
    {
     "data": {
      "text/plain": [
       "<folium.raster_layers.TileLayer at 0x7f300d100748>"
      ]
     },
     "execution_count": 17,
     "metadata": {},
     "output_type": "execute_result"
    }
   ],
   "source": [
    "folium.TileLayer('OpenStreetMap').add_to(ohio_map)\n",
    "folium.TileLayer('StamenTerrain').add_to(ohio_map)"
   ]
  },
  {
   "cell_type": "markdown",
   "metadata": {
    "extensions": {
     "jupyter_dashboards": {
      "version": 1,
      "views": {
       "grid_default": {},
       "report_default": {
        "hidden": false
       }
      }
     }
    }
   },
   "source": [
    "#### Add other basemap options using Map Servers at  ArcGIS Online"
   ]
  },
  {
   "cell_type": "code",
   "execution_count": 18,
   "metadata": {
    "extensions": {
     "jupyter_dashboards": {
      "version": 1,
      "views": {
       "grid_default": {},
       "report_default": {
        "hidden": true
       }
      }
     }
    }
   },
   "outputs": [],
   "source": [
    "mapserver_query = '/MapServer/tile/{z}/{y}/{x}'\n",
    "ESRI = dict(NatGeo_World_Map='http://services.arcgisonline.com/arcgis/rest/services/NatGeo_World_Map/MapServer',\n",
    "            World_Imagery='http://services.arcgisonline.com/arcgis/rest/services/World_Imagery/MapServer',\n",
    "            World_Shaded_Relief='http://services.arcgisonline.com/arcgis/rest/services/World_Shaded_Relief/MapServer',\n",
    "            World_Street_Map='http://services.arcgisonline.com/arcgis/rest/services/World_Street_Map/MapServer',\n",
    "            World_Topo_Map='http://services.arcgisonline.com/arcgis/rest/services/World_Topo_Map/MapServer',\n",
    "            World_Hydro_Reference='http://hydrology.esri.com/arcgis/rest/services/WorldHydroReferenceOverlay/MapServer')\n",
    "\n",
    "for tile_name, tile_url in ESRI.items():\n",
    "    tile_url += mapserver_query\n",
    "    folium.TileLayer(tile_url,name=tile_name,attr=tile_name).add_to(ohio_map)"
   ]
  },
  {
   "cell_type": "markdown",
   "metadata": {},
   "source": [
    "#### Add HUC boundaries \n",
    " * First example converts a HUC10 .shp file to GeoJSON\n",
    " * Second example streams GeoJSON from the USGS National Map (NHDPlus) HUC12 Web Service using bounding box (envelope)"
   ]
  },
  {
   "cell_type": "code",
   "execution_count": 19,
   "metadata": {},
   "outputs": [
    {
     "data": {
      "text/plain": [
       "<folium.features.GeoJson at 0x7f300d0f9710>"
      ]
     },
     "execution_count": 19,
     "metadata": {},
     "output_type": "execute_result"
    }
   ],
   "source": [
    "#wbdhu10 = gpd.read_file(\"data/Greenup/WBDHU10.shp\").to_crs(epsg='4326').to_json()\n",
    "#folium.GeoJson(wbdhu10,name=\"WBD HUC10\",show=False).add_to(ohio_map)\n",
    "folium.GeoJson(\"https://hydro.nationalmap.gov/arcgis/rest/services/NHDPlus_HR/MapServer/11/query?where=&text=&objectIds=&time=&geometry=-83%2C38.4%2C-82%2C38.7&geometryType=esriGeometryEnvelope&inSR=&spatialRel=esriSpatialRelIntersects&relationParam=&outFields=&returnGeometry=true&returnTrueCurves=false&maxAllowableOffset=&geometryPrecision=&outSR=&having=&returnIdsOnly=false&returnCountOnly=false&orderByFields=&groupByFieldsForStatistics=&outStatistics=&returnZ=false&returnM=false&gdbVersion=&historicMoment=&returnDistinctValues=false&resultOffset=&resultRecordCount=&queryByDistance=&returnExtentOnly=false&datumTransformation=&parameterValues=&rangeValues=&quantizationParameters=&f=geojson\",show=False,name='HUC12 Boundararies').add_to(ohio_map)"
   ]
  },
  {
   "cell_type": "markdown",
   "metadata": {},
   "source": [
    "#### Add Streams \n",
    " * Why do only certain segments appear?"
   ]
  },
  {
   "cell_type": "code",
   "execution_count": 20,
   "metadata": {},
   "outputs": [],
   "source": [
    "\n",
    "#folium.GeoJson(\"https://hydro.nationalmap.gov/arcgis/rest/services/NHDPlus_HR/MapServer/2/query?where=FTYPE%3D460&text=&objectIds=&time=&geometry=-83%2C38.4%2C-82%2C38.7&geometryType=esriGeometryEnvelope&inSR=&spatialRel=esriSpatialRelIntersects&relationParam=&outFields=&returnGeometry=true&returnTrueCurves=false&maxAllowableOffset=&geometryPrecision=&outSR=&having=&returnIdsOnly=false&returnCountOnly=false&orderByFields=&groupByFieldsForStatistics=&outStatistics=&returnZ=false&returnM=false&gdbVersion=&historicMoment=&returnDistinctValues=false&resultOffset=&resultRecordCount=&queryByDistance=&returnExtentOnly=false&datumTransformation=&parameterValues=&rangeValues=&quantizationParameters=&f=geojson\",show=False,name='Streams').add_to(ohio_map)"
   ]
  },
  {
   "cell_type": "markdown",
   "metadata": {},
   "source": [
    "#### Add raster (image) overlayers\n",
    " * DEM: USGS National Elevation Dataset (NED)\n",
    " \n",
    "#### TODO:\n",
    " * More DEM (NED) tiles\n",
    " * Land Cover / Use\n",
    " * Soil Type\n",
    " * Satellite (MODUS)"
   ]
  },
  {
   "cell_type": "code",
   "execution_count": 21,
   "metadata": {},
   "outputs": [
    {
     "data": {
      "text/plain": [
       "<folium.raster_layers.ImageOverlay at 0x7f3009e8e0f0>"
      ]
     },
     "execution_count": 21,
     "metadata": {},
     "output_type": "execute_result"
    }
   ],
   "source": [
    "folium.raster_layers.ImageOverlay(\"data/Greenup/ned19_n38x50_w082x50_wv_statewide_2003_thumb.jpg\",bounds=[[38.25,-82.50],[38.5,-82.25]],opacity=0.5,name=\"NED\",show=False).add_to(ohio_map)"
   ]
  },
  {
   "cell_type": "markdown",
   "metadata": {
    "extensions": {
     "jupyter_dashboards": {
      "version": 1,
      "views": {
       "grid_default": {},
       "report_default": {
        "hidden": false
       }
      }
     }
    }
   },
   "source": [
    "#### Add the Layer Control widget"
   ]
  },
  {
   "cell_type": "code",
   "execution_count": 22,
   "metadata": {
    "extensions": {
     "jupyter_dashboards": {
      "version": 1,
      "views": {
       "grid_default": {},
       "report_default": {
        "hidden": false
       }
      }
     }
    }
   },
   "outputs": [
    {
     "data": {
      "text/plain": [
       "<folium.map.LayerControl at 0x7f3009e8e2e8>"
      ]
     },
     "execution_count": 22,
     "metadata": {},
     "output_type": "execute_result"
    }
   ],
   "source": [
    "folium.LayerControl().add_to(ohio_map)"
   ]
  },
  {
   "cell_type": "markdown",
   "metadata": {
    "extensions": {
     "jupyter_dashboards": {
      "version": 1,
      "views": {
       "grid_default": {},
       "report_default": {
        "hidden": false
       }
      }
     }
    }
   },
   "source": [
    "#### Save the map as HTML and display it\n",
    " * Suppress before publishing as read-only Tool\n",
    "\n",
    "<div id='map' />"
   ]
  },
  {
   "cell_type": "markdown",
   "metadata": {
    "extensions": {
     "jupyter_dashboards": {
      "version": 1,
      "views": {
       "grid_default": {},
       "report_default": {
        "hidden": false
       }
      }
     }
    }
   },
   "source": [
    "## Map"
   ]
  },
  {
   "cell_type": "code",
   "execution_count": 23,
   "metadata": {
    "extensions": {
     "jupyter_dashboards": {
      "version": 1,
      "views": {
       "grid_default": {},
       "report_default": {
        "hidden": true
       }
      }
     }
    }
   },
   "outputs": [],
   "source": [
    "ohio_map.save('data/Greenup/out/ohio_map.html')"
   ]
  },
  {
   "cell_type": "code",
   "execution_count": 24,
   "metadata": {
    "extensions": {
     "jupyter_dashboards": {
      "version": 1,
      "views": {
       "grid_default": {
        "col": 0,
        "height": 21,
        "hidden": false,
        "row": 51,
        "width": 10
       },
       "report_default": {
        "hidden": false
       }
      }
     }
    }
   },
   "outputs": [
    {
     "data": {
      "text/html": [
       "\n",
       "        <iframe\n",
       "            width=\"1000\"\n",
       "            height=\"500\"\n",
       "            src=\"data/Greenup/out/ohio_map.html\"\n",
       "            frameborder=\"0\"\n",
       "            allowfullscreen\n",
       "        ></iframe>\n",
       "        "
      ],
      "text/plain": [
       "<IPython.lib.display.IFrame at 0x7f300be83dd8>"
      ]
     },
     "execution_count": 24,
     "metadata": {},
     "output_type": "execute_result"
    }
   ],
   "source": [
    "from IPython.display import IFrame\n",
    "IFrame(\"data/Greenup/out/ohio_map.html\", width=1000, height=500)"
   ]
  },
  {
   "cell_type": "markdown",
   "metadata": {},
   "source": [
    "## == Transects =="
   ]
  },
  {
   "cell_type": "markdown",
   "metadata": {
    "extensions": {
     "jupyter_dashboards": {
      "version": 1,
      "views": {
       "grid_default": {
        "col": 8,
        "height": 4,
        "hidden": false,
        "row": 0,
        "width": 4
       },
       "report_default": {
        "hidden": false
       }
      }
     }
    }
   },
   "source": [
    "### Read in CSV-formatted table of geo-tagged and time-stamped sensor data from the transects into a DataFrame"
   ]
  },
  {
   "cell_type": "markdown",
   "metadata": {
    "extensions": {
     "jupyter_dashboards": {
      "version": 1,
      "views": {
       "grid_default": {},
       "report_default": {
        "hidden": false
       }
      }
     }
    }
   },
   "source": [
    "#### Get Sonde data"
   ]
  },
  {
   "cell_type": "code",
   "execution_count": 323,
   "metadata": {
    "extensions": {
     "jupyter_dashboards": {
      "version": 1,
      "views": {
       "grid_default": {
        "hidden": true
       },
       "report_default": {
        "hidden": true
       }
      }
     }
    }
   },
   "outputs": [],
   "source": [
    "transects_sonde = pd.read_csv('data/Greenup/transects_sonde_3.csv')"
   ]
  },
  {
   "cell_type": "markdown",
   "metadata": {
    "extensions": {
     "jupyter_dashboards": {
      "version": 1,
      "views": {
       "grid_default": {},
       "report_default": {
        "hidden": false
       }
      }
     }
    }
   },
   "source": [
    "#### Get PAR data"
   ]
  },
  {
   "cell_type": "code",
   "execution_count": 324,
   "metadata": {
    "extensions": {
     "jupyter_dashboards": {
      "version": 1,
      "views": {
       "grid_default": {},
       "report_default": {
        "hidden": true
       }
      }
     }
    }
   },
   "outputs": [],
   "source": [
    "transects_par = pd.read_csv('data/Greenup/transects_par_3.csv')"
   ]
  },
  {
   "cell_type": "markdown",
   "metadata": {
    "extensions": {
     "jupyter_dashboards": {
      "version": 1,
      "views": {
       "grid_default": {
        "col": 0,
        "height": 4,
        "hidden": false,
        "row": 22,
        "width": 4
       },
       "report_default": {
        "hidden": false
       }
      }
     }
    }
   },
   "source": [
    "#### Parse out Horizontal and Vertical position codes along transect"
   ]
  },
  {
   "cell_type": "code",
   "execution_count": 325,
   "metadata": {
    "extensions": {
     "jupyter_dashboards": {
      "version": 1,
      "views": {
       "grid_default": {
        "hidden": true
       },
       "report_default": {
        "hidden": true
       }
      }
     }
    }
   },
   "outputs": [],
   "source": [
    "transects_sonde['H Code'] = transects_sonde['Site Name'].apply(lambda x: x[0])\n",
    "transects_sonde['V Code'] = transects_sonde['Site Name'].apply(lambda x: x[1:])"
   ]
  },
  {
   "cell_type": "code",
   "execution_count": 326,
   "metadata": {
    "extensions": {
     "jupyter_dashboards": {
      "version": 1,
      "views": {
       "grid_default": {
        "hidden": true
       },
       "report_default": {
        "hidden": true
       }
      }
     }
    }
   },
   "outputs": [],
   "source": [
    "transects_par['H Code'] = transects_par['SITE'].apply(lambda x: x[0])\n",
    "transects_par['V Code'] = transects_par['SITE'].apply(lambda x: x[1:])"
   ]
  },
  {
   "cell_type": "markdown",
   "metadata": {
    "extensions": {
     "jupyter_dashboards": {
      "version": 1,
      "views": {
       "grid_default": {
        "col": 4,
        "height": 4,
        "hidden": false,
        "row": 22,
        "width": 4
       },
       "report_default": {
        "hidden": false
       }
      }
     }
    }
   },
   "source": [
    "#### Create Data-Time field from Date and Time fields\n",
    " * Round to Noon to match with resampled timeseries data below"
   ]
  },
  {
   "cell_type": "code",
   "execution_count": 327,
   "metadata": {
    "extensions": {
     "jupyter_dashboards": {
      "version": 1,
      "views": {
       "grid_default": {
        "hidden": true
       },
       "report_default": {
        "hidden": true
       }
      }
     }
    }
   },
   "outputs": [],
   "source": [
    "def datetime_sonde(row):\n",
    "    pattern = '%m/%d/%y-%H:%M:%S'\n",
    "    dt = row['Date (MM/DD/YYYY)']+'-'+row['Time (HH:MM:SS)']\n",
    "    return pd.to_datetime(time.mktime(time.strptime(dt,pattern)),unit='s')\n",
    "    \n",
    "transects_sonde['Date-Time'] = transects_sonde.apply(lambda row: datetime_sonde(row).replace(hour=12,minute=0,second=0,microsecond=0,nanosecond=0),axis=1)"
   ]
  },
  {
   "cell_type": "code",
   "execution_count": 328,
   "metadata": {
    "extensions": {
     "jupyter_dashboards": {
      "version": 1,
      "views": {
       "grid_default": {
        "hidden": true
       },
       "report_default": {
        "hidden": true
       }
      }
     }
    }
   },
   "outputs": [],
   "source": [
    "def datetime_par(row):\n",
    "    pattern = '%m/%d/%y-%I:%M:%S %p'\n",
    "    dt = row['Date']+'-'+row['Time']\n",
    "    return pd.to_datetime(time.mktime(time.strptime(dt,pattern)),unit='s')\n",
    "    \n",
    "transects_par['Date-Time_par'] = transects_par.apply(lambda row: datetime_par(row).replace(hour=12,minute=0,second=0,microsecond=0,nanosecond=0),axis=1)"
   ]
  },
  {
   "cell_type": "markdown",
   "metadata": {
    "extensions": {
     "jupyter_dashboards": {
      "version": 1,
      "views": {
       "grid_default": {
        "col": 8,
        "height": 4,
        "hidden": false,
        "row": 22,
        "width": 4
       },
       "report_default": {
        "hidden": false
       }
      }
     }
    }
   },
   "source": [
    "#### Filter out Test samples from Sonde data \n",
    " * TODO: Consider dropping in place"
   ]
  },
  {
   "cell_type": "code",
   "execution_count": 329,
   "metadata": {
    "extensions": {
     "jupyter_dashboards": {
      "version": 1,
      "views": {
       "grid_default": {
        "hidden": true
       },
       "report_default": {
        "hidden": true
       }
      }
     }
    }
   },
   "outputs": [],
   "source": [
    "transects_sonde = transects_sonde[transects_sonde['Site Name'].str.contains('Test')==False]"
   ]
  },
  {
   "cell_type": "markdown",
   "metadata": {
    "extensions": {
     "jupyter_dashboards": {
      "version": 1,
      "views": {
       "grid_default": {
        "col": 0,
        "height": 4,
        "hidden": false,
        "row": 26,
        "width": 4
       },
       "report_default": {
        "hidden": false
       }
      }
     }
    }
   },
   "source": [
    "#### Convert Transect and Horizontal positions to numbers (for plotting profiles)"
   ]
  },
  {
   "cell_type": "code",
   "execution_count": 330,
   "metadata": {
    "extensions": {
     "jupyter_dashboards": {
      "version": 1,
      "views": {
       "grid_default": {
        "hidden": true
       },
       "report_default": {
        "hidden": true
       }
      }
     }
    }
   },
   "outputs": [],
   "source": [
    "transects_sonde['T Pos'] = transects_sonde['Transect'].apply(lambda x: int(x[2:]))\n",
    "transects_sonde['H Pos'] = transects_sonde['H Code'].apply(lambda x: int(x))"
   ]
  },
  {
   "cell_type": "code",
   "execution_count": 331,
   "metadata": {
    "extensions": {
     "jupyter_dashboards": {
      "version": 1,
      "views": {
       "grid_default": {},
       "report_default": {
        "hidden": true
       }
      }
     }
    }
   },
   "outputs": [],
   "source": [
    "transects_par['T Pos'] = transects_par['Transect'].apply(lambda x: int(x[2:]))\n",
    "transects_par['H Pos'] = transects_par['H Code'].apply(lambda x: int(x))"
   ]
  },
  {
   "cell_type": "markdown",
   "metadata": {
    "extensions": {
     "jupyter_dashboards": {
      "version": 1,
      "views": {
       "grid_default": {
        "col": 4,
        "height": 4,
        "hidden": false,
        "row": 26,
        "width": 4
       },
       "report_default": {
        "hidden": false
       }
      }
     }
    }
   },
   "source": [
    "#### Filter out non-data, empty columns (like TSS), and reduntant columns (like chlorophyll, BGA, conductivity, pH, and depth)"
   ]
  },
  {
   "cell_type": "code",
   "execution_count": 332,
   "metadata": {
    "extensions": {
     "jupyter_dashboards": {
      "version": 1,
      "views": {
       "grid_default": {
        "hidden": true
       },
       "report_default": {
        "hidden": true
       }
      }
     }
    }
   },
   "outputs": [],
   "source": [
    "transects_sonde_dataonly = transects_sonde.drop(transects_sonde.columns[:8],axis=1).drop(['H Code','TSS mg/L'],axis=1) \\\n",
    "    .drop(['ODO % sat','Chlorophyll RFU','BGA-PC RFU','pH mV','Press psi a'],axis=1) \\\n",
    "    .drop(transects_sonde.columns[[16,18,19]],axis=1)"
   ]
  },
  {
   "cell_type": "code",
   "execution_count": 333,
   "metadata": {
    "extensions": {
     "jupyter_dashboards": {
      "version": 1,
      "views": {
       "grid_default": {},
       "report_default": {
        "hidden": true
       }
      }
     }
    }
   },
   "outputs": [],
   "source": [
    "transects_par_dataonly = transects_par.drop(transects_par.columns[:3],axis=1).drop(['H Code','BATT','SITE','CHK'],axis=1) \\\n",
    "    .drop(['PAR_MAX','PAR_MIN'],axis=1)"
   ]
  },
  {
   "cell_type": "markdown",
   "metadata": {
    "extensions": {
     "jupyter_dashboards": {
      "version": 1,
      "views": {
       "grid_default": {},
       "report_default": {
        "hidden": false
       }
      }
     }
    }
   },
   "source": [
    "#### Create 3-part Index from T, H, and V values to help join Sonde and PAR data\n",
    " * Only keep one set of original columns (Sonde)"
   ]
  },
  {
   "cell_type": "code",
   "execution_count": 334,
   "metadata": {
    "extensions": {
     "jupyter_dashboards": {
      "version": 1,
      "views": {
       "grid_default": {},
       "report_default": {
        "hidden": true
       }
      }
     }
    }
   },
   "outputs": [],
   "source": [
    "transects_sonde_dataonly = transects_sonde_dataonly.set_index(['T Pos','H Pos','V Code','Date-Time'],drop=False)"
   ]
  },
  {
   "cell_type": "code",
   "execution_count": 335,
   "metadata": {
    "extensions": {
     "jupyter_dashboards": {
      "version": 1,
      "views": {
       "grid_default": {},
       "report_default": {
        "hidden": true
       }
      }
     }
    }
   },
   "outputs": [],
   "source": [
    "transects_par_dataonly = transects_par_dataonly.set_index(['T Pos','H Pos','V Code','Date-Time_par'],drop=True)"
   ]
  },
  {
   "cell_type": "markdown",
   "metadata": {
    "extensions": {
     "jupyter_dashboards": {
      "version": 1,
      "views": {
       "grid_default": {},
       "report_default": {
        "hidden": false
       }
      }
     }
    }
   },
   "source": [
    "#### Combine (merge/join) Sonde and PAR data using new index\n",
    " * Get rid of 'V Code' column, which is no longer needed"
   ]
  },
  {
   "cell_type": "code",
   "execution_count": 336,
   "metadata": {
    "extensions": {
     "jupyter_dashboards": {
      "version": 1,
      "views": {
       "grid_default": {},
       "report_default": {
        "hidden": true
       }
      }
     }
    }
   },
   "outputs": [],
   "source": [
    "transects_sonde_par = pd.merge(transects_sonde_dataonly,transects_par_dataonly,left_index=True,right_index=True).drop(['V Code'],axis=1)"
   ]
  },
  {
   "cell_type": "markdown",
   "metadata": {
    "extensions": {
     "jupyter_dashboards": {
      "version": 1,
      "views": {
       "grid_default": {
        "hidden": true
       },
       "report_default": {
        "hidden": true
       }
      }
     }
    }
   },
   "source": [
    "#### Create column for Chlorophyll / BGA ratio \n",
    " * Fix ranges first to keep numerator positive and denominator > zero\n",
    " * Cap BGA to 0.1 to 1.0 "
   ]
  },
  {
   "cell_type": "code",
   "execution_count": 337,
   "metadata": {},
   "outputs": [],
   "source": [
    "transects_sonde_par['Chlorophyll µg/L'] = transects_sonde_par['Chlorophyll µg/L'].apply(lambda x: 0.0 if x < 0.0 else x)"
   ]
  },
  {
   "cell_type": "code",
   "execution_count": 338,
   "metadata": {},
   "outputs": [],
   "source": [
    "transects_sonde_par['BGA-PC µg/L'] = transects_sonde_par['BGA-PC µg/L'].apply(lambda x: 0.1 if x < 0.1 else x)\n",
    "transects_sonde_par['BGA-PC µg/L'] = transects_sonde_par['BGA-PC µg/L'].apply(lambda x: 1.0 if x > 1.0 else x)"
   ]
  },
  {
   "cell_type": "code",
   "execution_count": 339,
   "metadata": {},
   "outputs": [],
   "source": [
    "transects_sonde_par['Chlorophyll/BGA'] = transects_sonde_par.apply(lambda x: x['Chlorophyll µg/L']/x['BGA-PC µg/L'], axis=1)\n",
    "#transects_sonde_par.head()"
   ]
  },
  {
   "cell_type": "markdown",
   "metadata": {},
   "source": [
    "#### Cap Turbidity at 150 NTU, ODO at 10 mg/L, PAR at 2000"
   ]
  },
  {
   "cell_type": "code",
   "execution_count": 340,
   "metadata": {},
   "outputs": [],
   "source": [
    "transects_sonde_par['Turbidity NTU'] = transects_sonde_par['Turbidity NTU'].apply(lambda x: 150.0 if x > 150.0 else x)\n",
    "transects_sonde_par['ODO mg/L'] = transects_sonde_par['ODO mg/L'].apply(lambda x: 15.0 if x > 15.0 else x)\n",
    "transects_sonde_par['PAR'] = transects_sonde_par['PAR'].apply(lambda x: 2000.0 if x > 2000.0 else x)"
   ]
  },
  {
   "cell_type": "markdown",
   "metadata": {},
   "source": [
    "#### Merge in location data, including RMI\n",
    " * Create temporary matching Name column (from 'T Pos') for merging\n",
    " * Drop all unnecessary columns"
   ]
  },
  {
   "cell_type": "code",
   "execution_count": 341,
   "metadata": {},
   "outputs": [],
   "source": [
    "transects_sonde_par['Name'] = transects_sonde_par['T Pos'].apply(lambda x: 'T-'+str(x))\n",
    "transects_sonde_par = pd.merge(transects_sonde_par,ohio_river_sites,on=['Name']).drop(ohio_river_sites.columns[0:5],axis=1).drop(ohio_river_sites.columns[6:],axis=1)\n",
    "#transects_sonde_par.columns"
   ]
  },
  {
   "cell_type": "markdown",
   "metadata": {},
   "source": [
    "#### Re-index by datetime"
   ]
  },
  {
   "cell_type": "code",
   "execution_count": 342,
   "metadata": {
    "extensions": {
     "jupyter_dashboards": {
      "version": 1,
      "views": {
       "grid_default": {},
       "report_default": {
        "hidden": true
       }
      }
     }
    }
   },
   "outputs": [],
   "source": [
    "transects_sonde_par = transects_sonde_par.set_index(['Date-Time'])\n",
    "#transects_sonde_par.columns"
   ]
  },
  {
   "cell_type": "markdown",
   "metadata": {},
   "source": [
    "#### Save merged Sonde and PAR data for Transects"
   ]
  },
  {
   "cell_type": "code",
   "execution_count": 343,
   "metadata": {},
   "outputs": [],
   "source": [
    "transects_sonde_par.to_csv('data/Greenup/out/transects_sonde_par.csv')"
   ]
  },
  {
   "cell_type": "markdown",
   "metadata": {},
   "source": [
    "<div id='transect_plots'></div>"
   ]
  },
  {
   "cell_type": "markdown",
   "metadata": {},
   "source": [
    "## Transect Plots"
   ]
  },
  {
   "cell_type": "markdown",
   "metadata": {
    "extensions": {
     "jupyter_dashboards": {
      "version": 1,
      "views": {
       "grid_default": {
        "col": 8,
        "height": 4,
        "hidden": false,
        "row": 26,
        "width": 4
       },
       "report_default": {
        "hidden": false
       }
      }
     }
    }
   },
   "source": [
    "### Distribution plots of transect data\n",
    " * TODO:  consider capping values (potential outliers) based on KDE distributions"
   ]
  },
  {
   "cell_type": "code",
   "execution_count": 344,
   "metadata": {
    "extensions": {
     "jupyter_dashboards": {
      "version": 1,
      "views": {
       "grid_default": {
        "col": 0,
        "height": 13,
        "hidden": false,
        "row": 30,
        "width": 4
       },
       "report_default": {
        "hidden": false
       }
      }
     }
    }
   },
   "outputs": [
    {
     "data": {
      "application/vnd.jupyter.widget-view+json": {
       "model_id": "8cf303488edc485ebf9b2de0a0f8a115",
       "version_major": 2,
       "version_minor": 0
      },
      "text/plain": [
       "interactive(children=(Dropdown(description='Property', options=('ODO mg/L', 'Chlorophyll µg/L', 'BGA-PC µg/L',…"
      ]
     },
     "metadata": {},
     "output_type": "display_data"
    },
    {
     "data": {
      "text/plain": [
       "<function __main__.dist_plot_transects(Property, Kind='kde')>"
      ]
     },
     "execution_count": 344,
     "metadata": {},
     "output_type": "execute_result"
    }
   ],
   "source": [
    "def dist_plot_transects(Property,Kind='kde'):\n",
    "    transects_sonde_par[Property].plot(kind=Kind)\n",
    "    \n",
    "interact(dist_plot_transects, \\\n",
    "         Property=transects_sonde_par.columns.drop(['T Pos','H Pos','RMI']), \\\n",
    "         Kind=['hist','kde','box'] \\\n",
    "        )"
   ]
  },
  {
   "cell_type": "markdown",
   "metadata": {
    "extensions": {
     "jupyter_dashboards": {
      "version": 1,
      "views": {
       "grid_default": {
        "col": 4,
        "height": 4,
        "hidden": false,
        "row": 30,
        "width": 4
       },
       "report_default": {
        "hidden": false
       }
      }
     }
    }
   },
   "source": [
    "### Correlation Scatter Plots"
   ]
  },
  {
   "cell_type": "markdown",
   "metadata": {
    "extensions": {
     "jupyter_dashboards": {
      "version": 1,
      "views": {
       "grid_default": {},
       "report_default": {
        "hidden": false
       }
      }
     }
    }
   },
   "source": [
    "#### Scatter matrix for all properties (disabled due to size)"
   ]
  },
  {
   "cell_type": "code",
   "execution_count": 345,
   "metadata": {
    "extensions": {
     "jupyter_dashboards": {
      "version": 1,
      "views": {
       "grid_default": {
        "hidden": true
       },
       "report_default": {
        "hidden": true
       }
      }
     }
    }
   },
   "outputs": [],
   "source": [
    "#scatter_matrix(transects_sonde_par,figsize=(20.0,20.0),diagonal='kde')"
   ]
  },
  {
   "cell_type": "markdown",
   "metadata": {
    "extensions": {
     "jupyter_dashboards": {
      "version": 1,
      "views": {
       "grid_default": {},
       "report_default": {
        "hidden": false
       }
      }
     }
    }
   },
   "source": [
    "#### Individual scatter plots (3rd property used for color map)"
   ]
  },
  {
   "cell_type": "code",
   "execution_count": 346,
   "metadata": {
    "extensions": {
     "jupyter_dashboards": {
      "version": 1,
      "views": {
       "grid_default": {
        "hidden": true
       },
       "report_default": {
        "hidden": true
       }
      }
     }
    }
   },
   "outputs": [
    {
     "data": {
      "application/vnd.jupyter.widget-view+json": {
       "model_id": "8c68bbc4f698415291e7a18056c8e624",
       "version_major": 2,
       "version_minor": 0
      },
      "text/plain": [
       "interactive(children=(Dropdown(description='YProperty', options=('ODO mg/L', 'Chlorophyll µg/L', 'BGA-PC µg/L'…"
      ]
     },
     "metadata": {},
     "output_type": "display_data"
    },
    {
     "data": {
      "text/plain": [
       "<function __main__.scatter_plot_transects(YProperty='ODO mg/L', XProperty='Chlorophyll µg/L', ColorBy='Temp °C', ColorMap='jet')>"
      ]
     },
     "execution_count": 346,
     "metadata": {},
     "output_type": "execute_result"
    }
   ],
   "source": [
    "def scatter_plot_transects(YProperty=transects_sonde_par.columns[0],XProperty=transects_sonde_par.columns[1],ColorBy=transects_sonde_par.columns[3],ColorMap='jet'):\n",
    "    fig, ax = plt.subplots()\n",
    "    transects_sonde_par.plot.scatter(ax=ax,x=XProperty,y=YProperty,c=ColorBy,cmap=ColorMap,s=4)\n",
    "    ax.set_title(\"Correlation of \"+YProperty+\" and \"+XProperty,fontsize=14)\n",
    "    \n",
    "interact(scatter_plot_transects, \\\n",
    "         YProperty=transects_sonde_par.columns.drop(['T Pos','H Pos','Depth m','RMI']), \\\n",
    "         XProperty=transects_sonde_par.columns.drop(['T Pos','H Pos','Depth m','RMI']), \\\n",
    "         ColorBy=transects_sonde_par.columns, \\\n",
    "         ColorMap=['jet','viridis','magma','coolwarm','seismic','Greys','Reds','Blues'] \\\n",
    "        )"
   ]
  },
  {
   "cell_type": "markdown",
   "metadata": {
    "extensions": {
     "jupyter_dashboards": {
      "version": 1,
      "views": {
       "grid_default": {
        "col": 8,
        "height": 4,
        "hidden": false,
        "row": 30,
        "width": 4
       },
       "report_default": {
        "hidden": false
       }
      }
     }
    }
   },
   "source": [
    "### Use scatter plot to display depth x width profile for selected transect with data points colored by value of selected property"
   ]
  },
  {
   "cell_type": "code",
   "execution_count": 347,
   "metadata": {
    "extensions": {
     "jupyter_dashboards": {
      "version": 1,
      "views": {
       "grid_default": {
        "hidden": true
       },
       "report_default": {
        "hidden": true
       }
      }
     }
    }
   },
   "outputs": [
    {
     "data": {
      "application/vnd.jupyter.widget-view+json": {
       "model_id": "7e1e1730ce4f44aea8255e1417303e23",
       "version_major": 2,
       "version_minor": 0
      },
      "text/plain": [
       "interactive(children=(Dropdown(description='Transect', options=(1, 2, 3, 4, 5, 6, 7, 8, 9, 10, 11, 12, 13, 14,…"
      ]
     },
     "metadata": {},
     "output_type": "display_data"
    },
    {
     "data": {
      "text/plain": [
       "<function __main__.transect_profile_plot(Transect, Property, ColorMap='jet')>"
      ]
     },
     "execution_count": 347,
     "metadata": {},
     "output_type": "execute_result"
    }
   ],
   "source": [
    "def transect_profile_plot(Transect,Property,ColorMap='jet'):\n",
    "    fig, ax = plt.subplots(nrows=1,ncols=5,figsize=(25,5))\n",
    "    transect = transects_sonde_par[transects_sonde_par['T Pos']==Transect]\n",
    "    dates = transect.index.unique()\n",
    "    i=0\n",
    "    for date in dates:\n",
    "        transect_on_date = transect[transect.index==date]\n",
    "        transect_on_date.plot.scatter(ax=ax[i],x='H Pos',y='Depth m',ylim=(15,0),c=Property,cmap=ColorMap,marker='H',s=250,xticks=[])\n",
    "        if i == 0:\n",
    "            ax[i].set_title(\"Transect \"+str(Transect)+\" Profile for \"+Property+\" on \\n\"+date.strftime('%Y-%m-%d'),fontsize=14)\n",
    "        else:\n",
    "             ax[i].set_title(\"\\n\"+date.strftime('%Y-%m-%d'),fontsize=14)               \n",
    "        ax[i].set(ylabel=\"Depth\",xlabel=\"Cross-River Position\")\n",
    "        ax[i].axis('off')\n",
    "        i = i+1\n",
    "    \n",
    "interact(transect_profile_plot, \\\n",
    "         Transect=transects_sonde_par['T Pos'].unique(), \\\n",
    "         Property=transects_sonde_par.columns.drop(['Depth m','T Pos','H Pos','PAR','RMI']), \\\n",
    "         ColorMap=['jet','viridis','magma','coolwarm','seismic','Greys','Reds','Blues'] \\\n",
    "        )"
   ]
  },
  {
   "cell_type": "markdown",
   "metadata": {},
   "source": [
    "#### Create list of unique T-Pos and Date pairs"
   ]
  },
  {
   "cell_type": "code",
   "execution_count": 348,
   "metadata": {},
   "outputs": [],
   "source": [
    "T_date_pairs = list(zip(transects_sonde_par['T Pos'],transects_sonde_par.index.strftime(\"%m/%d/%Y\")))\n",
    "str_list = []\n",
    "for t,d in T_date_pairs:\n",
    "    str_list.append(\"T-{t:02d} @ {d}\".format(t=t,d=d))\n",
    "Transect_Dates = np.unique(str_list)"
   ]
  },
  {
   "cell_type": "markdown",
   "metadata": {
    "extensions": {
     "jupyter_dashboards": {
      "version": 1,
      "views": {
       "grid_default": {
        "col": 8,
        "height": 4,
        "hidden": false,
        "row": 34,
        "width": 4
       },
       "report_default": {
        "hidden": false
       }
      }
     }
    }
   },
   "source": [
    "### Loop through all the data columns to create a profile panel"
   ]
  },
  {
   "cell_type": "code",
   "execution_count": 349,
   "metadata": {
    "extensions": {
     "jupyter_dashboards": {
      "version": 1,
      "views": {
       "grid_default": {
        "col": 8,
        "height": 13,
        "hidden": false,
        "row": 38,
        "width": 4
       },
       "report_default": {
        "hidden": false
       }
      }
     }
    }
   },
   "outputs": [
    {
     "data": {
      "application/vnd.jupyter.widget-view+json": {
       "model_id": "11cd4b34b8274287922e7ce108003c62",
       "version_major": 2,
       "version_minor": 0
      },
      "text/plain": [
       "interactive(children=(Dropdown(description='Transect_Date', options=('T-01 @ 08/29/2018', 'T-02 @ 07/02/2019',…"
      ]
     },
     "metadata": {},
     "output_type": "display_data"
    },
    {
     "data": {
      "text/plain": [
       "<function __main__.transect_profile_panel(Transect_Date, ColorMap='jet')>"
      ]
     },
     "execution_count": 349,
     "metadata": {},
     "output_type": "execute_result"
    }
   ],
   "source": [
    "from datetime import datetime\n",
    "def transect_profile_panel(Transect_Date,ColorMap='jet'):\n",
    "    fig, ax = plt.subplots(nrows=2,ncols=5,figsize=(25,10))\n",
    "    transect_pos = int(Transect_Date[2:4])\n",
    "    transect_date = datetime.strptime(Transect_Date[-10:], '%m/%d/%Y').replace(hour=12,minute=0,second=0)\n",
    "    transect = transects_sonde_par[transects_sonde_par['T Pos']==transect_pos]\n",
    "    transect_on_date = transect[transect.index==transect_date]\n",
    "    i = j = 0\n",
    "    for col in transects_sonde_par.columns[:13].drop(['T Pos','H Pos','Depth m']):\n",
    "        transect_on_date.plot.scatter(ax=ax[j,i],x='H Pos',y='Depth m',ylim=(15,0),c=col,cmap=ColorMap,marker='H',s=250)\n",
    "        ax[j,i].axis('off')\n",
    "        if i < 4:\n",
    "            i = i + 1\n",
    "        else:\n",
    "            i = 0\n",
    "            j = j + 1\n",
    "            \n",
    "interact(transect_profile_panel, \\\n",
    "         Transect_Date = Transect_Dates,\n",
    "         ColorMap=['jet','viridis','magma','coolwarm','seismic','Greys','Reds','Blues'] \\\n",
    "        )"
   ]
  },
  {
   "cell_type": "markdown",
   "metadata": {},
   "source": [
    "## == Greenup and RCBI Locks =="
   ]
  },
  {
   "cell_type": "markdown",
   "metadata": {
    "extensions": {
     "jupyter_dashboards": {
      "version": 1,
      "views": {
       "grid_default": {
        "col": 4,
        "height": 4,
        "hidden": false,
        "row": 72,
        "width": 4
       },
       "report_default": {
        "hidden": false
       }
      }
     }
    }
   },
   "source": [
    "### RC Byrd and Greenup Locks and Dams Time Series Data "
   ]
  },
  {
   "cell_type": "markdown",
   "metadata": {
    "extensions": {
     "jupyter_dashboards": {
      "version": 1,
      "views": {
       "grid_default": {
        "col": 4,
        "height": 4,
        "hidden": false,
        "row": 72,
        "width": 4
       },
       "report_default": {
        "hidden": false
       }
      }
     }
    }
   },
   "source": [
    "#### Get Sonde data at locks"
   ]
  },
  {
   "cell_type": "code",
   "execution_count": 454,
   "metadata": {
    "extensions": {
     "jupyter_dashboards": {
      "version": 1,
      "views": {
       "grid_default": {
        "hidden": true
       },
       "report_default": {
        "hidden": true
       }
      }
     }
    }
   },
   "outputs": [],
   "source": [
    "locks_sonde = pd.read_csv('data/Greenup/locks_sonde_3.csv')"
   ]
  },
  {
   "cell_type": "markdown",
   "metadata": {},
   "source": [
    "#### Get PAR data at locks"
   ]
  },
  {
   "cell_type": "code",
   "execution_count": 455,
   "metadata": {
    "extensions": {
     "jupyter_dashboards": {
      "version": 1,
      "views": {
       "grid_default": {
        "hidden": true
       },
       "report_default": {
        "hidden": true
       }
      }
     }
    }
   },
   "outputs": [],
   "source": [
    "locks_par = pd.read_csv('data/Greenup/locks_par_3.csv')"
   ]
  },
  {
   "cell_type": "markdown",
   "metadata": {},
   "source": [
    "#### Create Date-Time field as index"
   ]
  },
  {
   "cell_type": "code",
   "execution_count": 456,
   "metadata": {
    "extensions": {
     "jupyter_dashboards": {
      "version": 1,
      "views": {
       "grid_default": {
        "hidden": true
       },
       "report_default": {
        "hidden": true
       }
      }
     }
    }
   },
   "outputs": [],
   "source": [
    "def datetime_sonde(row):\n",
    "    pattern = '%m/%d/%y-%H:%M:%S'\n",
    "    dt = row['Date (MM/DD/YYYY)']+'-'+row['Time (HH:MM:SS)']\n",
    "    return pd.to_datetime(time.mktime(time.strptime(dt,pattern)),unit='s')\n",
    "    \n",
    "locks_sonde['Date-Time'] = locks_sonde.apply(lambda row: datetime_sonde(row),axis=1)\n",
    "locks_sonde = locks_sonde.set_index(['Date-Time'])"
   ]
  },
  {
   "cell_type": "code",
   "execution_count": 457,
   "metadata": {
    "extensions": {
     "jupyter_dashboards": {
      "version": 1,
      "views": {
       "grid_default": {
        "hidden": true
       },
       "report_default": {
        "hidden": true
       }
      }
     }
    }
   },
   "outputs": [],
   "source": [
    "def datetime_par(row):\n",
    "    pattern = '%m/%d/%y-%H:%M:%S %p'\n",
    "    dt = row['Date']+'-'+row['Time']\n",
    "    return pd.to_datetime(time.mktime(time.strptime(dt,pattern)),unit='s')\n",
    "    \n",
    "locks_par['Date-Time'] = locks_par.apply(lambda row: datetime_par(row),axis=1)\n",
    "locks_par = locks_par.set_index(['Date-Time'])"
   ]
  },
  {
   "cell_type": "markdown",
   "metadata": {
    "extensions": {
     "jupyter_dashboards": {
      "version": 1,
      "views": {
       "grid_default": {},
       "report_default": {
        "hidden": false
       }
      }
     }
    }
   },
   "source": [
    "#### Filter out Sonde data with zero values for conductivity-related measures (use salinity as indicator)"
   ]
  },
  {
   "cell_type": "code",
   "execution_count": 458,
   "metadata": {
    "extensions": {
     "jupyter_dashboards": {
      "version": 1,
      "views": {
       "grid_default": {},
       "report_default": {
        "hidden": true
       }
      }
     }
    }
   },
   "outputs": [],
   "source": [
    "locks_sonde = locks_sonde[locks_sonde['Sal psu'] != 0]"
   ]
  },
  {
   "cell_type": "markdown",
   "metadata": {},
   "source": [
    "#### Threshold Clorophyll and BGA and compute ratio"
   ]
  },
  {
   "cell_type": "code",
   "execution_count": 459,
   "metadata": {},
   "outputs": [],
   "source": [
    "locks_sonde['Chlorophyll µg/L'] = locks_sonde['Chlorophyll µg/L'].apply(lambda x: 0.0 if x < 0.0 else x)\n",
    "locks_sonde['Chlorophyll µg/L'] = locks_sonde['Chlorophyll µg/L'].apply(lambda x: 10.0 if x > 10.0 else x)\n",
    "locks_sonde['BGA-PC µg/L'] = locks_sonde['BGA-PC µg/L'].apply(lambda x: 0.1 if x < 0.1 else x)\n",
    "locks_sonde['BGA-PC µg/L'] = locks_sonde['BGA-PC µg/L'].apply(lambda x: 1.0 if x > 1.0 else x)"
   ]
  },
  {
   "cell_type": "code",
   "execution_count": 460,
   "metadata": {},
   "outputs": [],
   "source": [
    "locks_sonde['Chlorophyll/BGA'] = locks_sonde.apply(lambda x: x['Chlorophyll µg/L']/x['BGA-PC µg/L'], axis=1)"
   ]
  },
  {
   "cell_type": "markdown",
   "metadata": {},
   "source": [
    "##### Cap Turbidity at 125 NTU, ODO at 15 mg/L, PAR at 2000"
   ]
  },
  {
   "cell_type": "code",
   "execution_count": 461,
   "metadata": {},
   "outputs": [],
   "source": [
    "locks_sonde['Turbidity NTU'] = locks_sonde['Turbidity NTU'].apply(lambda x: 125.0 if x > 125.0 else x)\n",
    "locks_sonde['ODO mg/L'] = locks_sonde['ODO mg/L'].apply(lambda x: 15.0 if x > 15.0 else x)"
   ]
  },
  {
   "cell_type": "code",
   "execution_count": 462,
   "metadata": {},
   "outputs": [],
   "source": [
    "locks_par['PAR_rcb'] = locks_par['PAR_rcb'].apply(lambda x: 2000.0 if x > 2000.0 else x)\n",
    "locks_par['PAR_greenup'] = locks_par['PAR_greenup'].apply(lambda x: 2000.0 if x > 2000.0 else x)"
   ]
  },
  {
   "cell_type": "markdown",
   "metadata": {
    "extensions": {
     "jupyter_dashboards": {
      "version": 1,
      "views": {
       "grid_default": {},
       "report_default": {
        "hidden": false
       }
      }
     }
    }
   },
   "source": [
    "#### Drop non-data columns, TSS (all NaN), and redunctant columns (chlorophyll, BGA, conductivity, salinity, pH, depth) from Sonde data\n",
    " * TODO: Try using Zip of desired columns instead of dropping everything else"
   ]
  },
  {
   "cell_type": "code",
   "execution_count": 463,
   "metadata": {
    "extensions": {
     "jupyter_dashboards": {
      "version": 1,
      "views": {
       "grid_default": {
        "hidden": true
       },
       "report_default": {
        "hidden": true
       }
      }
     }
    }
   },
   "outputs": [],
   "source": [
    "locks_sonde_dataonly = locks_sonde.drop(locks_sonde.columns[:7],axis=1).drop('Wiper Pos V',axis=1) \\\n",
    "    .drop('TSS mg/L',axis=1) \\\n",
    "    .drop('ODO % sat',axis=1).drop('Chlorophyll RFU',axis=1).drop('BGA-PC RFU',axis=1) \\\n",
    "    .drop(locks_sonde.columns[[15,17,18]],axis=1).drop('Sal psu',axis=1).drop('pH mV',axis=1).drop('Press psi a',axis=1)"
   ]
  },
  {
   "cell_type": "code",
   "execution_count": 464,
   "metadata": {
    "extensions": {
     "jupyter_dashboards": {
      "version": 1,
      "views": {
       "grid_default": {
        "hidden": true
       },
       "report_default": {
        "hidden": true
       }
      }
     }
    }
   },
   "outputs": [],
   "source": [
    "rcb_only = locks_sonde[locks_sonde['Site Name'].str.contains('RCB')==True]\n",
    "greenup_only = locks_sonde[locks_sonde['Site Name'].str.contains('Greenup')==True]\n",
    "rcb_dataonly = rcb_only.drop(rcb_only.columns[:7],axis=1).drop('Wiper Pos V',axis=1).drop('TSS mg/L',axis=1)\n",
    "greenup_dataonly = greenup_only.drop(greenup_only.columns[:7],axis=1).drop('Wiper Pos V',axis=1).drop('TSS mg/L',axis=1)"
   ]
  },
  {
   "cell_type": "markdown",
   "metadata": {},
   "source": [
    "<div id='locks_plots'></div>"
   ]
  },
  {
   "cell_type": "markdown",
   "metadata": {},
   "source": [
    "### Plots for Sonde and PAR data at Locks "
   ]
  },
  {
   "cell_type": "markdown",
   "metadata": {
    "extensions": {
     "jupyter_dashboards": {
      "version": 1,
      "views": {
       "grid_default": {},
       "report_default": {
        "hidden": false
       }
      }
     }
    }
   },
   "source": [
    "#### Distribution plots for Sonde data"
   ]
  },
  {
   "cell_type": "code",
   "execution_count": 465,
   "metadata": {
    "extensions": {
     "jupyter_dashboards": {
      "version": 1,
      "views": {
       "grid_default": {
        "col": 0,
        "height": 14,
        "hidden": false,
        "row": 84,
        "width": 4
       },
       "report_default": {
        "hidden": false
       }
      }
     }
    }
   },
   "outputs": [
    {
     "data": {
      "application/vnd.jupyter.widget-view+json": {
       "model_id": "65c8cc9840f24cac9600504593f64cf6",
       "version_major": 2,
       "version_minor": 0
      },
      "text/plain": [
       "interactive(children=(Dropdown(description='Property', options=('ODO mg/L', 'Chlorophyll µg/L', 'BGA-PC µg/L',…"
      ]
     },
     "metadata": {},
     "output_type": "display_data"
    },
    {
     "data": {
      "text/plain": [
       "<function __main__.dist_plot_ts(Property, Site='RCB', Kind='kde')>"
      ]
     },
     "execution_count": 465,
     "metadata": {},
     "output_type": "execute_result"
    }
   ],
   "source": [
    "def dist_plot_ts(Property,Site='RCB',Kind='kde'):\n",
    "    if ((Site=='RCB') | (Site=='Both')):\n",
    "        rcb_dataonly[Property].plot(kind=Kind,color='blue')\n",
    "    if ((Site=='Greenup') | (Site=='Both')):\n",
    "        greenup_dataonly[Property].plot(kind=Kind,color='green')\n",
    "        \n",
    "interact(dist_plot_ts, \\\n",
    "         Property=locks_sonde_dataonly.columns, \\\n",
    "         Site=['RCB','Greenup','Both'], \\\n",
    "         Kind=['hist','kde','box'] \\\n",
    "        )"
   ]
  },
  {
   "cell_type": "markdown",
   "metadata": {},
   "source": [
    "#### Distribution plots for PAR data"
   ]
  },
  {
   "cell_type": "code",
   "execution_count": 466,
   "metadata": {
    "extensions": {
     "jupyter_dashboards": {
      "version": 1,
      "views": {
       "grid_default": {
        "col": 0,
        "height": 14,
        "hidden": false,
        "row": 84,
        "width": 4
       },
       "report_default": {
        "hidden": false
       }
      }
     }
    }
   },
   "outputs": [
    {
     "data": {
      "application/vnd.jupyter.widget-view+json": {
       "model_id": "33caa9ef089145b29fad3b5608f77d60",
       "version_major": 2,
       "version_minor": 0
      },
      "text/plain": [
       "interactive(children=(Dropdown(description='Site', options=('RCB', 'Greenup', 'Both'), value='RCB'), Dropdown(…"
      ]
     },
     "metadata": {},
     "output_type": "display_data"
    },
    {
     "data": {
      "text/plain": [
       "<function __main__.dist_plot_par(Site='rcb', Kind='kde')>"
      ]
     },
     "execution_count": 466,
     "metadata": {},
     "output_type": "execute_result"
    }
   ],
   "source": [
    "def dist_plot_par(Site='rcb',Kind='kde'):\n",
    "    if ((Site=='RCB') | (Site=='Both')):\n",
    "        locks_par[\"PAR_rcb\"].plot(kind=Kind,color='blue')\n",
    "    if ((Site=='Greenup') | (Site=='Both')):\n",
    "        locks_par[\"PAR_greenup\"].plot(kind=Kind,color='green')\n",
    "        \n",
    "interact(dist_plot_par, \\\n",
    "         Site=['RCB','Greenup','Both'], \\\n",
    "         Kind=['hist','kde','box'] \\\n",
    "        )"
   ]
  },
  {
   "cell_type": "markdown",
   "metadata": {
    "extensions": {
     "jupyter_dashboards": {
      "version": 1,
      "views": {
       "grid_default": {},
       "report_default": {
        "hidden": false
       }
      }
     }
    }
   },
   "source": [
    "#### Scatter (correlation) plots for all Sonde data"
   ]
  },
  {
   "cell_type": "code",
   "execution_count": 467,
   "metadata": {
    "extensions": {
     "jupyter_dashboards": {
      "version": 1,
      "views": {
       "grid_default": {
        "col": 4,
        "height": 14,
        "hidden": false,
        "row": 84,
        "width": 4
       },
       "report_default": {
        "hidden": false
       }
      }
     }
    }
   },
   "outputs": [
    {
     "data": {
      "application/vnd.jupyter.widget-view+json": {
       "model_id": "21e5d49d7e514aae89787ce53095ad97",
       "version_major": 2,
       "version_minor": 0
      },
      "text/plain": [
       "interactive(children=(Dropdown(description='YProperty', options=('ODO mg/L', 'Chlorophyll µg/L', 'BGA-PC µg/L'…"
      ]
     },
     "metadata": {},
     "output_type": "display_data"
    },
    {
     "data": {
      "text/plain": [
       "<function __main__.scatter_plot_timeseries(YProperty='ODO mg/L', XProperty='Chlorophyll µg/L', CProperty='Temp °C', ColorMap='jet')>"
      ]
     },
     "execution_count": 467,
     "metadata": {},
     "output_type": "execute_result"
    }
   ],
   "source": [
    "def scatter_plot_timeseries(YProperty=locks_sonde_dataonly.columns[0],XProperty=locks_sonde_dataonly.columns[1],CProperty=locks_sonde_dataonly.columns[3],ColorMap='jet'):\n",
    "    fig, ax = plt.subplots()\n",
    "    locks_sonde_dataonly.plot.scatter(ax=ax,x=XProperty,y=YProperty,c=CProperty,cmap=ColorMap,s=1)\n",
    "    ax.set_title(\"Correlation of \"+YProperty+\" and \"+XProperty,fontsize=14)\n",
    "    \n",
    "interact(scatter_plot_timeseries, \\\n",
    "         YProperty=locks_sonde_dataonly.columns, \\\n",
    "         XProperty=locks_sonde_dataonly.columns, \\\n",
    "         CProperty=locks_sonde_dataonly.columns, \\\n",
    "         ColorMap=['jet','viridis','magma','coolwarm','seismic','Greys','Reds','Blues'] \\\n",
    "        )"
   ]
  },
  {
   "cell_type": "markdown",
   "metadata": {
    "extensions": {
     "jupyter_dashboards": {
      "version": 1,
      "views": {
       "grid_default": {},
       "report_default": {
        "hidden": false
       }
      }
     }
    }
   },
   "source": [
    "#### Scatter (correlation) plots for PAR data between locks"
   ]
  },
  {
   "cell_type": "code",
   "execution_count": 468,
   "metadata": {},
   "outputs": [
    {
     "data": {
      "text/plain": [
       "Text(0.5, 1.0, 'Correlation of PAR data between locks')"
      ]
     },
     "execution_count": 468,
     "metadata": {},
     "output_type": "execute_result"
    },
    {
     "data": {
      "image/png": "[encoded data removed]",
      "text/plain": [
       "<Figure size 432x288 with 1 Axes>"
      ]
     },
     "metadata": {
      "needs_background": "light"
     },
     "output_type": "display_data"
    }
   ],
   "source": [
    "fig, ax = plt.subplots()\n",
    "locks_par.plot.scatter(ax=ax,x='PAR_rcb',y='PAR_greenup')\n",
    "ax.set_title(\"Correlation of PAR data between locks\",fontsize=14)"
   ]
  },
  {
   "cell_type": "markdown",
   "metadata": {
    "extensions": {
     "jupyter_dashboards": {
      "version": 1,
      "views": {
       "grid_default": {},
       "report_default": {
        "hidden": false
       }
      }
     }
    }
   },
   "source": [
    "#### Get Sonde deployment data"
   ]
  },
  {
   "cell_type": "code",
   "execution_count": 469,
   "metadata": {
    "extensions": {
     "jupyter_dashboards": {
      "version": 1,
      "views": {
       "grid_default": {
        "hidden": true
       },
       "report_default": {
        "hidden": true
       }
      }
     }
    }
   },
   "outputs": [],
   "source": [
    "sonde_deployments = pd.read_csv('data/Greenup/sonde_deployments_3.csv',encoding='latin1')\n",
    "sonde_deployments = sonde_deployments.drop(sonde_deployments.columns[9:],axis=1)\n",
    "sonde_deployments = sonde_deployments.dropna(thresh=6)\n",
    "#sonde_deployments.columns"
   ]
  },
  {
   "cell_type": "markdown",
   "metadata": {
    "extensions": {
     "jupyter_dashboards": {
      "version": 1,
      "views": {
       "grid_default": {},
       "report_default": {
        "hidden": false
       }
      }
     }
    }
   },
   "source": [
    "#### Index with Date-Time"
   ]
  },
  {
   "cell_type": "code",
   "execution_count": 470,
   "metadata": {
    "extensions": {
     "jupyter_dashboards": {
      "version": 1,
      "views": {
       "grid_default": {
        "hidden": true
       },
       "report_default": {
        "hidden": true
       }
      }
     }
    }
   },
   "outputs": [],
   "source": [
    "def datetime_sonde_dep(row):\n",
    "    pattern = '%m/%d/%y-%H:%M:%S %p'\n",
    "    dt = row['Date ']+'-'+row['Time']\n",
    "    return pd.to_datetime(time.mktime(time.strptime(dt,pattern)),unit='s')\n",
    "    \n",
    "sonde_deployments['Date-Time'] = sonde_deployments.apply(lambda row: datetime_sonde_dep(row),axis=1)\n",
    "sonde_deployments = sonde_deployments.set_index(['Date-Time'])\n",
    "rcb_sonde_deployments = sonde_deployments[sonde_deployments['Location ']=='RCB']\n",
    "greenup_sonde_deployments = sonde_deployments[sonde_deployments['Location ']=='Greenup']"
   ]
  },
  {
   "cell_type": "markdown",
   "metadata": {
    "extensions": {
     "jupyter_dashboards": {
      "version": 1,
      "views": {
       "grid_default": {},
       "report_default": {
        "hidden": false
       }
      }
     }
    }
   },
   "source": [
    "#### Disable scrolling for time series plots"
   ]
  },
  {
   "cell_type": "code",
   "execution_count": 471,
   "metadata": {
    "extensions": {
     "jupyter_dashboards": {
      "version": 1,
      "views": {
       "grid_default": {},
       "report_default": {
        "hidden": true
       }
      }
     }
    }
   },
   "outputs": [
    {
     "data": {
      "application/javascript": [
       "IPython.OutputArea.prototype._should_scroll = function(lines) {\n",
       "    return false;\n",
       "}\n"
      ],
      "text/plain": [
       "<IPython.core.display.Javascript object>"
      ]
     },
     "metadata": {},
     "output_type": "display_data"
    }
   ],
   "source": [
    "%%javascript\n",
    "IPython.OutputArea.prototype._should_scroll = function(lines) {\n",
    "    return false;\n",
    "}"
   ]
  },
  {
   "cell_type": "markdown",
   "metadata": {},
   "source": [
    "#### Get maximum values for transects (mainly for placing labels)"
   ]
  },
  {
   "cell_type": "code",
   "execution_count": 472,
   "metadata": {},
   "outputs": [],
   "source": [
    "transects_max = transects_sonde_par.groupby(['Date-Time','T Pos']).max()\n",
    "transects_max.reset_index(level=1,inplace=True)\n",
    "#transects_max"
   ]
  },
  {
   "cell_type": "code",
   "execution_count": 473,
   "metadata": {},
   "outputs": [],
   "source": [
    "transects_mean = transects_sonde_par.groupby(['Date-Time','T Pos']).mean()\n",
    "transects_mean.reset_index(level=1,inplace=True)\n",
    "#transects_mean"
   ]
  },
  {
   "cell_type": "markdown",
   "metadata": {
    "extensions": {
     "jupyter_dashboards": {
      "version": 1,
      "views": {
       "grid_default": {},
       "report_default": {
        "hidden": false
       }
      }
     }
    }
   },
   "source": [
    "### Interactive timeseries plots for Sonde data, including transect data and sonde deployments"
   ]
  },
  {
   "cell_type": "code",
   "execution_count": 474,
   "metadata": {
    "extensions": {
     "jupyter_dashboards": {
      "version": 1,
      "views": {
       "grid_default": {
        "col": 8,
        "height": 27,
        "hidden": false,
        "row": 84,
        "width": 4
       },
       "report_default": {
        "hidden": false
       }
      }
     }
    }
   },
   "outputs": [
    {
     "data": {
      "application/vnd.jupyter.widget-view+json": {
       "model_id": "f06b200fb2cd478cbae1b990731d7fac",
       "version_major": 2,
       "version_minor": 0
      },
      "text/plain": [
       "SelectionRangeSlider(description='Dates', index=(0, 25), layout=Layout(width='500px'), options=((' Aug 2017 ',…"
      ]
     },
     "metadata": {},
     "output_type": "display_data"
    }
   ],
   "source": [
    "from datetime import datetime\n",
    "start_date = datetime(2017, 8, 1)\n",
    "end_date = datetime.now()\n",
    "dates = pd.date_range(start_date, end_date, freq='M')\n",
    "date_options = [(date.strftime(' %b %Y '), date) for date in dates]\n",
    "date_index = (0, len(date_options)-1)\n",
    "\n",
    "date_range_slider = widgets.SelectionRangeSlider(\n",
    "    options=date_options,\n",
    "    index=date_index,\n",
    "    description = \"Dates\",\n",
    "    orientation = 'horizontal',\n",
    "    layout = {'width': '500px'}\n",
    ")\n",
    "date_range_slider"
   ]
  },
  {
   "cell_type": "code",
   "execution_count": 475,
   "metadata": {
    "extensions": {
     "jupyter_dashboards": {
      "version": 1,
      "views": {
       "grid_default": {
        "col": 8,
        "height": 27,
        "hidden": false,
        "row": 84,
        "width": 4
       },
       "report_default": {
        "hidden": false
       }
      }
     }
    },
    "scrolled": false
   },
   "outputs": [
    {
     "data": {
      "application/vnd.jupyter.widget-view+json": {
       "model_id": "02d92888d99c4665aa1cc892840670a7",
       "version_major": 2,
       "version_minor": 0
      },
      "text/plain": [
       "interactive(children=(Dropdown(description='Site', index=2, options=('RCB', 'Greenup', 'Both'), value='Both'),…"
      ]
     },
     "metadata": {},
     "output_type": "display_data"
    },
    {
     "data": {
      "text/plain": [
       "<function __main__.plot_ts_all(Site='Both', date_range=(datetime.datetime(2017, 8, 1, 0, 0), datetime.datetime(2019, 10, 2, 4, 57, 47, 300827)))>"
      ]
     },
     "execution_count": 475,
     "metadata": {},
     "output_type": "execute_result"
    }
   ],
   "source": [
    "def plot_ts_all(Site='Both',date_range=(start_date,end_date)):\n",
    "    fig, axes = plt.subplots(nrows=len(locks_sonde_dataonly.columns)+1,ncols=1,figsize=(20,60))\n",
    "    i = 0\n",
    "    for property in locks_sonde_dataonly.columns:\n",
    "        if ((Site=='RCB') | (Site=='Both')):\n",
    "            rcb_dataonly[property].plot(ax=axes[i],drawstyle='steps-post',legend=True,color='blue')\n",
    "        if ((Site=='Greenup') | (Site=='Both')):\n",
    "            greenup_dataonly[property].plot(ax=axes[i],drawstyle='steps-post',legend=True,color='green')\n",
    "        if (property!='Depth m'):\n",
    "            transects_sonde_par[property].plot(ax=axes[i],color='red',marker='o',linestyle='',ms=2)\n",
    "            for k, row in transects_max.iterrows():\n",
    "                axes[i].annotate('T-'+str(int(row['T Pos'])),(k,row[property]),xytext=(-7,5),textcoords='offset points')\n",
    "            for row in transects_mean.iterrows():\n",
    "                transects_max[property].plot(ax=axes[i],color='orange',marker='o',linestyle='',ms=2)\n",
    "\n",
    "        if (Site=='Both'):\n",
    "            axes[i].legend([property+' at RCB',property+' at Greenup',property+' at transects'],loc='upper left')\n",
    "        else:\n",
    "            axes[i].legend([property+' at '+Site,property+' at transects'],loc='upper left')\n",
    "        axes[i].set_xlim(date_range)\n",
    "        i = i+1\n",
    "        \n",
    "    if ((Site=='RCB') | (Site=='Both')):\n",
    "        rcb_sonde_deployments['Sonde in Place Now'].plot(ax=axes[i],drawstyle='steps',color='blue')\n",
    "    if ((Site=='Greenup') | (Site=='Both')):\n",
    "        greenup_sonde_deployments['Sonde in Place Now'].plot(ax=axes[i],drawstyle='steps',color='green')\n",
    "    if (Site=='Both'):\n",
    "        axes[i].legend(['Sonde in place at RCB','Sonde in place at Greenup'],loc='upper left')\n",
    "    else:\n",
    "        axes[i].legend(['Sonde in Place at '+Site],loc='upper left')\n",
    "    axes[i].set_xlim(date_range)\n",
    "    axes[i].set_ylim(0,7.0)\n",
    "    \n",
    "interact_manual(plot_ts_all,Site=['RCB','Greenup','Both'],date_range=date_range_slider)"
   ]
  },
  {
   "cell_type": "markdown",
   "metadata": {
    "extensions": {
     "jupyter_dashboards": {
      "version": 1,
      "views": {
       "grid_default": {},
       "report_default": {
        "hidden": false
       }
      }
     }
    }
   },
   "source": [
    "### Timeseries plots for PAR data, including transects"
   ]
  },
  {
   "cell_type": "code",
   "execution_count": 476,
   "metadata": {
    "extensions": {
     "jupyter_dashboards": {
      "version": 1,
      "views": {
       "grid_default": {
        "col": 8,
        "height": 27,
        "hidden": false,
        "row": 84,
        "width": 4
       },
       "report_default": {
        "hidden": false
       }
      }
     }
    },
    "scrolled": false
   },
   "outputs": [
    {
     "data": {
      "application/vnd.jupyter.widget-view+json": {
       "model_id": "0e480c50c2b5449bacc17c267d8df0ca",
       "version_major": 2,
       "version_minor": 0
      },
      "text/plain": [
       "interactive(children=(Dropdown(description='Site', index=2, options=('RCB', 'Greenup', 'Both'), value='Both'),…"
      ]
     },
     "metadata": {},
     "output_type": "display_data"
    },
    {
     "data": {
      "text/plain": [
       "<function __main__.plot_ts_par(Site='Both', date_range=(datetime.datetime(2017, 8, 1, 0, 0), datetime.datetime(2019, 10, 2, 4, 57, 47, 300827)))>"
      ]
     },
     "execution_count": 476,
     "metadata": {},
     "output_type": "execute_result"
    }
   ],
   "source": [
    "def plot_ts_par(Site='Both',date_range=(start_date,end_date)):\n",
    "    fig, ax = plt.subplots(figsize=(20,5))\n",
    "    if ((Site=='RCB') | (Site=='Both')):\n",
    "        locks_par['PAR_rcb'].plot(ax=ax,marker='o',linestyle='',ms=1,legend=True,color='blue')\n",
    "    if ((Site=='Greenup') | (Site=='Both')):\n",
    "        locks_par['PAR_greenup'].plot(ax=ax,marker='o',linestyle='',ms=1,legend=True,color='green')\n",
    "    transects_sonde_par['PAR'].plot(ax=ax,color='red',marker='o',linestyle='',ms=2)\n",
    "    for k, row in transects_max.iterrows():\n",
    "        ax.annotate('T-'+str(int(row['T Pos'])),(k,row['PAR']),xytext=(-7,5),textcoords='offset points')\n",
    "    if (Site=='Both'):\n",
    "        ax.legend(['PAR at RCB','PAR at Greenup','PAR at transects'],loc='upper left')\n",
    "    else:\n",
    "        ax.legend(['PAR at '+Site,'PAR at transects'],loc='upper left')\n",
    "    ax.set_xlim(date_range)\n",
    "    \n",
    "interact(plot_ts_par,Site=['RCB','Greenup','Both'],date_range=date_range_slider)"
   ]
  },
  {
   "cell_type": "markdown",
   "metadata": {},
   "source": [
    "## == USGS Gage at Ironton =="
   ]
  },
  {
   "cell_type": "markdown",
   "metadata": {
    "extensions": {
     "jupyter_dashboards": {
      "version": 1,
      "views": {
       "grid_default": {
        "hidden": true
       },
       "report_default": {
        "hidden": true
       }
      }
     }
    }
   },
   "source": [
    "### Get USGS Gage data directly from USGS (WaterData) web services \n",
    " * Gage #03216070 in Ironton, OH\n",
    " * TODO:\n",
    "   * Set NO3+NO2 value to some default (0.0) instead of dropping the columns\n",
    "   * The data coming from the web service seems **really messed up**, as though columns are out of order\n",
    "     * Gage height looks for like Temperature\n",
    "     * Temperature like Discharge\n",
    "     * Sp Cond like Depth or Discharge\n",
    "     * Turbidity like Sp Cond\n",
    "     * Sensor V like DO\n",
    "     * Mean V like Turbidity\n",
    "     * But DO and Discharge look OK\n",
    "   * Mindy says that\n",
    "     * Temp ADV is Mean velocity\n",
    "     * Spec cond is Gage height\n",
    "     * Dissolved oxygen is Temperataure\n",
    "     * Turbidity is Spec cond\n",
    "     * Sensor velocity is Dissolved oxygen\n",
    "     * Mean velocity is Turbidity"
   ]
  },
  {
   "cell_type": "code",
   "execution_count": 477,
   "metadata": {},
   "outputs": [],
   "source": [
    "ironton_gage = pd.read_csv(\"https://nwis.waterdata.usgs.gov/usa/nwis/uv/\"+ \\\n",
    "                        \"?site_no=03216070\"+ \\\n",
    "                        \"&period=&begin_date=2017-08-25&end_date=2019-10-01\"+ \\\n",
    "                        \"&cb_00010=on&cb_00011=on&cb_00060=on&cb_00065=on&cb_00095=on&cb_00300=on&cb_00400=on&cb_63680=on&cb_72254=on&cb_72255=on&cb_99133=on\"+ \\\n",
    "                        \"&format=rdb\", \\\n",
    "                       sep='\\t',comment='#',header=[0,1],dtype={5: np.float64, 9:np.float64, 11: np.float64, 24: np.float64},na_values=['P','Eqp','A','A:e'])"
   ]
  },
  {
   "cell_type": "code",
   "execution_count": 478,
   "metadata": {},
   "outputs": [],
   "source": [
    "ironton_gage = ironton_gage.reset_index()\n",
    "#ironton_gage.columns = ['Index', 'Agency', 'Site', 'DateTime', 'TZ', \\\n",
    "#                     'Temperature', 'q1', 'Temperature ADVM', 'q2', 'Discharge', 'q3', 'Gage height', 'q4', \\\n",
    "#                     'Specific cond', 'q5', 'Dissolved oxygen', 'q6', 'pH', 'q7', 'Turbidity', 'q8', \\\n",
    "#                     'Sensor velocity', 'q9', 'Mean velocity', 'q10', 'NO3+NO2', 'q11']\n",
    "ironton_gage.columns = ['Index', 'Agency', 'Site', 'DateTime', 'TZ', \\\n",
    "                     'Sensor velocity', 'q1', 'Mean velocity', 'q2', 'Discharge', 'q3', 'Temperature ADVM', 'q4', \\\n",
    "                     'Gage height', 'q5', 'Temperature', 'q6', 'pH', 'q7', 'Spec cond', 'q8', \\\n",
    "                     'Dissolved oxygen', 'q9', 'Turbidity', 'q10', 'NO3+NO2', 'q11']\n",
    "#ironton_gage.columns, ironton_gage.head()"
   ]
  },
  {
   "cell_type": "code",
   "execution_count": 479,
   "metadata": {},
   "outputs": [],
   "source": [
    "ironton_gage = ironton_gage.drop(ironton_gage.columns[6:28:2],axis=1)\n",
    "ironton_gage = ironton_gage.drop(['Index','Agency','Site','TZ'],axis=1)\n",
    "#ironton_gage.head()"
   ]
  },
  {
   "cell_type": "code",
   "execution_count": 480,
   "metadata": {
    "extensions": {
     "jupyter_dashboards": {
      "version": 1,
      "views": {
       "grid_default": {
        "hidden": true
       },
       "report_default": {
        "hidden": true
       }
      }
     }
    }
   },
   "outputs": [],
   "source": [
    "def datetime_usgs(row):\n",
    "    pattern = '%Y-%m-%d %H:%M'\n",
    "    dt = row['DateTime']\n",
    "    return pd.to_datetime(time.mktime(time.strptime(dt,pattern)),unit='s')\n",
    "    \n",
    "ironton_gage['DateTime'] = ironton_gage.apply(lambda row: datetime_usgs(row),axis=1)\n",
    "ironton_gage = ironton_gage.set_index(['DateTime'])"
   ]
  },
  {
   "cell_type": "markdown",
   "metadata": {},
   "source": [
    "#### Save Ironton Gage data"
   ]
  },
  {
   "cell_type": "code",
   "execution_count": 481,
   "metadata": {},
   "outputs": [],
   "source": [
    "ironton_gage.to_csv('data/Greenup/out/ironton_gage.csv')"
   ]
  },
  {
   "cell_type": "markdown",
   "metadata": {},
   "source": [
    "<div id='ironton_usgs_plots'></div>"
   ]
  },
  {
   "cell_type": "markdown",
   "metadata": {},
   "source": [
    "## Ironton Gage Plots"
   ]
  },
  {
   "cell_type": "code",
   "execution_count": 482,
   "metadata": {
    "extensions": {
     "jupyter_dashboards": {
      "version": 1,
      "views": {
       "grid_default": {
        "hidden": true
       },
       "report_default": {
        "hidden": true
       }
      }
     }
    }
   },
   "outputs": [
    {
     "data": {
      "application/vnd.jupyter.widget-view+json": {
       "model_id": "b5758d2973484ccd8cb0500c21b71549",
       "version_major": 2,
       "version_minor": 0
      },
      "text/plain": [
       "interactive(children=(Dropdown(description='Property', options=('Sensor velocity', 'Mean velocity', 'Discharge…"
      ]
     },
     "metadata": {},
     "output_type": "display_data"
    },
    {
     "data": {
      "text/plain": [
       "<function __main__.dist_plot_ts_ironton(Property, Kind='kde')>"
      ]
     },
     "execution_count": 482,
     "metadata": {},
     "output_type": "execute_result"
    }
   ],
   "source": [
    "def dist_plot_ts_ironton(Property,Kind='kde'):\n",
    "    ironton_gage[Property].plot(kind=Kind,color='blue')\n",
    "        \n",
    "interact(dist_plot_ts_ironton, \\\n",
    "         Property=ironton_gage.columns, \\\n",
    "         Kind=['hist','kde','box'] \\\n",
    "        )"
   ]
  },
  {
   "cell_type": "code",
   "execution_count": 483,
   "metadata": {
    "extensions": {
     "jupyter_dashboards": {
      "version": 1,
      "views": {
       "grid_default": {
        "hidden": true
       },
       "report_default": {
        "hidden": true
       }
      }
     }
    }
   },
   "outputs": [
    {
     "data": {
      "application/vnd.jupyter.widget-view+json": {
       "model_id": "eedc9f2fbaa34fc0a816a830eb8a4a27",
       "version_major": 2,
       "version_minor": 0
      },
      "text/plain": [
       "interactive(children=(Dropdown(description='YProperty', options=('Sensor velocity', 'Mean velocity', 'Discharg…"
      ]
     },
     "metadata": {},
     "output_type": "display_data"
    },
    {
     "data": {
      "text/plain": [
       "<function __main__.scatter_plot_ts_ironton(YProperty='Sensor velocity', XProperty='Mean velocity', CProperty='Temperature ADVM', ColorMap='jet')>"
      ]
     },
     "execution_count": 483,
     "metadata": {},
     "output_type": "execute_result"
    }
   ],
   "source": [
    "def scatter_plot_ts_ironton(YProperty=ironton_gage.columns[0],XProperty=ironton_gage.columns[1],CProperty=ironton_gage.columns[3],ColorMap='jet'):\n",
    "    fig, ax = plt.subplots()\n",
    "    ironton_gage.plot.scatter(ax=ax,x=XProperty,y=YProperty,c=CProperty,cmap=ColorMap,s=1)\n",
    "    ax.set_title(\"Correlation of \"+YProperty+\" and \"+XProperty,fontsize=14)\n",
    "    \n",
    "interact(scatter_plot_ts_ironton, \\\n",
    "         YProperty=ironton_gage.columns, \\\n",
    "         XProperty=ironton_gage.columns, \\\n",
    "         CProperty=ironton_gage.columns, \\\n",
    "         ColorMap=['jet','viridis','magma','coolwarm','seismic','Greys','Reds','Blues'] \\\n",
    "        )"
   ]
  },
  {
   "cell_type": "code",
   "execution_count": 484,
   "metadata": {
    "extensions": {
     "jupyter_dashboards": {
      "version": 1,
      "views": {
       "grid_default": {
        "hidden": true
       },
       "report_default": {
        "hidden": true
       }
      }
     }
    },
    "scrolled": false
   },
   "outputs": [
    {
     "data": {
      "application/vnd.jupyter.widget-view+json": {
       "model_id": "c1bf5e98be9746d6acc1efb96de3f522",
       "version_major": 2,
       "version_minor": 0
      },
      "text/plain": [
       "interactive(children=(SelectionRangeSlider(description='Dates', index=(0, 25), layout=Layout(width='500px'), o…"
      ]
     },
     "metadata": {},
     "output_type": "display_data"
    },
    {
     "data": {
      "text/plain": [
       "<function __main__.plot_ts_ironton(date_range=(datetime.datetime(2017, 8, 1, 0, 0), datetime.datetime(2019, 10, 2, 4, 57, 47, 300827)))>"
      ]
     },
     "execution_count": 484,
     "metadata": {},
     "output_type": "execute_result"
    }
   ],
   "source": [
    "def plot_ts_ironton(date_range=(start_date,end_date)):\n",
    "    fig, axes = plt.subplots(nrows=len(ironton_gage.columns),ncols=1,figsize=(20,30))\n",
    "    i = 0\n",
    "    for property in ironton_gage.columns:\n",
    "        ironton_gage[property].plot(ax=axes[i],drawstyle='steps-post',legend=True,color='blue')\n",
    "        axes[i].legend([property],loc='upper left')\n",
    "        axes[i].set_xlim(date_range)\n",
    "        i = i+1\n",
    "            \n",
    "interact_manual(plot_ts_ironton,date_range=date_range_slider)"
   ]
  },
  {
   "cell_type": "markdown",
   "metadata": {
    "extensions": {
     "jupyter_dashboards": {
      "version": 1,
      "views": {
       "grid_default": {},
       "report_default": {
        "hidden": false
       }
      }
     }
    }
   },
   "source": [
    "## Resample timeseries data"
   ]
  },
  {
   "cell_type": "code",
   "execution_count": 485,
   "metadata": {
    "extensions": {
     "jupyter_dashboards": {
      "version": 1,
      "views": {
       "grid_default": {},
       "report_default": {
        "hidden": true
       }
      }
     }
    }
   },
   "outputs": [],
   "source": [
    "rcb_resampled_means = rcb_dataonly.resample('12H').mean()\n",
    "greenup_resampled_means = greenup_dataonly.resample('12H').mean()\n",
    "locks_par_means = locks_par.resample('12H').mean()\n",
    "ironton_gage_means = ironton_gage.resample('12H').mean()"
   ]
  },
  {
   "cell_type": "markdown",
   "metadata": {},
   "source": [
    "### TODO: \n",
    " * Create time-series plot similar the ones below, but provide interactive menus for\n",
    "   * Property to plot\n",
    "   * RCB, Greenup, or Both\n",
    "   * Options to include (if available):\n",
    "     * Ironton gage data\n",
    "     * Transects\n",
    "     * Sonde deployments"
   ]
  },
  {
   "cell_type": "code",
   "execution_count": 486,
   "metadata": {
    "extensions": {
     "jupyter_dashboards": {
      "version": 1,
      "views": {
       "grid_default": {
        "hidden": true
       },
       "report_default": {
        "hidden": true
       }
      }
     }
    },
    "scrolled": false
   },
   "outputs": [
    {
     "data": {
      "application/vnd.jupyter.widget-view+json": {
       "model_id": "3c4ba593765c4bd7b0c1f84458ad0350",
       "version_major": 2,
       "version_minor": 0
      },
      "text/plain": [
       "interactive(children=(Dropdown(description='Site', index=2, options=('RCB', 'Greenup', 'Both'), value='Both'),…"
      ]
     },
     "metadata": {},
     "output_type": "display_data"
    },
    {
     "data": {
      "text/plain": [
       "<function __main__.plot_ts_all(Site='Both', date_range=(datetime.datetime(2017, 8, 1, 0, 0), datetime.datetime(2019, 10, 2, 4, 57, 47, 300827)))>"
      ]
     },
     "execution_count": 486,
     "metadata": {},
     "output_type": "execute_result"
    }
   ],
   "source": [
    "def plot_ts_all(Site='Both',date_range=(start_date,end_date)):\n",
    "    fig, axes = plt.subplots(nrows=len(locks_sonde_dataonly.columns)+len(ironton_gage.columns)+2,ncols=1,figsize=(20,60))\n",
    "    i = 0\n",
    "    for property in locks_sonde_dataonly.columns:\n",
    "        if ((Site=='RCB') | (Site=='Both')):\n",
    "            rcb_resampled_means[property].plot(ax=axes[i],drawstyle='steps-post',legend=True,color='blue')\n",
    "        if ((Site=='Greenup') | (Site=='Both')):\n",
    "            greenup_resampled_means[property].plot(ax=axes[i],drawstyle='steps-post',legend=True,color='green')\n",
    "        if (property!='Depth m'):\n",
    "            transects_sonde_par[property].plot(ax=axes[i],color='red',marker='o',linestyle='',ms=4)\n",
    "            for k, row in transects_max.iterrows():\n",
    "                axes[i].annotate('T-'+str(int(row['T Pos'])),(k,row[property]),xytext=(-7,5),textcoords='offset points')\n",
    "        elif (Site=='Both'):\n",
    "            axes[i].legend([property+' at RCB',property+' at Greenup',property+' at transects'],loc='upper left')\n",
    "        else:\n",
    "            axes[i].legend([property+' at '+Site,property+' at transects'],loc='upper left')\n",
    "        axes[i].set_xlim(date_range)\n",
    "        i = i+1\n",
    "        \n",
    "    for property in ironton_gage.columns:    \n",
    "        ironton_gage_means[property].plot(ax=axes[i],drawstyle='steps-post',legend=True,color='orange')   \n",
    "        axes[i].legend([property+' at Ironton'],loc='upper left')            \n",
    "        i = i+1\n",
    "       \n",
    "    if ((Site=='RCB') | (Site=='Both')):\n",
    "        locks_par_means['PAR_rcb'].plot(ax=axes[i],marker='o',linestyle='',ms=2,legend=True,color='blue')\n",
    "    if ((Site=='Greenup') | (Site=='Both')):\n",
    "        locks_par_means['PAR_greenup'].plot(ax=axes[i],marker='o',linestyle='',ms=2,legend=True,color='green')  \n",
    "    transects_sonde_par['PAR'].plot(ax=axes[i],color='red',marker='o',linestyle='',ms=4)\n",
    "    for k, row in transects_max.iterrows():\n",
    "        axes[i].annotate('T-'+str(int(row['T Pos'])),(k,row['PAR']),xytext=(-7,5),textcoords='offset points')\n",
    "\n",
    "\n",
    "    if (Site=='Both'):\n",
    "        axes[i].legend(['PAR at RCB','PAR at Greenup','PAR at transects'],loc='upper left')\n",
    "    else:\n",
    "        axes[i].legend(['PAR at '+Site,'PAR at transects'],loc='upper left')\n",
    "    axes[i].set_xlim(date_range)\n",
    "    i = i+1\n",
    "        \n",
    "    if ((Site=='RCB') | (Site=='Both')):\n",
    "        rcb_sonde_deployments['Sonde in Place Now'].plot(ax=axes[i],drawstyle='steps',color='blue')\n",
    "    if ((Site=='Greenup') | (Site=='Both')):\n",
    "        greenup_sonde_deployments['Sonde in Place Now'].plot(ax=axes[i],drawstyle='steps',color='green')\n",
    "    if (Site=='Both'):\n",
    "        axes[i].legend(['Sonde in place at RCB','Sonde in place at Greenup'],loc='upper left')\n",
    "    else:\n",
    "        axes[i].legend(['Sonde in Place at '+Site],loc='upper left')\n",
    "    axes[i].set_xlim(date_range)\n",
    "    axes[i].set_ylim(0,7.0)\n",
    "    \n",
    "interact_manual(plot_ts_all,Site=['RCB','Greenup','Both'],date_range=date_range_slider)"
   ]
  },
  {
   "cell_type": "markdown",
   "metadata": {},
   "source": [
    "## Merge RCB and Greenup resampled means"
   ]
  },
  {
   "cell_type": "code",
   "execution_count": 487,
   "metadata": {
    "extensions": {
     "jupyter_dashboards": {
      "version": 1,
      "views": {
       "grid_default": {},
       "report_default": {
        "hidden": true
       }
      }
     }
    }
   },
   "outputs": [],
   "source": [
    "locks_resampled_means = pd.merge(rcb_resampled_means, greenup_resampled_means, how='outer', left_index=True, right_index=True, suffixes=('_rcb','_greenup'))"
   ]
  },
  {
   "cell_type": "markdown",
   "metadata": {},
   "source": [
    "#### Save resampled and merged locks data"
   ]
  },
  {
   "cell_type": "code",
   "execution_count": 488,
   "metadata": {
    "extensions": {
     "jupyter_dashboards": {
      "version": 1,
      "views": {
       "grid_default": {},
       "report_default": {
        "hidden": true
       }
      }
     }
    }
   },
   "outputs": [],
   "source": [
    "locks_resampled_means.to_csv(\"data/Greenup/out/locks_resampled_means.csv\")"
   ]
  },
  {
   "cell_type": "markdown",
   "metadata": {
    "extensions": {
     "jupyter_dashboards": {
      "version": 1,
      "views": {
       "grid_default": {},
       "report_default": {
        "hidden": false
       }
      }
     }
    }
   },
   "source": [
    "### Cross correlation between RC Byrd and Greenup Locks readings"
   ]
  },
  {
   "cell_type": "code",
   "execution_count": 489,
   "metadata": {
    "extensions": {
     "jupyter_dashboards": {
      "version": 1,
      "views": {
       "grid_default": {
        "hidden": true
       },
       "report_default": {
        "hidden": true
       }
      }
     }
    }
   },
   "outputs": [
    {
     "data": {
      "application/vnd.jupyter.widget-view+json": {
       "model_id": "c3b168688a2740c9a35cbbe0bfd675ef",
       "version_major": 2,
       "version_minor": 0
      },
      "text/plain": [
       "interactive(children=(Dropdown(description='Property', options=('ODO mg/L', 'Chlorophyll µg/L', 'BGA-PC µg/L',…"
      ]
     },
     "metadata": {},
     "output_type": "display_data"
    },
    {
     "data": {
      "text/plain": [
       "<function __main__.scatter_plot_cross_timeseries(Property, CProperty='Temp °C', ColorMap='jet')>"
      ]
     },
     "execution_count": 489,
     "metadata": {},
     "output_type": "execute_result"
    }
   ],
   "source": [
    "def scatter_plot_cross_timeseries(Property,CProperty='Temp °C',ColorMap='jet'):\n",
    "    fig, ax = plt.subplots()\n",
    "    locks_resampled_means.plot.scatter(ax=ax,x=Property+'_rcb',y=Property+'_greenup',c=CProperty+'_rcb',cmap=ColorMap,s=1)\n",
    "    ax.set_title(\"Correlation of \"+Property+\" at RCB and Greenup Locks\",fontsize=14)\n",
    "    \n",
    "interact(scatter_plot_cross_timeseries, \\\n",
    "         Property=locks_sonde_dataonly.columns, \\\n",
    "         CProperty=locks_sonde_dataonly.columns, \\\n",
    "         ColorMap=['jet','viridis','magma','coolwarm','seismic','Greys','Reds','Blues'] \\\n",
    "        )"
   ]
  },
  {
   "cell_type": "markdown",
   "metadata": {},
   "source": [
    "## Merge Locks and Ironton Gage data\n",
    " * TODO: \n",
    "   * Only merge Discharge data until issues (column mismatches) are resolved\n",
    "   * Estimate Locks discharge from Ironton gage data\n",
    "   * Move this up after reading Locks data"
   ]
  },
  {
   "cell_type": "code",
   "execution_count": 490,
   "metadata": {
    "extensions": {
     "jupyter_dashboards": {
      "version": 1,
      "views": {
       "grid_default": {
        "hidden": true
       },
       "report_default": {
        "hidden": true
       }
      }
     }
    }
   },
   "outputs": [],
   "source": [
    "locks_usgs_resampled_means = pd.merge(locks_resampled_means, ironton_gage_means, how='outer', left_index=True, right_index=True, suffixes=('','_ironton'))"
   ]
  },
  {
   "cell_type": "markdown",
   "metadata": {},
   "source": [
    "#### Save resampled and merged locks and Ironton gage data"
   ]
  },
  {
   "cell_type": "code",
   "execution_count": 491,
   "metadata": {
    "extensions": {
     "jupyter_dashboards": {
      "version": 1,
      "views": {
       "grid_default": {
        "hidden": true
       },
       "report_default": {
        "hidden": true
       }
      }
     }
    }
   },
   "outputs": [],
   "source": [
    "locks_usgs_resampled_means.to_csv(\"data/Greenup/out/locks_usgs_resampled_means.csv\")"
   ]
  },
  {
   "cell_type": "markdown",
   "metadata": {
    "extensions": {
     "jupyter_dashboards": {
      "version": 1,
      "views": {
       "grid_default": {},
       "report_default": {
        "hidden": false
       }
      }
     }
    }
   },
   "source": [
    "### Correlation between Locks and Ironton gage data"
   ]
  },
  {
   "cell_type": "code",
   "execution_count": 492,
   "metadata": {
    "extensions": {
     "jupyter_dashboards": {
      "version": 1,
      "views": {
       "grid_default": {
        "hidden": true
       },
       "report_default": {
        "hidden": true
       }
      }
     }
    }
   },
   "outputs": [
    {
     "data": {
      "application/vnd.jupyter.widget-view+json": {
       "model_id": "e326187cedb54473a2d7d49ad2fb5701",
       "version_major": 2,
       "version_minor": 0
      },
      "text/plain": [
       "interactive(children=(Dropdown(description='YProperty', options=('ODO % sat_rcb', 'ODO mg/L_rcb', 'Chlorophyll…"
      ]
     },
     "metadata": {},
     "output_type": "display_data"
    },
    {
     "data": {
      "text/plain": [
       "<function __main__.scatter_plot_cross_all_timeseries(YProperty, XProperty, CProperty='Temp °C', ColorMap='jet')>"
      ]
     },
     "execution_count": 492,
     "metadata": {},
     "output_type": "execute_result"
    }
   ],
   "source": [
    "def scatter_plot_cross_all_timeseries(YProperty,XProperty,CProperty='Temp °C',ColorMap='jet'):\n",
    "    fig, ax = plt.subplots()\n",
    "    locks_usgs_resampled_means.plot.scatter(ax=ax,x=XProperty,y=YProperty,c=CProperty,cmap=ColorMap,s=4)\n",
    "    ax.set_title(\"RCB and Greenup Locks vs Ironton Gage\",fontsize=14)\n",
    "    \n",
    "interact(scatter_plot_cross_all_timeseries, \\\n",
    "         YProperty=locks_resampled_means.columns, \\\n",
    "         XProperty=ironton_gage_means.columns, \\\n",
    "         CProperty=locks_usgs_resampled_means.columns, \\\n",
    "         ColorMap=['jet','viridis','magma','coolwarm','seismic','Greys','Reds','Blues'] \\\n",
    "        )"
   ]
  },
  {
   "cell_type": "markdown",
   "metadata": {},
   "source": [
    "## Merge Locks Sonde and PAR, and Ironton gage data"
   ]
  },
  {
   "cell_type": "code",
   "execution_count": 493,
   "metadata": {
    "extensions": {
     "jupyter_dashboards": {
      "version": 1,
      "views": {
       "grid_default": {
        "hidden": true
       },
       "report_default": {
        "hidden": true
       }
      }
     }
    }
   },
   "outputs": [],
   "source": [
    "locks_par_usgs_resampled_means = pd.merge(locks_usgs_resampled_means, locks_par_means, how='outer', left_index=True, right_index=True)"
   ]
  },
  {
   "cell_type": "markdown",
   "metadata": {},
   "source": [
    "#### Save all resampled and merged data"
   ]
  },
  {
   "cell_type": "code",
   "execution_count": 494,
   "metadata": {
    "extensions": {
     "jupyter_dashboards": {
      "version": 1,
      "views": {
       "grid_default": {
        "hidden": true
       },
       "report_default": {
        "hidden": true
       }
      }
     }
    }
   },
   "outputs": [],
   "source": [
    "locks_par_usgs_resampled_means.to_csv(\"data/Greenup/out/locks_par_usgs_resampled_means.csv\")"
   ]
  },
  {
   "cell_type": "code",
   "execution_count": 495,
   "metadata": {
    "extensions": {
     "jupyter_dashboards": {
      "version": 1,
      "views": {
       "grid_default": {
        "hidden": true
       },
       "report_default": {
        "hidden": true
       }
      }
     }
    }
   },
   "outputs": [
    {
     "data": {
      "application/vnd.jupyter.widget-view+json": {
       "model_id": "31bbd29573664d0191437b1378d91561",
       "version_major": 2,
       "version_minor": 0
      },
      "text/plain": [
       "interactive(children=(Dropdown(description='YProperty', options=('ODO % sat_rcb', 'ODO mg/L_rcb', 'Chlorophyll…"
      ]
     },
     "metadata": {},
     "output_type": "display_data"
    },
    {
     "data": {
      "text/plain": [
       "<function __main__.scatter_plot_locks_par_usgs(YProperty, XProperty, CProperty='Temp °C_rcb', ColorMap='jet')>"
      ]
     },
     "execution_count": 495,
     "metadata": {},
     "output_type": "execute_result"
    }
   ],
   "source": [
    "def scatter_plot_locks_par_usgs(YProperty,XProperty,CProperty='Temp °C_rcb',ColorMap='jet'):\n",
    "    fig, ax = plt.subplots()\n",
    "    locks_par_usgs_resampled_means.plot.scatter(ax=ax,x=XProperty,y=YProperty,c=CProperty,cmap=ColorMap,s=1)\n",
    "    ax.set_title(\"All vs All\",fontsize=14)\n",
    "    \n",
    "interact(scatter_plot_locks_par_usgs, \\\n",
    "         YProperty=locks_par_usgs_resampled_means.columns, \\\n",
    "         XProperty=locks_par_usgs_resampled_means.columns, \\\n",
    "         CProperty=locks_par_usgs_resampled_means.columns, \\\n",
    "         ColorMap=['jet','viridis','magma','coolwarm','seismic','Greys','Reds','Blues'] \\\n",
    "        )"
   ]
  },
  {
   "cell_type": "markdown",
   "metadata": {},
   "source": [
    "## Merge transects with locks and gage data "
   ]
  },
  {
   "cell_type": "code",
   "execution_count": 496,
   "metadata": {
    "extensions": {
     "jupyter_dashboards": {
      "version": 1,
      "views": {
       "grid_default": {},
       "report_default": {
        "hidden": true
       }
      }
     }
    }
   },
   "outputs": [],
   "source": [
    "transects_with_bases = pd.merge(transects_sonde_par, locks_par_usgs_resampled_means, how='outer', left_index=True, right_index=True,suffixes=('','_ironton'))\n",
    "#transects_with_bases.columns"
   ]
  },
  {
   "cell_type": "markdown",
   "metadata": {
    "extensions": {
     "jupyter_dashboards": {
      "version": 1,
      "views": {
       "grid_default": {},
       "report_default": {
        "hidden": false
       }
      }
     }
    }
   },
   "source": [
    "### Compute transect baseline values from corresponding measurements at the RC Byrd and Greenup Locks and Dams"
   ]
  },
  {
   "cell_type": "code",
   "execution_count": 497,
   "metadata": {},
   "outputs": [],
   "source": [
    "transects_with_bases['ODO mg/L_base'] = transects_with_bases.apply(lambda x: ((341-x['RMI'])*x['ODO mg/L_rcb']+(x['RMI']-280)*x['ODO mg/L_greenup'])/61, axis=1)\n",
    "transects_with_bases['Chlorophyll µg/L_base'] = transects_with_bases.apply(lambda x: ((341-x['RMI'])*x['Chlorophyll µg/L_rcb']+(x['RMI']-280)*x['Chlorophyll µg/L_greenup'])/61, axis=1)\n",
    "transects_with_bases['BGA-PC µg/L_base'] = transects_with_bases.apply(lambda x: ((341-x['RMI'])*x['BGA-PC µg/L_rcb']+(x['RMI']-280)*x['BGA-PC µg/L_greenup'])/61, axis=1)\n",
    "transects_with_bases['Temp °C_base'] = transects_with_bases.apply(lambda x: ((341-x['RMI'])*x['Temp °C_rcb']+(x['RMI']-280)*x['Temp °C_greenup'])/61, axis=1)\n",
    "transects_with_bases['Cond µS/cm_base'] = transects_with_bases.apply(lambda x: ((341-x['RMI'])*x['Cond µS/cm_rcb']+(x['RMI']-280)*x['Cond µS/cm_greenup'])/61, axis=1)\n",
    "transects_with_bases['Sal psu_base'] = transects_with_bases.apply(lambda x: ((341-x['RMI'])*x['Sal psu_rcb']+(x['RMI']-280)*x['Sal psu_greenup'])/61, axis=1)\n",
    "transects_with_bases['Turbidity NTU_base'] = transects_with_bases.apply(lambda x: ((341-x['RMI'])*x['Turbidity NTU_rcb']+(x['RMI']-280)*x['Turbidity NTU_greenup'])/61, axis=1)\n",
    "transects_with_bases['pH_base'] = transects_with_bases.apply(lambda x: ((341-x['RMI'])*x['pH_rcb']+(x['RMI']-280)*x['pH_greenup'])/61, axis=1)\n",
    "transects_with_bases['PAR_base'] = transects_with_bases.apply(lambda x: (x['PAR_rcb']+x['PAR_greenup'])/2, axis=1)\n",
    "transects_with_bases['Chlorophyll/BGA_base'] = transects_with_bases.apply(lambda x: ((341-x['RMI'])*x['Chlorophyll/BGA_rcb']+(x['RMI']-280)*x['Chlorophyll/BGA_greenup'])/61, axis=1)\n",
    "#transects_with_bases.columns"
   ]
  },
  {
   "cell_type": "markdown",
   "metadata": {},
   "source": [
    "#### Save transect data with bases"
   ]
  },
  {
   "cell_type": "code",
   "execution_count": 498,
   "metadata": {},
   "outputs": [],
   "source": [
    "transects_with_bases.to_csv(\"data/Greenup/out/transects_with_bases.csv\")"
   ]
  },
  {
   "cell_type": "markdown",
   "metadata": {
    "extensions": {
     "jupyter_dashboards": {
      "version": 1,
      "views": {
       "grid_default": {},
       "report_default": {
        "hidden": false
       }
      }
     }
    }
   },
   "source": [
    "### Correlation of transects with locks data\n",
    " * TODO:\n",
    "  * Menu option to show locks, base, or both\n",
    "  * Color buy property"
   ]
  },
  {
   "cell_type": "code",
   "execution_count": 499,
   "metadata": {
    "extensions": {
     "jupyter_dashboards": {
      "version": 1,
      "views": {
       "grid_default": {
        "hidden": true
       },
       "report_default": {
        "hidden": true
       }
      }
     }
    }
   },
   "outputs": [
    {
     "data": {
      "application/vnd.jupyter.widget-view+json": {
       "model_id": "42193c1cfe024142a3ef050fba19d272",
       "version_major": 2,
       "version_minor": 0
      },
      "text/plain": [
       "interactive(children=(Dropdown(description='Property', options=('ODO mg/L', 'Chlorophyll µg/L', 'BGA-PC µg/L',…"
      ]
     },
     "metadata": {},
     "output_type": "display_data"
    },
    {
     "data": {
      "text/plain": [
       "<function __main__.scatter_plot_all(Property='Chlorophyll RFU')>"
      ]
     },
     "execution_count": 499,
     "metadata": {},
     "output_type": "execute_result"
    }
   ],
   "source": [
    "def scatter_plot_all(Property='Chlorophyll RFU'):\n",
    "    fig, ax = plt.subplots()\n",
    "    #transects_with_bases.plot.scatter(ax=ax,x=Property,y=Property+'_rcb',color='blue')\n",
    "    #transects_with_bases.plot.scatter(ax=ax,x=Property,y=Property+'_greenup',color='green')\n",
    "    transects_with_bases.plot.scatter(ax=ax,x=Property,y=Property+'_base',color='red')\n",
    "    ax.set_title(\"Correlation of \"+Property+\" at Transects and Greenup (green) and RCB (blue) Locks, plus Base (red)\",fontsize=14)\n",
    "    ax.set_xlabel(Property+\" at Transects\")\n",
    "    ax.set_ylabel(Property+\" at Locks\")\n",
    "    \n",
    "interact(scatter_plot_all, \\\n",
    "         Property=locks_sonde_dataonly.drop(['Depth m'],axis=1).columns.tolist()+['PAR'] \\\n",
    "        )"
   ]
  },
  {
   "cell_type": "markdown",
   "metadata": {},
   "source": [
    "<div id='transect_3d_profiles'></div>"
   ]
  },
  {
   "cell_type": "markdown",
   "metadata": {},
   "source": [
    "### 3D Transect Profiles\n",
    " * Add 2-RMI \"jitter\" to help separate different date-time transects"
   ]
  },
  {
   "cell_type": "code",
   "execution_count": 500,
   "metadata": {
    "extensions": {
     "jupyter_dashboards": {
      "version": 1,
      "views": {
       "grid_default": {
        "col": 0,
        "height": 6,
        "hidden": false,
        "row": 72,
        "width": 4
       },
       "report_default": {
        "hidden": false
       }
      }
     }
    }
   },
   "outputs": [
    {
     "data": {
      "application/vnd.jupyter.widget-view+json": {
       "model_id": "1eb98260d00144d881204f94ceba78db",
       "version_major": 2,
       "version_minor": 0
      },
      "text/plain": [
       "interactive(children=(Dropdown(description='Property', options=('ODO mg/L', 'Chlorophyll µg/L', 'BGA-PC µg/L',…"
      ]
     },
     "metadata": {},
     "output_type": "display_data"
    },
    {
     "data": {
      "text/plain": [
       "<function __main__.plot_3d_transects(Property, Type='WRT Baseline', ColorMap='seismic', HAng=30, VAng=0)>"
      ]
     },
     "execution_count": 500,
     "metadata": {},
     "output_type": "execute_result"
    }
   ],
   "source": [
    "def plot_3d_transects(Property,Type='WRT Baseline',ColorMap='seismic',HAng=30,VAng=0):\n",
    "    fig = plt.figure(figsize=(5,4))\n",
    "    ax = plt.axes((0.0,0.0,5.0,1.0),projection='3d',title=Property+' '+Type)\n",
    "    z = -transects_with_bases['Depth m']\n",
    "    y = -transects_with_bases['RMI'].apply(lambda x: x+2.0*np.random.random())\n",
    "    x = transects_with_bases['H Pos']\n",
    "    if (Type == 'Absolute'):\n",
    "        c = transects_with_bases[Property]\n",
    "    elif(Type == 'WRT Baseline'):\n",
    "        c = (transects_with_bases[Property]-transects_with_bases[Property+'_base'])/transects_with_bases[Property+'_base']\n",
    "    elif(Type == 'Baseline only'):\n",
    "        c = transects_with_bases[Property+'_base']\n",
    "\n",
    "    scat = ax.scatter(x,y,z,c=c,cmap=ColorMap,s=25,marker='H')\n",
    "    fig.colorbar(scat)\n",
    "    ax.view_init(HAng,VAng)\n",
    "    \n",
    "interact(plot_3d_transects, \\\n",
    "         Property=transects_sonde_par.columns.drop(['Depth m','T Pos','H Pos','RMI']),\n",
    "         Type=['Absolute','WRT Baseline','Baseline only'],\n",
    "         ColorMap=['jet','viridis','magma','coolwarm','seismic','Greys','Reds','Blues'],\n",
    "         HAng=(0,90,5),VAng=(-5,5) \\\n",
    "        )"
   ]
  },
  {
   "cell_type": "markdown",
   "metadata": {},
   "source": [
    "<div id='orsanco_data'></div>"
   ]
  },
  {
   "cell_type": "markdown",
   "metadata": {},
   "source": [
    "## == ORSANCO Data =="
   ]
  },
  {
   "cell_type": "markdown",
   "metadata": {},
   "source": [
    "## Sediment Composition"
   ]
  },
  {
   "cell_type": "markdown",
   "metadata": {
    "extensions": {
     "jupyter_dashboards": {
      "version": 1,
      "views": {
       "grid_default": {},
       "report_default": {
        "hidden": false
       }
      }
     }
    }
   },
   "source": [
    "#### TODO: \n",
    " * Distribution plots, Correlation plots, Multiple Z plots on same graph\n",
    " * Do same for Fish populations, Macro invertebrates, Substrate types, Water quality\n",
    " * Cross correlations between any pair"
   ]
  },
  {
   "cell_type": "markdown",
   "metadata": {},
   "source": [
    "#### Get Sediment Composition Data (2011)"
   ]
  },
  {
   "cell_type": "code",
   "execution_count": 501,
   "metadata": {
    "extensions": {
     "jupyter_dashboards": {
      "version": 1,
      "views": {
       "grid_default": {
        "hidden": true
       },
       "report_default": {
        "hidden": true
       }
      }
     }
    }
   },
   "outputs": [],
   "source": [
    "locations = pd.read_csv('data/Greenup/ohio_river_sites.csv')"
   ]
  },
  {
   "cell_type": "code",
   "execution_count": 502,
   "metadata": {
    "extensions": {
     "jupyter_dashboards": {
      "version": 1,
      "views": {
       "grid_default": {},
       "report_default": {
        "hidden": true
       }
      }
     }
    }
   },
   "outputs": [],
   "source": [
    "sediment_data = pd.read_csv('data/Greenup/sediment_2011.csv',encoding='latin1')\n",
    "sediment_data.rename(columns={'Location':'Name'},inplace=True)\n",
    "sediment_data_with_lat_lon = pd.merge(sediment_data,locations,on='Name').fillna(0)\n",
    "#sediment_data_with_lat_lon.columns"
   ]
  },
  {
   "cell_type": "markdown",
   "metadata": {
    "extensions": {
     "jupyter_dashboards": {
      "version": 1,
      "views": {
       "grid_default": {},
       "report_default": {
        "hidden": false
       }
      }
     }
    }
   },
   "source": [
    "#### Plot Sediment Composition vs River Mile"
   ]
  },
  {
   "cell_type": "code",
   "execution_count": 503,
   "metadata": {
    "extensions": {
     "jupyter_dashboards": {
      "version": 1,
      "views": {
       "grid_default": {
        "col": 0,
        "height": 13,
        "hidden": false,
        "row": 30,
        "width": 4
       },
       "report_default": {
        "hidden": false
       }
      }
     }
    }
   },
   "outputs": [
    {
     "data": {
      "application/vnd.jupyter.widget-view+json": {
       "model_id": "09859beef9764a29b7d8b3f0097fadf4",
       "version_major": 2,
       "version_minor": 0
      },
      "text/plain": [
       "interactive(children=(Dropdown(description='Property', options=('Solids_DF', 'Moisture_DF', 'LOI_DF', 'NO3_mg_…"
      ]
     },
     "metadata": {},
     "output_type": "display_data"
    },
    {
     "data": {
      "text/plain": [
       "<function __main__.rmi_plot(Property)>"
      ]
     },
     "execution_count": 503,
     "metadata": {},
     "output_type": "execute_result"
    }
   ],
   "source": [
    "def rmi_plot(Property):\n",
    "    sediment_data.plot(x='RMI',y=Property)\n",
    "    \n",
    "interact(rmi_plot, \\\n",
    "         Property=sediment_data.columns[8::2] \\\n",
    "        )"
   ]
  },
  {
   "cell_type": "markdown",
   "metadata": {},
   "source": [
    "#### Generate a Heat Map using Folium plugin"
   ]
  },
  {
   "cell_type": "markdown",
   "metadata": {
    "extensions": {
     "jupyter_dashboards": {
      "version": 1,
      "views": {
       "grid_default": {
        "col": 0,
        "height": 13,
        "hidden": false,
        "row": 30,
        "width": 4
       },
       "report_default": {
        "hidden": false
       }
      }
     }
    }
   },
   "source": [
    "from IPython.display import IFrame\n",
    "m = folium.Map([38.6,-82.5],zoom_start=10,tiles=None)\n",
    "folium.TileLayer('OpenStreetMap').add_to(m)\n",
    "for prop in sediment_data.columns[9::2]:\n",
    "    sediment_data_with_lat_lon['Heat Value'] = sediment_data_with_lat_lon[prop].apply(lambda x: (x+3.0)/6.0)\n",
    "    m_data = sediment_data_with_lat_lon[['Latitude','Longitude','Heat Value']].values.tolist()\n",
    "    plugins.HeatMap(m_data,name=prop,radius=10,gradient={0.4:'lime', 0.5:'blue', 0.6:'red'},blur=5,show=False).add_to(m)\n",
    "folium.LayerControl().add_to(m)\n",
    "m.save('heatmap.html')\n",
    "#sediment_data_with_lat_lon[['Latitude','Longitude','Heat Value']].values.tolist()\n",
    "IFrame('heatmap.html',width=600,height=500)"
   ]
  }
 ],
 "metadata": {
  "extensions": {
   "jupyter_dashboards": {
    "activeView": "report_default",
    "version": 1,
    "views": {
     "grid_default": {
      "cellMargin": 10,
      "defaultCellHeight": 20,
      "maxColumns": 12,
      "name": "grid",
      "type": "grid"
     },
     "report_default": {
      "name": "report",
      "type": "report"
     }
    }
   }
  },
  "kernelspec": {
   "display_name": "Python 3",
   "language": "python",
   "name": "python3"
  },
  "language_info": {
   "codemirror_mode": {
    "name": "ipython",
    "version": 3
   },
   "file_extension": ".py",
   "mimetype": "text/x-python",
   "name": "python",
   "nbconvert_exporter": "python",
   "pygments_lexer": "ipython3",
   "version": "3.7.3"
  }
 },
 "nbformat": 4,
 "nbformat_minor": 2
}
