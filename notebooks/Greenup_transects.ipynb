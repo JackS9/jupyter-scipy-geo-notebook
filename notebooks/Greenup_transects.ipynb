{
 "cells": [
  {
   "cell_type": "markdown",
   "metadata": {
    "extensions": {
     "jupyter_dashboards": {
      "version": 1,
      "views": {
       "grid_default": {
        "col": 0,
        "height": 4,
        "hidden": false,
        "row": 0,
        "width": 4
       },
       "report_default": {
        "hidden": false
       }
      }
     }
    }
   },
   "source": [
    "# Analysis and display of water quality indicators along Greenup pool of Ohio River"
   ]
  },
  {
   "cell_type": "markdown",
   "metadata": {},
   "source": [
    "<h3>Quick index:</h3>\n",
    "<ul>\n",
    "    <li><a href=#map>Map</a></li>\n",
    "    <li><a href=#transect_plots>Transect Plots</a></li>\n",
    "    <li><a href=#locks_plots>Sonde and PAR data at RCBI and Greenup Locks - distribution and correlation plots</a></li>   \n",
    "    <li><a href=#locks_ts_plots>Interactive time-series plots at RCBI and Greenup Locks</a></li>   \n",
    "    <li><a href=#ironton_usgs_plots>USGS Gage time-series plots at Ironton</a></li>\n",
    "    <li><a href=#htg_precip_data>NOAA weather (precip) data at Huntington</a></li>\n",
    "    <li><a href=#resampled_ts_plots>Resampled time-series - combined</a></li>\n",
    "    <li><a href=#merged_data>Merged data (joined on resampled times) - correlation plots </a></li>\n",
    "    <li><a href=#transect_3d_profiles>Transect 3D Profiles</a></li>\n",
    "    <li><a href=#orsanco_data>ORSANCO Data</a></li>\n",
    "</ul>"
   ]
  },
  {
   "cell_type": "markdown",
   "metadata": {
    "extensions": {
     "jupyter_dashboards": {
      "version": 1,
      "views": {
       "grid_default": {
        "col": 0,
        "height": 13,
        "hidden": false,
        "row": 4,
        "width": 12
       },
       "report_default": {
        "hidden": false
       }
      }
     }
    }
   },
   "source": [
    "#### TODO:\n",
    "* 2D property profiles - RMIxDay\n",
    "* **WQP** data\n",
    "* WV DEP data (**TAGIS**)\n",
    "* Other SENSE/AFI data \n",
    "  * Sediment data from **Booner tubes** (Jones)\n",
    "  * **Chlorophyll** and **algal counts** from grab sample analyses\n",
    "* Plots in **marker popups**\n",
    "* Put all local data in a **database** and access from there\n",
    "* **ORSANCO** data (from Tom Jones):\n",
    " * More **sediment composition** plots:\n",
    "   * Add distribution plots, correlation plots, multiple-Z plots on same graph\n",
    " * Do same for **Fish populations, Macro invertebrates, Substrate types, Water quality**\n",
    " * Cross correlations between any pair"
   ]
  },
  {
   "cell_type": "markdown",
   "metadata": {},
   "source": [
    "## == Get things set up =="
   ]
  },
  {
   "cell_type": "markdown",
   "metadata": {
    "extensions": {
     "jupyter_dashboards": {
      "version": 1,
      "views": {
       "grid_default": {
        "col": 0,
        "height": 5,
        "hidden": false,
        "row": 17,
        "width": 12
       },
       "report_default": {
        "hidden": false
       }
      }
     }
    }
   },
   "source": [
    "### To install packages locally (e.g., folium, geopandas, fiona):\n",
    "```\n",
    "%%bash -l\n",
    "use -e -r anaconda3-5.1\n",
    "pip install folium --prefix=. --upgrade-strategy only-if-needed\n",
    "```"
   ]
  },
  {
   "cell_type": "markdown",
   "metadata": {
    "extensions": {
     "jupyter_dashboards": {
      "version": 1,
      "views": {
       "grid_default": {
        "hidden": true
       },
       "report_default": {
        "hidden": true
       }
      }
     }
    }
   },
   "source": [
    "#### To access them:\n",
    "```\n",
    "import os, sys\n",
    "sys.path.insert(0,'lib/python3.7/site-packages') # Add locally installed packages to path\n",
    "```"
   ]
  },
  {
   "cell_type": "markdown",
   "metadata": {},
   "source": [
    "### Create output directory if it does not already exist"
   ]
  },
  {
   "cell_type": "code",
   "execution_count": 1,
   "metadata": {},
   "outputs": [],
   "source": [
    "!mkdir -p data/Greenup/out"
   ]
  },
  {
   "cell_type": "markdown",
   "metadata": {},
   "source": [
    "### Use full width of browser window"
   ]
  },
  {
   "cell_type": "code",
   "execution_count": 2,
   "metadata": {},
   "outputs": [
    {
     "data": {
      "text/html": [
       "<style>.container { width:100% !important; }</style>"
      ],
      "text/plain": [
       "<IPython.core.display.HTML object>"
      ]
     },
     "metadata": {},
     "output_type": "display_data"
    }
   ],
   "source": [
    "from IPython.core.display import display, HTML\n",
    "display(HTML(\"<style>.container { width:100% !important; }</style>\"))"
   ]
  },
  {
   "cell_type": "markdown",
   "metadata": {
    "extensions": {
     "jupyter_dashboards": {
      "version": 1,
      "views": {
       "grid_default": {
        "col": 4,
        "height": 4,
        "hidden": false,
        "row": 0,
        "width": 4
       },
       "report_default": {
        "hidden": false
       }
      }
     }
    }
   },
   "source": [
    "### Enable R-style DataFrames with Pandas, numerical arrays and matrices with NumPy"
   ]
  },
  {
   "cell_type": "code",
   "execution_count": 3,
   "metadata": {
    "extensions": {
     "jupyter_dashboards": {
      "version": 1,
      "views": {
       "grid_default": {
        "hidden": true
       },
       "report_default": {
        "hidden": true
       }
      }
     }
    }
   },
   "outputs": [],
   "source": [
    "import pandas as pd\n",
    "import numpy as np"
   ]
  },
  {
   "cell_type": "markdown",
   "metadata": {
    "extensions": {
     "jupyter_dashboards": {
      "version": 1,
      "views": {
       "grid_default": {
        "col": 4,
        "height": 4,
        "hidden": false,
        "row": 0,
        "width": 4
       },
       "report_default": {
        "hidden": false
       }
      }
     }
    }
   },
   "source": [
    "### Enable Math functions"
   ]
  },
  {
   "cell_type": "code",
   "execution_count": 4,
   "metadata": {
    "extensions": {
     "jupyter_dashboards": {
      "version": 1,
      "views": {
       "grid_default": {
        "hidden": true
       },
       "report_default": {
        "hidden": true
       }
      }
     }
    }
   },
   "outputs": [],
   "source": [
    "import math"
   ]
  },
  {
   "cell_type": "markdown",
   "metadata": {
    "extensions": {
     "jupyter_dashboards": {
      "version": 1,
      "views": {
       "grid_default": {
        "col": 4,
        "height": 4,
        "hidden": false,
        "row": 0,
        "width": 4
       },
       "report_default": {
        "hidden": false
       }
      }
     }
    }
   },
   "source": [
    "### Enable working with Dates and Times"
   ]
  },
  {
   "cell_type": "code",
   "execution_count": 5,
   "metadata": {
    "extensions": {
     "jupyter_dashboards": {
      "version": 1,
      "views": {
       "grid_default": {
        "hidden": true
       },
       "report_default": {
        "hidden": true
       }
      }
     }
    }
   },
   "outputs": [],
   "source": [
    "import time"
   ]
  },
  {
   "cell_type": "markdown",
   "metadata": {
    "extensions": {
     "jupyter_dashboards": {
      "version": 1,
      "views": {
       "grid_default": {
        "col": 4,
        "height": 4,
        "hidden": false,
        "row": 0,
        "width": 4
       },
       "report_default": {
        "hidden": false
       }
      }
     }
    }
   },
   "source": [
    "### Enable Pandas scatter plot matrices"
   ]
  },
  {
   "cell_type": "code",
   "execution_count": 6,
   "metadata": {
    "extensions": {
     "jupyter_dashboards": {
      "version": 1,
      "views": {
       "grid_default": {
        "hidden": true
       },
       "report_default": {
        "hidden": true
       }
      }
     }
    }
   },
   "outputs": [],
   "source": [
    "from pandas.plotting import scatter_matrix"
   ]
  },
  {
   "cell_type": "markdown",
   "metadata": {
    "extensions": {
     "jupyter_dashboards": {
      "version": 1,
      "views": {
       "grid_default": {
        "col": 4,
        "height": 4,
        "hidden": false,
        "row": 0,
        "width": 4
       },
       "report_default": {
        "hidden": false
       }
      }
     }
    }
   },
   "source": [
    "### Enable inline MATLAB-style plotting with MatPlotLib"
   ]
  },
  {
   "cell_type": "code",
   "execution_count": 7,
   "metadata": {
    "extensions": {
     "jupyter_dashboards": {
      "version": 1,
      "views": {
       "grid_default": {
        "hidden": true
       },
       "report_default": {
        "hidden": true
       }
      }
     }
    }
   },
   "outputs": [],
   "source": [
    "import matplotlib.pyplot as plt\n",
    "%matplotlib inline"
   ]
  },
  {
   "cell_type": "markdown",
   "metadata": {
    "extensions": {
     "jupyter_dashboards": {
      "version": 1,
      "views": {
       "grid_default": {},
       "report_default": {
        "hidden": false
       }
      }
     }
    }
   },
   "source": [
    "### Enable 3D plotting in MatPlotLib using MPlot3D toolkit"
   ]
  },
  {
   "cell_type": "code",
   "execution_count": 8,
   "metadata": {
    "extensions": {
     "jupyter_dashboards": {
      "version": 1,
      "views": {
       "grid_default": {
        "hidden": true
       },
       "report_default": {
        "hidden": true
       }
      }
     }
    }
   },
   "outputs": [],
   "source": [
    "from mpl_toolkits.mplot3d import Axes3D"
   ]
  },
  {
   "cell_type": "markdown",
   "metadata": {
    "extensions": {
     "jupyter_dashboards": {
      "version": 1,
      "views": {
       "grid_default": {},
       "report_default": {
        "hidden": false
       }
      }
     }
    }
   },
   "source": [
    "### Enable interactive plots using iPyWidgets"
   ]
  },
  {
   "cell_type": "code",
   "execution_count": 9,
   "metadata": {
    "extensions": {
     "jupyter_dashboards": {
      "version": 1,
      "views": {
       "grid_default": {
        "hidden": true
       },
       "report_default": {
        "hidden": true
       }
      }
     }
    }
   },
   "outputs": [],
   "source": [
    "import ipywidgets as widgets\n",
    "from ipywidgets import interact, interactive, fixed, interact_manual"
   ]
  },
  {
   "cell_type": "markdown",
   "metadata": {
    "extensions": {
     "jupyter_dashboards": {
      "version": 1,
      "views": {
       "grid_default": {},
       "report_default": {
        "hidden": false
       }
      }
     }
    }
   },
   "source": [
    "### Enable geospatial DataFrames with GeoPandas (built on Fiona, which is built on GDAL/OGR)"
   ]
  },
  {
   "cell_type": "code",
   "execution_count": 10,
   "metadata": {
    "extensions": {
     "jupyter_dashboards": {
      "version": 1,
      "views": {
       "grid_default": {
        "hidden": true
       },
       "report_default": {
        "hidden": true
       }
      }
     }
    }
   },
   "outputs": [],
   "source": [
    "import geopandas as gpd"
   ]
  },
  {
   "cell_type": "markdown",
   "metadata": {},
   "source": [
    "### Enable other geospatial functions using Shapely"
   ]
  },
  {
   "cell_type": "code",
   "execution_count": 11,
   "metadata": {},
   "outputs": [],
   "source": [
    "import shapely\n",
    "from shapely.geometry import Point"
   ]
  },
  {
   "cell_type": "markdown",
   "metadata": {
    "extensions": {
     "jupyter_dashboards": {
      "version": 1,
      "views": {
       "grid_default": {},
       "report_default": {
        "hidden": false
       }
      }
     }
    }
   },
   "source": [
    "### Enable Leatlet.JS-based mapping with Folium "
   ]
  },
  {
   "cell_type": "code",
   "execution_count": 12,
   "metadata": {
    "extensions": {
     "jupyter_dashboards": {
      "version": 1,
      "views": {
       "grid_default": {
        "hidden": true
       },
       "report_default": {
        "hidden": true
       }
      }
     }
    }
   },
   "outputs": [],
   "source": [
    "import folium\n",
    "from folium import IFrame\n",
    "import folium.plugins as plugins"
   ]
  },
  {
   "cell_type": "markdown",
   "metadata": {
    "extensions": {
     "jupyter_dashboards": {
      "version": 1,
      "views": {
       "grid_default": {},
       "report_default": {
        "hidden": false
       }
      }
     }
    }
   },
   "source": [
    "### Enable additional HTML features with Branca"
   ]
  },
  {
   "cell_type": "code",
   "execution_count": 13,
   "metadata": {
    "extensions": {
     "jupyter_dashboards": {
      "version": 1,
      "views": {
       "grid_default": {
        "hidden": true
       },
       "report_default": {
        "hidden": true
       }
      }
     }
    }
   },
   "outputs": [],
   "source": [
    "import branca"
   ]
  },
  {
   "cell_type": "markdown",
   "metadata": {},
   "source": [
    "### Enable HTTP requests and parsing of JSON results"
   ]
  },
  {
   "cell_type": "code",
   "execution_count": null,
   "metadata": {},
   "outputs": [],
   "source": [
    "import requests\n",
    "import json"
   ]
  },
  {
   "cell_type": "markdown",
   "metadata": {
    "extensions": {
     "jupyter_dashboards": {
      "version": 1,
      "views": {
       "grid_default": {},
       "report_default": {
        "hidden": false
       }
      }
     }
    }
   },
   "source": [
    "# == Sampling Sites =="
   ]
  },
  {
   "cell_type": "markdown",
   "metadata": {
    "extensions": {
     "jupyter_dashboards": {
      "version": 1,
      "views": {
       "grid_default": {},
       "report_default": {
        "hidden": false
       }
      }
     }
    }
   },
   "source": [
    "### Get all sampling sites along Greenup Pool of Ohio River\n",
    "#### TODO:\n",
    " * Add CSO positions"
   ]
  },
  {
   "cell_type": "code",
   "execution_count": 14,
   "metadata": {
    "extensions": {
     "jupyter_dashboards": {
      "version": 1,
      "views": {
       "grid_default": {
        "hidden": true
       },
       "report_default": {
        "hidden": true
       }
      }
     }
    }
   },
   "outputs": [],
   "source": [
    "ohio_river_sites = pd.read_csv('data/Greenup/ohio_river_sites.csv')\n",
    "site_geometries = gpd.GeoSeries(ohio_river_sites.apply(lambda z: Point(z['Longitude'],z['Latitude']),1),crs={'init':'epsg:4326'})\n",
    "ohio_river_sites = gpd.GeoDataFrame(ohio_river_sites.drop(['Latitude','Longitude'],1),geometry=site_geometries)\n",
    "#ohio_river_sites"
   ]
  },
  {
   "cell_type": "markdown",
   "metadata": {
    "extensions": {
     "jupyter_dashboards": {
      "version": 1,
      "views": {
       "grid_default": {
        "col": 0,
        "height": 4,
        "hidden": false,
        "row": 43,
        "width": 4
       },
       "report_default": {
        "hidden": false
       }
      }
     }
    }
   },
   "source": [
    "### Generate map of all sampling sites"
   ]
  },
  {
   "cell_type": "markdown",
   "metadata": {},
   "source": [
    "#### TODO: \n",
    " * Look into **branca.element.IFrame** to preprocess HTML into IFrame -- construct a graph!\n",
    " * User Folium **MarkerCluster** and **FeatureGroup** to reduce number of markers (on Zoom out) and turn on/off different marker layers\n",
    " * Look at folium.plugins **HeatMap** and **HeatMapWithTime** -- only good for density, not property values!"
   ]
  },
  {
   "cell_type": "code",
   "execution_count": 17,
   "metadata": {
    "extensions": {
     "jupyter_dashboards": {
      "version": 1,
      "views": {
       "grid_default": {},
       "report_default": {
        "hidden": false
       }
      }
     }
    }
   },
   "outputs": [
    {
     "data": {
      "text/plain": [
       "<folium.raster_layers.TileLayer at 0x7fd9a266e6a0>"
      ]
     },
     "execution_count": 17,
     "metadata": {},
     "output_type": "execute_result"
    }
   ],
   "source": [
    "ohio_map = folium.Map([38.6, -82.5],zoom_start=10,tiles=None)\n",
    "\n",
    "for i, row in ohio_river_sites.iterrows():\n",
    "    coord = [row.geometry.y,row.geometry.x]\n",
    "    label = row.Type+' @ '+row.Name\n",
    "    marker_type = 'pin'\n",
    "    radius = 3\n",
    "    color = 'red'\n",
    "    # Available colors: red, darkred, lightred, pink, green, darkgreen, lightgreen, blue, darkblue, lightblue, cadetblue, purple, darkpurple, orange, beige, black, gray, lightgray\n",
    "    icon = 'dashboard'\n",
    "    html = label\n",
    "    width = 500\n",
    "    height = 90\n",
    "    max_width = 1000\n",
    "    nav_params = '?distance=100'\n",
    "    if (row.Type == 'Transect'):\n",
    "        color = 'red'\n",
    "        html += '<br>'+row.Description\n",
    "    elif (row.Type == 'USGS Gage'):\n",
    "        marker_type = 'circle'\n",
    "        radius = 5\n",
    "        color = 'green'\n",
    "        fill = True\n",
    "        fill_color = color\n",
    "        html += '<br><a href=\\\"https://waterdata.usgs.gov/monitoring-location/0{0:.0f}'.format(row['USGS Code'])+'\\\",target=\\\"_blank\\\">Site info for USGS Gage: 0{0:.0f}'.format(row['USGS Code'])+'</a>'\n",
    "        html += '<br><a href=\\\"https://waterdata.usgs.gov/nwis/uv?site_no=0{0:.0f}'.format(row['USGS Code'])+'\\\",target=\\\"_blank\\\">Data for USGS Gage: 0{0:.0f}'.format(row['USGS Code'])+'</a>'\n",
    "        width = 1000\n",
    "        height = 500\n",
    "        if (row.Name == 'Huntington'):\n",
    "            nwis_site_json = gpd.read_file(\"https://cida.usgs.gov/nldi/nwissite/USGS-0{0:.0f}\".format(row['USGS Code']))\n",
    "            comid = nwis_site_json.comid[0]\n",
    "            comid_url = \"https://cida.usgs.gov/nldi/comid/\"+comid\n",
    "            #folium.GeoJson(nwis_site_json,name=\"NLDI USGS Gage\",show=False).add_to(ohio_map)\n",
    "            folium.GeoJson(comid_url+\"/basin\",name=\"Drainage Basin for USGS-0{0:.0f}\".format(row['USGS Code']),show=False).add_to(ohio_map)\n",
    "            folium.GeoJson(comid_url+\"/navigate/UM\",name=\"Upstream Main\",show=False).add_to(ohio_map)\n",
    "            folium.GeoJson(comid_url+\"/navigate/UT\"+nav_params,name=\"Tributaries Upstream\",show=False).add_to(ohio_map)\n",
    "            folium.GeoJson(comid_url+\"/navigate/UM/nwissite\"+nav_params,name=\"NWIS Sites Upstream Main\",show=False).add_to(ohio_map)\n",
    "            folium.GeoJson(comid_url+\"/navigate/UM/huc12pp\"+nav_params,name=\"HUC12 Pour Points Upstream Main\",show=False).add_to(ohio_map)\n",
    "            folium.GeoJson(comid_url+\"/navigate/UM/wqp\"+nav_params,name=\"WQP Stations Upstream Main\",show=False).add_to(ohio_map)\n",
    "            folium.GeoJson(comid_url+\"/navigate/DM\",name=\"Downstream Main\",show=False).add_to(ohio_map)\n",
    "            folium.GeoJson(comid_url+\"/navigate/DD\"+nav_params,name=\"Downstream Diversions\",show=False).add_to(ohio_map)\n",
    "            folium.GeoJson(comid_url+\"/navigate/DM/nwissite\"+nav_params,name=\"NWIS Sites Downstream Main\",show=False).add_to(ohio_map)\n",
    "            folium.GeoJson(comid_url+\"/navigate/DM/huc12pp\"+nav_params,name=\"HUC12 Pour Points Downstream Main\",show=False).add_to(ohio_map)\n",
    "            folium.GeoJson(comid_url+\"/navigate/DM/wqp\"+nav_params,name=\"WQP Stations Downstream Main\",show=False).add_to(ohio_map)\n",
    "        if (row.Name == 'Greenup'):\n",
    "            nwis_site_url = \"https://cida.usgs.gov/nldi/nwissite/USGS-0{0:.0f}\".format(row['USGS Code'])\n",
    "            nwis_site_json = gpd.read_file(nwis_site_url)\n",
    "            folium.GeoJson(nwis_site_url+\"/basin\",name=\"Drainage Basin for USGS-0{0:.0f}\".format(row['USGS Code']),show=False).add_to(ohio_map)\n",
    "            folium.GeoJson(nwis_site_url+\"/navigate/UT/huc12pp\"+nav_params,name=\"HUC12 Pour Points Upstream Tributaries\",show=False).add_to(ohio_map)\n",
    "            folium.GeoJson(nwis_site_url+\"/navigate/UT/wqp\"+nav_params,name=\"WQP Stations Upstream Tributaries\",show=False).add_to(ohio_map)\n",
    "    elif (row.Type == 'Locks and Dam'):\n",
    "        marker_type = 'circle'\n",
    "        radius = 5\n",
    "        color = 'red'\n",
    "        fill = True\n",
    "        fill_color = color\n",
    "        html += '<br><a href=\\\"https://www.lrh.usace.army.mil/Missions/Civil-Works/Locks-and-Dams/{0:s}'.format(row['USACE Code'])+'\\\",target=\\\"_blank\\\">Data for Locks and Dams at {0:s}'.format(row['Name'])+'</a>'\n",
    "    elif (row.Type == 'ORSANCO'):\n",
    "        marker_type = 'circle'\n",
    "        radius = 5\n",
    "        color = 'orange'\n",
    "        fill = True\n",
    "        fill_color = color\n",
    "    elif (row.Type == 'Sampling'):\n",
    "        marker_type = 'circle'\n",
    "        radius = 3\n",
    "        color = 'blue'\n",
    "        fill = True\n",
    "        fill_color = color\n",
    "    else:\n",
    "        continue\n",
    "    html += '<br>Lat: {0:.2f}'.format(row.geometry.y)+', Lon: {0:.2f}'.format(row.geometry.x)\n",
    "    html += '<br>RMI: {0:.1f}'.format(row.RMI)\n",
    "    iframe = folium.IFrame(html,width=width,height=height)\n",
    "    popup = folium.Popup(iframe,max_width=max_width)\n",
    "    if (marker_type == 'pin'):\n",
    "        folium.Marker(location=coord,icon=folium.Icon(color=color,icon=icon),popup=popup,tooltip=label).add_to(ohio_map)\n",
    "    elif (marker_type == 'circle'):\n",
    "        folium.CircleMarker(location=coord,radius=radius,color=color,popup=popup,tooltip=label).add_to(ohio_map)\n",
    "    else:\n",
    "        continue\n",
    "\n",
    "folium.TileLayer('OpenStreetMap').add_to(ohio_map)\n",
    "folium.TileLayer('StamenTerrain').add_to(ohio_map)"
   ]
  },
  {
   "cell_type": "markdown",
   "metadata": {
    "extensions": {
     "jupyter_dashboards": {
      "version": 1,
      "views": {
       "grid_default": {},
       "report_default": {
        "hidden": false
       }
      }
     }
    }
   },
   "source": [
    "#### Add other basemap options using Map Servers at  ArcGIS Online"
   ]
  },
  {
   "cell_type": "code",
   "execution_count": 18,
   "metadata": {
    "extensions": {
     "jupyter_dashboards": {
      "version": 1,
      "views": {
       "grid_default": {},
       "report_default": {
        "hidden": true
       }
      }
     }
    }
   },
   "outputs": [],
   "source": [
    "mapserver_query = '/MapServer/tile/{z}/{y}/{x}'\n",
    "ESRI = dict(NatGeo_World_Map='http://services.arcgisonline.com/arcgis/rest/services/NatGeo_World_Map/MapServer',\n",
    "            World_Imagery='http://services.arcgisonline.com/arcgis/rest/services/World_Imagery/MapServer',\n",
    "            World_Shaded_Relief='http://services.arcgisonline.com/arcgis/rest/services/World_Shaded_Relief/MapServer',\n",
    "            World_Street_Map='http://services.arcgisonline.com/arcgis/rest/services/World_Street_Map/MapServer',\n",
    "            World_Topo_Map='http://services.arcgisonline.com/arcgis/rest/services/World_Topo_Map/MapServer',\n",
    "            World_Hydro_Reference='http://hydrology.esri.com/arcgis/rest/services/WorldHydroReferenceOverlay/MapServer')\n",
    "\n",
    "for tile_name, tile_url in ESRI.items():\n",
    "    tile_url += mapserver_query\n",
    "    folium.TileLayer(tile_url,name=tile_name,attr=tile_name).add_to(ohio_map)"
   ]
  },
  {
   "cell_type": "markdown",
   "metadata": {},
   "source": [
    "#### Add HUC boundaries \n",
    " * First example converts a HUC10 .shp file to GeoJSON\n",
    " * Second example streams GeoJSON from the USGS National Map (NHDPlus) HUC12 Web Service using bounding box (envelope)"
   ]
  },
  {
   "cell_type": "code",
   "execution_count": 19,
   "metadata": {},
   "outputs": [
    {
     "data": {
      "text/plain": [
       "<folium.features.GeoJson at 0x7fd9a267f908>"
      ]
     },
     "execution_count": 19,
     "metadata": {},
     "output_type": "execute_result"
    }
   ],
   "source": [
    "#wbdhu10 = gpd.read_file(\"data/Greenup/WBDHU10.shp\").to_crs(epsg='4326').to_json()\n",
    "#folium.GeoJson(wbdhu10,name=\"WBD HUC10\",show=False).add_to(ohio_map)\n",
    "folium.GeoJson(\"https://hydro.nationalmap.gov/arcgis/rest/services/NHDPlus_HR/MapServer/11/query?where=&text=&objectIds=&time=&geometry=-83%2C38.4%2C-82%2C38.7&geometryType=esriGeometryEnvelope&inSR=&spatialRel=esriSpatialRelIntersects&relationParam=&outFields=&returnGeometry=true&returnTrueCurves=false&maxAllowableOffset=&geometryPrecision=&outSR=&having=&returnIdsOnly=false&returnCountOnly=false&orderByFields=&groupByFieldsForStatistics=&outStatistics=&returnZ=false&returnM=false&gdbVersion=&historicMoment=&returnDistinctValues=false&resultOffset=&resultRecordCount=&queryByDistance=&returnExtentOnly=false&datumTransformation=&parameterValues=&rangeValues=&quantizationParameters=&f=geojson\",show=False,name='HUC12 Boundararies').add_to(ohio_map)"
   ]
  },
  {
   "cell_type": "markdown",
   "metadata": {},
   "source": [
    "#### Add Streams \n",
    " * Why do only certain segments appear?"
   ]
  },
  {
   "cell_type": "code",
   "execution_count": 20,
   "metadata": {},
   "outputs": [],
   "source": [
    "\n",
    "#folium.GeoJson(\"https://hydro.nationalmap.gov/arcgis/rest/services/NHDPlus_HR/MapServer/2/query?where=FTYPE%3D460&text=&objectIds=&time=&geometry=-83%2C38.4%2C-82%2C38.7&geometryType=esriGeometryEnvelope&inSR=&spatialRel=esriSpatialRelIntersects&relationParam=&outFields=&returnGeometry=true&returnTrueCurves=false&maxAllowableOffset=&geometryPrecision=&outSR=&having=&returnIdsOnly=false&returnCountOnly=false&orderByFields=&groupByFieldsForStatistics=&outStatistics=&returnZ=false&returnM=false&gdbVersion=&historicMoment=&returnDistinctValues=false&resultOffset=&resultRecordCount=&queryByDistance=&returnExtentOnly=false&datumTransformation=&parameterValues=&rangeValues=&quantizationParameters=&f=geojson\",show=False,name='Streams').add_to(ohio_map)"
   ]
  },
  {
   "cell_type": "markdown",
   "metadata": {},
   "source": [
    "#### Add raster (image) overlayers\n",
    " * DEM: USGS National Elevation Dataset (NED)\n",
    " \n",
    "#### TODO:\n",
    " * More DEM (NED) tiles\n",
    " * Land Cover / Use\n",
    " * Soil Type\n",
    " * Satellite (MODUS)"
   ]
  },
  {
   "cell_type": "code",
   "execution_count": 21,
   "metadata": {},
   "outputs": [
    {
     "data": {
      "text/plain": [
       "<folium.raster_layers.ImageOverlay at 0x7fd99f3f5208>"
      ]
     },
     "execution_count": 21,
     "metadata": {},
     "output_type": "execute_result"
    }
   ],
   "source": [
    "folium.raster_layers.ImageOverlay(\"data/Greenup/ned19_n38x50_w082x50_wv_statewide_2003_thumb.jpg\",bounds=[[38.25,-82.50],[38.5,-82.25]],opacity=0.5,name=\"NED\",show=False).add_to(ohio_map)"
   ]
  },
  {
   "cell_type": "markdown",
   "metadata": {
    "extensions": {
     "jupyter_dashboards": {
      "version": 1,
      "views": {
       "grid_default": {},
       "report_default": {
        "hidden": false
       }
      }
     }
    }
   },
   "source": [
    "#### Add the Layer Control widget"
   ]
  },
  {
   "cell_type": "code",
   "execution_count": 22,
   "metadata": {
    "extensions": {
     "jupyter_dashboards": {
      "version": 1,
      "views": {
       "grid_default": {},
       "report_default": {
        "hidden": false
       }
      }
     }
    }
   },
   "outputs": [
    {
     "data": {
      "text/plain": [
       "<folium.map.LayerControl at 0x7fd99f3f5160>"
      ]
     },
     "execution_count": 22,
     "metadata": {},
     "output_type": "execute_result"
    }
   ],
   "source": [
    "folium.LayerControl().add_to(ohio_map)"
   ]
  },
  {
   "cell_type": "markdown",
   "metadata": {
    "extensions": {
     "jupyter_dashboards": {
      "version": 1,
      "views": {
       "grid_default": {},
       "report_default": {
        "hidden": false
       }
      }
     }
    }
   },
   "source": [
    "#### Save the map as HTML and display it\n",
    " * Suppress before publishing as read-only Tool\n",
    "\n",
    "<div id='map' />"
   ]
  },
  {
   "cell_type": "markdown",
   "metadata": {
    "extensions": {
     "jupyter_dashboards": {
      "version": 1,
      "views": {
       "grid_default": {},
       "report_default": {
        "hidden": false
       }
      }
     }
    }
   },
   "source": [
    "## Map"
   ]
  },
  {
   "cell_type": "code",
   "execution_count": 23,
   "metadata": {
    "extensions": {
     "jupyter_dashboards": {
      "version": 1,
      "views": {
       "grid_default": {},
       "report_default": {
        "hidden": true
       }
      }
     }
    }
   },
   "outputs": [],
   "source": [
    "ohio_map.save('data/Greenup/out/ohio_map.html')"
   ]
  },
  {
   "cell_type": "code",
   "execution_count": 24,
   "metadata": {
    "extensions": {
     "jupyter_dashboards": {
      "version": 1,
      "views": {
       "grid_default": {
        "col": 0,
        "height": 21,
        "hidden": false,
        "row": 51,
        "width": 10
       },
       "report_default": {
        "hidden": false
       }
      }
     }
    }
   },
   "outputs": [
    {
     "data": {
      "text/html": [
       "\n",
       "        <iframe\n",
       "            width=\"1000\"\n",
       "            height=\"500\"\n",
       "            src=\"data/Greenup/out/ohio_map.html\"\n",
       "            frameborder=\"0\"\n",
       "            allowfullscreen\n",
       "        ></iframe>\n",
       "        "
      ],
      "text/plain": [
       "<IPython.lib.display.IFrame at 0x7fd9a139d0b8>"
      ]
     },
     "execution_count": 24,
     "metadata": {},
     "output_type": "execute_result"
    }
   ],
   "source": [
    "from IPython.display import IFrame\n",
    "IFrame(\"data/Greenup/out/ohio_map.html\", width=1000, height=500)"
   ]
  },
  {
   "cell_type": "markdown",
   "metadata": {},
   "source": [
    "### Defined constants (property limits)"
   ]
  },
  {
   "cell_type": "code",
   "execution_count": 132,
   "metadata": {},
   "outputs": [],
   "source": [
    "TURB_MIN = 0.0\n",
    "TURB_MAX = 400.0\n",
    "CHLOR_MIN = 0.0\n",
    "CHLOR_MAX = 12.0\n",
    "BGA_MIN = 0.05\n",
    "BGA_MAX = 1.2\n",
    "SPCOND_MIN = 100.0\n",
    "SPCOND_MAX = 500.0\n",
    "DO_MIN = 5.0\n",
    "DO_MAX = 15.0\n",
    "PAR_MIN = 0.0\n",
    "PAR_MAX = 2000.0\n",
    "NITR_MIN = 0.5\n",
    "NITR_MAX = 1.5\n",
    "GAGE_HGT0 = 31.0\n",
    "FT_PER_M = 3.28"
   ]
  },
  {
   "cell_type": "markdown",
   "metadata": {},
   "source": [
    "## == Transects =="
   ]
  },
  {
   "cell_type": "markdown",
   "metadata": {
    "extensions": {
     "jupyter_dashboards": {
      "version": 1,
      "views": {
       "grid_default": {
        "col": 8,
        "height": 4,
        "hidden": false,
        "row": 0,
        "width": 4
       },
       "report_default": {
        "hidden": false
       }
      }
     }
    }
   },
   "source": [
    "### Read in CSV-formatted table of geo-tagged and time-stamped sensor data from the transects into a DataFrame"
   ]
  },
  {
   "cell_type": "markdown",
   "metadata": {
    "extensions": {
     "jupyter_dashboards": {
      "version": 1,
      "views": {
       "grid_default": {},
       "report_default": {
        "hidden": false
       }
      }
     }
    }
   },
   "source": [
    "#### Get Sonde data"
   ]
  },
  {
   "cell_type": "code",
   "execution_count": 26,
   "metadata": {
    "extensions": {
     "jupyter_dashboards": {
      "version": 1,
      "views": {
       "grid_default": {
        "hidden": true
       },
       "report_default": {
        "hidden": true
       }
      }
     }
    }
   },
   "outputs": [],
   "source": [
    "transects_sonde = pd.read_csv('data/Greenup/transects_sonde_3.csv')"
   ]
  },
  {
   "cell_type": "markdown",
   "metadata": {
    "extensions": {
     "jupyter_dashboards": {
      "version": 1,
      "views": {
       "grid_default": {},
       "report_default": {
        "hidden": false
       }
      }
     }
    }
   },
   "source": [
    "#### Get PAR data"
   ]
  },
  {
   "cell_type": "code",
   "execution_count": 27,
   "metadata": {
    "extensions": {
     "jupyter_dashboards": {
      "version": 1,
      "views": {
       "grid_default": {},
       "report_default": {
        "hidden": true
       }
      }
     }
    }
   },
   "outputs": [],
   "source": [
    "transects_par = pd.read_csv('data/Greenup/transects_par_3.csv')"
   ]
  },
  {
   "cell_type": "markdown",
   "metadata": {
    "extensions": {
     "jupyter_dashboards": {
      "version": 1,
      "views": {
       "grid_default": {
        "col": 0,
        "height": 4,
        "hidden": false,
        "row": 22,
        "width": 4
       },
       "report_default": {
        "hidden": false
       }
      }
     }
    }
   },
   "source": [
    "#### Parse out Horizontal and Vertical position codes along transect"
   ]
  },
  {
   "cell_type": "code",
   "execution_count": 28,
   "metadata": {
    "extensions": {
     "jupyter_dashboards": {
      "version": 1,
      "views": {
       "grid_default": {
        "hidden": true
       },
       "report_default": {
        "hidden": true
       }
      }
     }
    }
   },
   "outputs": [],
   "source": [
    "transects_sonde['H Code'] = transects_sonde['Site Name'].apply(lambda x: x[0])\n",
    "transects_sonde['V Code'] = transects_sonde['Site Name'].apply(lambda x: x[1:])"
   ]
  },
  {
   "cell_type": "code",
   "execution_count": 29,
   "metadata": {
    "extensions": {
     "jupyter_dashboards": {
      "version": 1,
      "views": {
       "grid_default": {
        "hidden": true
       },
       "report_default": {
        "hidden": true
       }
      }
     }
    }
   },
   "outputs": [],
   "source": [
    "transects_par['H Code'] = transects_par['SITE'].apply(lambda x: x[0])\n",
    "transects_par['V Code'] = transects_par['SITE'].apply(lambda x: x[1:])"
   ]
  },
  {
   "cell_type": "markdown",
   "metadata": {
    "extensions": {
     "jupyter_dashboards": {
      "version": 1,
      "views": {
       "grid_default": {
        "col": 4,
        "height": 4,
        "hidden": false,
        "row": 22,
        "width": 4
       },
       "report_default": {
        "hidden": false
       }
      }
     }
    }
   },
   "source": [
    "#### Create Data-Time field from Date and Time fields\n",
    " * Round to Noon to match with resampled timeseries data below"
   ]
  },
  {
   "cell_type": "code",
   "execution_count": 30,
   "metadata": {
    "extensions": {
     "jupyter_dashboards": {
      "version": 1,
      "views": {
       "grid_default": {
        "hidden": true
       },
       "report_default": {
        "hidden": true
       }
      }
     }
    }
   },
   "outputs": [],
   "source": [
    "def datetime_sonde(row):\n",
    "    pattern = '%m/%d/%y-%H:%M:%S'\n",
    "    dt = row['Date (MM/DD/YYYY)']+'-'+row['Time (HH:MM:SS)']\n",
    "    return pd.to_datetime(time.mktime(time.strptime(dt,pattern)),unit='s')\n",
    "    \n",
    "transects_sonde['Date-Time'] = transects_sonde.apply(lambda row: datetime_sonde(row).replace(hour=12,minute=0,second=0,microsecond=0,nanosecond=0),axis=1)"
   ]
  },
  {
   "cell_type": "code",
   "execution_count": 31,
   "metadata": {
    "extensions": {
     "jupyter_dashboards": {
      "version": 1,
      "views": {
       "grid_default": {
        "hidden": true
       },
       "report_default": {
        "hidden": true
       }
      }
     }
    }
   },
   "outputs": [],
   "source": [
    "def datetime_par(row):\n",
    "    pattern = '%m/%d/%y-%I:%M:%S %p'\n",
    "    dt = row['Date']+'-'+row['Time']\n",
    "    return pd.to_datetime(time.mktime(time.strptime(dt,pattern)),unit='s')\n",
    "    \n",
    "transects_par['Date-Time_par'] = transects_par.apply(lambda row: datetime_par(row).replace(hour=12,minute=0,second=0,microsecond=0,nanosecond=0),axis=1)"
   ]
  },
  {
   "cell_type": "markdown",
   "metadata": {
    "extensions": {
     "jupyter_dashboards": {
      "version": 1,
      "views": {
       "grid_default": {
        "col": 8,
        "height": 4,
        "hidden": false,
        "row": 22,
        "width": 4
       },
       "report_default": {
        "hidden": false
       }
      }
     }
    }
   },
   "source": [
    "#### Filter out Test samples from Sonde data \n",
    " * TODO: Consider dropping in place"
   ]
  },
  {
   "cell_type": "code",
   "execution_count": 32,
   "metadata": {
    "extensions": {
     "jupyter_dashboards": {
      "version": 1,
      "views": {
       "grid_default": {
        "hidden": true
       },
       "report_default": {
        "hidden": true
       }
      }
     }
    }
   },
   "outputs": [],
   "source": [
    "transects_sonde = transects_sonde[transects_sonde['Site Name'].str.contains('Test')==False]"
   ]
  },
  {
   "cell_type": "markdown",
   "metadata": {
    "extensions": {
     "jupyter_dashboards": {
      "version": 1,
      "views": {
       "grid_default": {
        "col": 0,
        "height": 4,
        "hidden": false,
        "row": 26,
        "width": 4
       },
       "report_default": {
        "hidden": false
       }
      }
     }
    }
   },
   "source": [
    "#### Convert Transect and Horizontal positions to numbers (for plotting profiles)"
   ]
  },
  {
   "cell_type": "code",
   "execution_count": 33,
   "metadata": {
    "extensions": {
     "jupyter_dashboards": {
      "version": 1,
      "views": {
       "grid_default": {
        "hidden": true
       },
       "report_default": {
        "hidden": true
       }
      }
     }
    }
   },
   "outputs": [],
   "source": [
    "transects_sonde['T Pos'] = transects_sonde['Transect'].apply(lambda x: int(x[2:]))\n",
    "transects_sonde['H Pos'] = transects_sonde['H Code'].apply(lambda x: int(x))"
   ]
  },
  {
   "cell_type": "code",
   "execution_count": 34,
   "metadata": {
    "extensions": {
     "jupyter_dashboards": {
      "version": 1,
      "views": {
       "grid_default": {},
       "report_default": {
        "hidden": true
       }
      }
     }
    }
   },
   "outputs": [],
   "source": [
    "transects_par['T Pos'] = transects_par['Transect'].apply(lambda x: int(x[2:]))\n",
    "transects_par['H Pos'] = transects_par['H Code'].apply(lambda x: int(x))"
   ]
  },
  {
   "cell_type": "markdown",
   "metadata": {
    "extensions": {
     "jupyter_dashboards": {
      "version": 1,
      "views": {
       "grid_default": {
        "col": 4,
        "height": 4,
        "hidden": false,
        "row": 26,
        "width": 4
       },
       "report_default": {
        "hidden": false
       }
      }
     }
    }
   },
   "source": [
    "#### Filter out non-data, empty columns (like TSS), and reduntant columns (like chlorophyll, BGA, conductivity, pH, and depth)"
   ]
  },
  {
   "cell_type": "code",
   "execution_count": 35,
   "metadata": {
    "extensions": {
     "jupyter_dashboards": {
      "version": 1,
      "views": {
       "grid_default": {
        "hidden": true
       },
       "report_default": {
        "hidden": true
       }
      }
     }
    }
   },
   "outputs": [],
   "source": [
    "transects_sonde_dataonly = transects_sonde.drop(transects_sonde.columns[:8],axis=1).drop(['H Code','TSS mg/L'],axis=1) \\\n",
    "    .drop(['ODO % sat','Chlorophyll RFU','BGA-PC RFU','pH mV','Press psi a'],axis=1) \\\n",
    "    .drop(transects_sonde.columns[[16,18,19]],axis=1)"
   ]
  },
  {
   "cell_type": "code",
   "execution_count": 36,
   "metadata": {
    "extensions": {
     "jupyter_dashboards": {
      "version": 1,
      "views": {
       "grid_default": {},
       "report_default": {
        "hidden": true
       }
      }
     }
    }
   },
   "outputs": [],
   "source": [
    "transects_par_dataonly = transects_par.drop(transects_par.columns[:3],axis=1).drop(['H Code','BATT','SITE','CHK'],axis=1) \\\n",
    "    .drop(['PAR_MAX','PAR_MIN'],axis=1)"
   ]
  },
  {
   "cell_type": "markdown",
   "metadata": {
    "extensions": {
     "jupyter_dashboards": {
      "version": 1,
      "views": {
       "grid_default": {},
       "report_default": {
        "hidden": false
       }
      }
     }
    }
   },
   "source": [
    "#### Create 3-part Index from T, H, and V values to help join Sonde and PAR data\n",
    " * Only keep one set of original columns (Sonde)"
   ]
  },
  {
   "cell_type": "code",
   "execution_count": 37,
   "metadata": {
    "extensions": {
     "jupyter_dashboards": {
      "version": 1,
      "views": {
       "grid_default": {},
       "report_default": {
        "hidden": true
       }
      }
     }
    }
   },
   "outputs": [],
   "source": [
    "transects_sonde_dataonly = transects_sonde_dataonly.set_index(['T Pos','H Pos','V Code','Date-Time'],drop=False)"
   ]
  },
  {
   "cell_type": "code",
   "execution_count": 38,
   "metadata": {
    "extensions": {
     "jupyter_dashboards": {
      "version": 1,
      "views": {
       "grid_default": {},
       "report_default": {
        "hidden": true
       }
      }
     }
    }
   },
   "outputs": [],
   "source": [
    "transects_par_dataonly = transects_par_dataonly.set_index(['T Pos','H Pos','V Code','Date-Time_par'],drop=True)"
   ]
  },
  {
   "cell_type": "markdown",
   "metadata": {
    "extensions": {
     "jupyter_dashboards": {
      "version": 1,
      "views": {
       "grid_default": {},
       "report_default": {
        "hidden": false
       }
      }
     }
    }
   },
   "source": [
    "#### Combine (merge/join) Sonde and PAR data using new index\n",
    " * Get rid of 'V Code' column, which is no longer needed"
   ]
  },
  {
   "cell_type": "code",
   "execution_count": 39,
   "metadata": {
    "extensions": {
     "jupyter_dashboards": {
      "version": 1,
      "views": {
       "grid_default": {},
       "report_default": {
        "hidden": true
       }
      }
     }
    }
   },
   "outputs": [],
   "source": [
    "transects_sonde_par = pd.merge(transects_sonde_dataonly,transects_par_dataonly,left_index=True,right_index=True).drop(['V Code'],axis=1)"
   ]
  },
  {
   "cell_type": "markdown",
   "metadata": {
    "extensions": {
     "jupyter_dashboards": {
      "version": 1,
      "views": {
       "grid_default": {
        "hidden": true
       },
       "report_default": {
        "hidden": true
       }
      }
     }
    }
   },
   "source": [
    "#### Limit property ranges and compute Chlorophyll / BGA ratio "
   ]
  },
  {
   "cell_type": "code",
   "execution_count": 40,
   "metadata": {},
   "outputs": [],
   "source": [
    "transects_sonde_par['Chlorophyll µg/L'] = transects_sonde_par['Chlorophyll µg/L'].apply(lambda x: CHLOR_MIN if x < CHLOR_MIN else x)\n",
    "transects_sonde_par['Chlorophyll µg/L'] = transects_sonde_par['Chlorophyll µg/L'].apply(lambda x: CHLOR_MAX if x > CHLOR_MAX else x)"
   ]
  },
  {
   "cell_type": "code",
   "execution_count": 41,
   "metadata": {},
   "outputs": [],
   "source": [
    "transects_sonde_par['BGA-PC µg/L'] = transects_sonde_par['BGA-PC µg/L'].apply(lambda x: BGA_MIN if x < BGA_MIN else x)\n",
    "transects_sonde_par['BGA-PC µg/L'] = transects_sonde_par['BGA-PC µg/L'].apply(lambda x: BGA_MAX if x > BGA_MAX else x)"
   ]
  },
  {
   "cell_type": "code",
   "execution_count": 42,
   "metadata": {},
   "outputs": [],
   "source": [
    "transects_sonde_par['Chlorophyll/BGA'] = transects_sonde_par.apply(lambda x: x['Chlorophyll µg/L']/x['BGA-PC µg/L'], axis=1)"
   ]
  },
  {
   "cell_type": "code",
   "execution_count": 43,
   "metadata": {},
   "outputs": [],
   "source": [
    "transects_sonde_par['Turbidity NTU'] = transects_sonde_par['Turbidity NTU'].apply(lambda x: TURB_MIN if x < TURB_MIN else x)\n",
    "transects_sonde_par['Turbidity NTU'] = transects_sonde_par['Turbidity NTU'].apply(lambda x: TURB_MAX if x > TURB_MAX else x)"
   ]
  },
  {
   "cell_type": "code",
   "execution_count": 44,
   "metadata": {},
   "outputs": [],
   "source": [
    "transects_sonde_par['ODO mg/L'] = transects_sonde_par['ODO mg/L'].apply(lambda x: DO_MIN if x < DO_MIN else x)\n",
    "transects_sonde_par['ODO mg/L'] = transects_sonde_par['ODO mg/L'].apply(lambda x: DO_MAX if x > DO_MAX else x)"
   ]
  },
  {
   "cell_type": "code",
   "execution_count": 45,
   "metadata": {},
   "outputs": [],
   "source": [
    "transects_sonde_par['Cond µS/cm'] = transects_sonde_par['Cond µS/cm'].apply(lambda x: SPCOND_MIN if x < SPCOND_MIN else x)\n",
    "transects_sonde_par['Cond µS/cm'] = transects_sonde_par['Cond µS/cm'].apply(lambda x: SPCOND_MAX if x > SPCOND_MAX else x)"
   ]
  },
  {
   "cell_type": "code",
   "execution_count": 46,
   "metadata": {},
   "outputs": [],
   "source": [
    "transects_sonde_par['PAR'] = transects_sonde_par['PAR'].apply(lambda x: PAR_MIN if x < PAR_MIN else x)\n",
    "transects_sonde_par['PAR'] = transects_sonde_par['PAR'].apply(lambda x: PAR_MAX if x > PAR_MAX else x)"
   ]
  },
  {
   "cell_type": "markdown",
   "metadata": {},
   "source": [
    "#### Merge in location data, including RMI\n",
    " * Create temporary matching Name column (from 'T Pos') for merging\n",
    " * Drop all unnecessary columns"
   ]
  },
  {
   "cell_type": "code",
   "execution_count": 47,
   "metadata": {},
   "outputs": [],
   "source": [
    "transects_sonde_par['Name'] = transects_sonde_par['T Pos'].apply(lambda x: 'T-'+str(x))\n",
    "transects_sonde_par = pd.merge(transects_sonde_par,ohio_river_sites,on=['Name']).drop(ohio_river_sites.columns[0:5],axis=1).drop(ohio_river_sites.columns[6:],axis=1)\n",
    "#transects_sonde_par.columns"
   ]
  },
  {
   "cell_type": "markdown",
   "metadata": {},
   "source": [
    "#### Re-index by datetime"
   ]
  },
  {
   "cell_type": "code",
   "execution_count": 48,
   "metadata": {
    "extensions": {
     "jupyter_dashboards": {
      "version": 1,
      "views": {
       "grid_default": {},
       "report_default": {
        "hidden": true
       }
      }
     }
    }
   },
   "outputs": [],
   "source": [
    "transects_sonde_par = transects_sonde_par.set_index(['Date-Time'])\n",
    "#transects_sonde_par.columns"
   ]
  },
  {
   "cell_type": "markdown",
   "metadata": {},
   "source": [
    "#### Save merged Sonde and PAR data for Transects"
   ]
  },
  {
   "cell_type": "code",
   "execution_count": 49,
   "metadata": {},
   "outputs": [],
   "source": [
    "transects_sonde_par.to_csv('data/Greenup/out/transects_sonde_par.csv')"
   ]
  },
  {
   "cell_type": "markdown",
   "metadata": {},
   "source": [
    "<div id='transect_plots'></div>"
   ]
  },
  {
   "cell_type": "markdown",
   "metadata": {},
   "source": [
    "## Transect Plots"
   ]
  },
  {
   "cell_type": "markdown",
   "metadata": {
    "extensions": {
     "jupyter_dashboards": {
      "version": 1,
      "views": {
       "grid_default": {
        "col": 8,
        "height": 4,
        "hidden": false,
        "row": 26,
        "width": 4
       },
       "report_default": {
        "hidden": false
       }
      }
     }
    }
   },
   "source": [
    "### Distribution plots of transect data"
   ]
  },
  {
   "cell_type": "code",
   "execution_count": 50,
   "metadata": {
    "extensions": {
     "jupyter_dashboards": {
      "version": 1,
      "views": {
       "grid_default": {
        "col": 0,
        "height": 13,
        "hidden": false,
        "row": 30,
        "width": 4
       },
       "report_default": {
        "hidden": false
       }
      }
     }
    }
   },
   "outputs": [
    {
     "data": {
      "application/vnd.jupyter.widget-view+json": {
       "model_id": "",
       "version_major": 2,
       "version_minor": 0
      },
      "text/plain": [
       "interactive(children=(Dropdown(description='Property', options=('ODO mg/L', 'Chlorophyll µg/L', 'BGA-PC µg/L',…"
      ]
     },
     "metadata": {},
     "output_type": "display_data"
    },
    {
     "data": {
      "text/plain": [
       "<function __main__.dist_plot_transects(Property, Kind='kde')>"
      ]
     },
     "execution_count": 50,
     "metadata": {},
     "output_type": "execute_result"
    }
   ],
   "source": [
    "def dist_plot_transects(Property,Kind='kde'):\n",
    "    transects_sonde_par[Property].plot(kind=Kind)\n",
    "    \n",
    "interact(dist_plot_transects, \\\n",
    "         Property=transects_sonde_par.columns.drop(['T Pos','H Pos','RMI']), \\\n",
    "         Kind=['hist','kde','box'] \\\n",
    "        )"
   ]
  },
  {
   "cell_type": "markdown",
   "metadata": {},
   "source": [
    "def transect_box_plots(Property):\n",
    "    fig, ax = plt.subplots(nrows=2,ncols=12,figsize=(25,8),sharey=True)\n",
    "    fig.suptitle(Property, fontsize=16)\n",
    "    j = 0\n",
    "    for year in [2018,2019]:\n",
    "        i = 0\n",
    "        for month in [1,2,3,4,5,6,7,8,9,10,11,12]:\n",
    "            monthly_data = transects_sonde_par[(transects_sonde_par.index.month == month) & (transects_sonde_par.index.year == year)]\n",
    "            if len(monthly_data) > 0:\n",
    "                monthly_data[Property].plot(ax=ax[j,i],kind='box')\n",
    "            ax[j,i].set_title(\"{}-{}\".format(year,month),fontsize=14)\n",
    "            ax[j,i].xaxis.set_visible(False)\n",
    "            i = i+1\n",
    "        j = j+1\n",
    "            \n",
    "interact(transect_box_plots, \\\n",
    "         Property=transects_sonde_par.columns.drop(['Depth m','T Pos','H Pos','RMI']) \\\n",
    "        )"
   ]
  },
  {
   "cell_type": "markdown",
   "metadata": {
    "extensions": {
     "jupyter_dashboards": {
      "version": 1,
      "views": {
       "grid_default": {
        "col": 4,
        "height": 4,
        "hidden": false,
        "row": 30,
        "width": 4
       },
       "report_default": {
        "hidden": false
       }
      }
     }
    }
   },
   "source": [
    "### Correlation Scatter Plots"
   ]
  },
  {
   "cell_type": "markdown",
   "metadata": {
    "extensions": {
     "jupyter_dashboards": {
      "version": 1,
      "views": {
       "grid_default": {},
       "report_default": {
        "hidden": false
       }
      }
     }
    }
   },
   "source": [
    "#### Scatter matrix for all properties (disabled due to size)"
   ]
  },
  {
   "cell_type": "code",
   "execution_count": 51,
   "metadata": {
    "extensions": {
     "jupyter_dashboards": {
      "version": 1,
      "views": {
       "grid_default": {
        "hidden": true
       },
       "report_default": {
        "hidden": true
       }
      }
     }
    }
   },
   "outputs": [],
   "source": [
    "#scatter_matrix(transects_sonde_par,figsize=(20.0,20.0),diagonal='kde')"
   ]
  },
  {
   "cell_type": "markdown",
   "metadata": {
    "extensions": {
     "jupyter_dashboards": {
      "version": 1,
      "views": {
       "grid_default": {},
       "report_default": {
        "hidden": false
       }
      }
     }
    }
   },
   "source": [
    "#### Individual scatter plots (3rd property used for color map)"
   ]
  },
  {
   "cell_type": "code",
   "execution_count": 52,
   "metadata": {
    "extensions": {
     "jupyter_dashboards": {
      "version": 1,
      "views": {
       "grid_default": {
        "hidden": true
       },
       "report_default": {
        "hidden": true
       }
      }
     }
    }
   },
   "outputs": [
    {
     "data": {
      "application/vnd.jupyter.widget-view+json": {
       "model_id": "",
       "version_major": 2,
       "version_minor": 0
      },
      "text/plain": [
       "interactive(children=(Dropdown(description='YProperty', options=('ODO mg/L', 'Chlorophyll µg/L', 'BGA-PC µg/L'…"
      ]
     },
     "metadata": {},
     "output_type": "display_data"
    },
    {
     "data": {
      "text/plain": [
       "<function __main__.scatter_plot_transects(YProperty='ODO mg/L', XProperty='Chlorophyll µg/L', ColorBy='Temp °C', ColorMap='jet')>"
      ]
     },
     "execution_count": 52,
     "metadata": {},
     "output_type": "execute_result"
    }
   ],
   "source": [
    "def scatter_plot_transects(YProperty=transects_sonde_par.columns[0],XProperty=transects_sonde_par.columns[1],ColorBy=transects_sonde_par.columns[3],ColorMap='jet'):\n",
    "    fig, ax = plt.subplots()\n",
    "    transects_sonde_par.plot.scatter(ax=ax,x=XProperty,y=YProperty,c=ColorBy,cmap=ColorMap,s=4)\n",
    "    ax.set_title(\"Correlation of \"+YProperty+\" and \"+XProperty,fontsize=14)\n",
    "    \n",
    "interact(scatter_plot_transects, \\\n",
    "         YProperty=transects_sonde_par.columns.drop(['T Pos','H Pos','Depth m','RMI']), \\\n",
    "         XProperty=transects_sonde_par.columns.drop(['T Pos','H Pos','Depth m','RMI']), \\\n",
    "         ColorBy=transects_sonde_par.columns, \\\n",
    "         ColorMap=['jet','viridis','magma','coolwarm','seismic','Greys','Reds','Blues'] \\\n",
    "        )"
   ]
  },
  {
   "cell_type": "markdown",
   "metadata": {
    "extensions": {
     "jupyter_dashboards": {
      "version": 1,
      "views": {
       "grid_default": {
        "col": 8,
        "height": 4,
        "hidden": false,
        "row": 30,
        "width": 4
       },
       "report_default": {
        "hidden": false
       }
      }
     }
    }
   },
   "source": [
    "### Use scatter plot to display depth x width profile for selected transect with data points colored by value of selected property"
   ]
  },
  {
   "cell_type": "code",
   "execution_count": 638,
   "metadata": {
    "extensions": {
     "jupyter_dashboards": {
      "version": 1,
      "views": {
       "grid_default": {
        "hidden": true
       },
       "report_default": {
        "hidden": true
       }
      }
     }
    }
   },
   "outputs": [
    {
     "data": {
      "application/vnd.jupyter.widget-view+json": {
       "model_id": "91251b1d42d044d0b898d586329c49f0",
       "version_major": 2,
       "version_minor": 0
      },
      "text/plain": [
       "interactive(children=(Dropdown(description='Transect', options=(1, 2, 3, 4, 5, 6, 7, 8, 9, 10, 11, 12, 13, 14,…"
      ]
     },
     "metadata": {},
     "output_type": "display_data"
    },
    {
     "data": {
      "text/plain": [
       "<function __main__.transect_profile_plot(Transect, Property, ColorMap='jet')>"
      ]
     },
     "execution_count": 638,
     "metadata": {},
     "output_type": "execute_result"
    }
   ],
   "source": [
    "def transect_profile_plot(Transect,Property,ColorMap='jet'):\n",
    "    fig, ax = plt.subplots(nrows=1,ncols=5,figsize=(25,5))\n",
    "    transect = transects_sonde_par[transects_sonde_par['T Pos']==Transect]\n",
    "    dates = transect.index.unique()\n",
    "    i=0\n",
    "    for date in dates:\n",
    "        transect_on_date = transect[transect.index==date]\n",
    "        transect_on_date.plot.scatter(ax=ax[i],x='H Pos',y='Depth m',ylim=(15,0),c=Property,cmap=ColorMap,marker='H',s=250,xticks=[])\n",
    "        if i == 0:\n",
    "            ax[i].set_title(\"Transect \"+str(Transect)+\" Profile for \"+Property+\" on \\n\"+date.strftime('%Y-%m-%d'),fontsize=14)\n",
    "        else:\n",
    "             ax[i].set_title(\"\\n\"+date.strftime('%Y-%m-%d'),fontsize=14)               \n",
    "        ax[i].set(ylabel=\"Depth\",xlabel=\"Cross-River Position\")\n",
    "        ax[i].axis('off')\n",
    "        i = i+1\n",
    "    for j in range(i,5):\n",
    "        ax[j].axis('off')\n",
    "    \n",
    "interact(transect_profile_plot, \\\n",
    "         Transect=transects_sonde_par['T Pos'].unique(), \\\n",
    "         Property=transects_sonde_par.columns.drop(['Depth m','T Pos','H Pos','RMI']), \\\n",
    "         ColorMap=['jet','viridis','magma','coolwarm','seismic','Greys','Reds','Blues'] \\\n",
    "        )"
   ]
  },
  {
   "cell_type": "markdown",
   "metadata": {},
   "source": [
    "#### Create list of unique T-Pos and Date pairs"
   ]
  },
  {
   "cell_type": "code",
   "execution_count": 54,
   "metadata": {},
   "outputs": [],
   "source": [
    "T_date_pairs = list(zip(transects_sonde_par['T Pos'],transects_sonde_par.index.strftime(\"%m/%d/%Y\")))\n",
    "str_list = []\n",
    "for t,d in T_date_pairs:\n",
    "    str_list.append(\"T-{t:02d} @ {d}\".format(t=t,d=d))\n",
    "Transect_Dates = np.unique(str_list)"
   ]
  },
  {
   "cell_type": "markdown",
   "metadata": {
    "extensions": {
     "jupyter_dashboards": {
      "version": 1,
      "views": {
       "grid_default": {
        "col": 8,
        "height": 4,
        "hidden": false,
        "row": 34,
        "width": 4
       },
       "report_default": {
        "hidden": false
       }
      }
     }
    }
   },
   "source": [
    "### Loop through all the data columns to create a profile panel"
   ]
  },
  {
   "cell_type": "code",
   "execution_count": 55,
   "metadata": {
    "extensions": {
     "jupyter_dashboards": {
      "version": 1,
      "views": {
       "grid_default": {
        "col": 8,
        "height": 13,
        "hidden": false,
        "row": 38,
        "width": 4
       },
       "report_default": {
        "hidden": false
       }
      }
     }
    }
   },
   "outputs": [
    {
     "data": {
      "application/vnd.jupyter.widget-view+json": {
       "model_id": "595076edcfa74f559737145becb26b2b",
       "version_major": 2,
       "version_minor": 0
      },
      "text/plain": [
       "interactive(children=(Dropdown(description='Transect_Date', options=('T-01 @ 08/29/2018', 'T-02 @ 07/02/2019',…"
      ]
     },
     "metadata": {},
     "output_type": "display_data"
    },
    {
     "data": {
      "text/plain": [
       "<function __main__.transect_profile_panel(Transect_Date, ColorMap='jet')>"
      ]
     },
     "execution_count": 55,
     "metadata": {},
     "output_type": "execute_result"
    }
   ],
   "source": [
    "from datetime import datetime\n",
    "def transect_profile_panel(Transect_Date,ColorMap='jet'):\n",
    "    fig, ax = plt.subplots(nrows=2,ncols=5,figsize=(25,10))\n",
    "    transect_pos = int(Transect_Date[2:4])\n",
    "    transect_date = datetime.strptime(Transect_Date[-10:], '%m/%d/%Y').replace(hour=12,minute=0,second=0)\n",
    "    transect = transects_sonde_par[transects_sonde_par['T Pos']==transect_pos]\n",
    "    transect_on_date = transect[transect.index==transect_date]\n",
    "    i = j = 0\n",
    "    for col in transects_sonde_par.columns[:13].drop(['T Pos','H Pos','Depth m']):\n",
    "        transect_on_date.plot.scatter(ax=ax[j,i],x='H Pos',y='Depth m',ylim=(15,0),c=col,cmap=ColorMap,marker='H',s=250)\n",
    "        ax[j,i].axis('off')\n",
    "        if i < 4:\n",
    "            i = i + 1\n",
    "        else:\n",
    "            i = 0\n",
    "            j = j + 1\n",
    "            \n",
    "interact(transect_profile_panel, \\\n",
    "         Transect_Date = Transect_Dates,\n",
    "         ColorMap=['jet','viridis','magma','coolwarm','seismic','Greys','Reds','Blues'] \\\n",
    "        )"
   ]
  },
  {
   "cell_type": "markdown",
   "metadata": {},
   "source": [
    "## == Greenup and RCBI Locks =="
   ]
  },
  {
   "cell_type": "markdown",
   "metadata": {
    "extensions": {
     "jupyter_dashboards": {
      "version": 1,
      "views": {
       "grid_default": {
        "col": 4,
        "height": 4,
        "hidden": false,
        "row": 72,
        "width": 4
       },
       "report_default": {
        "hidden": false
       }
      }
     }
    }
   },
   "source": [
    "### RC Byrd and Greenup Locks and Dams Time Series Data "
   ]
  },
  {
   "cell_type": "markdown",
   "metadata": {
    "extensions": {
     "jupyter_dashboards": {
      "version": 1,
      "views": {
       "grid_default": {
        "col": 4,
        "height": 4,
        "hidden": false,
        "row": 72,
        "width": 4
       },
       "report_default": {
        "hidden": false
       }
      }
     }
    }
   },
   "source": [
    "#### Get Sonde data at locks"
   ]
  },
  {
   "cell_type": "code",
   "execution_count": 709,
   "metadata": {
    "extensions": {
     "jupyter_dashboards": {
      "version": 1,
      "views": {
       "grid_default": {
        "hidden": true
       },
       "report_default": {
        "hidden": true
       }
      }
     }
    }
   },
   "outputs": [],
   "source": [
    "locks_sonde = pd.read_csv('data/Greenup/locks_sonde_3.csv')"
   ]
  },
  {
   "cell_type": "markdown",
   "metadata": {},
   "source": [
    "#### Get PAR data at locks"
   ]
  },
  {
   "cell_type": "code",
   "execution_count": 710,
   "metadata": {
    "extensions": {
     "jupyter_dashboards": {
      "version": 1,
      "views": {
       "grid_default": {
        "hidden": true
       },
       "report_default": {
        "hidden": true
       }
      }
     }
    }
   },
   "outputs": [],
   "source": [
    "locks_par = pd.read_csv('data/Greenup/locks_par_3.csv')"
   ]
  },
  {
   "cell_type": "markdown",
   "metadata": {},
   "source": [
    "#### Create Date-Time field as index"
   ]
  },
  {
   "cell_type": "code",
   "execution_count": 711,
   "metadata": {
    "extensions": {
     "jupyter_dashboards": {
      "version": 1,
      "views": {
       "grid_default": {
        "hidden": true
       },
       "report_default": {
        "hidden": true
       }
      }
     }
    }
   },
   "outputs": [],
   "source": [
    "def datetime_sonde(row):\n",
    "    pattern = '%m/%d/%y-%H:%M:%S'\n",
    "    dt = row['Date (MM/DD/YYYY)']+'-'+row['Time (HH:MM:SS)']\n",
    "    return pd.to_datetime(time.mktime(time.strptime(dt,pattern)),unit='s')\n",
    "    \n",
    "locks_sonde['Date-Time'] = locks_sonde.apply(lambda row: datetime_sonde(row),axis=1)\n",
    "locks_sonde = locks_sonde.set_index(['Date-Time'])\n",
    "locks_sonde['Year'] = locks_sonde.index.year\n",
    "locks_sonde['Month'] = locks_sonde.index.month\n",
    "locks_sonde['Hour'] = locks_sonde.index.hour"
   ]
  },
  {
   "cell_type": "code",
   "execution_count": 712,
   "metadata": {
    "extensions": {
     "jupyter_dashboards": {
      "version": 1,
      "views": {
       "grid_default": {
        "hidden": true
       },
       "report_default": {
        "hidden": true
       }
      }
     }
    }
   },
   "outputs": [],
   "source": [
    "def datetime_par(row):\n",
    "    pattern = '%m/%d/%y-%H:%M:%S %p'\n",
    "    dt = row['Date']+'-'+row['Time']\n",
    "    return pd.to_datetime(time.mktime(time.strptime(dt,pattern)),unit='s')\n",
    "    \n",
    "locks_par['Date-Time'] = locks_par.apply(lambda row: datetime_par(row),axis=1)\n",
    "locks_par = locks_par.set_index(['Date-Time'])\n",
    "locks_par['Year'] = locks_par.index.year\n",
    "locks_par['Month'] = locks_par.index.month\n",
    "locks_par['Hour'] = locks_par.index.hour"
   ]
  },
  {
   "cell_type": "markdown",
   "metadata": {
    "extensions": {
     "jupyter_dashboards": {
      "version": 1,
      "views": {
       "grid_default": {},
       "report_default": {
        "hidden": false
       }
      }
     }
    }
   },
   "source": [
    "#### Filter out Sonde data with zero values for conductivity-related measures (use salinity as indicator)"
   ]
  },
  {
   "cell_type": "code",
   "execution_count": 713,
   "metadata": {
    "extensions": {
     "jupyter_dashboards": {
      "version": 1,
      "views": {
       "grid_default": {},
       "report_default": {
        "hidden": true
       }
      }
     }
    }
   },
   "outputs": [],
   "source": [
    "locks_sonde = locks_sonde[locks_sonde['Sal psu'] != 0]"
   ]
  },
  {
   "cell_type": "markdown",
   "metadata": {},
   "source": [
    "#### Limit property ranges and compute Clorophyll to BGA  ratio"
   ]
  },
  {
   "cell_type": "code",
   "execution_count": 714,
   "metadata": {},
   "outputs": [],
   "source": [
    "locks_sonde['Chlorophyll µg/L'] = locks_sonde['Chlorophyll µg/L'].apply(lambda x: CHLOR_MIN if x < CHLOR_MIN else x)\n",
    "locks_sonde['Chlorophyll µg/L'] = locks_sonde['Chlorophyll µg/L'].apply(lambda x: CHLOR_MAX if x > CHLOR_MAX else x)"
   ]
  },
  {
   "cell_type": "code",
   "execution_count": 715,
   "metadata": {},
   "outputs": [],
   "source": [
    "locks_sonde['BGA-PC µg/L'] = locks_sonde['BGA-PC µg/L'].apply(lambda x: BGA_MIN if x < BGA_MIN else x)\n",
    "locks_sonde['BGA-PC µg/L'] = locks_sonde['BGA-PC µg/L'].apply(lambda x: BGA_MAX if x > BGA_MAX else x)"
   ]
  },
  {
   "cell_type": "code",
   "execution_count": 716,
   "metadata": {},
   "outputs": [],
   "source": [
    "locks_sonde['Chlorophyll/BGA'] = locks_sonde.apply(lambda x: x['Chlorophyll µg/L']/x['BGA-PC µg/L'], axis=1)"
   ]
  },
  {
   "cell_type": "code",
   "execution_count": 717,
   "metadata": {},
   "outputs": [],
   "source": [
    "locks_sonde['Turbidity NTU'] = locks_sonde['Turbidity NTU'].apply(lambda x: TURB_MIN if x < TURB_MIN else x)\n",
    "locks_sonde['Turbidity NTU'] = locks_sonde['Turbidity NTU'].apply(lambda x: TURB_MAX if x > TURB_MAX else x)"
   ]
  },
  {
   "cell_type": "code",
   "execution_count": 718,
   "metadata": {},
   "outputs": [],
   "source": [
    "locks_sonde['ODO mg/L'] = locks_sonde['ODO mg/L'].apply(lambda x: DO_MIN if x < DO_MIN else x)\n",
    "locks_sonde['ODO mg/L'] = locks_sonde['ODO mg/L'].apply(lambda x: DO_MAX if x > DO_MAX else x)"
   ]
  },
  {
   "cell_type": "code",
   "execution_count": 719,
   "metadata": {},
   "outputs": [],
   "source": [
    "locks_sonde['Cond µS/cm'] = locks_sonde['Cond µS/cm'].apply(lambda x: SPCOND_MIN if x < SPCOND_MIN else x)\n",
    "locks_sonde['Cond µS/cm'] = locks_sonde['Cond µS/cm'].apply(lambda x: SPCOND_MAX if x > SPCOND_MAX else x)"
   ]
  },
  {
   "cell_type": "code",
   "execution_count": 720,
   "metadata": {},
   "outputs": [],
   "source": [
    "locks_par['PAR_rcb'] = locks_par['PAR_rcb'].apply(lambda x: PAR_MIN if x < PAR_MIN else x)\n",
    "locks_par['PAR_rcb'] = locks_par['PAR_rcb'].apply(lambda x: PAR_MAX if x > PAR_MAX else x)\n",
    "locks_par['PAR_greenup'] = locks_par['PAR_greenup'].apply(lambda x: PAR_MIN if x < PAR_MIN else x)\n",
    "locks_par['PAR_greenup'] = locks_par['PAR_greenup'].apply(lambda x: PAR_MAX if x > PAR_MAX else x)"
   ]
  },
  {
   "cell_type": "markdown",
   "metadata": {
    "extensions": {
     "jupyter_dashboards": {
      "version": 1,
      "views": {
       "grid_default": {},
       "report_default": {
        "hidden": false
       }
      }
     }
    }
   },
   "source": [
    "#### Drop non-data columns, TSS (all NaN), and redunctant columns (chlorophyll, BGA, conductivity, salinity, pH, depth) from Sonde data\n",
    " * TODO: Try using Zip of desired columns instead of dropping everything else"
   ]
  },
  {
   "cell_type": "code",
   "execution_count": 721,
   "metadata": {
    "extensions": {
     "jupyter_dashboards": {
      "version": 1,
      "views": {
       "grid_default": {
        "hidden": true
       },
       "report_default": {
        "hidden": true
       }
      }
     }
    }
   },
   "outputs": [],
   "source": [
    "locks_sonde_dataonly = locks_sonde.drop(locks_sonde.columns[:7],axis=1).drop('Wiper Pos V',axis=1) \\\n",
    "    .drop('TSS mg/L',axis=1) \\\n",
    "    .drop('ODO % sat',axis=1).drop('Chlorophyll RFU',axis=1).drop('BGA-PC RFU',axis=1) \\\n",
    "    .drop(locks_sonde.columns[[15,17,18]],axis=1).drop('Sal psu',axis=1).drop('pH mV',axis=1).drop('Press psi a',axis=1)"
   ]
  },
  {
   "cell_type": "code",
   "execution_count": 722,
   "metadata": {
    "extensions": {
     "jupyter_dashboards": {
      "version": 1,
      "views": {
       "grid_default": {
        "hidden": true
       },
       "report_default": {
        "hidden": true
       }
      }
     }
    }
   },
   "outputs": [],
   "source": [
    "rcb_only = locks_sonde[locks_sonde['Site Name'].str.contains('RCB')==True]\n",
    "greenup_only = locks_sonde[locks_sonde['Site Name'].str.contains('Greenup')==True]\n",
    "rcb_dataonly = rcb_only.drop(rcb_only.columns[:7],axis=1).drop('Wiper Pos V',axis=1).drop('TSS mg/L',axis=1)\n",
    "greenup_dataonly = greenup_only.drop(greenup_only.columns[:7],axis=1).drop('Wiper Pos V',axis=1).drop('TSS mg/L',axis=1)"
   ]
  },
  {
   "cell_type": "markdown",
   "metadata": {},
   "source": [
    "<div id='locks_plots'></div>"
   ]
  },
  {
   "cell_type": "markdown",
   "metadata": {},
   "source": [
    "### Plots for Sonde and PAR data at Locks "
   ]
  },
  {
   "cell_type": "markdown",
   "metadata": {
    "extensions": {
     "jupyter_dashboards": {
      "version": 1,
      "views": {
       "grid_default": {},
       "report_default": {
        "hidden": false
       }
      }
     }
    }
   },
   "source": [
    "#### Distribution plots for Sonde data"
   ]
  },
  {
   "cell_type": "code",
   "execution_count": 723,
   "metadata": {
    "extensions": {
     "jupyter_dashboards": {
      "version": 1,
      "views": {
       "grid_default": {
        "col": 0,
        "height": 14,
        "hidden": false,
        "row": 84,
        "width": 4
       },
       "report_default": {
        "hidden": false
       }
      }
     }
    }
   },
   "outputs": [
    {
     "data": {
      "application/vnd.jupyter.widget-view+json": {
       "model_id": "ab69b498e8ab46a9815b6b9c9e5eb6f2",
       "version_major": 2,
       "version_minor": 0
      },
      "text/plain": [
       "interactive(children=(Dropdown(description='Property', options=('ODO mg/L', 'Chlorophyll µg/L', 'BGA-PC µg/L',…"
      ]
     },
     "metadata": {},
     "output_type": "display_data"
    },
    {
     "data": {
      "text/plain": [
       "<function __main__.dist_plot_ts(Property, Site='RCB', Kind='kde')>"
      ]
     },
     "execution_count": 723,
     "metadata": {},
     "output_type": "execute_result"
    }
   ],
   "source": [
    "def dist_plot_ts(Property,Site='RCB',Kind='kde'):\n",
    "    if ((Site=='RCB') | (Site=='Both')):\n",
    "        rcb_dataonly[Property].plot(kind=Kind,color='blue')\n",
    "    if ((Site=='Greenup') | (Site=='Both')):\n",
    "        greenup_dataonly[Property].plot(kind=Kind,color='green')\n",
    "        \n",
    "interact(dist_plot_ts, \\\n",
    "         Property=locks_sonde_dataonly.columns, \\\n",
    "         Site=['RCB','Greenup','Both'], \\\n",
    "         Kind=['hist','kde','box'] \\\n",
    "        )"
   ]
  },
  {
   "cell_type": "code",
   "execution_count": 739,
   "metadata": {},
   "outputs": [
    {
     "data": {
      "application/vnd.jupyter.widget-view+json": {
       "model_id": "402f314561f6472ab50741e57bd3c0b2",
       "version_major": 2,
       "version_minor": 0
      },
      "text/plain": [
       "interactive(children=(Dropdown(description='Property', options=('ODO mg/L', 'Chlorophyll µg/L', 'BGA-PC µg/L',…"
      ]
     },
     "metadata": {},
     "output_type": "display_data"
    },
    {
     "data": {
      "text/plain": [
       "<function __main__.sonde_box_plots(Property, Site)>"
      ]
     },
     "execution_count": 739,
     "metadata": {},
     "output_type": "execute_result"
    }
   ],
   "source": [
    "def sonde_box_plots(Property,Site):\n",
    "    fig, ax = plt.subplots(nrows=3,ncols=12,figsize=(25,10),sharey=True)\n",
    "    fig.suptitle(Property+' at '+Site, fontsize=16)\n",
    "    j = 0\n",
    "    for year in range(2017,2020):\n",
    "        i = 0\n",
    "        for month in range(1,13):\n",
    "            if (Site=='RCB'):\n",
    "                monthly_data = rcb_dataonly[(rcb_dataonly['Month'] == month) & (rcb_dataonly['Year'] == year)]\n",
    "            elif (Site=='Greenup'):\n",
    "                monthly_data = greenup_dataonly[(greenup_dataonly['Month'] == month) & (greenup_dataonly['Year'] == year)]\n",
    "            elif (Site=='Both'):\n",
    "                monthly_data = pd.concat([rcb_dataonly[(rcb_dataonly['Month'] == month) & (rcb_dataonly['Year'] == year)], \\\n",
    "                                      greenup_dataonly[(greenup_dataonly['Month'] == month) & (greenup_dataonly['Year'] == year)]])\n",
    "            if len(monthly_data) > 0:\n",
    "                monthly_data[Property].plot(ax=ax[j,i],kind='box')\n",
    "            ax[j,i].set_title(\"{}-{}\".format(year,month),fontsize=14)\n",
    "            #ax[j,i].axis('off')     \n",
    "            ax[j,i].xaxis.set_visible(False)\n",
    "            i = i+1\n",
    "        j = j+1\n",
    "            \n",
    "interact(sonde_box_plots, \\\n",
    "         Property=locks_sonde_dataonly.columns.drop(['Depth m','Year','Month','Hour']), \\\n",
    "         Site=['RCB','Greenup','Both'] \\\n",
    "        )"
   ]
  },
  {
   "cell_type": "code",
   "execution_count": 751,
   "metadata": {},
   "outputs": [
    {
     "data": {
      "application/vnd.jupyter.widget-view+json": {
       "model_id": "02483a99beb145d1ae986424c96f4f94",
       "version_major": 2,
       "version_minor": 0
      },
      "text/plain": [
       "interactive(children=(Dropdown(description='Property', options=('ODO mg/L', 'Chlorophyll µg/L', 'BGA-PC µg/L',…"
      ]
     },
     "metadata": {},
     "output_type": "display_data"
    },
    {
     "data": {
      "text/plain": [
       "<function __main__.sonde_box_plots2(Property, Site)>"
      ]
     },
     "execution_count": 751,
     "metadata": {},
     "output_type": "execute_result"
    }
   ],
   "source": [
    "def sonde_box_plots2(Property,Site):\n",
    "    fig, ax = plt.subplots(nrows=1,ncols=1,figsize=(25,10),sharex=True)\n",
    "    custom_means = dict(marker='D', markeredgecolor='black', markerfacecolor='firebrick')\n",
    "    custom_box = dict(linestyle='-', linewidth=2, color='darkgoldenrod')\n",
    "    if (Site=='RCB'):\n",
    "        rcb_dataonly.boxplot(ax=ax,column=[Property],by=['Year','Month'],grid=False,meanprops=custom_means,showmeans=True,meanline=False,boxprops=custom_box)\n",
    "    elif (Site=='Greenup'):\n",
    "        greenup_dataonly.boxplot(ax=ax,column=[Property],by=['Year','Month'],grid=False,meanprops=custom_means,showmeans=True,meanline=False,boxprops=custom_box)\n",
    "    plt.suptitle('')\n",
    "    ax.set_title(Property+' at '+Site, fontsize=16)\n",
    "            \n",
    "interact(sonde_box_plots2, \\\n",
    "         Property=locks_sonde_dataonly.columns.drop(['Depth m','Year','Month','Hour']), \\\n",
    "         Site=['RCB','Greenup'] \\\n",
    "        )"
   ]
  },
  {
   "cell_type": "code",
   "execution_count": 746,
   "metadata": {},
   "outputs": [
    {
     "data": {
      "application/vnd.jupyter.widget-view+json": {
       "model_id": "a66e68a93e3b4b23b3add8e64907c6db",
       "version_major": 2,
       "version_minor": 0
      },
      "text/plain": [
       "interactive(children=(Dropdown(description='Property', options=('ODO mg/L', 'Chlorophyll µg/L', 'BGA-PC µg/L',…"
      ]
     },
     "metadata": {},
     "output_type": "display_data"
    },
    {
     "data": {
      "text/plain": [
       "<function __main__.sonde_box_plots3(Property, Site, Year)>"
      ]
     },
     "execution_count": 746,
     "metadata": {},
     "output_type": "execute_result"
    }
   ],
   "source": [
    "import seaborn as sns\n",
    "def sonde_box_plots3(Property,Site,Year):\n",
    "    if (Site=='RCB'):\n",
    "        annual_data = rcb_dataonly[rcb_dataonly['Year']==Year]\n",
    "        sns.boxplot(data=annual_data, y=Property, x='Month')\n",
    "    elif (Site=='Greenup'):\n",
    "        annual_data = greenup_dataonly[greenup_dataonly['Year']==Year]\n",
    "        sns.boxplot(data=annual_data, y=Property, x='Month')\n",
    "                \n",
    "interact(sonde_box_plots3, \\\n",
    "         Property=locks_sonde_dataonly.columns.drop(['Depth m','Year','Month','Hour']), \\\n",
    "         Site=['RCB','Greenup'],\n",
    "         Year=[2017,2018,2019] \\\n",
    "        )"
   ]
  },
  {
   "cell_type": "markdown",
   "metadata": {},
   "source": [
    "#### Distribution plots for PAR data"
   ]
  },
  {
   "cell_type": "code",
   "execution_count": 752,
   "metadata": {
    "extensions": {
     "jupyter_dashboards": {
      "version": 1,
      "views": {
       "grid_default": {
        "col": 0,
        "height": 14,
        "hidden": false,
        "row": 84,
        "width": 4
       },
       "report_default": {
        "hidden": false
       }
      }
     }
    }
   },
   "outputs": [
    {
     "data": {
      "application/vnd.jupyter.widget-view+json": {
       "model_id": "6a0616a39fed4eb9966330f2d17e18a2",
       "version_major": 2,
       "version_minor": 0
      },
      "text/plain": [
       "interactive(children=(Dropdown(description='Site', options=('RCB', 'Greenup', 'Both'), value='RCB'), Dropdown(…"
      ]
     },
     "metadata": {},
     "output_type": "display_data"
    },
    {
     "data": {
      "text/plain": [
       "<function __main__.dist_plot_par(Site='rcb', Kind='kde')>"
      ]
     },
     "execution_count": 752,
     "metadata": {},
     "output_type": "execute_result"
    }
   ],
   "source": [
    "def dist_plot_par(Site='rcb',Kind='kde'):\n",
    "    if ((Site=='RCB') | (Site=='Both')):\n",
    "        locks_par[\"PAR_rcb\"].plot(kind=Kind,color='blue')\n",
    "    if ((Site=='Greenup') | (Site=='Both')):\n",
    "        locks_par[\"PAR_greenup\"].plot(kind=Kind,color='green')\n",
    "        \n",
    "interact(dist_plot_par, \\\n",
    "         Site=['RCB','Greenup','Both'], \\\n",
    "         Kind=['hist','kde','box'] \\\n",
    "        )"
   ]
  },
  {
   "cell_type": "markdown",
   "metadata": {
    "extensions": {
     "jupyter_dashboards": {
      "version": 1,
      "views": {
       "grid_default": {},
       "report_default": {
        "hidden": false
       }
      }
     }
    }
   },
   "source": [
    "#### Scatter (correlation) plots for all Sonde data"
   ]
  },
  {
   "cell_type": "code",
   "execution_count": 753,
   "metadata": {
    "extensions": {
     "jupyter_dashboards": {
      "version": 1,
      "views": {
       "grid_default": {
        "col": 4,
        "height": 14,
        "hidden": false,
        "row": 84,
        "width": 4
       },
       "report_default": {
        "hidden": false
       }
      }
     }
    }
   },
   "outputs": [
    {
     "data": {
      "application/vnd.jupyter.widget-view+json": {
       "model_id": "11b7f3fe4648497da2d147a4a2d21595",
       "version_major": 2,
       "version_minor": 0
      },
      "text/plain": [
       "interactive(children=(Dropdown(description='YProperty', options=('ODO mg/L', 'Chlorophyll µg/L', 'BGA-PC µg/L'…"
      ]
     },
     "metadata": {},
     "output_type": "display_data"
    },
    {
     "data": {
      "text/plain": [
       "<function __main__.scatter_plot_timeseries(YProperty='ODO mg/L', XProperty='Chlorophyll µg/L', CProperty='Temp °C', ColorMap='jet')>"
      ]
     },
     "execution_count": 753,
     "metadata": {},
     "output_type": "execute_result"
    }
   ],
   "source": [
    "def scatter_plot_timeseries(YProperty=locks_sonde_dataonly.columns[0],XProperty=locks_sonde_dataonly.columns[1],CProperty=locks_sonde_dataonly.columns[3],ColorMap='jet'):\n",
    "    fig, ax = plt.subplots()\n",
    "    locks_sonde_dataonly.plot.scatter(ax=ax,x=XProperty,y=YProperty,c=CProperty,cmap=ColorMap,s=1)\n",
    "    ax.set_title(\"Correlation of \"+YProperty+\" and \"+XProperty,fontsize=14)\n",
    "    \n",
    "interact(scatter_plot_timeseries, \\\n",
    "         YProperty=locks_sonde_dataonly.columns, \\\n",
    "         XProperty=locks_sonde_dataonly.columns, \\\n",
    "         CProperty=locks_sonde_dataonly.columns, \\\n",
    "         ColorMap=['jet','viridis','magma','coolwarm','seismic','Greys','Reds','Blues'] \\\n",
    "        )"
   ]
  },
  {
   "cell_type": "markdown",
   "metadata": {
    "extensions": {
     "jupyter_dashboards": {
      "version": 1,
      "views": {
       "grid_default": {},
       "report_default": {
        "hidden": false
       }
      }
     }
    }
   },
   "source": [
    "#### Scatter (correlation) plots for PAR data between locks\n",
    " * TODO:  color by hour"
   ]
  },
  {
   "cell_type": "code",
   "execution_count": 756,
   "metadata": {},
   "outputs": [
    {
     "data": {
      "text/plain": [
       "Text(0.5, 1.0, 'Correlation of PAR data between locks')"
      ]
     },
     "execution_count": 756,
     "metadata": {},
     "output_type": "execute_result"
    },
    {
     "data": {
      "image/png": "[encoded data removed]",
      "text/plain": [
       "<Figure size 432x288 with 2 Axes>"
      ]
     },
     "metadata": {
      "needs_background": "light"
     },
     "output_type": "display_data"
    }
   ],
   "source": [
    "fig, ax = plt.subplots()\n",
    "locks_par.plot.scatter(ax=ax,x='PAR_rcb',y='PAR_greenup',c='Month',cmap='jet')\n",
    "ax.set_title(\"Correlation of PAR data between locks\",fontsize=14)"
   ]
  },
  {
   "cell_type": "markdown",
   "metadata": {
    "extensions": {
     "jupyter_dashboards": {
      "version": 1,
      "views": {
       "grid_default": {},
       "report_default": {
        "hidden": false
       }
      }
     }
    }
   },
   "source": [
    "#### Get Sonde deployment data"
   ]
  },
  {
   "cell_type": "code",
   "execution_count": 757,
   "metadata": {
    "extensions": {
     "jupyter_dashboards": {
      "version": 1,
      "views": {
       "grid_default": {
        "hidden": true
       },
       "report_default": {
        "hidden": true
       }
      }
     }
    }
   },
   "outputs": [],
   "source": [
    "sonde_deployments = pd.read_csv('data/Greenup/sonde_deployments_3.csv',encoding='latin1')\n",
    "sonde_deployments = sonde_deployments.drop(sonde_deployments.columns[9:],axis=1)\n",
    "sonde_deployments = sonde_deployments.dropna(thresh=6)\n",
    "#sonde_deployments.columns"
   ]
  },
  {
   "cell_type": "markdown",
   "metadata": {
    "extensions": {
     "jupyter_dashboards": {
      "version": 1,
      "views": {
       "grid_default": {},
       "report_default": {
        "hidden": false
       }
      }
     }
    }
   },
   "source": [
    "#### Index with Date-Time"
   ]
  },
  {
   "cell_type": "code",
   "execution_count": 758,
   "metadata": {
    "extensions": {
     "jupyter_dashboards": {
      "version": 1,
      "views": {
       "grid_default": {
        "hidden": true
       },
       "report_default": {
        "hidden": true
       }
      }
     }
    }
   },
   "outputs": [],
   "source": [
    "def datetime_sonde_dep(row):\n",
    "    pattern = '%m/%d/%y-%H:%M:%S %p'\n",
    "    dt = row['Date ']+'-'+row['Time']\n",
    "    return pd.to_datetime(time.mktime(time.strptime(dt,pattern)),unit='s')\n",
    "    \n",
    "sonde_deployments['Date-Time'] = sonde_deployments.apply(lambda row: datetime_sonde_dep(row),axis=1)\n",
    "sonde_deployments = sonde_deployments.set_index(['Date-Time'])\n",
    "rcb_sonde_deployments = sonde_deployments[sonde_deployments['Location ']=='RCB']\n",
    "greenup_sonde_deployments = sonde_deployments[sonde_deployments['Location ']=='Greenup']"
   ]
  },
  {
   "cell_type": "markdown",
   "metadata": {
    "extensions": {
     "jupyter_dashboards": {
      "version": 1,
      "views": {
       "grid_default": {},
       "report_default": {
        "hidden": false
       }
      }
     }
    }
   },
   "source": [
    "#### Disable scrolling for time series plots"
   ]
  },
  {
   "cell_type": "code",
   "execution_count": 759,
   "metadata": {
    "extensions": {
     "jupyter_dashboards": {
      "version": 1,
      "views": {
       "grid_default": {},
       "report_default": {
        "hidden": true
       }
      }
     }
    }
   },
   "outputs": [
    {
     "data": {
      "application/javascript": [
       "IPython.OutputArea.prototype._should_scroll = function(lines) {\n",
       "    return false;\n",
       "}\n"
      ],
      "text/plain": [
       "<IPython.core.display.Javascript object>"
      ]
     },
     "metadata": {},
     "output_type": "display_data"
    }
   ],
   "source": [
    "%%javascript\n",
    "IPython.OutputArea.prototype._should_scroll = function(lines) {\n",
    "    return false;\n",
    "}"
   ]
  },
  {
   "cell_type": "markdown",
   "metadata": {},
   "source": [
    "#### Get maximum values for transects (mainly for placing labels)"
   ]
  },
  {
   "cell_type": "code",
   "execution_count": 760,
   "metadata": {},
   "outputs": [],
   "source": [
    "transects_max = transects_sonde_par.groupby(['Date-Time','T Pos']).max()\n",
    "transects_max.reset_index(level=1,inplace=True)\n",
    "#transects_max"
   ]
  },
  {
   "cell_type": "code",
   "execution_count": 761,
   "metadata": {},
   "outputs": [],
   "source": [
    "transects_mean = transects_sonde_par.groupby(['Date-Time','T Pos']).mean()\n",
    "transects_mean.reset_index(level=1,inplace=True)\n",
    "#transects_mean"
   ]
  },
  {
   "cell_type": "markdown",
   "metadata": {},
   "source": [
    "<div id='locks_ts_plots'></div>"
   ]
  },
  {
   "cell_type": "markdown",
   "metadata": {
    "extensions": {
     "jupyter_dashboards": {
      "version": 1,
      "views": {
       "grid_default": {},
       "report_default": {
        "hidden": false
       }
      }
     }
    }
   },
   "source": [
    "### Interactive timeseries plots for Sonde data, including transect data and sonde deployments"
   ]
  },
  {
   "cell_type": "code",
   "execution_count": 762,
   "metadata": {
    "extensions": {
     "jupyter_dashboards": {
      "version": 1,
      "views": {
       "grid_default": {
        "col": 8,
        "height": 27,
        "hidden": false,
        "row": 84,
        "width": 4
       },
       "report_default": {
        "hidden": false
       }
      }
     }
    }
   },
   "outputs": [
    {
     "data": {
      "application/vnd.jupyter.widget-view+json": {
       "model_id": "e804eaabff4a4432bce0ae04ec3983b6",
       "version_major": 2,
       "version_minor": 0
      },
      "text/plain": [
       "SelectionRangeSlider(description='Dates', index=(0, 26), layout=Layout(width='500px'), options=((' Aug 2017 ',…"
      ]
     },
     "metadata": {},
     "output_type": "display_data"
    }
   ],
   "source": [
    "from datetime import datetime\n",
    "start_date = datetime(2017, 8, 1)\n",
    "end_date = datetime.now()\n",
    "dates = pd.date_range(start_date, end_date, freq='M')\n",
    "date_options = [(date.strftime(' %b %Y '), date) for date in dates]\n",
    "date_index = (0, len(date_options)-1)\n",
    "\n",
    "date_range_slider = widgets.SelectionRangeSlider(\n",
    "    options=date_options,\n",
    "    index=date_index,\n",
    "    description = \"Dates\",\n",
    "    orientation = 'horizontal',\n",
    "    layout = {'width': '500px'}\n",
    ")\n",
    "date_range_slider"
   ]
  },
  {
   "cell_type": "code",
   "execution_count": 765,
   "metadata": {
    "extensions": {
     "jupyter_dashboards": {
      "version": 1,
      "views": {
       "grid_default": {
        "col": 8,
        "height": 27,
        "hidden": false,
        "row": 84,
        "width": 4
       },
       "report_default": {
        "hidden": false
       }
      }
     }
    }
   },
   "outputs": [
    {
     "data": {
      "application/vnd.jupyter.widget-view+json": {
       "model_id": "eebbad2bc4d44c429ca457e3251d85cd",
       "version_major": 2,
       "version_minor": 0
      },
      "text/plain": [
       "interactive(children=(Checkbox(value=True, description='RCB'), Checkbox(value=True, description='Greenup'), Ch…"
      ]
     },
     "metadata": {},
     "output_type": "display_data"
    },
    {
     "data": {
      "text/plain": [
       "<function __main__.plot_ts_all(RCB, Greenup, Transects, date_range=(datetime.datetime(2017, 8, 1, 0, 0), datetime.datetime(2019, 11, 21, 4, 9, 14, 835707)))>"
      ]
     },
     "execution_count": 765,
     "metadata": {},
     "output_type": "execute_result"
    }
   ],
   "source": [
    "def plot_ts_all(RCB,Greenup,Transects,date_range=(start_date,end_date)):\n",
    "    fig, axes = plt.subplots(nrows=len(locks_sonde_dataonly.columns)-2,ncols=1,figsize=(20,60))\n",
    "    i = 0\n",
    "    for property in locks_sonde_dataonly.columns.drop(['Year','Month','Hour']):\n",
    "        if (RCB):\n",
    "            rcb_dataonly[property].plot(ax=axes[i],drawstyle='steps-post',label=property+' at RCB',color='blue')\n",
    "        if (Greenup):\n",
    "            greenup_dataonly[property].plot(ax=axes[i],drawstyle='steps-post',label=property+' at Greenup',color='green')\n",
    "        if (Transects & (property!='Depth m')):\n",
    "            transects_sonde_par[property].plot(ax=axes[i],label=property+' at Transects',color='red',marker='o',linestyle='',ms=1)\n",
    "            transects_mean[property].plot(ax=axes[i],label='Mean '+property+' at Transects',color='orange',marker='o',linestyle='',ms=4)\n",
    "            for k, row in transects_max.iterrows():\n",
    "                axes[i].annotate('T-'+str(int(row['T Pos'])),(k,row[property]),xytext=(-7,5),textcoords='offset points')\n",
    "        axes[i].legend(loc='upper left')\n",
    "        axes[i].set_xlim(date_range)\n",
    "        i = i+1        \n",
    "    if (RCB):\n",
    "        rcb_sonde_deployments['Sonde in Place Now'].plot(ax=axes[i],drawstyle='steps',label='Sonde in place at RCB',color='blue')\n",
    "    if (Greenup):\n",
    "        greenup_sonde_deployments['Sonde in Place Now'].plot(ax=axes[i],drawstyle='steps',label='Sonde in place at Greenup',color='green')\n",
    "    axes[i].legend(loc='upper left')\n",
    "    axes[i].set_xlim(date_range)\n",
    "    axes[i].set_ylim(0,7.0)\n",
    "    \n",
    "#interact_manual(plot_ts_all,Site=['RCB','Greenup','Both'],date_range=date_range_slider)\n",
    "interact_manual(plot_ts_all,RCB=True,Greenup=True,Transects=True,date_range=date_range_slider)"
   ]
  },
  {
   "cell_type": "markdown",
   "metadata": {
    "extensions": {
     "jupyter_dashboards": {
      "version": 1,
      "views": {
       "grid_default": {},
       "report_default": {
        "hidden": false
       }
      }
     }
    }
   },
   "source": [
    "### Timeseries plots for PAR data, including transects"
   ]
  },
  {
   "cell_type": "code",
   "execution_count": 766,
   "metadata": {
    "extensions": {
     "jupyter_dashboards": {
      "version": 1,
      "views": {
       "grid_default": {
        "col": 8,
        "height": 27,
        "hidden": false,
        "row": 84,
        "width": 4
       },
       "report_default": {
        "hidden": false
       }
      }
     }
    }
   },
   "outputs": [
    {
     "data": {
      "application/vnd.jupyter.widget-view+json": {
       "model_id": "f7f8c233db7f4c6aaf9f92b80b4ac6ec",
       "version_major": 2,
       "version_minor": 0
      },
      "text/plain": [
       "interactive(children=(Checkbox(value=True, description='RCB'), Checkbox(value=True, description='Greenup'), Ch…"
      ]
     },
     "metadata": {},
     "output_type": "display_data"
    },
    {
     "data": {
      "text/plain": [
       "<function __main__.plot_ts_par(RCB, Greenup, Transects, date_range=(datetime.datetime(2017, 8, 1, 0, 0), datetime.datetime(2019, 11, 21, 4, 9, 14, 835707)))>"
      ]
     },
     "execution_count": 766,
     "metadata": {},
     "output_type": "execute_result"
    }
   ],
   "source": [
    "def plot_ts_par(RCB,Greenup,Transects,date_range=(start_date,end_date)):\n",
    "    fig, ax = plt.subplots(figsize=(20,5))\n",
    "    if (RCB):\n",
    "        locks_par['PAR_rcb'].plot(ax=ax,marker='o',linestyle='',ms=1,label='PAR at RCB',color='blue')\n",
    "    if (Greenup):\n",
    "        locks_par['PAR_greenup'].plot(ax=ax,marker='o',linestyle='',ms=1,label='PAR at Greenup',color='green')\n",
    "    if (Transects):\n",
    "        transects_sonde_par['PAR'].plot(ax=ax,label='PAR at Transects',color='red',marker='o',linestyle='',ms=2)\n",
    "        transects_max['PAR'].plot(ax=ax,label='Max PAR at Transects',color='orange',marker='o',linestyle='',ms=4)\n",
    "        for k, row in transects_max.iterrows():\n",
    "            ax.annotate('T-'+str(int(row['T Pos'])),(k,row['PAR']),xytext=(-7,5),textcoords='offset points')\n",
    "    ax.legend(loc='upper left')\n",
    "    ax.set_xlim(date_range)\n",
    "    \n",
    "interact(plot_ts_par,RCB=True,Greenup=True,Transects=True,date_range=date_range_slider)"
   ]
  },
  {
   "cell_type": "markdown",
   "metadata": {},
   "source": [
    "## == USGS Gage at Ironton =="
   ]
  },
  {
   "cell_type": "markdown",
   "metadata": {
    "extensions": {
     "jupyter_dashboards": {
      "version": 1,
      "views": {
       "grid_default": {
        "hidden": true
       },
       "report_default": {
        "hidden": true
       }
      }
     }
    }
   },
   "source": [
    "### Get USGS Gage data directly from USGS (WaterData) web services \n",
    "* Gage #03216070 in Ironton, OH\n",
    " *  168408 72254 Water velocity reading from field sensor, feet per second\n",
    " *  209867 72255 Mean water velocity for discharge computation, feet per second\n",
    " *  209869 00060 Discharge, cubic feet per second\n",
    " *  231500 00011 Temperature, water, degrees Fahrenheit, ADVM, [ADVM]\n",
    " *   59675 00065 Gage height, feet\n",
    " *   59676 00010 Temperature, water, degrees Celsius\n",
    " *   59677 00400 pH, water, unfiltered, field, standard units\n",
    " *   59678 00095 Specific conductance, water, unfiltered, microsiemens per centimeter at 25 degrees Celsius\n",
    " *   59679 00300 Dissolved oxygen, water, unfiltered, milligrams per liter\n",
    " *   59680 63680 Turbidity, water, unfiltered, monochrome near infra-red LED light, 780-900 nm, detection angle 90 +-2.5 degrees, formazin nephelometric units (FNU)\n",
    " *   59681 99133 Nitrate plus nitrite, water, in situ, milligrams per liter as nitrogen\n",
    "* See: https://nwis.waterdata.usgs.gov/usa/nwis, https://waterservices.usgs.gov/rest/\n",
    "* Can use dv instead of uv to get daily summary data (no timezone field)\n",
    "* Can also receive data in WaterML and JSON formats"
   ]
  },
  {
   "cell_type": "code",
   "execution_count": 767,
   "metadata": {},
   "outputs": [],
   "source": [
    "ironton_gage = pd.read_csv(\"https://nwis.waterdata.usgs.gov/usa/nwis/uv/\"+ \\\n",
    "                        \"?site_no=03216070\"+ \\\n",
    "                        \"&period=&begin_date=2017-08-25&end_date=2019-10-01\"+ \\\n",
    "                        \"&cb_00010=on&cb_00011=on&cb_00060=on&cb_00065=on&cb_00095=on&cb_00300=on&cb_00400=on&cb_63680=on&cb_72254=on&cb_72255=on&cb_99133=on\"+ \\\n",
    "                        \"&format=rdb\", \\\n",
    "                       sep='\\t',comment='#',header=[0,1], \\\n",
    "                       dtype={4: np.float64, 5: str, 6: np.float64, 7: str, 8:np.float64, 9: str, 10: np.float64, 11: str, 12: np.float64, 13: str, 14: np.float64, 15: str, 16: np.float64, 17: str, 18: np.float, 19: str, 20: np.float64, 21: str, 22: np.float64, 23: str, 24: np.float64, 25: str}, \\\n",
    "                       na_values=['Eqp'])"
   ]
  },
  {
   "cell_type": "code",
   "execution_count": 768,
   "metadata": {},
   "outputs": [],
   "source": [
    "ironton_gage = ironton_gage.reset_index()\n",
    "ironton_gage.columns = ['Index', 'Agency', 'Site', 'DateTime', 'TZ', \\\n",
    "                     'Sensor velocity', 'q1', 'Mean velocity', 'q2', 'Discharge', 'q3', 'Temperature ADVM', 'q4', \\\n",
    "                     'Gage height', 'q5', 'Temperature', 'q6', 'pH', 'q7', 'Spec cond', 'q8', \\\n",
    "                     'Dissolved oxygen', 'q9', 'Turbidity', 'q10', 'NO3+NO2', 'q11']\n",
    "#ironton_gage.columns, ironton_gage.head()"
   ]
  },
  {
   "cell_type": "code",
   "execution_count": 769,
   "metadata": {},
   "outputs": [],
   "source": [
    "ironton_gage = ironton_gage.drop(ironton_gage.columns[6:28:2],axis=1)\n",
    "ironton_gage = ironton_gage.drop(['Index','Agency','Site','TZ'],axis=1)\n",
    "#ironton_gage.head()"
   ]
  },
  {
   "cell_type": "markdown",
   "metadata": {},
   "source": [
    "#### Limit property ranges"
   ]
  },
  {
   "cell_type": "code",
   "execution_count": 770,
   "metadata": {},
   "outputs": [],
   "source": [
    "ironton_gage['Turbidity'] = ironton_gage['Turbidity'].apply(lambda x: TURB_MIN if x < TURB_MIN else x)\n",
    "ironton_gage['Turbidity'] = ironton_gage['Turbidity'].apply(lambda x: TURB_MAX if x > TURB_MAX else x)"
   ]
  },
  {
   "cell_type": "code",
   "execution_count": 771,
   "metadata": {},
   "outputs": [],
   "source": [
    "ironton_gage['Dissolved oxygen'] = ironton_gage['Dissolved oxygen'].apply(lambda x: DO_MIN if x < DO_MIN else x)\n",
    "ironton_gage['Dissolved oxygen'] = ironton_gage['Dissolved oxygen'].apply(lambda x: DO_MAX if x > DO_MAX else x)"
   ]
  },
  {
   "cell_type": "code",
   "execution_count": 772,
   "metadata": {},
   "outputs": [],
   "source": [
    "ironton_gage['Spec cond'] = ironton_gage['Spec cond'].apply(lambda x: SPCOND_MIN if x < SPCOND_MIN else x)\n",
    "ironton_gage['Spec cond'] = ironton_gage['Spec cond'].apply(lambda x: SPCOND_MAX if x > SPCOND_MAX else x)"
   ]
  },
  {
   "cell_type": "code",
   "execution_count": 773,
   "metadata": {},
   "outputs": [],
   "source": [
    "ironton_gage['NO3+NO2'] = ironton_gage['NO3+NO2'].apply(lambda x: NITR_MIN if x < NITR_MIN else x)\n",
    "ironton_gage['NO3+NO2'] = ironton_gage['NO3+NO2'].apply(lambda x: NITR_MAX if x > NITR_MAX else x)"
   ]
  },
  {
   "cell_type": "markdown",
   "metadata": {},
   "source": [
    "#### Compute depth (in meters) from Gage height (in feet)"
   ]
  },
  {
   "cell_type": "code",
   "execution_count": 774,
   "metadata": {},
   "outputs": [],
   "source": [
    "ironton_gage['Depth'] = ironton_gage.apply(lambda x: (x['Gage height']-GAGE_HGT0)/FT_PER_M, axis=1)"
   ]
  },
  {
   "cell_type": "markdown",
   "metadata": {},
   "source": [
    "#### Index by Date-time"
   ]
  },
  {
   "cell_type": "code",
   "execution_count": 775,
   "metadata": {
    "extensions": {
     "jupyter_dashboards": {
      "version": 1,
      "views": {
       "grid_default": {
        "hidden": true
       },
       "report_default": {
        "hidden": true
       }
      }
     }
    }
   },
   "outputs": [],
   "source": [
    "def datetime_usgs(row):\n",
    "    pattern = '%Y-%m-%d %H:%M'\n",
    "    dt = row['DateTime']\n",
    "    return pd.to_datetime(time.mktime(time.strptime(dt,pattern)),unit='s')\n",
    "    \n",
    "ironton_gage['DateTime'] = ironton_gage.apply(lambda row: datetime_usgs(row),axis=1)\n",
    "ironton_gage = ironton_gage.set_index(['DateTime'])"
   ]
  },
  {
   "cell_type": "markdown",
   "metadata": {},
   "source": [
    "#### Save Ironton Gage data"
   ]
  },
  {
   "cell_type": "code",
   "execution_count": 776,
   "metadata": {},
   "outputs": [],
   "source": [
    "ironton_gage.to_csv('data/Greenup/out/ironton_gage.csv')"
   ]
  },
  {
   "cell_type": "markdown",
   "metadata": {},
   "source": [
    "<div id='ironton_usgs_plots'></div>"
   ]
  },
  {
   "cell_type": "markdown",
   "metadata": {},
   "source": [
    "## Ironton Gage Plots"
   ]
  },
  {
   "cell_type": "code",
   "execution_count": 777,
   "metadata": {
    "extensions": {
     "jupyter_dashboards": {
      "version": 1,
      "views": {
       "grid_default": {
        "hidden": true
       },
       "report_default": {
        "hidden": true
       }
      }
     }
    }
   },
   "outputs": [
    {
     "data": {
      "application/vnd.jupyter.widget-view+json": {
       "model_id": "a6bc9a90fa58499ba76ecf2fc779ff9c",
       "version_major": 2,
       "version_minor": 0
      },
      "text/plain": [
       "interactive(children=(Dropdown(description='Property', options=('Sensor velocity', 'Mean velocity', 'Discharge…"
      ]
     },
     "metadata": {},
     "output_type": "display_data"
    },
    {
     "data": {
      "text/plain": [
       "<function __main__.dist_plot_ts_ironton(Property, Kind='kde')>"
      ]
     },
     "execution_count": 777,
     "metadata": {},
     "output_type": "execute_result"
    }
   ],
   "source": [
    "def dist_plot_ts_ironton(Property,Kind='kde'):\n",
    "    ironton_gage[Property].plot(kind=Kind,color='blue')\n",
    "        \n",
    "interact(dist_plot_ts_ironton, \\\n",
    "         Property=ironton_gage.columns, \\\n",
    "         Kind=['hist','kde','box'] \\\n",
    "        )"
   ]
  },
  {
   "cell_type": "code",
   "execution_count": 778,
   "metadata": {
    "extensions": {
     "jupyter_dashboards": {
      "version": 1,
      "views": {
       "grid_default": {
        "hidden": true
       },
       "report_default": {
        "hidden": true
       }
      }
     }
    }
   },
   "outputs": [
    {
     "data": {
      "application/vnd.jupyter.widget-view+json": {
       "model_id": "f45d7dde0673479c83856d1fd96fd8af",
       "version_major": 2,
       "version_minor": 0
      },
      "text/plain": [
       "interactive(children=(Dropdown(description='YProperty', options=('Sensor velocity', 'Mean velocity', 'Discharg…"
      ]
     },
     "metadata": {},
     "output_type": "display_data"
    },
    {
     "data": {
      "text/plain": [
       "<function __main__.scatter_plot_ts_ironton(YProperty='Sensor velocity', XProperty='Mean velocity', CProperty='Temperature ADVM', ColorMap='jet')>"
      ]
     },
     "execution_count": 778,
     "metadata": {},
     "output_type": "execute_result"
    }
   ],
   "source": [
    "def scatter_plot_ts_ironton(YProperty=ironton_gage.columns[0],XProperty=ironton_gage.columns[1],CProperty=ironton_gage.columns[3],ColorMap='jet'):\n",
    "    fig, ax = plt.subplots()\n",
    "    ironton_gage.plot.scatter(ax=ax,x=XProperty,y=YProperty,c=CProperty,cmap=ColorMap,s=1)\n",
    "    ax.set_title(\"Correlation of \"+YProperty+\" and \"+XProperty,fontsize=14)\n",
    "    \n",
    "interact(scatter_plot_ts_ironton, \\\n",
    "         YProperty=ironton_gage.columns, \\\n",
    "         XProperty=ironton_gage.columns, \\\n",
    "         CProperty=ironton_gage.columns, \\\n",
    "         ColorMap=['jet','viridis','magma','coolwarm','seismic','Greys','Reds','Blues'] \\\n",
    "        )"
   ]
  },
  {
   "cell_type": "code",
   "execution_count": 779,
   "metadata": {
    "extensions": {
     "jupyter_dashboards": {
      "version": 1,
      "views": {
       "grid_default": {
        "hidden": true
       },
       "report_default": {
        "hidden": true
       }
      }
     }
    }
   },
   "outputs": [
    {
     "data": {
      "application/vnd.jupyter.widget-view+json": {
       "model_id": "8a272481b5d1459ab3f5123ad00f5b72",
       "version_major": 2,
       "version_minor": 0
      },
      "text/plain": [
       "interactive(children=(SelectionRangeSlider(description='Dates', index=(0, 26), layout=Layout(width='500px'), o…"
      ]
     },
     "metadata": {},
     "output_type": "display_data"
    },
    {
     "data": {
      "text/plain": [
       "<function __main__.plot_ts_ironton(date_range=(datetime.datetime(2017, 8, 1, 0, 0), datetime.datetime(2019, 11, 21, 4, 9, 14, 835707)))>"
      ]
     },
     "execution_count": 779,
     "metadata": {},
     "output_type": "execute_result"
    }
   ],
   "source": [
    "def plot_ts_ironton(date_range=(start_date,end_date)):\n",
    "    fig, axes = plt.subplots(nrows=len(ironton_gage.columns),ncols=1,figsize=(20,30))\n",
    "    i = 0\n",
    "    for property in ironton_gage.columns:\n",
    "        ironton_gage[property].plot(ax=axes[i],drawstyle='steps-post',legend=True,color='blue')\n",
    "        axes[i].legend([property],loc='upper left')\n",
    "        axes[i].set_xlim(date_range)\n",
    "        i = i+1\n",
    "            \n",
    "interact_manual(plot_ts_ironton,date_range=date_range_slider)"
   ]
  },
  {
   "cell_type": "markdown",
   "metadata": {},
   "source": [
    "<div id='htg_precip_data'></div>"
   ]
  },
  {
   "cell_type": "markdown",
   "metadata": {},
   "source": [
    "### Get precipitation data from NOAA for station US1WVCB0011 in Huntington\n",
    "* Make two 1-year requests (max allowed) and concatenate them\n",
    "* Need API token from NOAA\n",
    "* Request data in JSON format\n",
    "* Create date-time index at Noon (as with transect data)"
   ]
  },
  {
   "cell_type": "code",
   "execution_count": 780,
   "metadata": {},
   "outputs": [],
   "source": [
    "url = \"https://www.ncdc.noaa.gov/cdo-web/api/v2/data?datasetid=GHCND&datatypeid=PRCP&stationid=GHCND:US1WVCB0011&startdate=2017-10-01&enddate=2018-09-30&limit=500\"\n",
    "headers = {\"token\":\"dSWlkVrvxNPUSVBGXOeAWkynJQdJOxAB\",\"Content-Type\":\"application/json;charset=UTF-8\"}\n",
    "resp = requests.get(url, headers=headers)\n",
    "json_data = json.loads(resp.text)\n",
    "precip1 = pd.read_json(json.dumps(json_data['results']))"
   ]
  },
  {
   "cell_type": "code",
   "execution_count": 781,
   "metadata": {},
   "outputs": [],
   "source": [
    "url = \"https://www.ncdc.noaa.gov/cdo-web/api/v2/data?datasetid=GHCND&datatypeid=PRCP&stationid=GHCND:US1WVCB0011&startdate=2018-10-01&enddate=2019-09-30&limit=500\"\n",
    "headers = {\"token\":\"dSWlkVrvxNPUSVBGXOeAWkynJQdJOxAB\",\"Content-Type\":\"application/json;charset=UTF-8\"}\n",
    "resp = requests.get(url, headers=headers)\n",
    "json_data = json.loads(resp.text)\n",
    "precip2 = pd.read_json(json.dumps(json_data['results']))\n",
    "precip = pd.concat([precip1,precip2])"
   ]
  },
  {
   "cell_type": "code",
   "execution_count": 782,
   "metadata": {},
   "outputs": [],
   "source": [
    "def datetime_noaa(row):\n",
    "    pattern = '%Y-%m-%d'\n",
    "    dt = row['date']\n",
    "    #return pd.to_datetime(time.mktime(time.strptime(dt,pattern)),unit='s')\n",
    "    return pd.to_datetime(dt,unit='s')\n",
    "    \n",
    "precip['DateTime'] = precip.apply(lambda row: datetime_noaa(row).replace(hour=12,minute=0,second=0,microsecond=0,nanosecond=0),axis=1)\n",
    "precip = precip.set_index(['DateTime'])"
   ]
  },
  {
   "cell_type": "code",
   "execution_count": 783,
   "metadata": {},
   "outputs": [],
   "source": [
    "precip = precip.drop(['attributes','datatype','date','station'],axis=1)"
   ]
  },
  {
   "cell_type": "code",
   "execution_count": 784,
   "metadata": {},
   "outputs": [],
   "source": [
    "#precip.head()"
   ]
  },
  {
   "cell_type": "markdown",
   "metadata": {},
   "source": [
    "#### Create rolling sum envelop with lag to compare with gage data"
   ]
  },
  {
   "cell_type": "code",
   "execution_count": 785,
   "metadata": {},
   "outputs": [],
   "source": [
    "precip['rolling_sum'] = precip.value.rolling(7,win_type='triang').sum()"
   ]
  },
  {
   "cell_type": "code",
   "execution_count": 786,
   "metadata": {},
   "outputs": [
    {
     "data": {
      "text/plain": [
       "<matplotlib.legend.Legend at 0x7fd99a355588>"
      ]
     },
     "execution_count": 786,
     "metadata": {},
     "output_type": "execute_result"
    },
    {
     "data": {
      "image/png": "[encoded data removed]",
      "text/plain": [
       "<Figure size 1440x432 with 1 Axes>"
      ]
     },
     "metadata": {
      "needs_background": "light"
     },
     "output_type": "display_data"
    }
   ],
   "source": [
    "fig, ax = plt.subplots(figsize=(20,6))\n",
    "\n",
    "precip['value'].plot(ax=ax, kind='line', c='blue', label='Daily precip')\n",
    "precip['rolling_sum'].plot(ax=ax, kind='line', linestyle='dotted', c='red', label='7-day rolling sum')\n",
    "\n",
    "ax.legend(loc='best')"
   ]
  },
  {
   "cell_type": "markdown",
   "metadata": {},
   "source": [
    "<div id='resampled_ts_plots'></div>"
   ]
  },
  {
   "cell_type": "markdown",
   "metadata": {
    "extensions": {
     "jupyter_dashboards": {
      "version": 1,
      "views": {
       "grid_default": {},
       "report_default": {
        "hidden": false
       }
      }
     }
    }
   },
   "source": [
    "## Resample timeseries data"
   ]
  },
  {
   "cell_type": "code",
   "execution_count": 787,
   "metadata": {
    "extensions": {
     "jupyter_dashboards": {
      "version": 1,
      "views": {
       "grid_default": {},
       "report_default": {
        "hidden": true
       }
      }
     }
    }
   },
   "outputs": [],
   "source": [
    "rcb_resampled_means = rcb_dataonly.resample('12H').mean()\n",
    "greenup_resampled_means = greenup_dataonly.resample('12H').mean()\n",
    "locks_par_means = locks_par.resample('12H').mean()\n",
    "ironton_gage_means = ironton_gage.resample('12H').mean()"
   ]
  },
  {
   "cell_type": "code",
   "execution_count": 790,
   "metadata": {
    "extensions": {
     "jupyter_dashboards": {
      "version": 1,
      "views": {
       "grid_default": {
        "hidden": true
       },
       "report_default": {
        "hidden": true
       }
      }
     }
    }
   },
   "outputs": [
    {
     "data": {
      "application/vnd.jupyter.widget-view+json": {
       "model_id": "f583aa379bd14d73836361c4405ed5f8",
       "version_major": 2,
       "version_minor": 0
      },
      "text/plain": [
       "interactive(children=(Checkbox(value=True, description='RCB'), Checkbox(value=True, description='Greenup'), Ch…"
      ]
     },
     "metadata": {},
     "output_type": "display_data"
    },
    {
     "data": {
      "text/plain": [
       "<function __main__.plot_ts_all(RCB, Greenup, Ironton, Precip, PAR, Sondes, Transects, date_range=(datetime.datetime(2017, 8, 1, 0, 0), datetime.datetime(2019, 11, 21, 4, 9, 14, 835707)))>"
      ]
     },
     "execution_count": 790,
     "metadata": {},
     "output_type": "execute_result"
    }
   ],
   "source": [
    "def plot_ts_all(RCB,Greenup,Ironton,Precip,PAR,Sondes,Transects,date_range=(start_date,end_date)):\n",
    "    nrows = len(locks_sonde_dataonly.columns)-3\n",
    "    if (Ironton):\n",
    "        nrows = nrows+4\n",
    "    if (Precip):\n",
    "        nrows = nrows+1\n",
    "    if (PAR):\n",
    "        nrows = nrows+1\n",
    "    if (Sondes):\n",
    "        nrows = nrows+1\n",
    "    fig, axes = plt.subplots(nrows=nrows,ncols=1,figsize=(20,3*nrows))\n",
    "    i = 0\n",
    "    for property in locks_sonde_dataonly.columns.drop(['Year','Month','Hour']):\n",
    "        if (RCB):\n",
    "            rcb_resampled_means[property].plot(ax=axes[i],drawstyle='steps-post',label=property+' at RCB',color='blue')\n",
    "        if (Greenup):\n",
    "            greenup_resampled_means[property].plot(ax=axes[i],drawstyle='steps-post',label=property+' at Greenup',color='green')\n",
    "        if (Ironton & (property=='Temp °C')):\n",
    "            ironton_gage_means['Temperature'].plot(ax=axes[i],drawstyle='steps-post',label='Temp °C at Ironton',color='orange')           \n",
    "        if (Ironton & (property=='ODO mg/L')):\n",
    "            ironton_gage_means['Dissolved oxygen'].plot(ax=axes[i],drawstyle='steps-post',label='ODO mg/L at Ironton',color='orange')           \n",
    "        if (Ironton & (property=='Turbidity NTU')):\n",
    "            ironton_gage_means['Turbidity'].plot(ax=axes[i],drawstyle='steps-post',label='Turbidity NTU at Ironton',color='orange')           \n",
    "        if (Ironton & (property=='pH')):\n",
    "            ironton_gage_means['pH'].plot(ax=axes[i],drawstyle='steps-post',label='pH at Ironton',color='orange')           \n",
    "        if (Ironton & (property=='Cond µS/cm')):\n",
    "            ironton_gage_means['Spec cond'].plot(ax=axes[i],drawstyle='steps-post',label='Cond µS/cm at Ironton',color='orange')           \n",
    "        if (Ironton & (property=='Depth m')):\n",
    "            ironton_gage_means['Depth'].plot(ax=axes[i],drawstyle='steps-post',label='Depth m at Ironton',color='orange')           \n",
    "        if (Transects & (property!='Depth m')):\n",
    "            transects_sonde_par[property].plot(ax=axes[i],label=property+' at Transects',color='red',marker='o',linestyle='',ms=2)\n",
    "            transects_mean[property].plot(ax=axes[i],label='Mean '+property+' at Transects',color='orange',marker='o',linestyle='',ms=4)\n",
    "            #for k, row in transects_max.iterrows():\n",
    "                #axes[i].annotate('T-'+str(int(row['T Pos'])),(k,row[property]),xytext=(-7,5),textcoords='offset points')\n",
    "        axes[i].set_xlim(date_range)\n",
    "        axes[i].legend(loc='upper left')\n",
    "        i = i+1\n",
    "    if (Precip):\n",
    "        precip['value'].plot(ax=axes[i],drawstyle='steps-mid',label='Precipitation in Huntington',color='purple')\n",
    "        precip['rolling_sum'].plot(ax=axes[i],kind='line',linestyle='dotted',label='7-day rolling sum',color='purple')\n",
    "        axes[i].set_xlim(date_range)\n",
    "        axes[i].legend(loc='upper left')\n",
    "        i = i+1\n",
    "    if (Ironton):\n",
    "        for property in ['Gage height','Discharge','Sensor velocity','NO3+NO2']:    \n",
    "            ironton_gage_means[property].plot(ax=axes[i],drawstyle='steps-post',label=property+' at Ironton',color='orange')   \n",
    "            axes[i].set_xlim(date_range)\n",
    "            axes[i].legend(loc='upper left') \n",
    "            i = i+1\n",
    "    if (PAR):\n",
    "        if (RCB):\n",
    "            locks_par_means['PAR_rcb'].plot(ax=axes[i],marker='o',linestyle='',ms=2,label='PAR at RCB',color='blue')\n",
    "        if (Greenup):\n",
    "            locks_par_means['PAR_greenup'].plot(ax=axes[i],marker='o',linestyle='',ms=2,label='PAR at Greenup',color='green') \n",
    "        if (Transects):\n",
    "            transects_sonde_par['PAR'].plot(ax=axes[i],label='PAR at Transects',color='red',marker='o',linestyle='',ms=2)\n",
    "            transects_max['PAR'].plot(ax=axes[i],label='Max PAR at Transects',color='orange',marker='o',linestyle='',ms=4)\n",
    "            #for k, row in transects_max.iterrows():\n",
    "                #axes[i].annotate('T-'+str(int(row['T Pos'])),(k,row['PAR']),xytext=(-7,5),textcoords='offset points')\n",
    "        axes[i].set_xlim(date_range)\n",
    "        axes[i].legend(loc='upper left')\n",
    "        i = i+1\n",
    "    if (Sondes):\n",
    "        if (RCB):\n",
    "            rcb_sonde_deployments['Sonde in Place Now'].plot(ax=axes[i],drawstyle='steps',label='Sonde in place at RCB',color='blue')\n",
    "        if (Greenup):\n",
    "            greenup_sonde_deployments['Sonde in Place Now'].plot(ax=axes[i],drawstyle='steps',label='Sonde in place at Greenup',color='green')\n",
    "        axes[i].set_xlim(date_range)\n",
    "        axes[i].set_ylim(0,7.0)\n",
    "        axes[i].legend(loc='upper left')\n",
    "    \n",
    "interact_manual(plot_ts_all,RCB=True,Greenup=True,Ironton=True,Precip=True,Transects=False,PAR=True,Sondes=False,date_range=date_range_slider)"
   ]
  },
  {
   "cell_type": "markdown",
   "metadata": {},
   "source": [
    "<div id='merged_data'></div>"
   ]
  },
  {
   "cell_type": "markdown",
   "metadata": {},
   "source": [
    "## Merge RCB and Greenup resampled means"
   ]
  },
  {
   "cell_type": "code",
   "execution_count": 791,
   "metadata": {
    "extensions": {
     "jupyter_dashboards": {
      "version": 1,
      "views": {
       "grid_default": {},
       "report_default": {
        "hidden": true
       }
      }
     }
    }
   },
   "outputs": [],
   "source": [
    "locks_resampled_means = pd.merge(rcb_resampled_means, greenup_resampled_means, how='outer', left_index=True, right_index=True, suffixes=('_rcb','_greenup'))"
   ]
  },
  {
   "cell_type": "markdown",
   "metadata": {},
   "source": [
    "#### Save resampled and merged locks data"
   ]
  },
  {
   "cell_type": "code",
   "execution_count": 792,
   "metadata": {
    "extensions": {
     "jupyter_dashboards": {
      "version": 1,
      "views": {
       "grid_default": {},
       "report_default": {
        "hidden": true
       }
      }
     }
    }
   },
   "outputs": [],
   "source": [
    "locks_resampled_means.to_csv(\"data/Greenup/out/locks_resampled_means.csv\")"
   ]
  },
  {
   "cell_type": "markdown",
   "metadata": {
    "extensions": {
     "jupyter_dashboards": {
      "version": 1,
      "views": {
       "grid_default": {},
       "report_default": {
        "hidden": false
       }
      }
     }
    }
   },
   "source": [
    "### Cross correlation between RC Byrd and Greenup Locks readings"
   ]
  },
  {
   "cell_type": "code",
   "execution_count": 793,
   "metadata": {
    "extensions": {
     "jupyter_dashboards": {
      "version": 1,
      "views": {
       "grid_default": {
        "hidden": true
       },
       "report_default": {
        "hidden": true
       }
      }
     }
    }
   },
   "outputs": [
    {
     "data": {
      "application/vnd.jupyter.widget-view+json": {
       "model_id": "d971589d0c874ffc991edc5d8b95b037",
       "version_major": 2,
       "version_minor": 0
      },
      "text/plain": [
       "interactive(children=(Dropdown(description='Property', options=('ODO mg/L', 'Chlorophyll µg/L', 'BGA-PC µg/L',…"
      ]
     },
     "metadata": {},
     "output_type": "display_data"
    },
    {
     "data": {
      "text/plain": [
       "<function __main__.scatter_plot_cross_timeseries(Property, CProperty='Temp °C', ColorMap='jet')>"
      ]
     },
     "execution_count": 793,
     "metadata": {},
     "output_type": "execute_result"
    }
   ],
   "source": [
    "def scatter_plot_cross_timeseries(Property,CProperty='Temp °C',ColorMap='jet'):\n",
    "    fig, ax = plt.subplots()\n",
    "    locks_resampled_means.plot.scatter(ax=ax,x=Property+'_rcb',y=Property+'_greenup',c=CProperty+'_rcb',cmap=ColorMap,s=1)\n",
    "    ax.set_title(\"Correlation of \"+Property+\" at RCB and Greenup Locks\",fontsize=14)\n",
    "    \n",
    "interact(scatter_plot_cross_timeseries, \\\n",
    "         Property=locks_sonde_dataonly.columns, \\\n",
    "         CProperty=locks_sonde_dataonly.columns, \\\n",
    "         ColorMap=['jet','viridis','magma','coolwarm','seismic','Greys','Reds','Blues'] \\\n",
    "        )"
   ]
  },
  {
   "cell_type": "markdown",
   "metadata": {},
   "source": [
    "## Merge Locks and Ironton Gage data\n",
    "* TODO\n",
    " * Merge all data (locks sonde and PAR, Ironton gage, NOAA weathter) before doing correlation plots"
   ]
  },
  {
   "cell_type": "code",
   "execution_count": 794,
   "metadata": {
    "extensions": {
     "jupyter_dashboards": {
      "version": 1,
      "views": {
       "grid_default": {
        "hidden": true
       },
       "report_default": {
        "hidden": true
       }
      }
     }
    }
   },
   "outputs": [],
   "source": [
    "locks_usgs_resampled_means = pd.merge(locks_resampled_means, ironton_gage_means, how='outer', left_index=True, right_index=True, suffixes=('','_ironton'))"
   ]
  },
  {
   "cell_type": "markdown",
   "metadata": {},
   "source": [
    "#### Save resampled and merged locks and Ironton gage data"
   ]
  },
  {
   "cell_type": "code",
   "execution_count": 795,
   "metadata": {
    "extensions": {
     "jupyter_dashboards": {
      "version": 1,
      "views": {
       "grid_default": {
        "hidden": true
       },
       "report_default": {
        "hidden": true
       }
      }
     }
    }
   },
   "outputs": [],
   "source": [
    "locks_usgs_resampled_means.to_csv(\"data/Greenup/out/locks_usgs_resampled_means.csv\")"
   ]
  },
  {
   "cell_type": "markdown",
   "metadata": {
    "extensions": {
     "jupyter_dashboards": {
      "version": 1,
      "views": {
       "grid_default": {},
       "report_default": {
        "hidden": false
       }
      }
     }
    }
   },
   "source": [
    "### Correlation between Locks and Ironton gage data"
   ]
  },
  {
   "cell_type": "code",
   "execution_count": 796,
   "metadata": {
    "extensions": {
     "jupyter_dashboards": {
      "version": 1,
      "views": {
       "grid_default": {
        "hidden": true
       },
       "report_default": {
        "hidden": true
       }
      }
     }
    }
   },
   "outputs": [
    {
     "data": {
      "application/vnd.jupyter.widget-view+json": {
       "model_id": "26beabefb9344b35ad882c57ff1cc0ce",
       "version_major": 2,
       "version_minor": 0
      },
      "text/plain": [
       "interactive(children=(Dropdown(description='Locks', options=('ODO % sat_rcb', 'ODO mg/L_rcb', 'Chlorophyll RFU…"
      ]
     },
     "metadata": {},
     "output_type": "display_data"
    },
    {
     "data": {
      "text/plain": [
       "<function __main__.scatter_plot_cross_all_timeseries(Locks, Ironton, ColorBy='Temp °C', ColorMap='jet')>"
      ]
     },
     "execution_count": 796,
     "metadata": {},
     "output_type": "execute_result"
    }
   ],
   "source": [
    "def scatter_plot_cross_all_timeseries(Locks,Ironton,ColorBy='Temp °C',ColorMap='jet'):\n",
    "    fig, ax = plt.subplots()\n",
    "    locks_usgs_resampled_means.plot.scatter(ax=ax,x=Ironton,y=Locks,c=ColorBy,cmap=ColorMap,s=4)\n",
    "    ax.set_title(\"RCB and Greenup Locks vs Ironton Gage\",fontsize=14)\n",
    "    \n",
    "interact(scatter_plot_cross_all_timeseries, \\\n",
    "         Locks=locks_resampled_means.columns, \\\n",
    "         Ironton=ironton_gage_means.columns, \\\n",
    "         ColorBy=locks_usgs_resampled_means.columns, \\\n",
    "         ColorMap=['jet','viridis','magma','coolwarm','seismic','Greys','Reds','Blues'] \\\n",
    "        )"
   ]
  },
  {
   "cell_type": "markdown",
   "metadata": {},
   "source": [
    "## Merge Locks Sonde and PAR, and Ironton gage data"
   ]
  },
  {
   "cell_type": "code",
   "execution_count": 797,
   "metadata": {
    "extensions": {
     "jupyter_dashboards": {
      "version": 1,
      "views": {
       "grid_default": {
        "hidden": true
       },
       "report_default": {
        "hidden": true
       }
      }
     }
    }
   },
   "outputs": [],
   "source": [
    "locks_par_usgs_resampled_means = pd.merge(locks_usgs_resampled_means, locks_par_means, how='outer', left_index=True, right_index=True)"
   ]
  },
  {
   "cell_type": "markdown",
   "metadata": {},
   "source": [
    "#### Save all resampled and merged data"
   ]
  },
  {
   "cell_type": "code",
   "execution_count": 798,
   "metadata": {
    "extensions": {
     "jupyter_dashboards": {
      "version": 1,
      "views": {
       "grid_default": {
        "hidden": true
       },
       "report_default": {
        "hidden": true
       }
      }
     }
    }
   },
   "outputs": [],
   "source": [
    "locks_par_usgs_resampled_means.to_csv(\"data/Greenup/out/locks_par_usgs_resampled_means.csv\")"
   ]
  },
  {
   "cell_type": "markdown",
   "metadata": {},
   "source": [
    "### Cross-correlation of all Locks and Ironton properties"
   ]
  },
  {
   "cell_type": "code",
   "execution_count": 799,
   "metadata": {
    "extensions": {
     "jupyter_dashboards": {
      "version": 1,
      "views": {
       "grid_default": {
        "hidden": true
       },
       "report_default": {
        "hidden": true
       }
      }
     }
    }
   },
   "outputs": [
    {
     "data": {
      "application/vnd.jupyter.widget-view+json": {
       "model_id": "61f971ecb322421b975995d8ac702c24",
       "version_major": 2,
       "version_minor": 0
      },
      "text/plain": [
       "interactive(children=(Dropdown(description='YProperty', options=('ODO % sat_rcb', 'ODO mg/L_rcb', 'Chlorophyll…"
      ]
     },
     "metadata": {},
     "output_type": "display_data"
    },
    {
     "data": {
      "text/plain": [
       "<function __main__.scatter_plot_locks_par_usgs(YProperty, XProperty, ColorBy='Temp °C_rcb', ColorMap='jet')>"
      ]
     },
     "execution_count": 799,
     "metadata": {},
     "output_type": "execute_result"
    }
   ],
   "source": [
    "def scatter_plot_locks_par_usgs(YProperty,XProperty,ColorBy='Temp °C_rcb',ColorMap='jet'):\n",
    "    fig, ax = plt.subplots()\n",
    "    locks_par_usgs_resampled_means.plot.scatter(ax=ax,x=XProperty,y=YProperty,c=ColorBy,cmap=ColorMap,s=1)\n",
    "    ax.set_title(XProperty+\" vs \"+YProperty+\" by \"+ColorBy,fontsize=14)\n",
    "    \n",
    "interact(scatter_plot_locks_par_usgs, \\\n",
    "         YProperty=locks_par_usgs_resampled_means.columns, \\\n",
    "         XProperty=locks_par_usgs_resampled_means.columns, \\\n",
    "         ColorBy=locks_par_usgs_resampled_means.columns, \\\n",
    "         ColorMap=['jet','viridis','magma','coolwarm','seismic','Greys','Reds','Blues'] \\\n",
    "        )"
   ]
  },
  {
   "cell_type": "markdown",
   "metadata": {},
   "source": [
    "## Merge transects with locks and gage data "
   ]
  },
  {
   "cell_type": "code",
   "execution_count": 800,
   "metadata": {
    "extensions": {
     "jupyter_dashboards": {
      "version": 1,
      "views": {
       "grid_default": {},
       "report_default": {
        "hidden": true
       }
      }
     }
    }
   },
   "outputs": [],
   "source": [
    "transects_with_bases = pd.merge(transects_sonde_par, locks_par_usgs_resampled_means, how='outer', left_index=True, right_index=True,suffixes=('','_ironton'))"
   ]
  },
  {
   "cell_type": "code",
   "execution_count": 801,
   "metadata": {
    "extensions": {
     "jupyter_dashboards": {
      "version": 1,
      "views": {
       "grid_default": {},
       "report_default": {
        "hidden": true
       }
      }
     }
    }
   },
   "outputs": [],
   "source": [
    "transects_with_bases['Name'] = transects_with_bases.apply(lambda x: 'T-0' if math.isnan(x['T Pos']) else 'T-'+str(int(x['T Pos'])),axis=1)\n",
    "#transects_with_bases"
   ]
  },
  {
   "cell_type": "markdown",
   "metadata": {
    "extensions": {
     "jupyter_dashboards": {
      "version": 1,
      "views": {
       "grid_default": {},
       "report_default": {
        "hidden": false
       }
      }
     }
    }
   },
   "source": [
    "### Compute transect baseline values from corresponding measurements at the RC Byrd and Greenup Locks and Dams"
   ]
  },
  {
   "cell_type": "code",
   "execution_count": 802,
   "metadata": {},
   "outputs": [],
   "source": [
    "transects_with_bases['ODO mg/L_base'] = transects_with_bases.apply(lambda x: ((341-x['RMI'])*x['ODO mg/L_rcb']+(x['RMI']-280)*x['ODO mg/L_greenup'])/61, axis=1)\n",
    "transects_with_bases['Chlorophyll µg/L_base'] = transects_with_bases.apply(lambda x: ((341-x['RMI'])*x['Chlorophyll µg/L_rcb']+(x['RMI']-280)*x['Chlorophyll µg/L_greenup'])/61, axis=1)\n",
    "transects_with_bases['BGA-PC µg/L_base'] = transects_with_bases.apply(lambda x: ((341-x['RMI'])*x['BGA-PC µg/L_rcb']+(x['RMI']-280)*x['BGA-PC µg/L_greenup'])/61, axis=1)\n",
    "transects_with_bases['Temp °C_base'] = transects_with_bases.apply(lambda x: ((341-x['RMI'])*x['Temp °C_rcb']+(x['RMI']-280)*x['Temp °C_greenup'])/61, axis=1)\n",
    "transects_with_bases['Cond µS/cm_base'] = transects_with_bases.apply(lambda x: ((341-x['RMI'])*x['Cond µS/cm_rcb']+(x['RMI']-280)*x['Cond µS/cm_greenup'])/61, axis=1)\n",
    "transects_with_bases['Sal psu_base'] = transects_with_bases.apply(lambda x: ((341-x['RMI'])*x['Sal psu_rcb']+(x['RMI']-280)*x['Sal psu_greenup'])/61, axis=1)\n",
    "transects_with_bases['Turbidity NTU_base'] = transects_with_bases.apply(lambda x: ((341-x['RMI'])*x['Turbidity NTU_rcb']+(x['RMI']-280)*x['Turbidity NTU_greenup'])/61, axis=1)\n",
    "transects_with_bases['pH_base'] = transects_with_bases.apply(lambda x: ((341-x['RMI'])*x['pH_rcb']+(x['RMI']-280)*x['pH_greenup'])/61, axis=1)\n",
    "transects_with_bases['PAR_base'] = transects_with_bases.apply(lambda x: (x['PAR_rcb']+x['PAR_greenup'])/2, axis=1)\n",
    "transects_with_bases['Chlorophyll/BGA_base'] = transects_with_bases.apply(lambda x: ((341-x['RMI'])*x['Chlorophyll/BGA_rcb']+(x['RMI']-280)*x['Chlorophyll/BGA_greenup'])/61, axis=1)\n",
    "#transects_with_bases.columns"
   ]
  },
  {
   "cell_type": "code",
   "execution_count": 803,
   "metadata": {},
   "outputs": [],
   "source": [
    "transects_with_bases['ODO mg/L_rdev'] = transects_with_bases.apply(lambda x: (x['ODO mg/L']-x['ODO mg/L_base'])/x['ODO mg/L_base'], axis=1)\n",
    "transects_with_bases['Chlorophyll µg/L_rdev'] = transects_with_bases.apply(lambda x: (x['Chlorophyll µg/L']-x['Chlorophyll µg/L_base'])/x['Chlorophyll µg/L_base'], axis=1)\n",
    "transects_with_bases['BGA-PC µg/L_rdev'] = transects_with_bases.apply(lambda x: (x['BGA-PC µg/L']-x['BGA-PC µg/L_base'])/x['BGA-PC µg/L_base'], axis=1)\n",
    "transects_with_bases['Temp °C_rdev'] = transects_with_bases.apply(lambda x: (x['Temp °C']-x['Temp °C_base'])/x['Temp °C_base'], axis=1)\n",
    "transects_with_bases['Cond µS/cm_rdev'] = transects_with_bases.apply(lambda x: (x['Cond µS/cm']-x['Cond µS/cm_base'])/x['Cond µS/cm_base'], axis=1)\n",
    "transects_with_bases['Sal psu_rdev'] = transects_with_bases.apply(lambda x: (x['Sal psu']-x['Sal psu_base'])/x['Sal psu_base'], axis=1)\n",
    "transects_with_bases['Turbidity NTU_rdev'] = transects_with_bases.apply(lambda x: (x['Turbidity NTU']-x['Turbidity NTU_base'])/x['Turbidity NTU_base'], axis=1)\n",
    "transects_with_bases['pH_rdev'] = transects_with_bases.apply(lambda x: (x['pH']-x['pH_base'])/x['pH_base'], axis=1)\n",
    "transects_with_bases['PAR_rdev'] = transects_with_bases.apply(lambda x: (x['PAR']-x['PAR_base'])/x['PAR_base'], axis=1)\n",
    "transects_with_bases['Chlorophyll/BGA_rdev'] = transects_with_bases.apply(lambda x: (x['Chlorophyll/BGA']-x['Chlorophyll/BGA_base'])/x['Chlorophyll/BGA_base'], axis=1)\n",
    "#transects_with_bases.columns"
   ]
  },
  {
   "cell_type": "markdown",
   "metadata": {},
   "source": [
    "#### Save transect data with bases"
   ]
  },
  {
   "cell_type": "code",
   "execution_count": 804,
   "metadata": {},
   "outputs": [],
   "source": [
    "transects_with_bases.to_csv(\"data/Greenup/out/transects_with_bases.csv\")"
   ]
  },
  {
   "cell_type": "code",
   "execution_count": 805,
   "metadata": {},
   "outputs": [],
   "source": [
    "transect_means = transects_with_bases.groupby('Name').mean()\n",
    "transect_mins = transects_with_bases.groupby('Name').min()\n",
    "transect_maxs = transects_with_bases.groupby('Name').max()\n",
    "transect_stds = transects_with_bases.groupby('Name').std()\n",
    "transect_cnts = transects_with_bases.groupby('Name').count()"
   ]
  },
  {
   "cell_type": "markdown",
   "metadata": {
    "extensions": {
     "jupyter_dashboards": {
      "version": 1,
      "views": {
       "grid_default": {},
       "report_default": {
        "hidden": false
       }
      }
     }
    }
   },
   "source": [
    "### Correlation of transects with baseline (RMI-weighted locks data)\n",
    " * TODO:\n",
    "  * Menu option to show locks, base, or both\n",
    "  * Color buy property"
   ]
  },
  {
   "cell_type": "code",
   "execution_count": 807,
   "metadata": {
    "extensions": {
     "jupyter_dashboards": {
      "version": 1,
      "views": {
       "grid_default": {
        "hidden": true
       },
       "report_default": {
        "hidden": true
       }
      }
     }
    }
   },
   "outputs": [
    {
     "data": {
      "application/vnd.jupyter.widget-view+json": {
       "model_id": "64c1df6c66a943b4aa4c42d30f016eec",
       "version_major": 2,
       "version_minor": 0
      },
      "text/plain": [
       "interactive(children=(Dropdown(description='Property', options=('ODO mg/L', 'Chlorophyll µg/L', 'BGA-PC µg/L',…"
      ]
     },
     "metadata": {},
     "output_type": "display_data"
    },
    {
     "data": {
      "text/plain": [
       "<function __main__.scatter_plot_all(Property='Chlorophyll RFU')>"
      ]
     },
     "execution_count": 807,
     "metadata": {},
     "output_type": "execute_result"
    }
   ],
   "source": [
    "def scatter_plot_all(Property='Chlorophyll RFU'):\n",
    "    fig, ax = plt.subplots()\n",
    "    transect_means.plot.scatter(ax=ax,x=Property,y=Property+'_base',c='RMI',cmap='winter',s=40)\n",
    "    transect_means.plot.scatter(ax=ax,x=Property,y=Property+'_rcb',color='blue',marker='_',s=40)\n",
    "    transect_means.plot.scatter(ax=ax,x=Property,y=Property+'_greenup',color='green',marker='_',s=40)\n",
    "    ax.set_title(\"Correlation of \"+Property+\" at Transects with baseline and locks\",fontsize=14)\n",
    "    ax.set_xlabel(Property+\" at Transects\")\n",
    "    ax.set_ylabel(Property+\" at Locks\")\n",
    "    \n",
    "interact(scatter_plot_all, \\\n",
    "         Property=locks_sonde_dataonly.drop(['Depth m','Year','Month','Hour'],axis=1).columns.tolist()+['PAR'] \\\n",
    "        )"
   ]
  },
  {
   "cell_type": "markdown",
   "metadata": {},
   "source": [
    "<div id='transect_3d_profiles'></div>"
   ]
  },
  {
   "cell_type": "markdown",
   "metadata": {},
   "source": [
    "### 3D Transect Profiles\n",
    " * Add 2-RMI \"jitter\" to help separate different date-time transects"
   ]
  },
  {
   "cell_type": "code",
   "execution_count": 809,
   "metadata": {
    "extensions": {
     "jupyter_dashboards": {
      "version": 1,
      "views": {
       "grid_default": {
        "col": 0,
        "height": 6,
        "hidden": false,
        "row": 72,
        "width": 4
       },
       "report_default": {
        "hidden": false
       }
      }
     }
    }
   },
   "outputs": [
    {
     "data": {
      "application/vnd.jupyter.widget-view+json": {
       "model_id": "0dc73624a65e4c998cb2c5e10057244f",
       "version_major": 2,
       "version_minor": 0
      },
      "text/plain": [
       "interactive(children=(Dropdown(description='Property', options=('ODO mg/L', 'Chlorophyll µg/L', 'BGA-PC µg/L',…"
      ]
     },
     "metadata": {},
     "output_type": "display_data"
    },
    {
     "data": {
      "text/plain": [
       "<function __main__.plot_3d_transects(Property, Type='WRT Baseline', ColorMap='seismic', Jitter=2, HAng=30, VAng=0)>"
      ]
     },
     "execution_count": 809,
     "metadata": {},
     "output_type": "execute_result"
    }
   ],
   "source": [
    "def plot_3d_transects(Property,Type='WRT Baseline',ColorMap='seismic',Jitter=2,HAng=30,VAng=0):\n",
    "    fig = plt.figure(figsize=(5,4))\n",
    "    ax = plt.axes((0.0,0.0,5.0,1.0),projection='3d',title=Property+' '+Type)\n",
    "    z = -transects_with_bases['Depth m']\n",
    "    y = -transects_with_bases['RMI'].apply(lambda x: x+Jitter*np.random.random())\n",
    "    x = transects_with_bases['H Pos']\n",
    "    if (Type == 'Absolute'):\n",
    "        c = transects_with_bases[Property]\n",
    "    elif(Type == 'WRT Baseline'):\n",
    "        c = transects_with_bases[Property+'_rdev']\n",
    "    elif(Type == 'Baseline only'):\n",
    "        c = transects_with_bases[Property+'_base']\n",
    "\n",
    "    scat = ax.scatter(x,y,z,c=c,cmap=ColorMap,s=25,marker='H')\n",
    "    fig.colorbar(scat)\n",
    "    ax.view_init(HAng,VAng)\n",
    "    \n",
    "interact(plot_3d_transects, \\\n",
    "         Property=transects_sonde_par.columns.drop(['Depth m','T Pos','H Pos','RMI']),\n",
    "         Type=['Absolute','WRT Baseline','Baseline only'],\n",
    "         ColorMap=['jet','viridis','magma','coolwarm','seismic','Greys','Reds','Blues'],\n",
    "         Jitter=(0.0,5.0),\n",
    "         HAng=(0,90,5),VAng=(-5,5) \\\n",
    "        )"
   ]
  },
  {
   "cell_type": "code",
   "execution_count": 810,
   "metadata": {
    "extensions": {
     "jupyter_dashboards": {
      "version": 1,
      "views": {
       "grid_default": {
        "col": 0,
        "height": 13,
        "hidden": false,
        "row": 30,
        "width": 4
       },
       "report_default": {
        "hidden": false
       }
      }
     }
    }
   },
   "outputs": [
    {
     "data": {
      "application/vnd.jupyter.widget-view+json": {
       "model_id": "adaf0dcd05544c309629d97e085be45a",
       "version_major": 2,
       "version_minor": 0
      },
      "text/plain": [
       "interactive(children=(Dropdown(description='Property', options=('ODO mg/L', 'Chlorophyll µg/L', 'BGA-PC µg/L',…"
      ]
     },
     "metadata": {},
     "output_type": "display_data"
    },
    {
     "data": {
      "text/plain": [
       "<function __main__.rdev_plot(Property)>"
      ]
     },
     "execution_count": 810,
     "metadata": {},
     "output_type": "execute_result"
    }
   ],
   "source": [
    "def rdev_plot(Property):\n",
    "    ax = plt.axes()\n",
    "    ax.scatter(x=transect_means['RMI'],y=transect_means[Property+'_rdev'],color='blue',s=20)\n",
    "    ax.scatter(x=transect_mins['RMI'],y=transect_mins[Property+'_rdev'],marker='v',color='green',s=5)\n",
    "    ax.scatter(x=transect_maxs['RMI'],y=transect_maxs[Property+'_rdev'],marker='^',color='red',s=5)\n",
    "    \n",
    "interact(rdev_plot, \\\n",
    "         Property=transects_sonde_par.columns.drop(['Depth m','T Pos','H Pos','RMI']) \\\n",
    "        )"
   ]
  },
  {
   "cell_type": "markdown",
   "metadata": {},
   "source": [
    "<div id='orsanco_data'></div>"
   ]
  },
  {
   "cell_type": "code",
   "execution_count": 811,
   "metadata": {
    "extensions": {
     "jupyter_dashboards": {
      "version": 1,
      "views": {
       "grid_default": {},
       "report_default": {
        "hidden": true
       }
      }
     }
    }
   },
   "outputs": [],
   "source": [
    "transect_means_with_lat_lon = pd.merge(transect_means,ohio_river_sites,on='Name',suffixes=('','_transect'))\n",
    "#transect_means_with_lat_lon.columns"
   ]
  },
  {
   "cell_type": "markdown",
   "metadata": {},
   "source": [
    "### Generate a color map of a given transect property deviation from mean"
   ]
  },
  {
   "cell_type": "code",
   "execution_count": 812,
   "metadata": {
    "extensions": {
     "jupyter_dashboards": {
      "version": 1,
      "views": {
       "grid_default": {
        "hidden": true
       },
       "report_default": {
        "hidden": true
       }
      }
     }
    }
   },
   "outputs": [],
   "source": [
    "def std2color(min,value,max):\n",
    "    red = int((value-min)/(max-min)*255)\n",
    "    green = 0\n",
    "    if red < 0: \n",
    "        red = 0\n",
    "        green = 128\n",
    "    if red > 255:\n",
    "        red = 255\n",
    "        green = 128\n",
    "    blue = 255-red\n",
    "    return '#{0:02X}{1:02X}{2:02X}'.format(red,green,blue)\n",
    "\n",
    "transect_property_map = folium.Map([38.6, -82.5],zoom_start=10,tiles=None)\n",
    "\n",
    "fg = []\n",
    "i = 0\n",
    "for property in transects_sonde_par.columns.drop(['Depth m','T Pos','H Pos','RMI']):\n",
    "    \n",
    "    mean_val = transect_means_with_lat_lon[property].mean()\n",
    "    std_val = transect_means_with_lat_lon[property].std()\n",
    "    min_val = -2.0\n",
    "    max_val = 2.0\n",
    "    width = 500\n",
    "    height = 110\n",
    "    max_width = 1000 \n",
    "    fg.append(folium.FeatureGroup(name=property,overlay=False,show=False))\n",
    "\n",
    "    for j, row in transect_means_with_lat_lon.iterrows():\n",
    "        value = (row[property]-mean_val)/std_val\n",
    "        if (math.isnan(value)):\n",
    "            continue\n",
    "        coord = [row.geometry.y,row.geometry.x]\n",
    "        color = std2color(min_val,value,max_val)\n",
    "        radius = 7+2*abs(value)\n",
    "        fill_color = color\n",
    "        label = property+' = {0:.2f}'.format(row[property])\n",
    "        label += ' (Z = {0:.2f})'.format(value)\n",
    "        html = label\n",
    "        #html += '<br>min = {0:.2f}, max = {1:.2f}'.format(min_val,max_val)\n",
    "        #html += '<br>color = '+color\n",
    "        html += '<br>'+row.Type+' @ '+row.Name\n",
    "        html += '<br>'+row.Description\n",
    "        html += '<br>Lat: {0:.2f}'.format(row.geometry.y)+', Lon: {0:.2f}'.format(row.geometry.x)\n",
    "        html += '<br>RMI: {0:.1f}'.format(row.RMI)\n",
    "        iframe = folium.IFrame(html,width=width,height=height)\n",
    "        popup = folium.Popup(iframe,max_width=max_width)\n",
    "        fg[i].add_child(folium.CircleMarker(location=coord,radius=radius,color=color,opacity=0.7,fill=True,fill_color=fill_color,fill_opacity=0.7,popup=popup,tooltip=label)).add_to(transect_property_map)\n",
    "\n",
    "    i = i+1\n",
    "\n",
    "folium.TileLayer('OpenStreetMap',control=False).add_to(transect_property_map)\n",
    "folium.LayerControl().add_to(transect_property_map)\n",
    "\n",
    "transect_property_map.save('data/Greenup/out/transect_property_map.html')"
   ]
  },
  {
   "cell_type": "code",
   "execution_count": 813,
   "metadata": {
    "extensions": {
     "jupyter_dashboards": {
      "version": 1,
      "views": {
       "grid_default": {
        "col": 0,
        "height": 21,
        "hidden": false,
        "row": 51,
        "width": 10
       },
       "report_default": {
        "hidden": false
       }
      }
     }
    }
   },
   "outputs": [
    {
     "data": {
      "text/html": [
       "\n",
       "        <iframe\n",
       "            width=\"1000\"\n",
       "            height=\"500\"\n",
       "            src=\"data/Greenup/out/transect_property_map.html\"\n",
       "            frameborder=\"0\"\n",
       "            allowfullscreen\n",
       "        ></iframe>\n",
       "        "
      ],
      "text/plain": [
       "<IPython.lib.display.IFrame at 0x7fd96f46f7b8>"
      ]
     },
     "execution_count": 813,
     "metadata": {},
     "output_type": "execute_result"
    }
   ],
   "source": [
    "from IPython.display import IFrame\n",
    "IFrame(\"data/Greenup/out/transect_property_map.html\", width=1000, height=500)"
   ]
  },
  {
   "cell_type": "markdown",
   "metadata": {},
   "source": [
    "## == ORSANCO Data =="
   ]
  },
  {
   "cell_type": "markdown",
   "metadata": {},
   "source": [
    "## Sediment Composition"
   ]
  },
  {
   "cell_type": "markdown",
   "metadata": {
    "extensions": {
     "jupyter_dashboards": {
      "version": 1,
      "views": {
       "grid_default": {},
       "report_default": {
        "hidden": false
       }
      }
     }
    }
   },
   "source": [
    "#### TODO: \n",
    " * Multiple Z plots on same graph\n",
    " * Do same for Fish populations, Macro invertebrates, Substrate types, Water quality\n",
    " * Cross correlations for all above"
   ]
  },
  {
   "cell_type": "markdown",
   "metadata": {},
   "source": [
    "#### Get Sediment Composition Data (2011)"
   ]
  },
  {
   "cell_type": "code",
   "execution_count": 814,
   "metadata": {
    "extensions": {
     "jupyter_dashboards": {
      "version": 1,
      "views": {
       "grid_default": {},
       "report_default": {
        "hidden": true
       }
      }
     }
    }
   },
   "outputs": [],
   "source": [
    "sediment_data = pd.read_csv('data/Greenup/sediment_2011.csv',encoding='latin1')\n",
    "sediment_data.rename(columns={'Location':'Name'},inplace=True)\n",
    "sediment_data_with_lat_lon = pd.merge(sediment_data,ohio_river_sites,on='Name',suffixes=('','_sediment'))\n",
    "#sediment_data_with_lat_lon.columns"
   ]
  },
  {
   "cell_type": "markdown",
   "metadata": {},
   "source": [
    "#### Sediment Composition Distribution Plots"
   ]
  },
  {
   "cell_type": "code",
   "execution_count": 815,
   "metadata": {
    "extensions": {
     "jupyter_dashboards": {
      "version": 1,
      "views": {
       "grid_default": {
        "col": 0,
        "height": 13,
        "hidden": false,
        "row": 30,
        "width": 4
       },
       "report_default": {
        "hidden": false
       }
      }
     }
    }
   },
   "outputs": [
    {
     "data": {
      "application/vnd.jupyter.widget-view+json": {
       "model_id": "f5f22c270cfa40d89b030d4850567edf",
       "version_major": 2,
       "version_minor": 0
      },
      "text/plain": [
       "interactive(children=(Dropdown(description='Property', options=('Solids_DF', 'Moisture_DF', 'LOI_DF', 'NO3_mg_…"
      ]
     },
     "metadata": {},
     "output_type": "display_data"
    },
    {
     "data": {
      "text/plain": [
       "<function __main__.dist_plot_sediment(Property, Kind='kde')>"
      ]
     },
     "execution_count": 815,
     "metadata": {},
     "output_type": "execute_result"
    }
   ],
   "source": [
    "def dist_plot_sediment(Property,Kind='kde'):\n",
    "    sediment_data[Property].plot(kind=Kind)\n",
    "    \n",
    "interact(dist_plot_sediment, \\\n",
    "         Property=sediment_data.columns[8::2], \\\n",
    "         Kind=['hist','kde','box'] \\\n",
    "        )"
   ]
  },
  {
   "cell_type": "markdown",
   "metadata": {},
   "source": [
    "#### Sediment Composition Correlation Plots"
   ]
  },
  {
   "cell_type": "code",
   "execution_count": 816,
   "metadata": {
    "extensions": {
     "jupyter_dashboards": {
      "version": 1,
      "views": {
       "grid_default": {
        "hidden": true
       },
       "report_default": {
        "hidden": true
       }
      }
     }
    }
   },
   "outputs": [
    {
     "data": {
      "application/vnd.jupyter.widget-view+json": {
       "model_id": "832d5f2c0bba447282494c55ce24e9f0",
       "version_major": 2,
       "version_minor": 0
      },
      "text/plain": [
       "interactive(children=(Dropdown(description='YProperty', index=1, options=('RMI', 'Solids_DF', 'Moisture_DF', '…"
      ]
     },
     "metadata": {},
     "output_type": "display_data"
    },
    {
     "data": {
      "text/plain": [
       "<function __main__.scatter_plot_sediment(YProperty='Solids_DF', XProperty='RMI', ColorBy='pH', ColorMap='jet')>"
      ]
     },
     "execution_count": 816,
     "metadata": {},
     "output_type": "execute_result"
    }
   ],
   "source": [
    "def scatter_plot_sediment(YProperty=sediment_data.columns[8],XProperty='RMI',ColorBy='pH',ColorMap='jet'):\n",
    "    fig, ax = plt.subplots()\n",
    "    sediment_data.plot.scatter(ax=ax,x=XProperty,y=YProperty,c=ColorBy,cmap=ColorMap,s=10)\n",
    "    ax.set_title(\"Correlation of \"+YProperty+\" and \"+XProperty,fontsize=14)\n",
    "    \n",
    "interact(scatter_plot_sediment, \\\n",
    "         YProperty=sediment_data.columns[4::2].drop(['Date']), \\\n",
    "         XProperty=sediment_data.columns[4::2].drop(['Date']), \\\n",
    "         ColorBy=sediment_data.columns[4::2].drop(['Date']), \\\n",
    "         ColorMap=['jet','viridis','magma','coolwarm','seismic','Greys','Reds','Blues'] \\\n",
    "        )"
   ]
  },
  {
   "cell_type": "markdown",
   "metadata": {
    "extensions": {
     "jupyter_dashboards": {
      "version": 1,
      "views": {
       "grid_default": {},
       "report_default": {
        "hidden": false
       }
      }
     }
    }
   },
   "source": [
    "#### Plot Sediment Composition vs River Mile"
   ]
  },
  {
   "cell_type": "markdown",
   "metadata": {
    "extensions": {
     "jupyter_dashboards": {
      "version": 1,
      "views": {
       "grid_default": {
        "col": 0,
        "height": 13,
        "hidden": false,
        "row": 30,
        "width": 4
       },
       "report_default": {
        "hidden": false
       }
      }
     }
    }
   },
   "source": [
    "def rmi_plot(Property):\n",
    "    sediment_data.plot(x='RMI',y=Property)\n",
    "    \n",
    "interact(rmi_plot, \\\n",
    "         Property=sediment_data.columns[8::2] \\\n",
    "        )"
   ]
  },
  {
   "cell_type": "markdown",
   "metadata": {},
   "source": [
    "### Generate a color map of a given sediment property"
   ]
  },
  {
   "cell_type": "code",
   "execution_count": 817,
   "metadata": {
    "extensions": {
     "jupyter_dashboards": {
      "version": 1,
      "views": {
       "grid_default": {
        "hidden": true
       },
       "report_default": {
        "hidden": true
       }
      }
     }
    }
   },
   "outputs": [],
   "source": [
    "def val2color(min,value,max):\n",
    "    fraction = int((value-min)/(max-min)*255)\n",
    "    return '#{0:02X}00{1:02X}'.format(fraction,255-fraction)\n",
    "\n",
    "sediment_property_map = folium.Map([38.6, -82.5],zoom_start=10,tiles=None)\n",
    "\n",
    "fg = []\n",
    "i = 0\n",
    "for property in sediment_data.columns[8::2]:\n",
    "    \n",
    "    mean_val = sediment_data[property].mean()\n",
    "    min_val = sediment_data[property].min()\n",
    "    max_val = sediment_data[property].max()\n",
    "    std_val = sediment_data[property].std()\n",
    "    width = 500\n",
    "    height = 90\n",
    "    max_width = 1000 \n",
    "    fg.append(folium.FeatureGroup(name=property,overlay=False,show=False))\n",
    "\n",
    "    for j, row in sediment_data_with_lat_lon.iterrows():\n",
    "        if (math.isnan(row[property])):\n",
    "            continue\n",
    "        coord = [row.geometry.y,row.geometry.x]\n",
    "        value = row[property]\n",
    "        radius = 7+2*abs(value-mean_val)/std_val\n",
    "        color = val2color(min_val,value,max_val)\n",
    "        fill_color = color\n",
    "        label = property+' = {0:.2f}'.format(value)\n",
    "        html = label\n",
    "        #html += '<br>min = {0:.2f}, max = {1:.2f}'.format(min_val,max_val)\n",
    "        #html += '<br>color = '+color\n",
    "        html += '<br>'+row.Type+' @ '+row.Name\n",
    "        #html += '<br>'+row.Description\n",
    "        html += '<br>Lat: {0:.2f}'.format(row.geometry.y)+', Lon: {0:.2f}'.format(row.geometry.x)\n",
    "        html += '<br>RMI: {0:.1f}'.format(row.RMI)\n",
    "        iframe = folium.IFrame(html,width=width,height=height)\n",
    "        popup = folium.Popup(iframe,max_width=max_width)\n",
    "        fg[i].add_child(folium.CircleMarker(location=coord,radius=radius,color=color,opacity=0.7,fill=True,fill_color=fill_color,fill_opacity=0.7,popup=popup,tooltip=label)).add_to(sediment_property_map)\n",
    "\n",
    "    i = i+1\n",
    "\n",
    "folium.TileLayer('OpenStreetMap',control=False).add_to(sediment_property_map)\n",
    "folium.LayerControl().add_to(sediment_property_map)\n",
    "\n",
    "sediment_property_map.save('data/Greenup/out/sediment_property_map.html')"
   ]
  },
  {
   "cell_type": "code",
   "execution_count": 818,
   "metadata": {
    "extensions": {
     "jupyter_dashboards": {
      "version": 1,
      "views": {
       "grid_default": {
        "col": 0,
        "height": 21,
        "hidden": false,
        "row": 51,
        "width": 10
       },
       "report_default": {
        "hidden": false
       }
      }
     }
    }
   },
   "outputs": [
    {
     "data": {
      "text/html": [
       "\n",
       "        <iframe\n",
       "            width=\"1000\"\n",
       "            height=\"500\"\n",
       "            src=\"data/Greenup/out/sediment_property_map.html\"\n",
       "            frameborder=\"0\"\n",
       "            allowfullscreen\n",
       "        ></iframe>\n",
       "        "
      ],
      "text/plain": [
       "<IPython.lib.display.IFrame at 0x7fd97e5d0710>"
      ]
     },
     "execution_count": 818,
     "metadata": {},
     "output_type": "execute_result"
    }
   ],
   "source": [
    "from IPython.display import IFrame\n",
    "IFrame(\"data/Greenup/out/sediment_property_map.html\", width=1000, height=500)"
   ]
  },
  {
   "cell_type": "code",
   "execution_count": null,
   "metadata": {},
   "outputs": [],
   "source": []
  }
 ],
 "metadata": {
  "extensions": {
   "jupyter_dashboards": {
    "activeView": "report_default",
    "version": 1,
    "views": {
     "grid_default": {
      "cellMargin": 10,
      "defaultCellHeight": 20,
      "maxColumns": 12,
      "name": "grid",
      "type": "grid"
     },
     "report_default": {
      "name": "report",
      "type": "report"
     }
    }
   }
  },
  "kernelspec": {
   "display_name": "Python 3",
   "language": "python",
   "name": "python3"
  },
  "language_info": {
   "codemirror_mode": {
    "name": "ipython",
    "version": 3
   },
   "file_extension": ".py",
   "mimetype": "text/x-python",
   "name": "python",
   "nbconvert_exporter": "python",
   "pygments_lexer": "ipython3",
   "version": "3.7.3"
  }
 },
 "nbformat": 4,
 "nbformat_minor": 4
}
