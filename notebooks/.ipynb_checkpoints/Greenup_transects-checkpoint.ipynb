{
 "cells": [
  {
   "cell_type": "markdown",
   "metadata": {
    "extensions": {
     "jupyter_dashboards": {
      "version": 1,
      "views": {
       "grid_default": {
        "col": 0,
        "height": 4,
        "hidden": false,
        "row": 0,
        "width": 4
       },
       "report_default": {
        "hidden": false
       }
      }
     }
    }
   },
   "source": [
    "# Analysis and display of water quality indicators along Greenup pool of Ohio River"
   ]
  },
  {
   "cell_type": "markdown",
   "metadata": {
    "extensions": {
     "jupyter_dashboards": {
      "version": 1,
      "views": {
       "grid_default": {
        "col": 0,
        "height": 13,
        "hidden": false,
        "row": 4,
        "width": 12
       },
       "report_default": {
        "hidden": false
       }
      }
     }
    }
   },
   "source": [
    "### TODO:\n",
    "* Do timeseries data first, then transects using dynamically generated baseline data from Locks\n",
    "* **NWS** (weather) data\n",
    "* **WQP** data\n",
    "* **Chlorophyll** and **algal counts** from grab sample analyses\n",
    "* WV DEP data (TAGIS?)\n",
    "* Other SENSE/AFI data (sediment data from Booner tubes)\n",
    "* Join with **Justin's data** - Lat/Lon/Depth coordinates for each sampling location across a transect\n",
    "* Plots in **marker popups**\n",
    "* **Map layers** for watersheds, streams, land use/cover, soil type,...\n",
    "* Shorten/trim column names in sonde_deployments CSV files\n",
    "* Put all local data in a **database** and access from there\n",
    "* Create a **dashboard** view for publishing\n",
    "* Get **PAR** data from Locks\n",
    "* Get data from USGS **Super Gage** at Ironton (https://ky.water.usgs.gov/projects/supergages/03216070.html)\n",
    "* **ORSANCO** data (from Tom Jones):\n",
    " * More **sediment composition** plots:\n",
    "   * Add distribution plots, correlation plots, multiple-Z plots on same graph\n",
    " * Do same for **Fish populations, Macro invertebrates, Substrate types, Water quality**\n",
    " * Cross correlations between any pair"
   ]
  },
  {
   "cell_type": "markdown",
   "metadata": {
    "extensions": {
     "jupyter_dashboards": {
      "version": 1,
      "views": {
       "grid_default": {
        "col": 0,
        "height": 5,
        "hidden": false,
        "row": 17,
        "width": 12
       },
       "report_default": {
        "hidden": false
       }
      }
     }
    }
   },
   "source": [
    "### To install packages (e.g., folium, geopandas, fiona) locally:\n",
    "```\n",
    "%%bash -l\n",
    "use -e -r anaconda3-5.1\n",
    "pip install folium --prefix=. --upgrade-strategy only-if-needed\n",
    "pip install geopandas --prefix=. --upgrade-strategy only-if-needed\n",
    "pip install fiona --prefix=. --upgrade-strategy only-if-needed\n",
    "pip install shapely --prefix=. --upgrade-strategy only-if-needed\n",
    "```"
   ]
  },
  {
   "cell_type": "code",
   "execution_count": 1,
   "metadata": {
    "extensions": {
     "jupyter_dashboards": {
      "version": 1,
      "views": {
       "grid_default": {
        "hidden": true
       },
       "report_default": {
        "hidden": true
       }
      }
     }
    }
   },
   "outputs": [],
   "source": [
    "import os, sys\n",
    "sys.path.insert(0,'lib/python3.7/site-packages') # Add locally installed packages to path"
   ]
  },
  {
   "cell_type": "markdown",
   "metadata": {
    "extensions": {
     "jupyter_dashboards": {
      "version": 1,
      "views": {
       "grid_default": {
        "col": 4,
        "height": 4,
        "hidden": false,
        "row": 0,
        "width": 4
       },
       "report_default": {
        "hidden": false
       }
      }
     }
    }
   },
   "source": [
    "### Enable R-style DataFrames with Pandas, numerical arrays and matrices with NumPy"
   ]
  },
  {
   "cell_type": "code",
   "execution_count": 2,
   "metadata": {
    "extensions": {
     "jupyter_dashboards": {
      "version": 1,
      "views": {
       "grid_default": {
        "hidden": true
       },
       "report_default": {
        "hidden": true
       }
      }
     }
    }
   },
   "outputs": [],
   "source": [
    "import pandas as pd\n",
    "import numpy as np"
   ]
  },
  {
   "cell_type": "markdown",
   "metadata": {
    "extensions": {
     "jupyter_dashboards": {
      "version": 1,
      "views": {
       "grid_default": {
        "col": 4,
        "height": 4,
        "hidden": false,
        "row": 0,
        "width": 4
       },
       "report_default": {
        "hidden": false
       }
      }
     }
    }
   },
   "source": [
    "### Enable Math functions"
   ]
  },
  {
   "cell_type": "code",
   "execution_count": 3,
   "metadata": {
    "extensions": {
     "jupyter_dashboards": {
      "version": 1,
      "views": {
       "grid_default": {
        "hidden": true
       },
       "report_default": {
        "hidden": true
       }
      }
     }
    }
   },
   "outputs": [],
   "source": [
    "import math"
   ]
  },
  {
   "cell_type": "markdown",
   "metadata": {
    "extensions": {
     "jupyter_dashboards": {
      "version": 1,
      "views": {
       "grid_default": {
        "col": 4,
        "height": 4,
        "hidden": false,
        "row": 0,
        "width": 4
       },
       "report_default": {
        "hidden": false
       }
      }
     }
    }
   },
   "source": [
    "### Enable working with Dates and Times"
   ]
  },
  {
   "cell_type": "code",
   "execution_count": 4,
   "metadata": {
    "extensions": {
     "jupyter_dashboards": {
      "version": 1,
      "views": {
       "grid_default": {
        "hidden": true
       },
       "report_default": {
        "hidden": true
       }
      }
     }
    }
   },
   "outputs": [],
   "source": [
    "import time"
   ]
  },
  {
   "cell_type": "markdown",
   "metadata": {
    "extensions": {
     "jupyter_dashboards": {
      "version": 1,
      "views": {
       "grid_default": {
        "col": 4,
        "height": 4,
        "hidden": false,
        "row": 0,
        "width": 4
       },
       "report_default": {
        "hidden": false
       }
      }
     }
    }
   },
   "source": [
    "### Enable Pandas scatter plot matrices"
   ]
  },
  {
   "cell_type": "code",
   "execution_count": 5,
   "metadata": {
    "extensions": {
     "jupyter_dashboards": {
      "version": 1,
      "views": {
       "grid_default": {
        "hidden": true
       },
       "report_default": {
        "hidden": true
       }
      }
     }
    }
   },
   "outputs": [],
   "source": [
    "from pandas.plotting import scatter_matrix"
   ]
  },
  {
   "cell_type": "markdown",
   "metadata": {
    "extensions": {
     "jupyter_dashboards": {
      "version": 1,
      "views": {
       "grid_default": {
        "col": 4,
        "height": 4,
        "hidden": false,
        "row": 0,
        "width": 4
       },
       "report_default": {
        "hidden": false
       }
      }
     }
    }
   },
   "source": [
    "### Enable inline MATLAB-style plotting with MatPlotLib"
   ]
  },
  {
   "cell_type": "code",
   "execution_count": 6,
   "metadata": {
    "extensions": {
     "jupyter_dashboards": {
      "version": 1,
      "views": {
       "grid_default": {
        "hidden": true
       },
       "report_default": {
        "hidden": true
       }
      }
     }
    }
   },
   "outputs": [],
   "source": [
    "import matplotlib.pyplot as plt\n",
    "%matplotlib inline"
   ]
  },
  {
   "cell_type": "markdown",
   "metadata": {
    "extensions": {
     "jupyter_dashboards": {
      "version": 1,
      "views": {
       "grid_default": {},
       "report_default": {
        "hidden": false
       }
      }
     }
    }
   },
   "source": [
    "### Enable 3D plotting in MatPlotLib using MPlot3D toolkit"
   ]
  },
  {
   "cell_type": "code",
   "execution_count": 7,
   "metadata": {
    "extensions": {
     "jupyter_dashboards": {
      "version": 1,
      "views": {
       "grid_default": {
        "hidden": true
       },
       "report_default": {
        "hidden": true
       }
      }
     }
    }
   },
   "outputs": [],
   "source": [
    "from mpl_toolkits.mplot3d import Axes3D"
   ]
  },
  {
   "cell_type": "markdown",
   "metadata": {
    "extensions": {
     "jupyter_dashboards": {
      "version": 1,
      "views": {
       "grid_default": {},
       "report_default": {
        "hidden": false
       }
      }
     }
    }
   },
   "source": [
    "### Enable interactive plots using iPyWidgets"
   ]
  },
  {
   "cell_type": "code",
   "execution_count": 8,
   "metadata": {
    "extensions": {
     "jupyter_dashboards": {
      "version": 1,
      "views": {
       "grid_default": {
        "hidden": true
       },
       "report_default": {
        "hidden": true
       }
      }
     }
    }
   },
   "outputs": [],
   "source": [
    "import ipywidgets as widgets\n",
    "from ipywidgets import interact, interactive, fixed, interact_manual"
   ]
  },
  {
   "cell_type": "markdown",
   "metadata": {
    "extensions": {
     "jupyter_dashboards": {
      "version": 1,
      "views": {
       "grid_default": {},
       "report_default": {
        "hidden": false
       }
      }
     }
    }
   },
   "source": [
    "### Enable geospatial DataFrames with GeoPandas (built on Fiona, which is built on GDAL/OGR)"
   ]
  },
  {
   "cell_type": "code",
   "execution_count": 9,
   "metadata": {
    "extensions": {
     "jupyter_dashboards": {
      "version": 1,
      "views": {
       "grid_default": {
        "hidden": true
       },
       "report_default": {
        "hidden": true
       }
      }
     }
    }
   },
   "outputs": [],
   "source": [
    "import geopandas as gpd"
   ]
  },
  {
   "cell_type": "markdown",
   "metadata": {
    "extensions": {
     "jupyter_dashboards": {
      "version": 1,
      "views": {
       "grid_default": {},
       "report_default": {
        "hidden": false
       }
      }
     }
    }
   },
   "source": [
    "### Enable Leatlet.JS-based mapping with Folium and IFrame generation with Branca"
   ]
  },
  {
   "cell_type": "code",
   "execution_count": 10,
   "metadata": {
    "extensions": {
     "jupyter_dashboards": {
      "version": 1,
      "views": {
       "grid_default": {
        "hidden": true
       },
       "report_default": {
        "hidden": true
       }
      }
     }
    }
   },
   "outputs": [],
   "source": [
    "import folium\n",
    "from folium import IFrame\n",
    "import folium.plugins as plugins\n",
    "import branca"
   ]
  },
  {
   "cell_type": "markdown",
   "metadata": {
    "extensions": {
     "jupyter_dashboards": {
      "version": 1,
      "views": {
       "grid_default": {},
       "report_default": {
        "hidden": false
       }
      }
     }
    }
   },
   "source": [
    "### Enable other geospatial utilities with Shapely"
   ]
  },
  {
   "cell_type": "code",
   "execution_count": 11,
   "metadata": {
    "extensions": {
     "jupyter_dashboards": {
      "version": 1,
      "views": {
       "grid_default": {
        "hidden": true
       },
       "report_default": {
        "hidden": true
       }
      }
     }
    }
   },
   "outputs": [],
   "source": [
    "import shapely\n",
    "from shapely.geometry import Point"
   ]
  },
  {
   "cell_type": "markdown",
   "metadata": {
    "extensions": {
     "jupyter_dashboards": {
      "version": 1,
      "views": {
       "grid_default": {},
       "report_default": {
        "hidden": false
       }
      }
     }
    }
   },
   "source": [
    "### Get all sampling sites along Greenup Pool of Ohio River\n",
    "#### TODO:\n",
    " * Add CSO positions"
   ]
  },
  {
   "cell_type": "code",
   "execution_count": 12,
   "metadata": {
    "extensions": {
     "jupyter_dashboards": {
      "version": 1,
      "views": {
       "grid_default": {
        "hidden": true
       },
       "report_default": {
        "hidden": true
       }
      }
     }
    }
   },
   "outputs": [],
   "source": [
    "all_sites = pd.read_csv('data/Greenup/Ohio River Sites.csv')\n",
    "all_site_geometries = gpd.GeoSeries(all_sites.apply(lambda z: Point(z['Longitude'],z['Latitude']),1),crs={'init':'epsg:4326'})\n",
    "all_sites = gpd.GeoDataFrame(all_sites.drop(['Latitude','Longitude'],1),geometry=all_site_geometries)\n",
    "#all_sites"
   ]
  },
  {
   "cell_type": "markdown",
   "metadata": {
    "extensions": {
     "jupyter_dashboards": {
      "version": 1,
      "views": {
       "grid_default": {
        "col": 0,
        "height": 4,
        "hidden": false,
        "row": 43,
        "width": 4
       },
       "report_default": {
        "hidden": false
       }
      }
     }
    }
   },
   "source": [
    "### Generate map of all sampling sites"
   ]
  },
  {
   "cell_type": "code",
   "execution_count": 13,
   "metadata": {
    "extensions": {
     "jupyter_dashboards": {
      "version": 1,
      "views": {
       "grid_default": {
        "hidden": true
       },
       "report_default": {
        "hidden": true
       }
      }
     }
    }
   },
   "outputs": [],
   "source": [
    "ohio_map = folium.Map([38.6, -82.5],zoom_start=10,tiles=None)"
   ]
  },
  {
   "cell_type": "markdown",
   "metadata": {},
   "source": [
    "### TODO: \n",
    " * Look into **branca.element.IFrame** to preprocess HTML into IFrame -- construct a graph!\n",
    " * User Folium **MarkerCluster** and **FeatureGroup** to reduce number of markers (on Zoom out) and turn on/off different marker layers\n",
    " * Look at folium.plugins **HeatMap** and **HeatMapWithTime** -- only good for density, not property values!"
   ]
  },
  {
   "cell_type": "code",
   "execution_count": 14,
   "metadata": {},
   "outputs": [],
   "source": [
    "for i, row in all_sites.iterrows():\n",
    "    coord = [row.geometry.y,row.geometry.x]\n",
    "    label = row.Type+' @ '+row.Name\n",
    "    marker_type = 'pin'\n",
    "    radius = 3\n",
    "    color = 'red'\n",
    "    # Available colors: red, darkred, lightred, pink, green, darkgreen, lightgreen, blue, darkblue, lightblue, cadetblue, purple, darkpurple, orange, beige, black, gray, lightgray\n",
    "    icon = 'dashboard'\n",
    "    html = label\n",
    "    width = 500\n",
    "    height = 90\n",
    "    max_width = 1000\n",
    "    nav_params = '?distance=100'\n",
    "    if (row.Type == 'Transect'):\n",
    "        color = 'red'\n",
    "        html += '<br>'+row.Description\n",
    "    elif (row.Type == 'USGS Gage'):\n",
    "        if (row.Name == 'Huntington'):\n",
    "            nwis_site_json = gpd.read_file(\"https://cida.usgs.gov/nldi/nwissite/USGS-0{0:.0f}\".format(row['USGS Code']))\n",
    "            comid = nwis_site_json.comid[0]\n",
    "            comid_url = \"https://cida.usgs.gov/nldi/comid/\"+comid\n",
    "            #folium.GeoJson(nwis_site_json,name=\"NLDI USGS Gage\",show=False).add_to(ohio_map)\n",
    "            folium.GeoJson(comid_url+\"/basin\",name=\"Drainage Basin for USGS-0{0:.0f}\".format(row['USGS Code']),show=False).add_to(ohio_map)\n",
    "            folium.GeoJson(comid_url+\"/navigate/UM\",name=\"Upstream Main\",show=False).add_to(ohio_map)\n",
    "            folium.GeoJson(comid_url+\"/navigate/UT\"+nav_params,name=\"Tributaries Upstream\",show=False).add_to(ohio_map)\n",
    "            folium.GeoJson(comid_url+\"/navigate/UM/nwissite\"+nav_params,name=\"NWIS Sites Upstream Main\",show=False).add_to(ohio_map)\n",
    "            folium.GeoJson(comid_url+\"/navigate/UM/huc12pp\"+nav_params,name=\"HUC12 Pour Points Upstream Main\",show=False).add_to(ohio_map)\n",
    "            folium.GeoJson(comid_url+\"/navigate/UM/wqp\"+nav_params,name=\"WQP Stations Upstream Main\",show=False).add_to(ohio_map)\n",
    "            folium.GeoJson(comid_url+\"/navigate/DM\",name=\"Downstream Main\",show=False).add_to(ohio_map)\n",
    "            folium.GeoJson(comid_url+\"/navigate/DD\"+nav_params,name=\"Downstream Diversions\",show=False).add_to(ohio_map)\n",
    "            folium.GeoJson(comid_url+\"/navigate/DM/nwissite\"+nav_params,name=\"NWIS Sites Downstream Main\",show=False).add_to(ohio_map)\n",
    "            folium.GeoJson(comid_url+\"/navigate/DM/huc12pp\"+nav_params,name=\"HUC12 Pour Points Downstream Main\",show=False).add_to(ohio_map)\n",
    "            folium.GeoJson(comid_url+\"/navigate/DM/wqp\"+nav_params,name=\"WQP Stations Downstream Main\",show=False).add_to(ohio_map)\n",
    "        if (row.Name == 'Greenup'):\n",
    "            nwis_site_url = \"https://cida.usgs.gov/nldi/nwissite/USGS-0{0:.0f}\".format(row['USGS Code'])\n",
    "            nwis_site_json = gpd.read_file(nwis_site_url)\n",
    "            folium.GeoJson(nwis_site_url+\"/basin\",name=\"Drainage Basin for USGS-0{0:.0f}\".format(row['USGS Code']),show=False).add_to(ohio_map)\n",
    "            folium.GeoJson(nwis_site_url+\"/navigate/UT/huc12pp\"+nav_params,name=\"HUC12 Pour Points Upstream Tributaries\",show=False).add_to(ohio_map)\n",
    "            folium.GeoJson(nwis_site_url+\"/navigate/UT/wqp\"+nav_params,name=\"WQP Stations Upstream Tributaries\",show=False).add_to(ohio_map)\n",
    "        marker_type = 'circle'\n",
    "        radius = 5\n",
    "        color = 'green'\n",
    "        fill = True\n",
    "        fill_color = color\n",
    "        html += '<br><a href=\\\"https://waterdata.usgs.gov/monitoring-location/0{0:.0f}'.format(row['USGS Code'])+'\\\",target=\\\"_blank\\\">Site info for USGS Gage: 0{0:.0f}'.format(row['USGS Code'])+'</a>'\n",
    "        html += '<br><a href=\\\"https://waterdata.usgs.gov/nwis/uv?site_no=0{0:.0f}'.format(row['USGS Code'])+'\\\",target=\\\"_blank\\\">Data for USGS Gage: 0{0:.0f}'.format(row['USGS Code'])+'</a>'\n",
    "        width = 1000\n",
    "        height = 500\n",
    "    elif (row.Type == 'Locks and Dam'):\n",
    "        marker_type = 'circle'\n",
    "        radius = 5\n",
    "        color = 'red'\n",
    "        fill = True\n",
    "        fill_color = color\n",
    "        html += '<br><a href=\\\"https://www.lrh.usace.army.mil/Missions/Civil-Works/Locks-and-Dams/{0:s}'.format(row['USACE Code'])+'\\\",target=\\\"_blank\\\">Data for Locks and Dams at {0:s}'.format(row['Name'])+'</a>'\n",
    "    elif (row.Type == 'ORSANCO'):\n",
    "        marker_type = 'circle'\n",
    "        radius = 5\n",
    "        color = 'orange'\n",
    "        fill = True\n",
    "        fill_color = color\n",
    "    elif (row.Type == 'Sampling'):\n",
    "        marker_type = 'circle'\n",
    "        radius = 3\n",
    "        color = 'blue'\n",
    "        fill = True\n",
    "        fill_color = color\n",
    "    else:\n",
    "        continue\n",
    "    html += '<br>Lat: {0:.2f}'.format(row.geometry.y)+', Lon: {0:.2f}'.format(row.geometry.x)\n",
    "    html += '<br>RMI: {0:.1f}'.format(row.RMI)\n",
    "    iframe = folium.IFrame(html,width=width,height=height)\n",
    "    popup = folium.Popup(iframe,max_width=max_width)\n",
    "    if (marker_type == 'pin'):\n",
    "        folium.Marker(location=coord,icon=folium.Icon(color=color,icon=icon),popup=popup,tooltip=label).add_to(ohio_map)\n",
    "    elif (marker_type == 'circle'):\n",
    "        folium.CircleMarker(location=coord,radius=radius,color=color,popup=popup,tooltip=label).add_to(ohio_map)\n",
    "    else:\n",
    "        continue"
   ]
  },
  {
   "cell_type": "markdown",
   "metadata": {
    "extensions": {
     "jupyter_dashboards": {
      "version": 1,
      "views": {
       "grid_default": {},
       "report_default": {
        "hidden": false
       }
      }
     }
    }
   },
   "source": [
    "#### Add the builtin Stamen Terrain basemap"
   ]
  },
  {
   "cell_type": "code",
   "execution_count": 15,
   "metadata": {
    "extensions": {
     "jupyter_dashboards": {
      "version": 1,
      "views": {
       "grid_default": {},
       "report_default": {
        "hidden": false
       }
      }
     }
    }
   },
   "outputs": [
    {
     "data": {
      "text/plain": [
       "<folium.raster_layers.TileLayer at 0x7feca9048710>"
      ]
     },
     "execution_count": 15,
     "metadata": {},
     "output_type": "execute_result"
    }
   ],
   "source": [
    "folium.TileLayer('OpenStreetMap').add_to(ohio_map)\n",
    "folium.TileLayer('StamenTerrain').add_to(ohio_map)"
   ]
  },
  {
   "cell_type": "markdown",
   "metadata": {
    "extensions": {
     "jupyter_dashboards": {
      "version": 1,
      "views": {
       "grid_default": {},
       "report_default": {
        "hidden": false
       }
      }
     }
    }
   },
   "source": [
    "#### Add other basemap options using Map Servers at  ArcGIS Online"
   ]
  },
  {
   "cell_type": "code",
   "execution_count": 16,
   "metadata": {
    "extensions": {
     "jupyter_dashboards": {
      "version": 1,
      "views": {
       "grid_default": {},
       "report_default": {
        "hidden": true
       }
      }
     }
    }
   },
   "outputs": [],
   "source": [
    "mapserver_query = '/MapServer/tile/{z}/{y}/{x}'\n",
    "ESRI = dict(NatGeo_World_Map='http://services.arcgisonline.com/arcgis/rest/services/NatGeo_World_Map/MapServer',\n",
    "            World_Imagery='http://services.arcgisonline.com/arcgis/rest/services/World_Imagery/MapServer',\n",
    "            World_Shaded_Relief='http://services.arcgisonline.com/arcgis/rest/services/World_Shaded_Relief/MapServer',\n",
    "            World_Street_Map='http://services.arcgisonline.com/arcgis/rest/services/World_Street_Map/MapServer',\n",
    "            World_Topo_Map='http://services.arcgisonline.com/arcgis/rest/services/World_Topo_Map/MapServer',\n",
    "            World_Hydro_Reference='http://hydrology.esri.com/arcgis/rest/services/WorldHydroReferenceOverlay/MapServer')\n",
    "\n",
    "for tile_name, tile_url in ESRI.items():\n",
    "    tile_url += mapserver_query\n",
    "    folium.TileLayer(tile_url,name=tile_name,attr=tile_name).add_to(ohio_map)"
   ]
  },
  {
   "cell_type": "markdown",
   "metadata": {},
   "source": [
    "#### Add HUC boundaries \n",
    " * First example converts a HUC10 .shp file to GeoJSON\n",
    " * Second example streams GeoJSON from the USGS National Map (NHDPlus) HUC12 Web Service using bounding box (envelope)"
   ]
  },
  {
   "cell_type": "code",
   "execution_count": 17,
   "metadata": {},
   "outputs": [
    {
     "data": {
      "text/plain": [
       "<folium.features.GeoJson at 0x7feca90484a8>"
      ]
     },
     "execution_count": 17,
     "metadata": {},
     "output_type": "execute_result"
    }
   ],
   "source": [
    "#wbdhu10 = gpd.read_file(\"data/Greenup/WBDHU10.shp\").to_crs(epsg='4326').to_json()\n",
    "#folium.GeoJson(wbdhu10,name=\"WBD HUC10\",show=False).add_to(ohio_map)\n",
    "folium.GeoJson(\"https://hydro.nationalmap.gov/arcgis/rest/services/NHDPlus_HR/MapServer/11/query?where=&text=&objectIds=&time=&geometry=-83%2C38.4%2C-82%2C38.7&geometryType=esriGeometryEnvelope&inSR=&spatialRel=esriSpatialRelIntersects&relationParam=&outFields=&returnGeometry=true&returnTrueCurves=false&maxAllowableOffset=&geometryPrecision=&outSR=&having=&returnIdsOnly=false&returnCountOnly=false&orderByFields=&groupByFieldsForStatistics=&outStatistics=&returnZ=false&returnM=false&gdbVersion=&historicMoment=&returnDistinctValues=false&resultOffset=&resultRecordCount=&queryByDistance=&returnExtentOnly=false&datumTransformation=&parameterValues=&rangeValues=&quantizationParameters=&f=geojson\",show=False,name='HUC12 Boundararies').add_to(ohio_map)"
   ]
  },
  {
   "cell_type": "markdown",
   "metadata": {},
   "source": [
    "#### Add Streams \n",
    " * Why do only certain segments appear?"
   ]
  },
  {
   "cell_type": "code",
   "execution_count": 18,
   "metadata": {},
   "outputs": [],
   "source": [
    "\n",
    "#folium.GeoJson(\"https://hydro.nationalmap.gov/arcgis/rest/services/NHDPlus_HR/MapServer/2/query?where=FTYPE%3D460&text=&objectIds=&time=&geometry=-83%2C38.4%2C-82%2C38.7&geometryType=esriGeometryEnvelope&inSR=&spatialRel=esriSpatialRelIntersects&relationParam=&outFields=&returnGeometry=true&returnTrueCurves=false&maxAllowableOffset=&geometryPrecision=&outSR=&having=&returnIdsOnly=false&returnCountOnly=false&orderByFields=&groupByFieldsForStatistics=&outStatistics=&returnZ=false&returnM=false&gdbVersion=&historicMoment=&returnDistinctValues=false&resultOffset=&resultRecordCount=&queryByDistance=&returnExtentOnly=false&datumTransformation=&parameterValues=&rangeValues=&quantizationParameters=&f=geojson\",show=False,name='Streams').add_to(ohio_map)"
   ]
  },
  {
   "cell_type": "markdown",
   "metadata": {},
   "source": [
    "#### Add raster (image) overlayer\n",
    "#### TODO:\n",
    " * Get other images:\n",
    "  * Land Cover / Use\n",
    "  * Soil Type\n",
    "  * Satellite (MODUS)"
   ]
  },
  {
   "cell_type": "code",
   "execution_count": 19,
   "metadata": {},
   "outputs": [
    {
     "data": {
      "text/plain": [
       "<folium.raster_layers.ImageOverlay at 0x7feca5bc9198>"
      ]
     },
     "execution_count": 19,
     "metadata": {},
     "output_type": "execute_result"
    }
   ],
   "source": [
    "folium.raster_layers.ImageOverlay(\"data/Greenup/ned19_n38x50_w082x50_wv_statewide_2003_thumb.jpg\",bounds=[[38.25,-82.50],[38.5,-82.25]],opacity=0.5,name=\"NED\",show=False).add_to(ohio_map)"
   ]
  },
  {
   "cell_type": "markdown",
   "metadata": {
    "extensions": {
     "jupyter_dashboards": {
      "version": 1,
      "views": {
       "grid_default": {},
       "report_default": {
        "hidden": false
       }
      }
     }
    }
   },
   "source": [
    "#### Add the Layer Control widget"
   ]
  },
  {
   "cell_type": "code",
   "execution_count": 20,
   "metadata": {
    "extensions": {
     "jupyter_dashboards": {
      "version": 1,
      "views": {
       "grid_default": {},
       "report_default": {
        "hidden": false
       }
      }
     }
    }
   },
   "outputs": [
    {
     "data": {
      "text/plain": [
       "<folium.map.LayerControl at 0x7feca5bc9390>"
      ]
     },
     "execution_count": 20,
     "metadata": {},
     "output_type": "execute_result"
    }
   ],
   "source": [
    "folium.LayerControl().add_to(ohio_map)"
   ]
  },
  {
   "cell_type": "markdown",
   "metadata": {
    "extensions": {
     "jupyter_dashboards": {
      "version": 1,
      "views": {
       "grid_default": {},
       "report_default": {
        "hidden": false
       }
      }
     }
    }
   },
   "source": [
    "#### Save the map as HTML and display it\n",
    "#### [Suppress before publishing as Tool]"
   ]
  },
  {
   "cell_type": "code",
   "execution_count": 21,
   "metadata": {
    "extensions": {
     "jupyter_dashboards": {
      "version": 1,
      "views": {
       "grid_default": {},
       "report_default": {
        "hidden": true
       }
      }
     }
    }
   },
   "outputs": [],
   "source": [
    "ohio_map.save('ohio_map.html')"
   ]
  },
  {
   "cell_type": "code",
   "execution_count": 22,
   "metadata": {
    "extensions": {
     "jupyter_dashboards": {
      "version": 1,
      "views": {
       "grid_default": {
        "col": 0,
        "height": 21,
        "hidden": false,
        "row": 51,
        "width": 10
       },
       "report_default": {
        "hidden": false
       }
      }
     }
    }
   },
   "outputs": [
    {
     "data": {
      "text/html": [
       "\n",
       "        <iframe\n",
       "            width=\"1200\"\n",
       "            height=\"600\"\n",
       "            src=\"ohio_map.html\"\n",
       "            frameborder=\"0\"\n",
       "            allowfullscreen\n",
       "        ></iframe>\n",
       "        "
      ],
      "text/plain": [
       "<IPython.lib.display.IFrame at 0x7feca7c36b00>"
      ]
     },
     "execution_count": 22,
     "metadata": {},
     "output_type": "execute_result"
    }
   ],
   "source": [
    "from IPython.display import IFrame\n",
    "IFrame(\"ohio_map.html\", width=1200, height=600)"
   ]
  },
  {
   "cell_type": "markdown",
   "metadata": {
    "extensions": {
     "jupyter_dashboards": {
      "version": 1,
      "views": {
       "grid_default": {
        "col": 8,
        "height": 4,
        "hidden": false,
        "row": 0,
        "width": 4
       },
       "report_default": {
        "hidden": false
       }
      }
     }
    }
   },
   "source": [
    "### Read in CSV-formatted table of geo-tagged and time-stamped sensor data from the transects into a DataFrame"
   ]
  },
  {
   "cell_type": "markdown",
   "metadata": {
    "extensions": {
     "jupyter_dashboards": {
      "version": 1,
      "views": {
       "grid_default": {},
       "report_default": {
        "hidden": false
       }
      }
     }
    }
   },
   "source": [
    "#### Sonde data"
   ]
  },
  {
   "cell_type": "code",
   "execution_count": null,
   "metadata": {
    "extensions": {
     "jupyter_dashboards": {
      "version": 1,
      "views": {
       "grid_default": {
        "hidden": true
       },
       "report_default": {
        "hidden": true
       }
      }
     }
    }
   },
   "outputs": [],
   "source": [
    "transects_sonde = pd.read_csv('data/Greenup/All Transects_Sonde.csv',encoding='latin1')"
   ]
  },
  {
   "cell_type": "markdown",
   "metadata": {
    "extensions": {
     "jupyter_dashboards": {
      "version": 1,
      "views": {
       "grid_default": {
        "col": 0,
        "height": 4,
        "hidden": false,
        "row": 22,
        "width": 4
       },
       "report_default": {
        "hidden": false
       }
      }
     }
    }
   },
   "source": [
    "#### Parse out Horizontal and Vertical position codes along transect"
   ]
  },
  {
   "cell_type": "code",
   "execution_count": null,
   "metadata": {
    "extensions": {
     "jupyter_dashboards": {
      "version": 1,
      "views": {
       "grid_default": {
        "hidden": true
       },
       "report_default": {
        "hidden": true
       }
      }
     }
    }
   },
   "outputs": [],
   "source": [
    "transects_sonde['H Code'] = transects_sonde['Site Name'].apply(lambda x: x[0])\n",
    "transects_sonde['V Code'] = transects_sonde['Site Name'].apply(lambda x: x[1:])"
   ]
  },
  {
   "cell_type": "markdown",
   "metadata": {
    "extensions": {
     "jupyter_dashboards": {
      "version": 1,
      "views": {
       "grid_default": {},
       "report_default": {
        "hidden": false
       }
      }
     }
    }
   },
   "source": [
    "#### PAR data"
   ]
  },
  {
   "cell_type": "code",
   "execution_count": null,
   "metadata": {
    "extensions": {
     "jupyter_dashboards": {
      "version": 1,
      "views": {
       "grid_default": {},
       "report_default": {
        "hidden": true
       }
      }
     }
    }
   },
   "outputs": [],
   "source": [
    "transects_par = pd.read_csv('data/Greenup/All Transects_PAR.csv',encoding='latin1')"
   ]
  },
  {
   "cell_type": "code",
   "execution_count": null,
   "metadata": {
    "extensions": {
     "jupyter_dashboards": {
      "version": 1,
      "views": {
       "grid_default": {
        "hidden": true
       },
       "report_default": {
        "hidden": true
       }
      }
     }
    }
   },
   "outputs": [],
   "source": [
    "transects_par['H Code'] = transects_par['SITE'].apply(lambda x: x[0])\n",
    "transects_par['V Code'] = transects_par['SITE'].apply(lambda x: x[1:])"
   ]
  },
  {
   "cell_type": "markdown",
   "metadata": {
    "extensions": {
     "jupyter_dashboards": {
      "version": 1,
      "views": {
       "grid_default": {
        "col": 4,
        "height": 4,
        "hidden": false,
        "row": 22,
        "width": 4
       },
       "report_default": {
        "hidden": false
       }
      }
     }
    }
   },
   "source": [
    "#### Create Data-Time field from Date and Time fields"
   ]
  },
  {
   "cell_type": "code",
   "execution_count": null,
   "metadata": {
    "extensions": {
     "jupyter_dashboards": {
      "version": 1,
      "views": {
       "grid_default": {
        "hidden": true
       },
       "report_default": {
        "hidden": true
       }
      }
     }
    }
   },
   "outputs": [],
   "source": [
    "def datetime_sonde(row):\n",
    "    pattern = '%m/%d/%Y-%H:%M:%S'\n",
    "    dt = row['Date (MM/DD/YYYY)']+'-'+row['Time (HH:MM:SS)']\n",
    "    return pd.to_datetime(time.mktime(time.strptime(dt,pattern)),unit='s')\n",
    "    \n",
    "transects_sonde['Date-Time'] = transects_sonde.apply(lambda row: datetime_sonde(row),axis=1)"
   ]
  },
  {
   "cell_type": "code",
   "execution_count": null,
   "metadata": {
    "extensions": {
     "jupyter_dashboards": {
      "version": 1,
      "views": {
       "grid_default": {
        "hidden": true
       },
       "report_default": {
        "hidden": true
       }
      }
     }
    }
   },
   "outputs": [],
   "source": [
    "def datetime_par(row):\n",
    "    pattern = '%m/%d/%Y-%I:%M:%S %p'\n",
    "    dt = row['Date']+'-'+row['Time']\n",
    "    return pd.to_datetime(time.mktime(time.strptime(dt,pattern)),unit='s')\n",
    "    \n",
    "transects_par['Date-Time_par'] = transects_par.apply(lambda row: datetime_par(row),axis=1)"
   ]
  },
  {
   "cell_type": "markdown",
   "metadata": {
    "extensions": {
     "jupyter_dashboards": {
      "version": 1,
      "views": {
       "grid_default": {
        "col": 8,
        "height": 4,
        "hidden": false,
        "row": 22,
        "width": 4
       },
       "report_default": {
        "hidden": false
       }
      }
     }
    }
   },
   "source": [
    "#### Filter out Test samples from Sonde data -- Consider dropping in place"
   ]
  },
  {
   "cell_type": "code",
   "execution_count": null,
   "metadata": {
    "extensions": {
     "jupyter_dashboards": {
      "version": 1,
      "views": {
       "grid_default": {
        "hidden": true
       },
       "report_default": {
        "hidden": true
       }
      }
     }
    }
   },
   "outputs": [],
   "source": [
    "transects_sonde = transects_sonde[transects_sonde['Site Name'].str.contains('Test')==False]"
   ]
  },
  {
   "cell_type": "markdown",
   "metadata": {
    "extensions": {
     "jupyter_dashboards": {
      "version": 1,
      "views": {
       "grid_default": {
        "col": 0,
        "height": 4,
        "hidden": false,
        "row": 26,
        "width": 4
       },
       "report_default": {
        "hidden": false
       }
      }
     }
    }
   },
   "source": [
    "#### Convert Transect and Horizontal positions to numbers"
   ]
  },
  {
   "cell_type": "code",
   "execution_count": null,
   "metadata": {
    "extensions": {
     "jupyter_dashboards": {
      "version": 1,
      "views": {
       "grid_default": {
        "hidden": true
       },
       "report_default": {
        "hidden": true
       }
      }
     }
    }
   },
   "outputs": [],
   "source": [
    "transects_sonde['T Pos'] = transects_sonde['Transect'].apply(lambda x: int(x[2:]))\n",
    "transects_sonde['H Pos'] = transects_sonde['H Code'].apply(lambda x: int(x))"
   ]
  },
  {
   "cell_type": "code",
   "execution_count": null,
   "metadata": {
    "extensions": {
     "jupyter_dashboards": {
      "version": 1,
      "views": {
       "grid_default": {},
       "report_default": {
        "hidden": true
       }
      }
     }
    }
   },
   "outputs": [],
   "source": [
    "transects_par['T Pos'] = transects_par['Transect'].apply(lambda x: int(x[2:]))\n",
    "transects_par['H Pos'] = transects_par['H Code'].apply(lambda x: int(x))"
   ]
  },
  {
   "cell_type": "markdown",
   "metadata": {
    "extensions": {
     "jupyter_dashboards": {
      "version": 1,
      "views": {
       "grid_default": {
        "col": 4,
        "height": 4,
        "hidden": false,
        "row": 26,
        "width": 4
       },
       "report_default": {
        "hidden": false
       }
      }
     }
    }
   },
   "source": [
    "#### Filter out non-data, empty (TSS) and reduntant columns for chlorophyll, BGA, conductivity, pH, depth"
   ]
  },
  {
   "cell_type": "code",
   "execution_count": null,
   "metadata": {
    "extensions": {
     "jupyter_dashboards": {
      "version": 1,
      "views": {
       "grid_default": {
        "hidden": true
       },
       "report_default": {
        "hidden": true
       }
      }
     }
    }
   },
   "outputs": [],
   "source": [
    "transects_sonde_dataonly = transects_sonde.drop(transects_sonde.columns[:8],axis=1).drop(['H Code','TSS mg/L'],axis=1) \\\n",
    "    .drop(['ODO % sat','Chlorophyll RFU','BGA-PC RFU','pH mV','Press psi a'],axis=1) \\\n",
    "    .drop(transects_sonde.columns[[16,18,19]],axis=1)"
   ]
  },
  {
   "cell_type": "code",
   "execution_count": null,
   "metadata": {
    "extensions": {
     "jupyter_dashboards": {
      "version": 1,
      "views": {
       "grid_default": {},
       "report_default": {
        "hidden": true
       }
      }
     }
    }
   },
   "outputs": [],
   "source": [
    "transects_par_dataonly = transects_par.drop(transects_par.columns[:3],axis=1).drop(['H Code','BATT','SITE','CHK','Date-Time_par'],axis=1) \\\n",
    "    .drop(['PAR_MAX','PAR_MIN'],axis=1)"
   ]
  },
  {
   "cell_type": "markdown",
   "metadata": {
    "extensions": {
     "jupyter_dashboards": {
      "version": 1,
      "views": {
       "grid_default": {},
       "report_default": {
        "hidden": false
       }
      }
     }
    }
   },
   "source": [
    "#### Create 3-part Index from T, H, and V values to help join Sonde and PAR data"
   ]
  },
  {
   "cell_type": "code",
   "execution_count": null,
   "metadata": {
    "extensions": {
     "jupyter_dashboards": {
      "version": 1,
      "views": {
       "grid_default": {},
       "report_default": {
        "hidden": true
       }
      }
     }
    }
   },
   "outputs": [],
   "source": [
    "transects_sonde_dataonly = transects_sonde_dataonly.set_index(['T Pos','H Pos','V Code'],drop=False)"
   ]
  },
  {
   "cell_type": "code",
   "execution_count": null,
   "metadata": {
    "extensions": {
     "jupyter_dashboards": {
      "version": 1,
      "views": {
       "grid_default": {},
       "report_default": {
        "hidden": true
       }
      }
     }
    }
   },
   "outputs": [],
   "source": [
    "transects_par_dataonly = transects_par_dataonly.set_index(['T Pos','H Pos','V Code'],drop=True)"
   ]
  },
  {
   "cell_type": "markdown",
   "metadata": {
    "extensions": {
     "jupyter_dashboards": {
      "version": 1,
      "views": {
       "grid_default": {},
       "report_default": {
        "hidden": false
       }
      }
     }
    }
   },
   "source": [
    "#### Combine (merge/join) Sonde and PAR data"
   ]
  },
  {
   "cell_type": "code",
   "execution_count": null,
   "metadata": {
    "extensions": {
     "jupyter_dashboards": {
      "version": 1,
      "views": {
       "grid_default": {},
       "report_default": {
        "hidden": true
       }
      }
     }
    }
   },
   "outputs": [],
   "source": [
    "transects_combined = pd.merge(transects_sonde_dataonly,transects_par_dataonly,left_index=True,right_index=True).drop(['V Code'],axis=1)"
   ]
  },
  {
   "cell_type": "markdown",
   "metadata": {
    "extensions": {
     "jupyter_dashboards": {
      "version": 1,
      "views": {
       "grid_default": {
        "hidden": true
       },
       "report_default": {
        "hidden": true
       }
      }
     }
    }
   },
   "source": [
    "#### Create column for Chlorophyll / BGA ratio"
   ]
  },
  {
   "cell_type": "code",
   "execution_count": null,
   "metadata": {},
   "outputs": [],
   "source": [
    "transects_combined['Chlorophyll µg/L'] = transects_combined['Chlorophyll µg/L'].apply(lambda x: 0.0 if x < 0.0 else x)"
   ]
  },
  {
   "cell_type": "code",
   "execution_count": null,
   "metadata": {},
   "outputs": [],
   "source": [
    "transects_combined['BGA-PC µg/L'] = transects_combined['BGA-PC µg/L'].apply(lambda x: 0.1 if x < 0.1 else x)"
   ]
  },
  {
   "cell_type": "code",
   "execution_count": null,
   "metadata": {},
   "outputs": [],
   "source": [
    "transects_combined['Chlorophyll/BGA'] = transects_combined.apply(lambda x: x['Chlorophyll µg/L']/x['BGA-PC µg/L'], axis=1)\n",
    "#transects_combined.head()"
   ]
  },
  {
   "cell_type": "markdown",
   "metadata": {},
   "source": [
    "#### Merge in location data, including RMI\n",
    " * Create temporary Name column for merging"
   ]
  },
  {
   "cell_type": "code",
   "execution_count": null,
   "metadata": {},
   "outputs": [],
   "source": [
    "transects_combined['Name'] = transects_combined['T Pos'].apply(lambda x: 'T-'+str(x))\n",
    "transects_combined = pd.merge(transects_combined,all_sites,on=['Name']).drop(all_sites.columns[0:5],axis=1).drop(all_sites.columns[6:],axis=1)\n",
    "#transects_combined.columns"
   ]
  },
  {
   "cell_type": "markdown",
   "metadata": {},
   "source": [
    "#### Re-index by datetime"
   ]
  },
  {
   "cell_type": "code",
   "execution_count": null,
   "metadata": {
    "extensions": {
     "jupyter_dashboards": {
      "version": 1,
      "views": {
       "grid_default": {},
       "report_default": {
        "hidden": true
       }
      }
     }
    }
   },
   "outputs": [],
   "source": [
    "transects_combined = transects_combined.set_index(['Date-Time'])\n",
    "transects_combined.columns"
   ]
  },
  {
   "cell_type": "markdown",
   "metadata": {
    "extensions": {
     "jupyter_dashboards": {
      "version": 1,
      "views": {
       "grid_default": {
        "col": 8,
        "height": 4,
        "hidden": false,
        "row": 26,
        "width": 4
       },
       "report_default": {
        "hidden": false
       }
      }
     }
    }
   },
   "source": [
    "### Distribution plots of transect data"
   ]
  },
  {
   "cell_type": "code",
   "execution_count": null,
   "metadata": {
    "extensions": {
     "jupyter_dashboards": {
      "version": 1,
      "views": {
       "grid_default": {
        "col": 0,
        "height": 13,
        "hidden": false,
        "row": 30,
        "width": 4
       },
       "report_default": {
        "hidden": false
       }
      }
     }
    }
   },
   "outputs": [],
   "source": [
    "def dist_plot(Property,Kind='kde'):\n",
    "    transects_combined[Property].plot(kind=Kind)\n",
    "    \n",
    "interact(dist_plot, \\\n",
    "         Property=transects_combined.columns.drop(['T Pos','H Pos','RMI']), \\\n",
    "         Kind=['hist','kde','box'] \\\n",
    "        )"
   ]
  },
  {
   "cell_type": "markdown",
   "metadata": {
    "extensions": {
     "jupyter_dashboards": {
      "version": 1,
      "views": {
       "grid_default": {
        "col": 4,
        "height": 4,
        "hidden": false,
        "row": 30,
        "width": 4
       },
       "report_default": {
        "hidden": false
       }
      }
     }
    }
   },
   "source": [
    "### Correlation Scatter Plots"
   ]
  },
  {
   "cell_type": "markdown",
   "metadata": {
    "extensions": {
     "jupyter_dashboards": {
      "version": 1,
      "views": {
       "grid_default": {},
       "report_default": {
        "hidden": false
       }
      }
     }
    }
   },
   "source": [
    "#### Scatter matrix for all properties (disabled due to size)"
   ]
  },
  {
   "cell_type": "code",
   "execution_count": null,
   "metadata": {
    "extensions": {
     "jupyter_dashboards": {
      "version": 1,
      "views": {
       "grid_default": {
        "hidden": true
       },
       "report_default": {
        "hidden": true
       }
      }
     }
    }
   },
   "outputs": [],
   "source": [
    "#scatter_matrix(transects_combined,figsize=(20.0,20.0),diagonal='kde')"
   ]
  },
  {
   "cell_type": "markdown",
   "metadata": {
    "extensions": {
     "jupyter_dashboards": {
      "version": 1,
      "views": {
       "grid_default": {},
       "report_default": {
        "hidden": false
       }
      }
     }
    }
   },
   "source": [
    "#### Individual scatter plots (3rd property used for color map)"
   ]
  },
  {
   "cell_type": "code",
   "execution_count": null,
   "metadata": {
    "extensions": {
     "jupyter_dashboards": {
      "version": 1,
      "views": {
       "grid_default": {
        "hidden": true
       },
       "report_default": {
        "hidden": true
       }
      }
     }
    }
   },
   "outputs": [],
   "source": [
    "def scatter_plot_transects(XProperty=transects_combined.columns[0],YProperty=transects_combined.columns[1],CProperty=transects_combined.columns[3],ColorMap='jet'):\n",
    "    transects_combined.plot.scatter(x=XProperty,y=YProperty,c=CProperty,cmap=ColorMap,s=4)\n",
    "    \n",
    "interact(scatter_plot_transects, \\\n",
    "         XProperty=transects_combined.columns, \\\n",
    "         YProperty=transects_combined.columns, \\\n",
    "         CProperty=transects_combined.columns, \\\n",
    "         ColorMap=['jet','viridis','magma','coolwarm','seismic','Greys','Reds','Blues'] \\\n",
    "        )"
   ]
  },
  {
   "cell_type": "markdown",
   "metadata": {
    "extensions": {
     "jupyter_dashboards": {
      "version": 1,
      "views": {
       "grid_default": {
        "col": 8,
        "height": 4,
        "hidden": false,
        "row": 30,
        "width": 4
       },
       "report_default": {
        "hidden": false
       }
      }
     }
    }
   },
   "source": [
    "### Use scatter plot to display depth x width profile for selected transect with data points colored by value of selected property"
   ]
  },
  {
   "cell_type": "code",
   "execution_count": null,
   "metadata": {
    "extensions": {
     "jupyter_dashboards": {
      "version": 1,
      "views": {
       "grid_default": {
        "hidden": true
       },
       "report_default": {
        "hidden": true
       }
      }
     }
    }
   },
   "outputs": [],
   "source": [
    "def transect_profile_plot(Transect,Property,ColorMap='jet'):\n",
    "    transect = transects_combined[transects_combined['T Pos']==Transect]\n",
    "    transect.plot.scatter(x='H Pos',y='Depth m',ylim=(15,0),c=Property,cmap=ColorMap,marker='H',s=250)\n",
    "    \n",
    "interact(transect_profile_plot, \\\n",
    "         Transect=transects_combined['T Pos'].unique(), \\\n",
    "         Property=transects_combined.columns.drop(['Depth m','T Pos','H Pos','PAR','RMI']), \\\n",
    "         ColorMap=['jet','viridis','magma','coolwarm','seismic','Greys','Reds','Blues'] \\\n",
    "        )"
   ]
  },
  {
   "cell_type": "markdown",
   "metadata": {
    "extensions": {
     "jupyter_dashboards": {
      "version": 1,
      "views": {
       "grid_default": {
        "col": 8,
        "height": 4,
        "hidden": false,
        "row": 34,
        "width": 4
       },
       "report_default": {
        "hidden": false
       }
      }
     }
    }
   },
   "source": [
    "### Loop through all the data columns to create a profile panel"
   ]
  },
  {
   "cell_type": "code",
   "execution_count": null,
   "metadata": {
    "extensions": {
     "jupyter_dashboards": {
      "version": 1,
      "views": {
       "grid_default": {
        "col": 8,
        "height": 13,
        "hidden": false,
        "row": 38,
        "width": 4
       },
       "report_default": {
        "hidden": false
       }
      }
     }
    }
   },
   "outputs": [],
   "source": [
    "def transect_profile_panel(Transect,ColorMap='jet'):\n",
    "    fig, axes = plt.subplots(nrows=2,ncols=5,figsize=(25,10))\n",
    "    transect = transects_combined[transects_combined['T Pos']==Transect]\n",
    "    i = j = 0\n",
    "    for col in transects_combined.columns[:13].drop(['T Pos','H Pos','Depth m']):\n",
    "        transect.plot.scatter(ax=axes[j,i],x='H Pos',y='Depth m',ylim=(14,0),c=col,cmap=ColorMap,marker='H',s=250)\n",
    "        axes[j,i].axis('off')\n",
    "        if i < 4:\n",
    "            i = i + 1\n",
    "        else:\n",
    "            i = 0\n",
    "            j = j + 1\n",
    "            \n",
    "interact(transect_profile_panel, \\\n",
    "         Transect=transects_combined['T Pos'].unique(), \\\n",
    "         ColorMap=['jet','viridis','magma','coolwarm','seismic','Greys','Reds','Blues'] \\\n",
    "        )"
   ]
  },
  {
   "cell_type": "markdown",
   "metadata": {
    "extensions": {
     "jupyter_dashboards": {
      "version": 1,
      "views": {
       "grid_default": {},
       "report_default": {
        "hidden": false
       }
      }
     }
    }
   },
   "source": [
    "### Get transect means and baseline values from corresponding measurements at the RC Byrd and Greenup Locks and Dams\n",
    "#### (Previously generated from resampled time series data below, merge_all_means)"
   ]
  },
  {
   "cell_type": "code",
   "execution_count": null,
   "metadata": {
    "extensions": {
     "jupyter_dashboards": {
      "version": 1,
      "views": {
       "grid_default": {},
       "report_default": {
        "hidden": true
       }
      }
     }
    }
   },
   "outputs": [],
   "source": [
    "transects_means_bases = pd.read_csv('data/Greenup/transects_with_bases.csv',encoding='latin1')"
   ]
  },
  {
   "cell_type": "code",
   "execution_count": null,
   "metadata": {
    "extensions": {
     "jupyter_dashboards": {
      "version": 1,
      "views": {
       "grid_default": {
        "hidden": true
       },
       "report_default": {
        "hidden": true
       }
      }
     }
    }
   },
   "outputs": [],
   "source": [
    "transects_means_bases = transects_means_bases.drop(['ODO % sat_mean', 'ODO % sat_base', \\\n",
    "    'Chlorophyll RFU_mean', 'Chlorophyll RFU_base', \\\n",
    "    'BGA-PC RFU_mean', 'BGA-PC RFU_base', \\\n",
    "    'SpCond µS/cm_mean', 'SpCond µS/cm_base', \\\n",
    "    'nLF Cond µS/cm_mean', 'nLF Cond µS/cm_base', \\\n",
    "    'TDS mg/L_mean', 'TDS mg/L_base', \\\n",
    "    'pH mV_mean', 'pH mV_base', \\\n",
    "    'PAR_mean', 'PAR_MIN_mean', 'PAR_MAX_mean', \\\n",
    "    'ODO % sat_RCB', 'Chlorophyll RFU_RCB', 'BGA-PC RFU_RCB', 'SpCond ÂµS/cm_RCB', 'nLF Cond ÂµS/cm_RCB', 'TDS mg/L_RCB', 'pH mV_RCB', 'Press psi a_RCB', \\\n",
    "    'ODO % sat_Greenup', 'Chlorophyll RFU_Greenup', 'BGA-PC RFU_Greenup', 'SpCond ÂµS/cm_Greenup', 'nLF Cond ÂµS/cm_Greenup', 'TDS mg/L_Greenup', 'pH mV_Greenup', 'Press psi a_Greenup'],axis=1)\n",
    "transects_means_bases.columns"
   ]
  },
  {
   "cell_type": "code",
   "execution_count": null,
   "metadata": {},
   "outputs": [],
   "source": [
    "transects_means_bases['Chlorophyll/BGA_mean'] = transects_means_bases.apply(lambda x: x['Chlorophyll µg/L_mean']/x['BGA-PC µg/L_mean'], axis=1)\n",
    "transects_means_bases['Chlorophyll/BGA_base'] = transects_means_bases.apply(lambda x: x['Chlorophyll µg/L_base']/x['BGA-PC µg/L_base'], axis=1)"
   ]
  },
  {
   "cell_type": "markdown",
   "metadata": {
    "extensions": {
     "jupyter_dashboards": {
      "version": 1,
      "views": {
       "grid_default": {},
       "report_default": {
        "hidden": false
       }
      }
     }
    }
   },
   "source": [
    "#### Merge with transect data to do baseline corrections and comparisons with means"
   ]
  },
  {
   "cell_type": "code",
   "execution_count": null,
   "metadata": {
    "extensions": {
     "jupyter_dashboards": {
      "version": 1,
      "views": {
       "grid_default": {},
       "report_default": {
        "hidden": true
       }
      }
     }
    }
   },
   "outputs": [],
   "source": [
    "transects_with_bases = pd.merge(transects_combined,transects_means_bases,on=['T Pos'])\n",
    "#transects_with_bases.head()"
   ]
  },
  {
   "cell_type": "markdown",
   "metadata": {
    "extensions": {
     "jupyter_dashboards": {
      "version": 1,
      "views": {
       "grid_default": {
        "col": 0,
        "height": 4,
        "hidden": false,
        "row": 47,
        "width": 4
       },
       "report_default": {
        "hidden": false
       }
      }
     }
    }
   },
   "source": [
    "### Create pseudo 3D profile showing all transects"
   ]
  },
  {
   "cell_type": "code",
   "execution_count": null,
   "metadata": {
    "extensions": {
     "jupyter_dashboards": {
      "version": 1,
      "views": {
       "grid_default": {
        "col": 0,
        "height": 6,
        "hidden": false,
        "row": 72,
        "width": 4
       },
       "report_default": {
        "hidden": false
       }
      }
     }
    }
   },
   "outputs": [],
   "source": [
    "def plot_3d_transects(Property,Type='Absolute',ColorMap='jet',HAng=30,VAng=0):\n",
    "    fig = plt.figure(figsize=(5,4))\n",
    "    ax = plt.axes((0.0,0.0,5.0,1.0),projection='3d',title=Property+' '+Type)\n",
    "    z = -transects_combined['Depth m']\n",
    "    y = -transects_combined['RMI']\n",
    "    x = transects_combined['H Pos']\n",
    "    if (Type == 'Absolute'):\n",
    "        c = transects_combined[Property]\n",
    "    elif(Type == 'WRT Baseline'):\n",
    "        c = (transects_with_bases[Property]-transects_with_bases[Property+'_base'])/transects_with_bases[Property+'_base']\n",
    "    elif(Type == 'WRT Transect Mean'):\n",
    "        c = (transects_with_bases[Property]-transects_with_bases[Property+'_mean'])/transects_with_bases[Property+'_mean']\n",
    "    scat = ax.scatter(x,y,z,c=c,cmap=ColorMap,s=100,marker='H')\n",
    "    fig.colorbar(scat)\n",
    "    ax.view_init(HAng,VAng)\n",
    "    \n",
    "interact(plot_3d_transects, \\\n",
    "         Property=transects_combined.columns.drop(['Depth m','T Pos','H Pos','PAR','RMI']),\n",
    "         Type=['Absolute','WRT Baseline','WRT Transect Mean'],\n",
    "         ColorMap=['jet','viridis','magma','coolwarm','seismic','Greys','Reds','Blues'],\n",
    "         HAng=(0,90,5),VAng=(-5,5) \\\n",
    "        )"
   ]
  },
  {
   "cell_type": "markdown",
   "metadata": {
    "extensions": {
     "jupyter_dashboards": {
      "version": 1,
      "views": {
       "grid_default": {
        "col": 4,
        "height": 4,
        "hidden": false,
        "row": 47,
        "width": 4
       },
       "report_default": {
        "hidden": false
       }
      }
     }
    }
   },
   "source": [
    "#### Test use of Plotly (requires Plotly online account and API key)"
   ]
  },
  {
   "cell_type": "markdown",
   "metadata": {
    "extensions": {
     "jupyter_dashboards": {
      "version": 1,
      "views": {
       "grid_default": {
        "col": 0,
        "height": 6,
        "hidden": false,
        "row": 78,
        "width": 12
       },
       "report_default": {
        "hidden": false
       }
      }
     }
    },
    "scrolled": true
   },
   "source": [
    "```\n",
    "import plotly\n",
    "plotly.tools.set_credentials_file(username='jacks9',api_key='BYcXwx33PGIcLI0SW1W9')\n",
    "import plotly.plotly as py\n",
    "import plotly.figure_factory as ff\n",
    "table = ff.create_table(transects_notests)\n",
    "py.iplot(table,filename='transects-table')\n",
    "```"
   ]
  },
  {
   "cell_type": "markdown",
   "metadata": {},
   "source": [
    "## Sediment Composition"
   ]
  },
  {
   "cell_type": "markdown",
   "metadata": {
    "extensions": {
     "jupyter_dashboards": {
      "version": 1,
      "views": {
       "grid_default": {},
       "report_default": {
        "hidden": false
       }
      }
     }
    }
   },
   "source": [
    "#### TODO: \n",
    " * Distribution plots, Correlation plots, Multiple Z plots on same graph\n",
    " * Do same for Fish populations, Macro invertebrates, Substrate types, Water quality\n",
    " * Cross correlations between any pair"
   ]
  },
  {
   "cell_type": "markdown",
   "metadata": {},
   "source": [
    "#### Get Sediment Composition Data (2011)"
   ]
  },
  {
   "cell_type": "code",
   "execution_count": null,
   "metadata": {
    "extensions": {
     "jupyter_dashboards": {
      "version": 1,
      "views": {
       "grid_default": {
        "hidden": true
       },
       "report_default": {
        "hidden": true
       }
      }
     }
    }
   },
   "outputs": [],
   "source": [
    "locations = pd.read_csv('data/Greenup/Ohio River Sites.csv')"
   ]
  },
  {
   "cell_type": "code",
   "execution_count": null,
   "metadata": {
    "extensions": {
     "jupyter_dashboards": {
      "version": 1,
      "views": {
       "grid_default": {},
       "report_default": {
        "hidden": true
       }
      }
     }
    }
   },
   "outputs": [],
   "source": [
    "sediment_data = pd.read_csv('data/Greenup/GreenupSedimentData2011.csv',encoding='latin1')\n",
    "sediment_data.rename(columns={'Location':'Name'},inplace=True)\n",
    "sediment_data_with_lat_lon = pd.merge(sediment_data,locations,on='Name').fillna(0)\n",
    "#sediment_data_with_lat_lon.columns"
   ]
  },
  {
   "cell_type": "markdown",
   "metadata": {
    "extensions": {
     "jupyter_dashboards": {
      "version": 1,
      "views": {
       "grid_default": {},
       "report_default": {
        "hidden": false
       }
      }
     }
    }
   },
   "source": [
    "#### Plot Sediment Composition vs River Mile"
   ]
  },
  {
   "cell_type": "code",
   "execution_count": null,
   "metadata": {
    "extensions": {
     "jupyter_dashboards": {
      "version": 1,
      "views": {
       "grid_default": {
        "col": 0,
        "height": 13,
        "hidden": false,
        "row": 30,
        "width": 4
       },
       "report_default": {
        "hidden": false
       }
      }
     }
    }
   },
   "outputs": [],
   "source": [
    "def rmi_plot(Property):\n",
    "    sediment_data.plot(x='RMI',y=Property)\n",
    "    \n",
    "interact(rmi_plot, \\\n",
    "         Property=sediment_data.columns[8::2] \\\n",
    "        )"
   ]
  },
  {
   "cell_type": "markdown",
   "metadata": {},
   "source": [
    "#### Generate a Heat Map using Folium plugin"
   ]
  },
  {
   "cell_type": "markdown",
   "metadata": {
    "extensions": {
     "jupyter_dashboards": {
      "version": 1,
      "views": {
       "grid_default": {
        "col": 0,
        "height": 13,
        "hidden": false,
        "row": 30,
        "width": 4
       },
       "report_default": {
        "hidden": false
       }
      }
     }
    }
   },
   "source": [
    "from IPython.display import IFrame\n",
    "m = folium.Map([38.6,-82.5],zoom_start=10,tiles=None)\n",
    "folium.TileLayer('OpenStreetMap').add_to(m)\n",
    "for prop in sediment_data.columns[9::2]:\n",
    "    sediment_data_with_lat_lon['Heat Value'] = sediment_data_with_lat_lon[prop].apply(lambda x: (x+3.0)/6.0)\n",
    "    m_data = sediment_data_with_lat_lon[['Latitude','Longitude','Heat Value']].values.tolist()\n",
    "    plugins.HeatMap(m_data,name=prop,radius=10,gradient={0.4:'lime', 0.5:'blue', 0.6:'red'},blur=5,show=False).add_to(m)\n",
    "folium.LayerControl().add_to(m)\n",
    "m.save('heatmap.html')\n",
    "#sediment_data_with_lat_lon[['Latitude','Longitude','Heat Value']].values.tolist()\n",
    "IFrame('heatmap.html',width=600,height=500)"
   ]
  },
  {
   "cell_type": "markdown",
   "metadata": {
    "extensions": {
     "jupyter_dashboards": {
      "version": 1,
      "views": {
       "grid_default": {
        "hidden": true
       },
       "report_default": {
        "hidden": true
       }
      }
     }
    }
   },
   "source": [
    "## Get USGS Gage data directly from USGS (WaterData) web services - Gage 03216070 in Ironton, OH"
   ]
  },
  {
   "cell_type": "code",
   "execution_count": null,
   "metadata": {},
   "outputs": [],
   "source": [
    "usgs_gage = pd.read_csv(\"https://nwis.waterdata.usgs.gov/usa/nwis/uv/\"+ \\\n",
    "                        \"?site_no=03216070\"+ \\\n",
    "                        \"&period=&begin_date=2017-08-25&end_date=2019-06-19\"+ \\\n",
    "                        \"&cb_00010=on&cb_00011=on&cb_00060=on&cb_00065=on&cb_00095=on&cb_00300=on&cb_00400=on&cb_63680=on&cb_72254=on&cb_72255=on&cb_99133=on\"+ \\\n",
    "                        \"&format=rdb\", \\\n",
    "                       sep='\\t',comment='#',header=[0,1])"
   ]
  },
  {
   "cell_type": "code",
   "execution_count": null,
   "metadata": {},
   "outputs": [],
   "source": [
    "usgs_gage = usgs_gage.reset_index()\n",
    "usgs_gage.columns = ['Index', 'Agency', 'Site', 'DateTime', 'TZ', \\\n",
    "                     'Temperature', 'q1', 'Temperature ADVM', 'q2', 'Discharge', 'q3', 'Gage height', 'q4', \\\n",
    "                     'Specific cond', 'q5', 'Dissolved oxygen', 'q6', 'pH', 'q7', 'Turbidity', 'q8', \\\n",
    "                     'Sensor velocity', 'q9', 'Mean velocity', 'q10', 'NO3+NO2', 'q11']\n",
    "#usgs_gage.columns, usgs_gage.head()"
   ]
  },
  {
   "cell_type": "code",
   "execution_count": null,
   "metadata": {},
   "outputs": [],
   "source": [
    "usgs_gage = usgs_gage.drop(usgs_gage.columns[6:28:2],axis=1)\n",
    "usgs_gage = usgs_gage.drop(['Index','Agency','Site','TZ'],axis=1)\n",
    "usgs_gage.head()"
   ]
  },
  {
   "cell_type": "code",
   "execution_count": null,
   "metadata": {
    "extensions": {
     "jupyter_dashboards": {
      "version": 1,
      "views": {
       "grid_default": {
        "hidden": true
       },
       "report_default": {
        "hidden": true
       }
      }
     }
    }
   },
   "outputs": [],
   "source": [
    "def datetime_usgs(row):\n",
    "    pattern = '%Y-%m-%d %H:%M'\n",
    "    dt = row['DateTime']\n",
    "    return pd.to_datetime(time.mktime(time.strptime(dt,pattern)),unit='s')\n",
    "    \n",
    "usgs_gage['DateTime'] = usgs_gage.apply(lambda row: datetime_usgs(row),axis=1)\n",
    "usgs_gage = usgs_gage.set_index(['DateTime'])"
   ]
  },
  {
   "cell_type": "code",
   "execution_count": null,
   "metadata": {
    "extensions": {
     "jupyter_dashboards": {
      "version": 1,
      "views": {
       "grid_default": {
        "hidden": true
       },
       "report_default": {
        "hidden": true
       }
      }
     }
    }
   },
   "outputs": [],
   "source": [
    "def dist_plot_ts_usgs(Property,Kind='kde'):\n",
    "    usgs_gage[Property].plot(kind=Kind,color='blue')\n",
    "        \n",
    "interact(dist_plot_ts_usgs, \\\n",
    "         Property=usgs_gage.columns.drop(['NO3+NO2']), \\\n",
    "         Kind=['hist','kde','box'] \\\n",
    "        )"
   ]
  },
  {
   "cell_type": "code",
   "execution_count": null,
   "metadata": {
    "extensions": {
     "jupyter_dashboards": {
      "version": 1,
      "views": {
       "grid_default": {
        "hidden": true
       },
       "report_default": {
        "hidden": true
       }
      }
     }
    }
   },
   "outputs": [],
   "source": [
    "def scatter_plot_timeseries_usgs(XProperty=usgs_gage.columns[0],YProperty=usgs_gage.columns[1],CProperty=usgs_gage.columns[3],ColorMap='jet'):\n",
    "    usgs_gage.plot.scatter(x=XProperty,y=YProperty,c=CProperty,cmap=ColorMap,s=1)\n",
    "    \n",
    "interact(scatter_plot_timeseries_usgs, \\\n",
    "         XProperty=usgs_gage.columns.drop(['NO3+NO2']), \\\n",
    "         YProperty=usgs_gage.columns.drop(['NO3+NO2']), \\\n",
    "         CProperty=usgs_gage.columns.drop(['NO3+NO2']), \\\n",
    "         ColorMap=['jet','viridis','magma','coolwarm','seismic','Greys','Reds','Blues'] \\\n",
    "        )"
   ]
  },
  {
   "cell_type": "code",
   "execution_count": null,
   "metadata": {
    "extensions": {
     "jupyter_dashboards": {
      "version": 1,
      "views": {
       "grid_default": {
        "col": 8,
        "height": 27,
        "hidden": false,
        "row": 84,
        "width": 4
       },
       "report_default": {
        "hidden": false
       }
      }
     }
    }
   },
   "outputs": [],
   "source": [
    "from datetime import datetime\n",
    "start_date = datetime(2017, 8, 1)\n",
    "end_date = datetime.now()\n",
    "dates = pd.date_range(start_date, end_date, freq='M')\n",
    "date_options = [(date.strftime(' %b %Y '), date) for date in dates]\n",
    "date_index = (0, len(date_options)-1)\n",
    "\n",
    "date_range_slider = widgets.SelectionRangeSlider(\n",
    "    options=date_options,\n",
    "    index=date_index,\n",
    "    description = \"Dates\",\n",
    "    orientation = 'horizontal',\n",
    "    layout = {'width': '500px'}\n",
    ")\n",
    "date_range_slider"
   ]
  },
  {
   "cell_type": "code",
   "execution_count": null,
   "metadata": {
    "extensions": {
     "jupyter_dashboards": {
      "version": 1,
      "views": {
       "grid_default": {
        "hidden": true
       },
       "report_default": {
        "hidden": true
       }
      }
     }
    },
    "scrolled": false
   },
   "outputs": [],
   "source": [
    "def plot_ts_usgs(date_range=(start_date,end_date)):\n",
    "    fig, axes = plt.subplots(nrows=len(usgs_gage.columns)-1,ncols=1,figsize=(20,30),sharex=False)\n",
    "    i = 0\n",
    "    for property in usgs_gage.columns.drop(['NO3+NO2']):\n",
    "        usgs_gage[property].plot(ax=axes[i],drawstyle='steps-post',legend=True,color='blue')\n",
    "        axes[i].legend([property],loc='upper left')\n",
    "        axes[i].set_xlim(date_range)\n",
    "        i = i+1\n",
    "            \n",
    "interact_manual(plot_ts_usgs,date_range=date_range_slider)"
   ]
  },
  {
   "cell_type": "markdown",
   "metadata": {
    "extensions": {
     "jupyter_dashboards": {
      "version": 1,
      "views": {
       "grid_default": {
        "col": 4,
        "height": 4,
        "hidden": false,
        "row": 72,
        "width": 4
       },
       "report_default": {
        "hidden": false
       }
      }
     }
    }
   },
   "source": [
    "## RC Byrd and Greenup Locks and Dams Time Series Data (now includes USGS discharge data)"
   ]
  },
  {
   "cell_type": "code",
   "execution_count": null,
   "metadata": {
    "extensions": {
     "jupyter_dashboards": {
      "version": 1,
      "views": {
       "grid_default": {
        "hidden": true
       },
       "report_default": {
        "hidden": true
       }
      }
     }
    }
   },
   "outputs": [],
   "source": [
    "locks_all = pd.read_csv('data/Greenup/Locks_sonde_data_2.csv',encoding='latin1')"
   ]
  },
  {
   "cell_type": "code",
   "execution_count": null,
   "metadata": {
    "extensions": {
     "jupyter_dashboards": {
      "version": 1,
      "views": {
       "grid_default": {
        "hidden": true
       },
       "report_default": {
        "hidden": true
       }
      }
     }
    }
   },
   "outputs": [],
   "source": [
    "def datetime(row):\n",
    "    pattern = '%m/%d/%Y-%H:%M:%S'\n",
    "    dt = row['Date (MM/DD/YYYY)']+'-'+row['Time (HH:MM:SS)']\n",
    "    return pd.to_datetime(time.mktime(time.strptime(dt,pattern)),unit='s')\n",
    "    \n",
    "locks_all['Date-Time'] = locks_all.apply(lambda row: datetime(row),axis=1)\n",
    "locks_all = locks_all.set_index(['Date-Time'])"
   ]
  },
  {
   "cell_type": "markdown",
   "metadata": {
    "extensions": {
     "jupyter_dashboards": {
      "version": 1,
      "views": {
       "grid_default": {},
       "report_default": {
        "hidden": false
       }
      }
     }
    }
   },
   "source": [
    "#### Filter out rows with zero values for conductivity-related measures (use salinity as indicator)"
   ]
  },
  {
   "cell_type": "code",
   "execution_count": null,
   "metadata": {
    "extensions": {
     "jupyter_dashboards": {
      "version": 1,
      "views": {
       "grid_default": {},
       "report_default": {
        "hidden": true
       }
      }
     }
    }
   },
   "outputs": [],
   "source": [
    "locks_all = locks_all[locks_all['Sal psu'] != 0]"
   ]
  },
  {
   "cell_type": "code",
   "execution_count": null,
   "metadata": {},
   "outputs": [],
   "source": [
    "locks_all['Discharge CFS'] = locks_all['Discharge CFS'].replace(0,np.nan)\n",
    "locks_all['Chlorophyll µg/L'] = locks_all['Chlorophyll µg/L'].apply(lambda x: 0.0 if x < 0.0 else x)\n",
    "locks_all['BGA-PC µg/L'] = locks_all['BGA-PC µg/L'].apply(lambda x: 0.1 if x < 0.1 else x)"
   ]
  },
  {
   "cell_type": "code",
   "execution_count": null,
   "metadata": {},
   "outputs": [],
   "source": [
    "locks_all['Chlorophyll/BGA'] = locks_all.apply(lambda x: x['Chlorophyll µg/L']/x['BGA-PC µg/L'], axis=1)"
   ]
  },
  {
   "cell_type": "markdown",
   "metadata": {
    "extensions": {
     "jupyter_dashboards": {
      "version": 1,
      "views": {
       "grid_default": {},
       "report_default": {
        "hidden": false
       }
      }
     }
    }
   },
   "source": [
    "#### Drop non-data columns, TSS (all NaN), and redunctant columns for chlorophyll, BGA, conductivity, salinity, pH, depth\n",
    "TODO:\n",
    " * Try using Zip of desired columns instead of dropping everything else"
   ]
  },
  {
   "cell_type": "code",
   "execution_count": null,
   "metadata": {
    "extensions": {
     "jupyter_dashboards": {
      "version": 1,
      "views": {
       "grid_default": {
        "hidden": true
       },
       "report_default": {
        "hidden": true
       }
      }
     }
    }
   },
   "outputs": [],
   "source": [
    "locks_all_dataonly = locks_all.drop(locks_all.columns[:7],axis=1).drop('Wiper Pos V',axis=1) \\\n",
    "    .drop('TSS mg/L',axis=1) \\\n",
    "    .drop('ODO % sat',axis=1).drop('Chlorophyll RFU',axis=1).drop('BGA-PC RFU',axis=1) \\\n",
    "    .drop(locks_all.columns[[15,17,18]],axis=1).drop('Sal psu',axis=1).drop('pH mV',axis=1).drop('Press psi a',axis=1)"
   ]
  },
  {
   "cell_type": "code",
   "execution_count": null,
   "metadata": {
    "extensions": {
     "jupyter_dashboards": {
      "version": 1,
      "views": {
       "grid_default": {
        "hidden": true
       },
       "report_default": {
        "hidden": true
       }
      }
     }
    }
   },
   "outputs": [],
   "source": [
    "rcb_only = locks_all[locks_all['Site Name'].str.contains('RCB')==True]\n",
    "greenup_only = locks_all[locks_all['Site Name'].str.contains('Greenup')==True]\n",
    "rcb_dataonly = rcb_only.drop(rcb_only.columns[:7],axis=1).drop('Wiper Pos V',axis=1).drop('TSS mg/L',axis=1)\n",
    "greenup_dataonly = greenup_only.drop(greenup_only.columns[:7],axis=1).drop('Wiper Pos V',axis=1).drop('TSS mg/L',axis=1)"
   ]
  },
  {
   "cell_type": "markdown",
   "metadata": {
    "extensions": {
     "jupyter_dashboards": {
      "version": 1,
      "views": {
       "grid_default": {},
       "report_default": {
        "hidden": false
       }
      }
     }
    }
   },
   "source": [
    "### Distribution plots"
   ]
  },
  {
   "cell_type": "code",
   "execution_count": null,
   "metadata": {
    "extensions": {
     "jupyter_dashboards": {
      "version": 1,
      "views": {
       "grid_default": {
        "col": 0,
        "height": 14,
        "hidden": false,
        "row": 84,
        "width": 4
       },
       "report_default": {
        "hidden": false
       }
      }
     }
    }
   },
   "outputs": [],
   "source": [
    "def dist_plot_ts(Property,Site='RCB',Kind='kde'):\n",
    "    if ((Site=='RCB') | (Site=='Both')):\n",
    "        rcb_dataonly[Property].plot(kind=Kind,color='blue')\n",
    "    if ((Site=='Greenup') | (Site=='Both')):\n",
    "        greenup_dataonly[Property].plot(kind=Kind,color='green')\n",
    "        \n",
    "interact(dist_plot_ts, \\\n",
    "         Property=locks_all_dataonly.columns, \\\n",
    "         Site=['RCB','Greenup','Both'], \\\n",
    "         Kind=['hist','kde','box'] \\\n",
    "        )"
   ]
  },
  {
   "cell_type": "markdown",
   "metadata": {
    "extensions": {
     "jupyter_dashboards": {
      "version": 1,
      "views": {
       "grid_default": {},
       "report_default": {
        "hidden": false
       }
      }
     }
    }
   },
   "source": [
    "### Scatter (correlation) plots"
   ]
  },
  {
   "cell_type": "code",
   "execution_count": null,
   "metadata": {
    "extensions": {
     "jupyter_dashboards": {
      "version": 1,
      "views": {
       "grid_default": {
        "col": 4,
        "height": 14,
        "hidden": false,
        "row": 84,
        "width": 4
       },
       "report_default": {
        "hidden": false
       }
      }
     }
    }
   },
   "outputs": [],
   "source": [
    "def scatter_plot_timeseries(XProperty=locks_all_dataonly.columns[0],YProperty=locks_all_dataonly.columns[1],CProperty=locks_all_dataonly.columns[3],ColorMap='jet'):\n",
    "    locks_all_dataonly.plot.scatter(x=XProperty,y=YProperty,c=CProperty,cmap=ColorMap,s=1)\n",
    "    \n",
    "interact(scatter_plot_timeseries, \\\n",
    "         XProperty=locks_all_dataonly.columns, \\\n",
    "         YProperty=locks_all_dataonly.columns, \\\n",
    "         CProperty=locks_all_dataonly.columns, \\\n",
    "         ColorMap=['jet','viridis','magma','coolwarm','seismic','Greys','Reds','Blues'] \\\n",
    "        )"
   ]
  },
  {
   "cell_type": "markdown",
   "metadata": {
    "extensions": {
     "jupyter_dashboards": {
      "version": 1,
      "views": {
       "grid_default": {},
       "report_default": {
        "hidden": false
       }
      }
     }
    }
   },
   "source": [
    "#### Get Sonde deployment data"
   ]
  },
  {
   "cell_type": "code",
   "execution_count": null,
   "metadata": {
    "extensions": {
     "jupyter_dashboards": {
      "version": 1,
      "views": {
       "grid_default": {
        "hidden": true
       },
       "report_default": {
        "hidden": true
       }
      }
     }
    }
   },
   "outputs": [],
   "source": [
    "sonde_deployments = pd.read_csv('data/Greenup/sonde_deployment_data.csv',encoding='latin1')\n",
    "sonde_deployments = sonde_deployments.drop(sonde_deployments.columns[9:],axis=1)\n",
    "sonde_deployments = sonde_deployments.dropna(thresh=6)\n",
    "#sonde_deployments.columns"
   ]
  },
  {
   "cell_type": "markdown",
   "metadata": {
    "extensions": {
     "jupyter_dashboards": {
      "version": 1,
      "views": {
       "grid_default": {},
       "report_default": {
        "hidden": false
       }
      }
     }
    }
   },
   "source": [
    "#### Index with Date-Time"
   ]
  },
  {
   "cell_type": "code",
   "execution_count": null,
   "metadata": {
    "extensions": {
     "jupyter_dashboards": {
      "version": 1,
      "views": {
       "grid_default": {
        "hidden": true
       },
       "report_default": {
        "hidden": true
       }
      }
     }
    }
   },
   "outputs": [],
   "source": [
    "def datetime_sonde2(row):\n",
    "    pattern = '%m/%d/%y-%H:%M:%S'\n",
    "    dt = row['Date ']+'-'+row['Time']\n",
    "    return pd.to_datetime(time.mktime(time.strptime(dt,pattern)),unit='s')\n",
    "    \n",
    "sonde_deployments['Date-Time'] = sonde_deployments.apply(lambda row: datetime_sonde2(row),axis=1)\n",
    "sonde_deployments = sonde_deployments.set_index(['Date-Time'])\n",
    "rcb_sonde_deployments = sonde_deployments[sonde_deployments['Location ']=='RCB']\n",
    "greenup_sonde_deployments = sonde_deployments[sonde_deployments['Location ']=='Greenup']"
   ]
  },
  {
   "cell_type": "markdown",
   "metadata": {
    "extensions": {
     "jupyter_dashboards": {
      "version": 1,
      "views": {
       "grid_default": {},
       "report_default": {
        "hidden": false
       }
      }
     }
    }
   },
   "source": [
    "#### Disable scrolling for time series plots"
   ]
  },
  {
   "cell_type": "code",
   "execution_count": null,
   "metadata": {
    "extensions": {
     "jupyter_dashboards": {
      "version": 1,
      "views": {
       "grid_default": {},
       "report_default": {
        "hidden": true
       }
      }
     }
    }
   },
   "outputs": [],
   "source": [
    "%%javascript\n",
    "IPython.OutputArea.prototype._should_scroll = function(lines) {\n",
    "    return false;\n",
    "}"
   ]
  },
  {
   "cell_type": "markdown",
   "metadata": {
    "extensions": {
     "jupyter_dashboards": {
      "version": 1,
      "views": {
       "grid_default": {},
       "report_default": {
        "hidden": false
       }
      }
     }
    }
   },
   "source": [
    "### Interactive timeseries plots, including transect data and sonde deployments"
   ]
  },
  {
   "cell_type": "code",
   "execution_count": null,
   "metadata": {
    "extensions": {
     "jupyter_dashboards": {
      "version": 1,
      "views": {
       "grid_default": {
        "col": 8,
        "height": 27,
        "hidden": false,
        "row": 84,
        "width": 4
       },
       "report_default": {
        "hidden": false
       }
      }
     }
    },
    "scrolled": false
   },
   "outputs": [],
   "source": [
    "def plot_ts_all(Site='Both',date_range=(start_date,end_date)):\n",
    "    fig, axes = plt.subplots(nrows=len(locks_all_dataonly.columns)+1,ncols=1,figsize=(20,60),sharex=False)\n",
    "    i = 0\n",
    "    for property in locks_all_dataonly.columns:\n",
    "        if ((Site=='RCB') | (Site=='Both')):\n",
    "            rcb_dataonly[property].plot(ax=axes[i],drawstyle='steps-post',legend=True,color='blue')\n",
    "        if ((Site=='Greenup') | (Site=='Both')):\n",
    "            greenup_dataonly[property].plot(ax=axes[i],drawstyle='steps-post',legend=True,color='green')\n",
    "        if ((property!='Discharge CFS') & (property!='Depth m')):\n",
    "            transects_combined[property].plot(ax=axes[i],color='red',marker='o',linestyle='',ms=2)\n",
    "        if (Site=='Both'):\n",
    "            axes[i].legend([property+' at RCB',property+' at Greenup',property+' at transects'],loc='upper left')\n",
    "        else:\n",
    "            axes[i].legend([property+' at '+Site,property+' at transects'],loc='upper left')\n",
    "        axes[i].set_xlim(date_range)\n",
    "        i = i+1\n",
    "        \n",
    "    if ((Site=='RCB') | (Site=='Both')):\n",
    "        rcb_sonde_deployments['Sonde in Place Now'].plot(ax=axes[i],drawstyle='steps',color='blue')\n",
    "    if ((Site=='Greenup') | (Site=='Both')):\n",
    "        greenup_sonde_deployments['Sonde in Place Now'].plot(ax=axes[i],drawstyle='steps',color='green')\n",
    "    if (Site=='Both'):\n",
    "        axes[i].legend(['Sonde in place at RCB','Sonde in place at Greenup'],loc='upper left')\n",
    "    else:\n",
    "        axes[i].legend(['Sonde in Place at '+Site],loc='upper left')\n",
    "    axes[i].set_xlim(date_range)\n",
    "    axes[i].set_ylim(0,5.0)\n",
    "    \n",
    "interact_manual(plot_ts_all,Site=['RCB','Greenup','Both'],date_range=date_range_slider)"
   ]
  },
  {
   "cell_type": "markdown",
   "metadata": {
    "extensions": {
     "jupyter_dashboards": {
      "version": 1,
      "views": {
       "grid_default": {},
       "report_default": {
        "hidden": false
       }
      }
     }
    }
   },
   "source": [
    "### Resampled timeseries plots"
   ]
  },
  {
   "cell_type": "code",
   "execution_count": null,
   "metadata": {
    "extensions": {
     "jupyter_dashboards": {
      "version": 1,
      "views": {
       "grid_default": {},
       "report_default": {
        "hidden": true
       }
      }
     }
    }
   },
   "outputs": [],
   "source": [
    "rcb_daily_means = rcb_dataonly.resample('6H').mean()\n",
    "greenup_daily_means = greenup_dataonly.resample('6H').mean()\n",
    "transects_daily = transects_combined.resample('6H')\n",
    "transects_daily_means = transects_daily.mean()\n",
    "transects_daily_max = transects_daily.max()\n",
    "transects_daily_min = transects_daily.min()"
   ]
  },
  {
   "cell_type": "code",
   "execution_count": null,
   "metadata": {
    "extensions": {
     "jupyter_dashboards": {
      "version": 1,
      "views": {
       "grid_default": {
        "hidden": true
       },
       "report_default": {
        "hidden": true
       }
      }
     }
    },
    "scrolled": false
   },
   "outputs": [],
   "source": [
    "def plot_ts_all(Site='Both',date_range=(start_date,end_date)):\n",
    "    fig, axes = plt.subplots(nrows=len(locks_all_dataonly.columns)+1,ncols=1,figsize=(20,60),sharex=False)\n",
    "    i = 0\n",
    "    for property in locks_all_dataonly.columns:\n",
    "        if ((Site=='RCB') | (Site=='Both')):\n",
    "            rcb_daily_means[property].plot(ax=axes[i],drawstyle='steps-post',legend=True,color='blue')\n",
    "        if ((Site=='Greenup') | (Site=='Both')):\n",
    "            greenup_daily_means[property].plot(ax=axes[i],drawstyle='steps-post',legend=True,color='green')\n",
    "        if ((property!='Discharge CFS') & (property!='Depth m')):\n",
    "            transects_daily_means[property].plot(ax=axes[i],color='red',marker='o',linestyle='',ms=4)\n",
    "            transects_daily_max[property].plot(ax=axes[i],color='red',marker='+',linestyle='',ms=4)\n",
    "            transects_daily_min[property].plot(ax=axes[i],color='red',marker='+',linestyle='',ms=4)\n",
    "            for k, row in transects_daily_means.iterrows():\n",
    "                if (math.isfinite(row[property])):\n",
    "                    axes[i].text(k, row[property], str(int(row['T Pos'])), fontsize=12)\n",
    "        if (Site=='Both'):\n",
    "            axes[i].legend([property+' at RCB',property+' at Greenup',property+' at transects'],loc='upper left')\n",
    "        else:\n",
    "            axes[i].legend([property+' at '+Site,property+' at transects'],loc='upper left')\n",
    "        axes[i].set_xlim(date_range)\n",
    "        i = i+1\n",
    "        \n",
    "    if ((Site=='RCB') | (Site=='Both')):\n",
    "        rcb_sonde_deployments['Sonde in Place Now'].plot(ax=axes[i],drawstyle='steps',color='blue')\n",
    "    if ((Site=='Greenup') | (Site=='Both')):\n",
    "        greenup_sonde_deployments['Sonde in Place Now'].plot(ax=axes[i],drawstyle='steps',color='green')\n",
    "    if (Site=='Both'):\n",
    "        axes[i].legend(['Sonde in place at RCB','Sonde in place at Greenup'],loc='upper left')\n",
    "    else:\n",
    "        axes[i].legend(['Sonde in Place at '+Site],loc='upper left')\n",
    "    axes[i].set_xlim(date_range)\n",
    "    axes[i].set_ylim(0,5.0)\n",
    "    \n",
    "interact_manual(plot_ts_all,Site=['RCB','Greenup','Both'],date_range=date_range_slider)"
   ]
  },
  {
   "cell_type": "markdown",
   "metadata": {},
   "source": [
    "## Merge RCB (_x) and Greenup (_y) daily means\n",
    "#### TODO: Rename labels from x and y to RCB and Greenup"
   ]
  },
  {
   "cell_type": "code",
   "execution_count": null,
   "metadata": {
    "extensions": {
     "jupyter_dashboards": {
      "version": 1,
      "views": {
       "grid_default": {},
       "report_default": {
        "hidden": true
       }
      }
     }
    }
   },
   "outputs": [],
   "source": [
    "merge_rcb_greenup = pd.merge(rcb_daily_means, greenup_daily_means, how='outer', left_index=True, right_index=True)\n",
    "#merge_rcb_greenup.columns"
   ]
  },
  {
   "cell_type": "markdown",
   "metadata": {
    "extensions": {
     "jupyter_dashboards": {
      "version": 1,
      "views": {
       "grid_default": {},
       "report_default": {
        "hidden": false
       }
      }
     }
    }
   },
   "source": [
    "### Cross correlation between RC Byrd and Greenup Locks readings\n",
    " * TODO: color by another property, but average of RCB (_x) and Greenup (_y)"
   ]
  },
  {
   "cell_type": "code",
   "execution_count": null,
   "metadata": {
    "extensions": {
     "jupyter_dashboards": {
      "version": 1,
      "views": {
       "grid_default": {
        "hidden": true
       },
       "report_default": {
        "hidden": true
       }
      }
     }
    }
   },
   "outputs": [],
   "source": [
    "def scatter_plot_cross_timeseries(Property):\n",
    "    merge_rcb_greenup.plot.scatter(x=Property+'_x',y=Property+'_y')\n",
    "    \n",
    "interact(scatter_plot_cross_timeseries, \\\n",
    "         Property=locks_all_dataonly.columns \\\n",
    "        )"
   ]
  },
  {
   "cell_type": "code",
   "execution_count": null,
   "metadata": {
    "extensions": {
     "jupyter_dashboards": {
      "version": 1,
      "views": {
       "grid_default": {
        "hidden": true
       },
       "report_default": {
        "hidden": true
       }
      }
     }
    }
   },
   "outputs": [],
   "source": [
    "usgs_gage_means = usgs_gage.resample('6H').mean()\n",
    "merge_locks_usgs = pd.merge(merge_rcb_greenup, usgs_gage_means, how='outer', left_index=True, right_index=True)"
   ]
  },
  {
   "cell_type": "code",
   "execution_count": null,
   "metadata": {
    "extensions": {
     "jupyter_dashboards": {
      "version": 1,
      "views": {
       "grid_default": {
        "hidden": true
       },
       "report_default": {
        "hidden": true
       }
      }
     }
    }
   },
   "outputs": [],
   "source": [
    "def scatter_plot_cross_all_timeseries(Property1,Property2):\n",
    "    merge_locks_usgs.plot.scatter(x=Property1,y=Property2)\n",
    "    \n",
    "interact(scatter_plot_cross_all_timeseries, \\\n",
    "         Property1=merge_locks_usgs.columns, \\\n",
    "         Property2=merge_locks_usgs.columns \\\n",
    "        )"
   ]
  },
  {
   "cell_type": "markdown",
   "metadata": {},
   "source": [
    "### Merge transects with locks data (only contains non-null data where 6-hour window matches)"
   ]
  },
  {
   "cell_type": "code",
   "execution_count": null,
   "metadata": {
    "extensions": {
     "jupyter_dashboards": {
      "version": 1,
      "views": {
       "grid_default": {},
       "report_default": {
        "hidden": true
       }
      }
     }
    }
   },
   "outputs": [],
   "source": [
    "merge_all = pd.merge(merge_rcb_greenup, transects_daily_means, how='outer', left_index=True, right_index=True)\n",
    "#merge_all.columns"
   ]
  },
  {
   "cell_type": "markdown",
   "metadata": {
    "extensions": {
     "jupyter_dashboards": {
      "version": 1,
      "views": {
       "grid_default": {},
       "report_default": {
        "hidden": false
       }
      }
     }
    }
   },
   "source": [
    "### Correlation of transects with Sondes at Locks"
   ]
  },
  {
   "cell_type": "code",
   "execution_count": null,
   "metadata": {
    "extensions": {
     "jupyter_dashboards": {
      "version": 1,
      "views": {
       "grid_default": {
        "hidden": true
       },
       "report_default": {
        "hidden": true
       }
      }
     }
    }
   },
   "outputs": [],
   "source": [
    "def scatter_plot_cross2_timeseries(Property='Chlorophyll RFU'):\n",
    "    ax = merge_all.plot.scatter(x=Property,y=Property+'_x',color='blue')\n",
    "    merge_all.plot.scatter(ax=ax, x=Property,y=Property+'_y',color='green')\n",
    "    \n",
    "interact(scatter_plot_cross2_timeseries, \\\n",
    "         Property=locks_all_dataonly.drop(['Discharge CFS','Depth m'],axis=1).columns \\\n",
    "        )"
   ]
  },
  {
   "cell_type": "markdown",
   "metadata": {
    "extensions": {
     "jupyter_dashboards": {
      "version": 1,
      "views": {
       "grid_default": {},
       "report_default": {
        "hidden": false
       }
      }
     }
    }
   },
   "source": [
    "#### Generate means of resampled data as baseline and mean values and save (used to create transects_with_bases above)\n",
    "#### [Suppress before publishing as Tool]\n",
    "#### TODO: Move all timeseries processing to get baseline before processing transects"
   ]
  },
  {
   "cell_type": "code",
   "execution_count": null,
   "metadata": {
    "extensions": {
     "jupyter_dashboards": {
      "version": 1,
      "views": {
       "grid_default": {},
       "report_default": {
        "hidden": true
       }
      }
     }
    }
   },
   "outputs": [],
   "source": [
    "merge_all_byTPos = merge_all.groupby(['T Pos'])\n",
    "merge_all_means = merge_all_byTPos.mean()\n",
    "merge_all_means.to_csv('data/Greenup/merge_all_means.csv')\n",
    "#merge_all_means.columns"
   ]
  },
  {
   "cell_type": "code",
   "execution_count": null,
   "metadata": {},
   "outputs": [],
   "source": []
  }
 ],
 "metadata": {
  "extensions": {
   "jupyter_dashboards": {
    "activeView": "report_default",
    "version": 1,
    "views": {
     "grid_default": {
      "cellMargin": 10,
      "defaultCellHeight": 20,
      "maxColumns": 12,
      "name": "grid",
      "type": "grid"
     },
     "report_default": {
      "name": "report",
      "type": "report"
     }
    }
   }
  },
  "kernelspec": {
   "display_name": "Python 3",
   "language": "python",
   "name": "python3"
  },
  "language_info": {
   "codemirror_mode": {
    "name": "ipython",
    "version": 3
   },
   "file_extension": ".py",
   "mimetype": "text/x-python",
   "name": "python",
   "nbconvert_exporter": "python",
   "pygments_lexer": "ipython3",
   "version": "3.7.3"
  }
 },
 "nbformat": 4,
 "nbformat_minor": 2
}
