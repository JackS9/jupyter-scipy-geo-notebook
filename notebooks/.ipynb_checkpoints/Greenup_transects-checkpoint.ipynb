{
 "cells": [
  {
   "cell_type": "markdown",
   "metadata": {
    "extensions": {
     "jupyter_dashboards": {
      "version": 1,
      "views": {
       "grid_default": {
        "col": 0,
        "height": 4,
        "hidden": false,
        "row": 0,
        "width": 4
       },
       "report_default": {
        "hidden": false
       }
      }
     }
    }
   },
   "source": [
    "# Analysis and display of water quality indicators along Greenup pool of Ohio River"
   ]
  },
  {
   "cell_type": "markdown",
   "metadata": {},
   "source": [
    "<h3>Quick index:</h3>\n",
    "<ul>\n",
    "    <li><a href=#map>Map</a></li>\n",
    "    <li><a href=#transect_plots>Transect Plots</a></li>\n",
    "    <li><a href=#transect_3d_profiles>Transect 3D Profiles</a></li>\n",
    "    <li><a href=#ironton_usgs_plots>USGS Gage at Ironton</a></li>\n",
    "    <li><a href=#locks_plots>Sonde data at RCBI and Greenup Locks</a></li>    </ul>"
   ]
  },
  {
   "cell_type": "markdown",
   "metadata": {
    "extensions": {
     "jupyter_dashboards": {
      "version": 1,
      "views": {
       "grid_default": {
        "col": 0,
        "height": 13,
        "hidden": false,
        "row": 4,
        "width": 12
       },
       "report_default": {
        "hidden": false
       }
      }
     }
    }
   },
   "source": [
    "#### TODO:\n",
    "* Do timeseries data first, then transects using dynamically generated 2D (RMI x 6H-means) baseline data from Locks\n",
    "* **NWS** (weather) data\n",
    "* **WQP** data\n",
    "* WV DEP data (**TAGIS**)\n",
    "* Other SENSE/AFI data \n",
    "  * Sediment data from **Booner tubes** (Jones)\n",
    "  * **Chlorophyll** and **algal counts** from grab sample analyses\n",
    "* Plots in **marker popups**\n",
    "* More **consistent naming** of input/output files, functions, plot labels,...\n",
    "* Put all local data in a **database** and access from there\n",
    "* Create an interactive but read-only **dashboard** version for publishing\n",
    "* **ORSANCO** data (from Tom Jones):\n",
    " * More **sediment composition** plots:\n",
    "   * Add distribution plots, correlation plots, multiple-Z plots on same graph\n",
    " * Do same for **Fish populations, Macro invertebrates, Substrate types, Water quality**\n",
    " * Cross correlations between any pair"
   ]
  },
  {
   "cell_type": "markdown",
   "metadata": {},
   "source": [
    "## == Get things set up =="
   ]
  },
  {
   "cell_type": "markdown",
   "metadata": {
    "extensions": {
     "jupyter_dashboards": {
      "version": 1,
      "views": {
       "grid_default": {
        "col": 0,
        "height": 5,
        "hidden": false,
        "row": 17,
        "width": 12
       },
       "report_default": {
        "hidden": false
       }
      }
     }
    }
   },
   "source": [
    "### To install packages locally (e.g., folium, geopandas, fiona):\n",
    "```\n",
    "%%bash -l\n",
    "use -e -r anaconda3-5.1\n",
    "pip install folium --prefix=. --upgrade-strategy only-if-needed\n",
    "```"
   ]
  },
  {
   "cell_type": "markdown",
   "metadata": {
    "extensions": {
     "jupyter_dashboards": {
      "version": 1,
      "views": {
       "grid_default": {
        "hidden": true
       },
       "report_default": {
        "hidden": true
       }
      }
     }
    }
   },
   "source": [
    "#### To access them:\n",
    "```\n",
    "import os, sys\n",
    "sys.path.insert(0,'lib/python3.7/site-packages') # Add locally installed packages to path\n",
    "```"
   ]
  },
  {
   "cell_type": "markdown",
   "metadata": {},
   "source": [
    "### Use full width of browser window"
   ]
  },
  {
   "cell_type": "code",
   "execution_count": 137,
   "metadata": {},
   "outputs": [
    {
     "data": {
      "text/html": [
       "<style>.container { width:100% !important; }</style>"
      ],
      "text/plain": [
       "<IPython.core.display.HTML object>"
      ]
     },
     "metadata": {},
     "output_type": "display_data"
    }
   ],
   "source": [
    "from IPython.core.display import display, HTML\n",
    "display(HTML(\"<style>.container { width:100% !important; }</style>\"))"
   ]
  },
  {
   "cell_type": "markdown",
   "metadata": {
    "extensions": {
     "jupyter_dashboards": {
      "version": 1,
      "views": {
       "grid_default": {
        "col": 4,
        "height": 4,
        "hidden": false,
        "row": 0,
        "width": 4
       },
       "report_default": {
        "hidden": false
       }
      }
     }
    }
   },
   "source": [
    "### Enable R-style DataFrames with Pandas, numerical arrays and matrices with NumPy"
   ]
  },
  {
   "cell_type": "code",
   "execution_count": 138,
   "metadata": {
    "extensions": {
     "jupyter_dashboards": {
      "version": 1,
      "views": {
       "grid_default": {
        "hidden": true
       },
       "report_default": {
        "hidden": true
       }
      }
     }
    }
   },
   "outputs": [],
   "source": [
    "import pandas as pd\n",
    "import numpy as np"
   ]
  },
  {
   "cell_type": "markdown",
   "metadata": {
    "extensions": {
     "jupyter_dashboards": {
      "version": 1,
      "views": {
       "grid_default": {
        "col": 4,
        "height": 4,
        "hidden": false,
        "row": 0,
        "width": 4
       },
       "report_default": {
        "hidden": false
       }
      }
     }
    }
   },
   "source": [
    "### Enable Math functions"
   ]
  },
  {
   "cell_type": "code",
   "execution_count": 139,
   "metadata": {
    "extensions": {
     "jupyter_dashboards": {
      "version": 1,
      "views": {
       "grid_default": {
        "hidden": true
       },
       "report_default": {
        "hidden": true
       }
      }
     }
    }
   },
   "outputs": [],
   "source": [
    "import math"
   ]
  },
  {
   "cell_type": "markdown",
   "metadata": {
    "extensions": {
     "jupyter_dashboards": {
      "version": 1,
      "views": {
       "grid_default": {
        "col": 4,
        "height": 4,
        "hidden": false,
        "row": 0,
        "width": 4
       },
       "report_default": {
        "hidden": false
       }
      }
     }
    }
   },
   "source": [
    "### Enable working with Dates and Times"
   ]
  },
  {
   "cell_type": "code",
   "execution_count": 140,
   "metadata": {
    "extensions": {
     "jupyter_dashboards": {
      "version": 1,
      "views": {
       "grid_default": {
        "hidden": true
       },
       "report_default": {
        "hidden": true
       }
      }
     }
    }
   },
   "outputs": [],
   "source": [
    "import time"
   ]
  },
  {
   "cell_type": "markdown",
   "metadata": {
    "extensions": {
     "jupyter_dashboards": {
      "version": 1,
      "views": {
       "grid_default": {
        "col": 4,
        "height": 4,
        "hidden": false,
        "row": 0,
        "width": 4
       },
       "report_default": {
        "hidden": false
       }
      }
     }
    }
   },
   "source": [
    "### Enable Pandas scatter plot matrices"
   ]
  },
  {
   "cell_type": "code",
   "execution_count": 141,
   "metadata": {
    "extensions": {
     "jupyter_dashboards": {
      "version": 1,
      "views": {
       "grid_default": {
        "hidden": true
       },
       "report_default": {
        "hidden": true
       }
      }
     }
    }
   },
   "outputs": [],
   "source": [
    "from pandas.plotting import scatter_matrix"
   ]
  },
  {
   "cell_type": "markdown",
   "metadata": {
    "extensions": {
     "jupyter_dashboards": {
      "version": 1,
      "views": {
       "grid_default": {
        "col": 4,
        "height": 4,
        "hidden": false,
        "row": 0,
        "width": 4
       },
       "report_default": {
        "hidden": false
       }
      }
     }
    }
   },
   "source": [
    "### Enable inline MATLAB-style plotting with MatPlotLib"
   ]
  },
  {
   "cell_type": "code",
   "execution_count": 142,
   "metadata": {
    "extensions": {
     "jupyter_dashboards": {
      "version": 1,
      "views": {
       "grid_default": {
        "hidden": true
       },
       "report_default": {
        "hidden": true
       }
      }
     }
    }
   },
   "outputs": [],
   "source": [
    "import matplotlib.pyplot as plt\n",
    "%matplotlib inline"
   ]
  },
  {
   "cell_type": "markdown",
   "metadata": {
    "extensions": {
     "jupyter_dashboards": {
      "version": 1,
      "views": {
       "grid_default": {},
       "report_default": {
        "hidden": false
       }
      }
     }
    }
   },
   "source": [
    "### Enable 3D plotting in MatPlotLib using MPlot3D toolkit"
   ]
  },
  {
   "cell_type": "code",
   "execution_count": 143,
   "metadata": {
    "extensions": {
     "jupyter_dashboards": {
      "version": 1,
      "views": {
       "grid_default": {
        "hidden": true
       },
       "report_default": {
        "hidden": true
       }
      }
     }
    }
   },
   "outputs": [],
   "source": [
    "from mpl_toolkits.mplot3d import Axes3D"
   ]
  },
  {
   "cell_type": "markdown",
   "metadata": {
    "extensions": {
     "jupyter_dashboards": {
      "version": 1,
      "views": {
       "grid_default": {},
       "report_default": {
        "hidden": false
       }
      }
     }
    }
   },
   "source": [
    "### Enable interactive plots using iPyWidgets"
   ]
  },
  {
   "cell_type": "code",
   "execution_count": 144,
   "metadata": {
    "extensions": {
     "jupyter_dashboards": {
      "version": 1,
      "views": {
       "grid_default": {
        "hidden": true
       },
       "report_default": {
        "hidden": true
       }
      }
     }
    }
   },
   "outputs": [],
   "source": [
    "import ipywidgets as widgets\n",
    "from ipywidgets import interact, interactive, fixed, interact_manual"
   ]
  },
  {
   "cell_type": "markdown",
   "metadata": {
    "extensions": {
     "jupyter_dashboards": {
      "version": 1,
      "views": {
       "grid_default": {},
       "report_default": {
        "hidden": false
       }
      }
     }
    }
   },
   "source": [
    "### Enable geospatial DataFrames with GeoPandas (built on Fiona, which is built on GDAL/OGR)"
   ]
  },
  {
   "cell_type": "code",
   "execution_count": 145,
   "metadata": {
    "extensions": {
     "jupyter_dashboards": {
      "version": 1,
      "views": {
       "grid_default": {
        "hidden": true
       },
       "report_default": {
        "hidden": true
       }
      }
     }
    }
   },
   "outputs": [],
   "source": [
    "import geopandas as gpd"
   ]
  },
  {
   "cell_type": "markdown",
   "metadata": {
    "extensions": {
     "jupyter_dashboards": {
      "version": 1,
      "views": {
       "grid_default": {},
       "report_default": {
        "hidden": false
       }
      }
     }
    }
   },
   "source": [
    "### Enable Leatlet.JS-based mapping with Folium "
   ]
  },
  {
   "cell_type": "code",
   "execution_count": 146,
   "metadata": {
    "extensions": {
     "jupyter_dashboards": {
      "version": 1,
      "views": {
       "grid_default": {
        "hidden": true
       },
       "report_default": {
        "hidden": true
       }
      }
     }
    }
   },
   "outputs": [],
   "source": [
    "import folium\n",
    "from folium import IFrame\n",
    "import folium.plugins as plugins"
   ]
  },
  {
   "cell_type": "markdown",
   "metadata": {
    "extensions": {
     "jupyter_dashboards": {
      "version": 1,
      "views": {
       "grid_default": {},
       "report_default": {
        "hidden": false
       }
      }
     }
    }
   },
   "source": [
    "### Enable additional HTML features with Branca"
   ]
  },
  {
   "cell_type": "code",
   "execution_count": 147,
   "metadata": {
    "extensions": {
     "jupyter_dashboards": {
      "version": 1,
      "views": {
       "grid_default": {
        "hidden": true
       },
       "report_default": {
        "hidden": true
       }
      }
     }
    }
   },
   "outputs": [],
   "source": [
    "import branca"
   ]
  },
  {
   "cell_type": "markdown",
   "metadata": {
    "extensions": {
     "jupyter_dashboards": {
      "version": 1,
      "views": {
       "grid_default": {},
       "report_default": {
        "hidden": false
       }
      }
     }
    }
   },
   "source": [
    "# == Sampling Sites =="
   ]
  },
  {
   "cell_type": "markdown",
   "metadata": {
    "extensions": {
     "jupyter_dashboards": {
      "version": 1,
      "views": {
       "grid_default": {},
       "report_default": {
        "hidden": false
       }
      }
     }
    }
   },
   "source": [
    "### Get all sampling sites along Greenup Pool of Ohio River\n",
    "#### TODO:\n",
    " * Add CSO positions"
   ]
  },
  {
   "cell_type": "code",
   "execution_count": 148,
   "metadata": {
    "extensions": {
     "jupyter_dashboards": {
      "version": 1,
      "views": {
       "grid_default": {
        "hidden": true
       },
       "report_default": {
        "hidden": true
       }
      }
     }
    }
   },
   "outputs": [],
   "source": [
    "ohio_river_sites = pd.read_csv('data/Greenup/ohio_river_sites.csv')\n",
    "site_geometries = gpd.GeoSeries(ohio_river_sites.apply(lambda z: Point(z['Longitude'],z['Latitude']),1),crs={'init':'epsg:4326'})\n",
    "ohio_river_sites = gpd.GeoDataFrame(ohio_river_sites.drop(['Latitude','Longitude'],1),geometry=site_geometries)\n",
    "#ohio_river_sites"
   ]
  },
  {
   "cell_type": "markdown",
   "metadata": {
    "extensions": {
     "jupyter_dashboards": {
      "version": 1,
      "views": {
       "grid_default": {
        "col": 0,
        "height": 4,
        "hidden": false,
        "row": 43,
        "width": 4
       },
       "report_default": {
        "hidden": false
       }
      }
     }
    }
   },
   "source": [
    "### Generate map of all sampling sites"
   ]
  },
  {
   "cell_type": "code",
   "execution_count": 149,
   "metadata": {
    "extensions": {
     "jupyter_dashboards": {
      "version": 1,
      "views": {
       "grid_default": {
        "hidden": true
       },
       "report_default": {
        "hidden": true
       }
      }
     }
    }
   },
   "outputs": [],
   "source": [
    "ohio_map = folium.Map([38.6, -82.5],zoom_start=10,tiles=None)"
   ]
  },
  {
   "cell_type": "markdown",
   "metadata": {},
   "source": [
    "#### TODO: \n",
    " * Look into **branca.element.IFrame** to preprocess HTML into IFrame -- construct a graph!\n",
    " * User Folium **MarkerCluster** and **FeatureGroup** to reduce number of markers (on Zoom out) and turn on/off different marker layers\n",
    " * Look at folium.plugins **HeatMap** and **HeatMapWithTime** -- only good for density, not property values!"
   ]
  },
  {
   "cell_type": "code",
   "execution_count": 151,
   "metadata": {},
   "outputs": [],
   "source": [
    "for i, row in ohio_river_sites.iterrows():\n",
    "    coord = [row.geometry.y,row.geometry.x]\n",
    "    label = row.Type+' @ '+row.Name\n",
    "    marker_type = 'pin'\n",
    "    radius = 3\n",
    "    color = 'red'\n",
    "    # Available colors: red, darkred, lightred, pink, green, darkgreen, lightgreen, blue, darkblue, lightblue, cadetblue, purple, darkpurple, orange, beige, black, gray, lightgray\n",
    "    icon = 'dashboard'\n",
    "    html = label\n",
    "    width = 500\n",
    "    height = 90\n",
    "    max_width = 1000\n",
    "    nav_params = '?distance=100'\n",
    "    if (row.Type == 'Transect'):\n",
    "        color = 'red'\n",
    "        html += '<br>'+row.Description\n",
    "    elif (row.Type == 'USGS Gage'):\n",
    "        marker_type = 'circle'\n",
    "        radius = 5\n",
    "        color = 'green'\n",
    "        fill = True\n",
    "        fill_color = color\n",
    "        html += '<br><a href=\\\"https://waterdata.usgs.gov/monitoring-location/0{0:.0f}'.format(row['USGS Code'])+'\\\",target=\\\"_blank\\\">Site info for USGS Gage: 0{0:.0f}'.format(row['USGS Code'])+'</a>'\n",
    "        html += '<br><a href=\\\"https://waterdata.usgs.gov/nwis/uv?site_no=0{0:.0f}'.format(row['USGS Code'])+'\\\",target=\\\"_blank\\\">Data for USGS Gage: 0{0:.0f}'.format(row['USGS Code'])+'</a>'\n",
    "        width = 1000\n",
    "        height = 500\n",
    "        if (row.Name == 'Huntington'):\n",
    "            nwis_site_json = gpd.read_file(\"https://cida.usgs.gov/nldi/nwissite/USGS-0{0:.0f}\".format(row['USGS Code']))\n",
    "            comid = nwis_site_json.comid[0]\n",
    "            comid_url = \"https://cida.usgs.gov/nldi/comid/\"+comid\n",
    "            #folium.GeoJson(nwis_site_json,name=\"NLDI USGS Gage\",show=False).add_to(ohio_map)\n",
    "            folium.GeoJson(comid_url+\"/basin\",name=\"Drainage Basin for USGS-0{0:.0f}\".format(row['USGS Code']),show=False).add_to(ohio_map)\n",
    "            folium.GeoJson(comid_url+\"/navigate/UM\",name=\"Upstream Main\",show=False).add_to(ohio_map)\n",
    "            folium.GeoJson(comid_url+\"/navigate/UT\"+nav_params,name=\"Tributaries Upstream\",show=False).add_to(ohio_map)\n",
    "            folium.GeoJson(comid_url+\"/navigate/UM/nwissite\"+nav_params,name=\"NWIS Sites Upstream Main\",show=False).add_to(ohio_map)\n",
    "            folium.GeoJson(comid_url+\"/navigate/UM/huc12pp\"+nav_params,name=\"HUC12 Pour Points Upstream Main\",show=False).add_to(ohio_map)\n",
    "            folium.GeoJson(comid_url+\"/navigate/UM/wqp\"+nav_params,name=\"WQP Stations Upstream Main\",show=False).add_to(ohio_map)\n",
    "            folium.GeoJson(comid_url+\"/navigate/DM\",name=\"Downstream Main\",show=False).add_to(ohio_map)\n",
    "            folium.GeoJson(comid_url+\"/navigate/DD\"+nav_params,name=\"Downstream Diversions\",show=False).add_to(ohio_map)\n",
    "            folium.GeoJson(comid_url+\"/navigate/DM/nwissite\"+nav_params,name=\"NWIS Sites Downstream Main\",show=False).add_to(ohio_map)\n",
    "            folium.GeoJson(comid_url+\"/navigate/DM/huc12pp\"+nav_params,name=\"HUC12 Pour Points Downstream Main\",show=False).add_to(ohio_map)\n",
    "            folium.GeoJson(comid_url+\"/navigate/DM/wqp\"+nav_params,name=\"WQP Stations Downstream Main\",show=False).add_to(ohio_map)\n",
    "        if (row.Name == 'Greenup'):\n",
    "            nwis_site_url = \"https://cida.usgs.gov/nldi/nwissite/USGS-0{0:.0f}\".format(row['USGS Code'])\n",
    "            nwis_site_json = gpd.read_file(nwis_site_url)\n",
    "            folium.GeoJson(nwis_site_url+\"/basin\",name=\"Drainage Basin for USGS-0{0:.0f}\".format(row['USGS Code']),show=False).add_to(ohio_map)\n",
    "            folium.GeoJson(nwis_site_url+\"/navigate/UT/huc12pp\"+nav_params,name=\"HUC12 Pour Points Upstream Tributaries\",show=False).add_to(ohio_map)\n",
    "            folium.GeoJson(nwis_site_url+\"/navigate/UT/wqp\"+nav_params,name=\"WQP Stations Upstream Tributaries\",show=False).add_to(ohio_map)\n",
    "    elif (row.Type == 'Locks and Dam'):\n",
    "        marker_type = 'circle'\n",
    "        radius = 5\n",
    "        color = 'red'\n",
    "        fill = True\n",
    "        fill_color = color\n",
    "        html += '<br><a href=\\\"https://www.lrh.usace.army.mil/Missions/Civil-Works/Locks-and-Dams/{0:s}'.format(row['USACE Code'])+'\\\",target=\\\"_blank\\\">Data for Locks and Dams at {0:s}'.format(row['Name'])+'</a>'\n",
    "    elif (row.Type == 'ORSANCO'):\n",
    "        marker_type = 'circle'\n",
    "        radius = 5\n",
    "        color = 'orange'\n",
    "        fill = True\n",
    "        fill_color = color\n",
    "    elif (row.Type == 'Sampling'):\n",
    "        marker_type = 'circle'\n",
    "        radius = 3\n",
    "        color = 'blue'\n",
    "        fill = True\n",
    "        fill_color = color\n",
    "    else:\n",
    "        continue\n",
    "    html += '<br>Lat: {0:.2f}'.format(row.geometry.y)+', Lon: {0:.2f}'.format(row.geometry.x)\n",
    "    html += '<br>RMI: {0:.1f}'.format(row.RMI)\n",
    "    iframe = folium.IFrame(html,width=width,height=height)\n",
    "    popup = folium.Popup(iframe,max_width=max_width)\n",
    "    if (marker_type == 'pin'):\n",
    "        folium.Marker(location=coord,icon=folium.Icon(color=color,icon=icon),popup=popup,tooltip=label).add_to(ohio_map)\n",
    "    elif (marker_type == 'circle'):\n",
    "        folium.CircleMarker(location=coord,radius=radius,color=color,popup=popup,tooltip=label).add_to(ohio_map)\n",
    "    else:\n",
    "        continue"
   ]
  },
  {
   "cell_type": "markdown",
   "metadata": {
    "extensions": {
     "jupyter_dashboards": {
      "version": 1,
      "views": {
       "grid_default": {},
       "report_default": {
        "hidden": false
       }
      }
     }
    }
   },
   "source": [
    "#### Add the builtin OpenStreetMap and Stamen Terrain basemaps"
   ]
  },
  {
   "cell_type": "code",
   "execution_count": 152,
   "metadata": {
    "extensions": {
     "jupyter_dashboards": {
      "version": 1,
      "views": {
       "grid_default": {},
       "report_default": {
        "hidden": false
       }
      }
     }
    }
   },
   "outputs": [
    {
     "data": {
      "text/plain": [
       "<folium.raster_layers.TileLayer at 0x7f33387f7ef0>"
      ]
     },
     "execution_count": 152,
     "metadata": {},
     "output_type": "execute_result"
    }
   ],
   "source": [
    "folium.TileLayer('OpenStreetMap').add_to(ohio_map)\n",
    "folium.TileLayer('StamenTerrain').add_to(ohio_map)"
   ]
  },
  {
   "cell_type": "markdown",
   "metadata": {
    "extensions": {
     "jupyter_dashboards": {
      "version": 1,
      "views": {
       "grid_default": {},
       "report_default": {
        "hidden": false
       }
      }
     }
    }
   },
   "source": [
    "#### Add other basemap options using Map Servers at  ArcGIS Online"
   ]
  },
  {
   "cell_type": "code",
   "execution_count": 153,
   "metadata": {
    "extensions": {
     "jupyter_dashboards": {
      "version": 1,
      "views": {
       "grid_default": {},
       "report_default": {
        "hidden": true
       }
      }
     }
    }
   },
   "outputs": [],
   "source": [
    "mapserver_query = '/MapServer/tile/{z}/{y}/{x}'\n",
    "ESRI = dict(NatGeo_World_Map='http://services.arcgisonline.com/arcgis/rest/services/NatGeo_World_Map/MapServer',\n",
    "            World_Imagery='http://services.arcgisonline.com/arcgis/rest/services/World_Imagery/MapServer',\n",
    "            World_Shaded_Relief='http://services.arcgisonline.com/arcgis/rest/services/World_Shaded_Relief/MapServer',\n",
    "            World_Street_Map='http://services.arcgisonline.com/arcgis/rest/services/World_Street_Map/MapServer',\n",
    "            World_Topo_Map='http://services.arcgisonline.com/arcgis/rest/services/World_Topo_Map/MapServer',\n",
    "            World_Hydro_Reference='http://hydrology.esri.com/arcgis/rest/services/WorldHydroReferenceOverlay/MapServer')\n",
    "\n",
    "for tile_name, tile_url in ESRI.items():\n",
    "    tile_url += mapserver_query\n",
    "    folium.TileLayer(tile_url,name=tile_name,attr=tile_name).add_to(ohio_map)"
   ]
  },
  {
   "cell_type": "markdown",
   "metadata": {},
   "source": [
    "#### Add HUC boundaries \n",
    " * First example converts a HUC10 .shp file to GeoJSON\n",
    " * Second example streams GeoJSON from the USGS National Map (NHDPlus) HUC12 Web Service using bounding box (envelope)"
   ]
  },
  {
   "cell_type": "code",
   "execution_count": 154,
   "metadata": {},
   "outputs": [
    {
     "data": {
      "text/plain": [
       "<folium.features.GeoJson at 0x7f333872f6a0>"
      ]
     },
     "execution_count": 154,
     "metadata": {},
     "output_type": "execute_result"
    }
   ],
   "source": [
    "#wbdhu10 = gpd.read_file(\"data/Greenup/WBDHU10.shp\").to_crs(epsg='4326').to_json()\n",
    "#folium.GeoJson(wbdhu10,name=\"WBD HUC10\",show=False).add_to(ohio_map)\n",
    "folium.GeoJson(\"https://hydro.nationalmap.gov/arcgis/rest/services/NHDPlus_HR/MapServer/11/query?where=&text=&objectIds=&time=&geometry=-83%2C38.4%2C-82%2C38.7&geometryType=esriGeometryEnvelope&inSR=&spatialRel=esriSpatialRelIntersects&relationParam=&outFields=&returnGeometry=true&returnTrueCurves=false&maxAllowableOffset=&geometryPrecision=&outSR=&having=&returnIdsOnly=false&returnCountOnly=false&orderByFields=&groupByFieldsForStatistics=&outStatistics=&returnZ=false&returnM=false&gdbVersion=&historicMoment=&returnDistinctValues=false&resultOffset=&resultRecordCount=&queryByDistance=&returnExtentOnly=false&datumTransformation=&parameterValues=&rangeValues=&quantizationParameters=&f=geojson\",show=False,name='HUC12 Boundararies').add_to(ohio_map)"
   ]
  },
  {
   "cell_type": "markdown",
   "metadata": {},
   "source": [
    "#### Add Streams \n",
    " * Why do only certain segments appear?"
   ]
  },
  {
   "cell_type": "code",
   "execution_count": 155,
   "metadata": {},
   "outputs": [],
   "source": [
    "\n",
    "#folium.GeoJson(\"https://hydro.nationalmap.gov/arcgis/rest/services/NHDPlus_HR/MapServer/2/query?where=FTYPE%3D460&text=&objectIds=&time=&geometry=-83%2C38.4%2C-82%2C38.7&geometryType=esriGeometryEnvelope&inSR=&spatialRel=esriSpatialRelIntersects&relationParam=&outFields=&returnGeometry=true&returnTrueCurves=false&maxAllowableOffset=&geometryPrecision=&outSR=&having=&returnIdsOnly=false&returnCountOnly=false&orderByFields=&groupByFieldsForStatistics=&outStatistics=&returnZ=false&returnM=false&gdbVersion=&historicMoment=&returnDistinctValues=false&resultOffset=&resultRecordCount=&queryByDistance=&returnExtentOnly=false&datumTransformation=&parameterValues=&rangeValues=&quantizationParameters=&f=geojson\",show=False,name='Streams').add_to(ohio_map)"
   ]
  },
  {
   "cell_type": "markdown",
   "metadata": {},
   "source": [
    "#### Add raster (image) overlayers\n",
    " * DEM: USGS National Elevation Dataset (NED)\n",
    " \n",
    "#### TODO:\n",
    " * More DEM (NED) tiles\n",
    " * Land Cover / Use\n",
    " * Soil Type\n",
    " * Satellite (MODUS)"
   ]
  },
  {
   "cell_type": "code",
   "execution_count": 156,
   "metadata": {},
   "outputs": [
    {
     "data": {
      "text/plain": [
       "<folium.raster_layers.ImageOverlay at 0x7f33386d81d0>"
      ]
     },
     "execution_count": 156,
     "metadata": {},
     "output_type": "execute_result"
    }
   ],
   "source": [
    "folium.raster_layers.ImageOverlay(\"data/Greenup/ned19_n38x50_w082x50_wv_statewide_2003_thumb.jpg\",bounds=[[38.25,-82.50],[38.5,-82.25]],opacity=0.5,name=\"NED\",show=False).add_to(ohio_map)"
   ]
  },
  {
   "cell_type": "markdown",
   "metadata": {
    "extensions": {
     "jupyter_dashboards": {
      "version": 1,
      "views": {
       "grid_default": {},
       "report_default": {
        "hidden": false
       }
      }
     }
    }
   },
   "source": [
    "#### Add the Layer Control widget"
   ]
  },
  {
   "cell_type": "code",
   "execution_count": 157,
   "metadata": {
    "extensions": {
     "jupyter_dashboards": {
      "version": 1,
      "views": {
       "grid_default": {},
       "report_default": {
        "hidden": false
       }
      }
     }
    }
   },
   "outputs": [
    {
     "data": {
      "text/plain": [
       "<folium.map.LayerControl at 0x7f333872f3c8>"
      ]
     },
     "execution_count": 157,
     "metadata": {},
     "output_type": "execute_result"
    }
   ],
   "source": [
    "folium.LayerControl().add_to(ohio_map)"
   ]
  },
  {
   "cell_type": "markdown",
   "metadata": {
    "extensions": {
     "jupyter_dashboards": {
      "version": 1,
      "views": {
       "grid_default": {},
       "report_default": {
        "hidden": false
       }
      }
     }
    }
   },
   "source": [
    "#### Save the map as HTML and display it\n",
    " * Suppress before publishing as read-only Tool\n",
    "\n",
    "<div id='map' />"
   ]
  },
  {
   "cell_type": "markdown",
   "metadata": {
    "extensions": {
     "jupyter_dashboards": {
      "version": 1,
      "views": {
       "grid_default": {},
       "report_default": {
        "hidden": false
       }
      }
     }
    }
   },
   "source": [
    "## Map"
   ]
  },
  {
   "cell_type": "code",
   "execution_count": 158,
   "metadata": {
    "extensions": {
     "jupyter_dashboards": {
      "version": 1,
      "views": {
       "grid_default": {},
       "report_default": {
        "hidden": true
       }
      }
     }
    }
   },
   "outputs": [],
   "source": [
    "ohio_map.save('data/Greenup/out/ohio_map.html')"
   ]
  },
  {
   "cell_type": "code",
   "execution_count": 159,
   "metadata": {
    "extensions": {
     "jupyter_dashboards": {
      "version": 1,
      "views": {
       "grid_default": {
        "col": 0,
        "height": 21,
        "hidden": false,
        "row": 51,
        "width": 10
       },
       "report_default": {
        "hidden": false
       }
      }
     }
    }
   },
   "outputs": [
    {
     "data": {
      "text/html": [
       "\n",
       "        <iframe\n",
       "            width=\"1000\"\n",
       "            height=\"500\"\n",
       "            src=\"data/Greenup/out/ohio_map.html\"\n",
       "            frameborder=\"0\"\n",
       "            allowfullscreen\n",
       "        ></iframe>\n",
       "        "
      ],
      "text/plain": [
       "<IPython.lib.display.IFrame at 0x7f333e6a4c50>"
      ]
     },
     "execution_count": 159,
     "metadata": {},
     "output_type": "execute_result"
    }
   ],
   "source": [
    "from IPython.display import IFrame\n",
    "IFrame(\"data/Greenup/out/ohio_map.html\", width=1000, height=500)"
   ]
  },
  {
   "cell_type": "markdown",
   "metadata": {},
   "source": [
    "## == Transects =="
   ]
  },
  {
   "cell_type": "markdown",
   "metadata": {
    "extensions": {
     "jupyter_dashboards": {
      "version": 1,
      "views": {
       "grid_default": {
        "col": 8,
        "height": 4,
        "hidden": false,
        "row": 0,
        "width": 4
       },
       "report_default": {
        "hidden": false
       }
      }
     }
    }
   },
   "source": [
    "### Read in CSV-formatted table of geo-tagged and time-stamped sensor data from the transects into a DataFrame"
   ]
  },
  {
   "cell_type": "markdown",
   "metadata": {
    "extensions": {
     "jupyter_dashboards": {
      "version": 1,
      "views": {
       "grid_default": {},
       "report_default": {
        "hidden": false
       }
      }
     }
    }
   },
   "source": [
    "#### Get Sonde data"
   ]
  },
  {
   "cell_type": "code",
   "execution_count": 160,
   "metadata": {
    "extensions": {
     "jupyter_dashboards": {
      "version": 1,
      "views": {
       "grid_default": {
        "hidden": true
       },
       "report_default": {
        "hidden": true
       }
      }
     }
    }
   },
   "outputs": [],
   "source": [
    "transects_sonde = pd.read_csv('data/Greenup/transects_sonde.csv',encoding='latin1')"
   ]
  },
  {
   "cell_type": "markdown",
   "metadata": {
    "extensions": {
     "jupyter_dashboards": {
      "version": 1,
      "views": {
       "grid_default": {},
       "report_default": {
        "hidden": false
       }
      }
     }
    }
   },
   "source": [
    "#### Get PAR data"
   ]
  },
  {
   "cell_type": "code",
   "execution_count": 161,
   "metadata": {
    "extensions": {
     "jupyter_dashboards": {
      "version": 1,
      "views": {
       "grid_default": {},
       "report_default": {
        "hidden": true
       }
      }
     }
    }
   },
   "outputs": [],
   "source": [
    "transects_par = pd.read_csv('data/Greenup/transects_par.csv',encoding='latin1')"
   ]
  },
  {
   "cell_type": "markdown",
   "metadata": {
    "extensions": {
     "jupyter_dashboards": {
      "version": 1,
      "views": {
       "grid_default": {
        "col": 0,
        "height": 4,
        "hidden": false,
        "row": 22,
        "width": 4
       },
       "report_default": {
        "hidden": false
       }
      }
     }
    }
   },
   "source": [
    "#### Parse out Horizontal and Vertical position codes along transect"
   ]
  },
  {
   "cell_type": "code",
   "execution_count": 162,
   "metadata": {
    "extensions": {
     "jupyter_dashboards": {
      "version": 1,
      "views": {
       "grid_default": {
        "hidden": true
       },
       "report_default": {
        "hidden": true
       }
      }
     }
    }
   },
   "outputs": [],
   "source": [
    "transects_sonde['H Code'] = transects_sonde['Site Name'].apply(lambda x: x[0])\n",
    "transects_sonde['V Code'] = transects_sonde['Site Name'].apply(lambda x: x[1:])"
   ]
  },
  {
   "cell_type": "code",
   "execution_count": 163,
   "metadata": {
    "extensions": {
     "jupyter_dashboards": {
      "version": 1,
      "views": {
       "grid_default": {
        "hidden": true
       },
       "report_default": {
        "hidden": true
       }
      }
     }
    }
   },
   "outputs": [],
   "source": [
    "transects_par['H Code'] = transects_par['SITE'].apply(lambda x: x[0])\n",
    "transects_par['V Code'] = transects_par['SITE'].apply(lambda x: x[1:])"
   ]
  },
  {
   "cell_type": "markdown",
   "metadata": {
    "extensions": {
     "jupyter_dashboards": {
      "version": 1,
      "views": {
       "grid_default": {
        "col": 4,
        "height": 4,
        "hidden": false,
        "row": 22,
        "width": 4
       },
       "report_default": {
        "hidden": false
       }
      }
     }
    }
   },
   "source": [
    "#### Create Data-Time field from Date and Time fields"
   ]
  },
  {
   "cell_type": "code",
   "execution_count": 164,
   "metadata": {
    "extensions": {
     "jupyter_dashboards": {
      "version": 1,
      "views": {
       "grid_default": {
        "hidden": true
       },
       "report_default": {
        "hidden": true
       }
      }
     }
    }
   },
   "outputs": [],
   "source": [
    "def datetime_sonde(row):\n",
    "    pattern = '%m/%d/%Y-%H:%M:%S'\n",
    "    dt = row['Date (MM/DD/YYYY)']+'-'+row['Time (HH:MM:SS)']\n",
    "    return pd.to_datetime(time.mktime(time.strptime(dt,pattern)),unit='s')\n",
    "    \n",
    "transects_sonde['Date-Time'] = transects_sonde.apply(lambda row: datetime_sonde(row),axis=1)"
   ]
  },
  {
   "cell_type": "code",
   "execution_count": 165,
   "metadata": {
    "extensions": {
     "jupyter_dashboards": {
      "version": 1,
      "views": {
       "grid_default": {
        "hidden": true
       },
       "report_default": {
        "hidden": true
       }
      }
     }
    }
   },
   "outputs": [],
   "source": [
    "def datetime_par(row):\n",
    "    pattern = '%m/%d/%Y-%I:%M:%S %p'\n",
    "    dt = row['Date']+'-'+row['Time']\n",
    "    return pd.to_datetime(time.mktime(time.strptime(dt,pattern)),unit='s')\n",
    "    \n",
    "transects_par['Date-Time_par'] = transects_par.apply(lambda row: datetime_par(row),axis=1)"
   ]
  },
  {
   "cell_type": "markdown",
   "metadata": {
    "extensions": {
     "jupyter_dashboards": {
      "version": 1,
      "views": {
       "grid_default": {
        "col": 8,
        "height": 4,
        "hidden": false,
        "row": 22,
        "width": 4
       },
       "report_default": {
        "hidden": false
       }
      }
     }
    }
   },
   "source": [
    "#### Filter out Test samples from Sonde data \n",
    " * TODO: Consider dropping in place"
   ]
  },
  {
   "cell_type": "code",
   "execution_count": 166,
   "metadata": {
    "extensions": {
     "jupyter_dashboards": {
      "version": 1,
      "views": {
       "grid_default": {
        "hidden": true
       },
       "report_default": {
        "hidden": true
       }
      }
     }
    }
   },
   "outputs": [],
   "source": [
    "transects_sonde = transects_sonde[transects_sonde['Site Name'].str.contains('Test')==False]"
   ]
  },
  {
   "cell_type": "markdown",
   "metadata": {
    "extensions": {
     "jupyter_dashboards": {
      "version": 1,
      "views": {
       "grid_default": {
        "col": 0,
        "height": 4,
        "hidden": false,
        "row": 26,
        "width": 4
       },
       "report_default": {
        "hidden": false
       }
      }
     }
    }
   },
   "source": [
    "#### Convert Transect and Horizontal positions to numbers (for plotting profiles)"
   ]
  },
  {
   "cell_type": "code",
   "execution_count": 167,
   "metadata": {
    "extensions": {
     "jupyter_dashboards": {
      "version": 1,
      "views": {
       "grid_default": {
        "hidden": true
       },
       "report_default": {
        "hidden": true
       }
      }
     }
    }
   },
   "outputs": [],
   "source": [
    "transects_sonde['T Pos'] = transects_sonde['Transect'].apply(lambda x: int(x[2:]))\n",
    "transects_sonde['H Pos'] = transects_sonde['H Code'].apply(lambda x: int(x))"
   ]
  },
  {
   "cell_type": "code",
   "execution_count": 168,
   "metadata": {
    "extensions": {
     "jupyter_dashboards": {
      "version": 1,
      "views": {
       "grid_default": {},
       "report_default": {
        "hidden": true
       }
      }
     }
    }
   },
   "outputs": [],
   "source": [
    "transects_par['T Pos'] = transects_par['Transect'].apply(lambda x: int(x[2:]))\n",
    "transects_par['H Pos'] = transects_par['H Code'].apply(lambda x: int(x))"
   ]
  },
  {
   "cell_type": "markdown",
   "metadata": {
    "extensions": {
     "jupyter_dashboards": {
      "version": 1,
      "views": {
       "grid_default": {
        "col": 4,
        "height": 4,
        "hidden": false,
        "row": 26,
        "width": 4
       },
       "report_default": {
        "hidden": false
       }
      }
     }
    }
   },
   "source": [
    "#### Filter out non-data, empty columns (like TSS), and reduntant columns (like chlorophyll, BGA, conductivity, pH, and depth)"
   ]
  },
  {
   "cell_type": "code",
   "execution_count": 169,
   "metadata": {
    "extensions": {
     "jupyter_dashboards": {
      "version": 1,
      "views": {
       "grid_default": {
        "hidden": true
       },
       "report_default": {
        "hidden": true
       }
      }
     }
    }
   },
   "outputs": [],
   "source": [
    "transects_sonde_dataonly = transects_sonde.drop(transects_sonde.columns[:8],axis=1).drop(['H Code','TSS mg/L'],axis=1) \\\n",
    "    .drop(['ODO % sat','Chlorophyll RFU','BGA-PC RFU','pH mV','Press psi a'],axis=1) \\\n",
    "    .drop(transects_sonde.columns[[16,18,19]],axis=1)"
   ]
  },
  {
   "cell_type": "code",
   "execution_count": 170,
   "metadata": {
    "extensions": {
     "jupyter_dashboards": {
      "version": 1,
      "views": {
       "grid_default": {},
       "report_default": {
        "hidden": true
       }
      }
     }
    }
   },
   "outputs": [],
   "source": [
    "transects_par_dataonly = transects_par.drop(transects_par.columns[:3],axis=1).drop(['H Code','BATT','SITE','CHK','Date-Time_par'],axis=1) \\\n",
    "    .drop(['PAR_MAX','PAR_MIN'],axis=1)"
   ]
  },
  {
   "cell_type": "markdown",
   "metadata": {
    "extensions": {
     "jupyter_dashboards": {
      "version": 1,
      "views": {
       "grid_default": {},
       "report_default": {
        "hidden": false
       }
      }
     }
    }
   },
   "source": [
    "#### Create 3-part Index from T, H, and V values to help join Sonde and PAR data\n",
    " * Only keep one set of original columns (Sonde)"
   ]
  },
  {
   "cell_type": "code",
   "execution_count": 171,
   "metadata": {
    "extensions": {
     "jupyter_dashboards": {
      "version": 1,
      "views": {
       "grid_default": {},
       "report_default": {
        "hidden": true
       }
      }
     }
    }
   },
   "outputs": [],
   "source": [
    "transects_sonde_dataonly = transects_sonde_dataonly.set_index(['T Pos','H Pos','V Code'],drop=False)"
   ]
  },
  {
   "cell_type": "code",
   "execution_count": 172,
   "metadata": {
    "extensions": {
     "jupyter_dashboards": {
      "version": 1,
      "views": {
       "grid_default": {},
       "report_default": {
        "hidden": true
       }
      }
     }
    }
   },
   "outputs": [],
   "source": [
    "transects_par_dataonly = transects_par_dataonly.set_index(['T Pos','H Pos','V Code'],drop=True)"
   ]
  },
  {
   "cell_type": "markdown",
   "metadata": {
    "extensions": {
     "jupyter_dashboards": {
      "version": 1,
      "views": {
       "grid_default": {},
       "report_default": {
        "hidden": false
       }
      }
     }
    }
   },
   "source": [
    "#### Combine (merge/join) Sonde and PAR data using new index\n",
    " * Get rid of 'V Code' column, which is no longer needed"
   ]
  },
  {
   "cell_type": "code",
   "execution_count": 173,
   "metadata": {
    "extensions": {
     "jupyter_dashboards": {
      "version": 1,
      "views": {
       "grid_default": {},
       "report_default": {
        "hidden": true
       }
      }
     }
    }
   },
   "outputs": [],
   "source": [
    "transects_sonde_par = pd.merge(transects_sonde_dataonly,transects_par_dataonly,left_index=True,right_index=True).drop(['V Code'],axis=1)"
   ]
  },
  {
   "cell_type": "markdown",
   "metadata": {
    "extensions": {
     "jupyter_dashboards": {
      "version": 1,
      "views": {
       "grid_default": {
        "hidden": true
       },
       "report_default": {
        "hidden": true
       }
      }
     }
    }
   },
   "source": [
    "#### Create column for Chlorophyll / BGA ratio \n",
    " * Fix ranges first to keep numerator positive and denominator > zero"
   ]
  },
  {
   "cell_type": "code",
   "execution_count": 174,
   "metadata": {},
   "outputs": [],
   "source": [
    "transects_sonde_par['Chlorophyll µg/L'] = transects_sonde_par['Chlorophyll µg/L'].apply(lambda x: 0.0 if x < 0.0 else x)"
   ]
  },
  {
   "cell_type": "code",
   "execution_count": 175,
   "metadata": {},
   "outputs": [],
   "source": [
    "transects_sonde_par['BGA-PC µg/L'] = transects_sonde_par['BGA-PC µg/L'].apply(lambda x: 0.1 if x < 0.1 else x)"
   ]
  },
  {
   "cell_type": "code",
   "execution_count": 176,
   "metadata": {},
   "outputs": [],
   "source": [
    "transects_sonde_par['Chlorophyll/BGA'] = transects_sonde_par.apply(lambda x: x['Chlorophyll µg/L']/x['BGA-PC µg/L'], axis=1)\n",
    "#transects_sonde_par.head()"
   ]
  },
  {
   "cell_type": "markdown",
   "metadata": {},
   "source": [
    "#### Merge in location data, including RMI\n",
    " * Create temporary matching Name column (from 'T Pos') for merging\n",
    " * Drop all unnecessary columns"
   ]
  },
  {
   "cell_type": "code",
   "execution_count": 177,
   "metadata": {},
   "outputs": [],
   "source": [
    "transects_sonde_par['Name'] = transects_sonde_par['T Pos'].apply(lambda x: 'T-'+str(x))\n",
    "transects_sonde_par = pd.merge(transects_sonde_par,ohio_river_sites,on=['Name']).drop(ohio_river_sites.columns[0:5],axis=1).drop(ohio_river_sites.columns[6:],axis=1)\n",
    "#transects_sonde_par.columns"
   ]
  },
  {
   "cell_type": "markdown",
   "metadata": {},
   "source": [
    "#### Re-index by datetime"
   ]
  },
  {
   "cell_type": "code",
   "execution_count": 178,
   "metadata": {
    "extensions": {
     "jupyter_dashboards": {
      "version": 1,
      "views": {
       "grid_default": {},
       "report_default": {
        "hidden": true
       }
      }
     }
    }
   },
   "outputs": [],
   "source": [
    "transects_sonde_par = transects_sonde_par.set_index(['Date-Time'])\n",
    "#transects_sonde_par.columns"
   ]
  },
  {
   "cell_type": "code",
   "execution_count": 179,
   "metadata": {},
   "outputs": [],
   "source": [
    "transects_sonde_par.to_csv('data/Greenup/out/transects_sonde_par.csv')"
   ]
  },
  {
   "cell_type": "markdown",
   "metadata": {},
   "source": [
    "<div id='transect_plots'></div>"
   ]
  },
  {
   "cell_type": "markdown",
   "metadata": {},
   "source": [
    "## Transect Plots"
   ]
  },
  {
   "cell_type": "markdown",
   "metadata": {
    "extensions": {
     "jupyter_dashboards": {
      "version": 1,
      "views": {
       "grid_default": {
        "col": 8,
        "height": 4,
        "hidden": false,
        "row": 26,
        "width": 4
       },
       "report_default": {
        "hidden": false
       }
      }
     }
    }
   },
   "source": [
    "### Distribution plots of transect data"
   ]
  },
  {
   "cell_type": "code",
   "execution_count": 180,
   "metadata": {
    "extensions": {
     "jupyter_dashboards": {
      "version": 1,
      "views": {
       "grid_default": {
        "col": 0,
        "height": 13,
        "hidden": false,
        "row": 30,
        "width": 4
       },
       "report_default": {
        "hidden": false
       }
      }
     }
    }
   },
   "outputs": [
    {
     "data": {
      "application/vnd.jupyter.widget-view+json": {
       "model_id": "30bcdbb684b64d0bad6cdaca84c6bb9b",
       "version_major": 2,
       "version_minor": 0
      },
      "text/plain": [
       "interactive(children=(Dropdown(description='Property', options=('ODO mg/L', 'Chlorophyll µg/L', 'BGA-PC µg/L',…"
      ]
     },
     "metadata": {},
     "output_type": "display_data"
    },
    {
     "data": {
      "text/plain": [
       "<function __main__.dist_plot_transects(Property, Kind='kde')>"
      ]
     },
     "execution_count": 180,
     "metadata": {},
     "output_type": "execute_result"
    }
   ],
   "source": [
    "def dist_plot_transects(Property,Kind='kde'):\n",
    "    transects_sonde_par[Property].plot(kind=Kind)\n",
    "    \n",
    "interact(dist_plot_transects, \\\n",
    "         Property=transects_sonde_par.columns.drop(['T Pos','H Pos','RMI']), \\\n",
    "         Kind=['hist','kde','box'] \\\n",
    "        )"
   ]
  },
  {
   "cell_type": "markdown",
   "metadata": {
    "extensions": {
     "jupyter_dashboards": {
      "version": 1,
      "views": {
       "grid_default": {
        "col": 4,
        "height": 4,
        "hidden": false,
        "row": 30,
        "width": 4
       },
       "report_default": {
        "hidden": false
       }
      }
     }
    }
   },
   "source": [
    "### Correlation Scatter Plots"
   ]
  },
  {
   "cell_type": "markdown",
   "metadata": {
    "extensions": {
     "jupyter_dashboards": {
      "version": 1,
      "views": {
       "grid_default": {},
       "report_default": {
        "hidden": false
       }
      }
     }
    }
   },
   "source": [
    "#### Scatter matrix for all properties (disabled due to size)"
   ]
  },
  {
   "cell_type": "code",
   "execution_count": 181,
   "metadata": {
    "extensions": {
     "jupyter_dashboards": {
      "version": 1,
      "views": {
       "grid_default": {
        "hidden": true
       },
       "report_default": {
        "hidden": true
       }
      }
     }
    }
   },
   "outputs": [],
   "source": [
    "#scatter_matrix(transects_sonde_par,figsize=(20.0,20.0),diagonal='kde')"
   ]
  },
  {
   "cell_type": "markdown",
   "metadata": {
    "extensions": {
     "jupyter_dashboards": {
      "version": 1,
      "views": {
       "grid_default": {},
       "report_default": {
        "hidden": false
       }
      }
     }
    }
   },
   "source": [
    "#### Individual scatter plots (3rd property used for color map)"
   ]
  },
  {
   "cell_type": "code",
   "execution_count": 182,
   "metadata": {
    "extensions": {
     "jupyter_dashboards": {
      "version": 1,
      "views": {
       "grid_default": {
        "hidden": true
       },
       "report_default": {
        "hidden": true
       }
      }
     }
    }
   },
   "outputs": [
    {
     "data": {
      "application/vnd.jupyter.widget-view+json": {
       "model_id": "863164d167c74126ad23ec8135a4f951",
       "version_major": 2,
       "version_minor": 0
      },
      "text/plain": [
       "interactive(children=(Dropdown(description='YProperty', options=('ODO mg/L', 'Chlorophyll µg/L', 'BGA-PC µg/L'…"
      ]
     },
     "metadata": {},
     "output_type": "display_data"
    },
    {
     "data": {
      "text/plain": [
       "<function __main__.scatter_plot_transects(YProperty='ODO mg/L', XProperty='Chlorophyll µg/L', CProperty='Temp °C', ColorMap='jet')>"
      ]
     },
     "execution_count": 182,
     "metadata": {},
     "output_type": "execute_result"
    }
   ],
   "source": [
    "def scatter_plot_transects(YProperty=transects_sonde_par.columns[0],XProperty=transects_sonde_par.columns[1],CProperty=transects_sonde_par.columns[3],ColorMap='jet'):\n",
    "    fig, ax = plt.subplots()\n",
    "    transects_sonde_par.plot.scatter(ax=ax,x=XProperty,y=YProperty,c=CProperty,cmap=ColorMap,s=4)\n",
    "    ax.set_title(\"Correlation of \"+YProperty+\" and \"+XProperty,fontsize=14)\n",
    "    \n",
    "interact(scatter_plot_transects, \\\n",
    "         YProperty=transects_sonde_par.columns, \\\n",
    "         XProperty=transects_sonde_par.columns, \\\n",
    "         CProperty=transects_sonde_par.columns, \\\n",
    "         ColorMap=['jet','viridis','magma','coolwarm','seismic','Greys','Reds','Blues'] \\\n",
    "        )"
   ]
  },
  {
   "cell_type": "markdown",
   "metadata": {
    "extensions": {
     "jupyter_dashboards": {
      "version": 1,
      "views": {
       "grid_default": {
        "col": 8,
        "height": 4,
        "hidden": false,
        "row": 30,
        "width": 4
       },
       "report_default": {
        "hidden": false
       }
      }
     }
    }
   },
   "source": [
    "### Use scatter plot to display depth x width profile for selected transect with data points colored by value of selected property"
   ]
  },
  {
   "cell_type": "code",
   "execution_count": 183,
   "metadata": {
    "extensions": {
     "jupyter_dashboards": {
      "version": 1,
      "views": {
       "grid_default": {
        "hidden": true
       },
       "report_default": {
        "hidden": true
       }
      }
     }
    }
   },
   "outputs": [
    {
     "data": {
      "application/vnd.jupyter.widget-view+json": {
       "model_id": "b7b1d816a4fe44888e2c644296d1e85b",
       "version_major": 2,
       "version_minor": 0
      },
      "text/plain": [
       "interactive(children=(Dropdown(description='Transect', options=(1, 2, 3, 4, 5, 6, 7, 8, 9, 10, 11, 12, 13, 14,…"
      ]
     },
     "metadata": {},
     "output_type": "display_data"
    },
    {
     "data": {
      "text/plain": [
       "<function __main__.transect_profile_plot(Transect, Property, ColorMap='jet')>"
      ]
     },
     "execution_count": 183,
     "metadata": {},
     "output_type": "execute_result"
    }
   ],
   "source": [
    "def transect_profile_plot(Transect,Property,ColorMap='jet'):\n",
    "    fig, ax = plt.subplots()\n",
    "    transect = transects_sonde_par[transects_sonde_par['T Pos']==Transect]\n",
    "    transect.plot.scatter(ax=ax,x='H Pos',y='Depth m',ylim=(15,0),c=Property,cmap=ColorMap,marker='H',s=250,xticks=[])\n",
    "    ax.set_title(\"Transect Profile for \"+Property,fontsize=14)\n",
    "    ax.set(ylabel=\"Depth\",xlabel=\"Cross-River Position\")\n",
    "    \n",
    "interact(transect_profile_plot, \\\n",
    "         Transect=transects_sonde_par['T Pos'].unique(), \\\n",
    "         Property=transects_sonde_par.columns.drop(['Depth m','T Pos','H Pos','PAR','RMI']), \\\n",
    "         ColorMap=['jet','viridis','magma','coolwarm','seismic','Greys','Reds','Blues'] \\\n",
    "        )"
   ]
  },
  {
   "cell_type": "markdown",
   "metadata": {
    "extensions": {
     "jupyter_dashboards": {
      "version": 1,
      "views": {
       "grid_default": {
        "col": 8,
        "height": 4,
        "hidden": false,
        "row": 34,
        "width": 4
       },
       "report_default": {
        "hidden": false
       }
      }
     }
    }
   },
   "source": [
    "### Loop through all the data columns to create a profile panel"
   ]
  },
  {
   "cell_type": "code",
   "execution_count": 184,
   "metadata": {
    "extensions": {
     "jupyter_dashboards": {
      "version": 1,
      "views": {
       "grid_default": {
        "col": 8,
        "height": 13,
        "hidden": false,
        "row": 38,
        "width": 4
       },
       "report_default": {
        "hidden": false
       }
      }
     }
    }
   },
   "outputs": [
    {
     "data": {
      "application/vnd.jupyter.widget-view+json": {
       "model_id": "0d282ea951d94947a0035a08f5e48ebd",
       "version_major": 2,
       "version_minor": 0
      },
      "text/plain": [
       "interactive(children=(Dropdown(description='Transect', options=(1, 2, 3, 4, 5, 6, 7, 8, 9, 10, 11, 12, 13, 14,…"
      ]
     },
     "metadata": {},
     "output_type": "display_data"
    },
    {
     "data": {
      "text/plain": [
       "<function __main__.transect_profile_panel(Transect, ColorMap='jet')>"
      ]
     },
     "execution_count": 184,
     "metadata": {},
     "output_type": "execute_result"
    }
   ],
   "source": [
    "def transect_profile_panel(Transect,ColorMap='jet'):\n",
    "    fig, ax = plt.subplots(nrows=2,ncols=5,figsize=(25,10))\n",
    "    transect = transects_sonde_par[transects_sonde_par['T Pos']==Transect]\n",
    "    i = j = 0\n",
    "    for col in transects_sonde_par.columns[:13].drop(['T Pos','H Pos','Depth m']):\n",
    "        transect.plot.scatter(ax=ax[j,i],x='H Pos',y='Depth m',ylim=(14,0),c=col,cmap=ColorMap,marker='H',s=250)\n",
    "        ax[j,i].axis('off')\n",
    "        if i < 4:\n",
    "            i = i + 1\n",
    "        else:\n",
    "            i = 0\n",
    "            j = j + 1\n",
    "            \n",
    "interact(transect_profile_panel, \\\n",
    "         Transect=transects_sonde_par['T Pos'].unique(), \\\n",
    "         ColorMap=['jet','viridis','magma','coolwarm','seismic','Greys','Reds','Blues'] \\\n",
    "        )"
   ]
  },
  {
   "cell_type": "markdown",
   "metadata": {},
   "source": [
    "## == ORSANCO Data =="
   ]
  },
  {
   "cell_type": "markdown",
   "metadata": {},
   "source": [
    "## Sediment Composition"
   ]
  },
  {
   "cell_type": "markdown",
   "metadata": {
    "extensions": {
     "jupyter_dashboards": {
      "version": 1,
      "views": {
       "grid_default": {},
       "report_default": {
        "hidden": false
       }
      }
     }
    }
   },
   "source": [
    "#### TODO: \n",
    " * Distribution plots, Correlation plots, Multiple Z plots on same graph\n",
    " * Do same for Fish populations, Macro invertebrates, Substrate types, Water quality\n",
    " * Cross correlations between any pair"
   ]
  },
  {
   "cell_type": "markdown",
   "metadata": {},
   "source": [
    "#### Get Sediment Composition Data (2011)"
   ]
  },
  {
   "cell_type": "code",
   "execution_count": 185,
   "metadata": {
    "extensions": {
     "jupyter_dashboards": {
      "version": 1,
      "views": {
       "grid_default": {
        "hidden": true
       },
       "report_default": {
        "hidden": true
       }
      }
     }
    }
   },
   "outputs": [],
   "source": [
    "locations = pd.read_csv('data/Greenup/ohio_river_sites.csv')"
   ]
  },
  {
   "cell_type": "code",
   "execution_count": 186,
   "metadata": {
    "extensions": {
     "jupyter_dashboards": {
      "version": 1,
      "views": {
       "grid_default": {},
       "report_default": {
        "hidden": true
       }
      }
     }
    }
   },
   "outputs": [],
   "source": [
    "sediment_data = pd.read_csv('data/Greenup/GreenupSedimentData2011.csv',encoding='latin1')\n",
    "sediment_data.rename(columns={'Location':'Name'},inplace=True)\n",
    "sediment_data_with_lat_lon = pd.merge(sediment_data,locations,on='Name').fillna(0)\n",
    "#sediment_data_with_lat_lon.columns"
   ]
  },
  {
   "cell_type": "markdown",
   "metadata": {
    "extensions": {
     "jupyter_dashboards": {
      "version": 1,
      "views": {
       "grid_default": {},
       "report_default": {
        "hidden": false
       }
      }
     }
    }
   },
   "source": [
    "#### Plot Sediment Composition vs River Mile"
   ]
  },
  {
   "cell_type": "code",
   "execution_count": 187,
   "metadata": {
    "extensions": {
     "jupyter_dashboards": {
      "version": 1,
      "views": {
       "grid_default": {
        "col": 0,
        "height": 13,
        "hidden": false,
        "row": 30,
        "width": 4
       },
       "report_default": {
        "hidden": false
       }
      }
     }
    }
   },
   "outputs": [
    {
     "data": {
      "application/vnd.jupyter.widget-view+json": {
       "model_id": "d0c0515b49564e27a973409e9692d811",
       "version_major": 2,
       "version_minor": 0
      },
      "text/plain": [
       "interactive(children=(Dropdown(description='Property', options=('Solids_DF', 'Moisture_DF', 'LOI_DF', 'NO3_mg_…"
      ]
     },
     "metadata": {},
     "output_type": "display_data"
    },
    {
     "data": {
      "text/plain": [
       "<function __main__.rmi_plot(Property)>"
      ]
     },
     "execution_count": 187,
     "metadata": {},
     "output_type": "execute_result"
    }
   ],
   "source": [
    "def rmi_plot(Property):\n",
    "    sediment_data.plot(x='RMI',y=Property)\n",
    "    \n",
    "interact(rmi_plot, \\\n",
    "         Property=sediment_data.columns[8::2] \\\n",
    "        )"
   ]
  },
  {
   "cell_type": "markdown",
   "metadata": {},
   "source": [
    "#### Generate a Heat Map using Folium plugin"
   ]
  },
  {
   "cell_type": "markdown",
   "metadata": {
    "extensions": {
     "jupyter_dashboards": {
      "version": 1,
      "views": {
       "grid_default": {
        "col": 0,
        "height": 13,
        "hidden": false,
        "row": 30,
        "width": 4
       },
       "report_default": {
        "hidden": false
       }
      }
     }
    }
   },
   "source": [
    "from IPython.display import IFrame\n",
    "m = folium.Map([38.6,-82.5],zoom_start=10,tiles=None)\n",
    "folium.TileLayer('OpenStreetMap').add_to(m)\n",
    "for prop in sediment_data.columns[9::2]:\n",
    "    sediment_data_with_lat_lon['Heat Value'] = sediment_data_with_lat_lon[prop].apply(lambda x: (x+3.0)/6.0)\n",
    "    m_data = sediment_data_with_lat_lon[['Latitude','Longitude','Heat Value']].values.tolist()\n",
    "    plugins.HeatMap(m_data,name=prop,radius=10,gradient={0.4:'lime', 0.5:'blue', 0.6:'red'},blur=5,show=False).add_to(m)\n",
    "folium.LayerControl().add_to(m)\n",
    "m.save('heatmap.html')\n",
    "#sediment_data_with_lat_lon[['Latitude','Longitude','Heat Value']].values.tolist()\n",
    "IFrame('heatmap.html',width=600,height=500)"
   ]
  },
  {
   "cell_type": "markdown",
   "metadata": {},
   "source": [
    "## == USGS Gage at Ironton =="
   ]
  },
  {
   "cell_type": "markdown",
   "metadata": {
    "extensions": {
     "jupyter_dashboards": {
      "version": 1,
      "views": {
       "grid_default": {
        "hidden": true
       },
       "report_default": {
        "hidden": true
       }
      }
     }
    }
   },
   "source": [
    "### Get USGS Gage data directly from USGS (WaterData) web services \n",
    " * Gage #03216070 in Ironton, OH\n",
    " * TODO\n",
    "   * Resolve issue with columns being mismatched\n",
    "   * Move merge (from below) to after reading Locks data and replace discharge values (based on Ironton data)"
   ]
  },
  {
   "cell_type": "code",
   "execution_count": 188,
   "metadata": {},
   "outputs": [
    {
     "name": "stderr",
     "output_type": "stream",
     "text": [
      "/opt/conda/lib/python3.7/site-packages/IPython/core/interactiveshell.py:3058: DtypeWarning: Columns (5,11,24) have mixed types. Specify dtype option on import or set low_memory=False.\n",
      "  interactivity=interactivity, compiler=compiler, result=result)\n"
     ]
    }
   ],
   "source": [
    "usgs_gage = pd.read_csv(\"https://nwis.waterdata.usgs.gov/usa/nwis/uv/\"+ \\\n",
    "                        \"?site_no=03216070\"+ \\\n",
    "                        \"&period=&begin_date=2017-08-25&end_date=2019-06-19\"+ \\\n",
    "                        \"&cb_00010=on&cb_00011=on&cb_00060=on&cb_00065=on&cb_00095=on&cb_00300=on&cb_00400=on&cb_63680=on&cb_72254=on&cb_72255=on&cb_99133=on\"+ \\\n",
    "                        \"&format=rdb\", \\\n",
    "                       sep='\\t',comment='#',header=[0,1])"
   ]
  },
  {
   "cell_type": "code",
   "execution_count": 189,
   "metadata": {},
   "outputs": [],
   "source": [
    "usgs_gage = usgs_gage.reset_index()\n",
    "usgs_gage.columns = ['Index', 'Agency', 'Site', 'DateTime', 'TZ', \\\n",
    "                     'Temperature', 'q1', 'Temperature ADVM', 'q2', 'Discharge', 'q3', 'Gage height', 'q4', \\\n",
    "                     'Specific cond', 'q5', 'Dissolved oxygen', 'q6', 'pH', 'q7', 'Turbidity', 'q8', \\\n",
    "                     'Sensor velocity', 'q9', 'Mean velocity', 'q10', 'NO3+NO2', 'q11']\n",
    "#usgs_gage.columns, usgs_gage.head()"
   ]
  },
  {
   "cell_type": "code",
   "execution_count": 190,
   "metadata": {},
   "outputs": [],
   "source": [
    "usgs_gage = usgs_gage.drop(usgs_gage.columns[6:28:2],axis=1)\n",
    "usgs_gage = usgs_gage.drop(['Index','Agency','Site','TZ'],axis=1)\n",
    "#usgs_gage.head()"
   ]
  },
  {
   "cell_type": "code",
   "execution_count": 191,
   "metadata": {
    "extensions": {
     "jupyter_dashboards": {
      "version": 1,
      "views": {
       "grid_default": {
        "hidden": true
       },
       "report_default": {
        "hidden": true
       }
      }
     }
    }
   },
   "outputs": [],
   "source": [
    "def datetime_usgs(row):\n",
    "    pattern = '%Y-%m-%d %H:%M'\n",
    "    dt = row['DateTime']\n",
    "    return pd.to_datetime(time.mktime(time.strptime(dt,pattern)),unit='s')\n",
    "    \n",
    "usgs_gage['DateTime'] = usgs_gage.apply(lambda row: datetime_usgs(row),axis=1)\n",
    "usgs_gage = usgs_gage.set_index(['DateTime'])"
   ]
  },
  {
   "cell_type": "markdown",
   "metadata": {},
   "source": [
    "<div id='ironton_usgs_plots'></div>"
   ]
  },
  {
   "cell_type": "markdown",
   "metadata": {},
   "source": [
    "## Ironton Gage Plots\n",
    " * TODO:\n",
    "   * Set NO3+NO2 value to some default (0.0) instead of dropping the columns\n",
    "   * The data coming from the web service seems **really messed up**, as though columns are out of order\n",
    "     * Gage height looks for like Temperature\n",
    "     * Temperature like Discharge\n",
    "     * Sp Cond like Depth or Discharge\n",
    "     * Turbidity like Sp Cond\n",
    "     * Sensor V like DO\n",
    "     * Mean V like Turbidity\n",
    "     * But DO and Discharge look OK"
   ]
  },
  {
   "cell_type": "code",
   "execution_count": 192,
   "metadata": {
    "extensions": {
     "jupyter_dashboards": {
      "version": 1,
      "views": {
       "grid_default": {
        "hidden": true
       },
       "report_default": {
        "hidden": true
       }
      }
     }
    }
   },
   "outputs": [
    {
     "data": {
      "application/vnd.jupyter.widget-view+json": {
       "model_id": "112d3455343e44d1aea765d3eafea387",
       "version_major": 2,
       "version_minor": 0
      },
      "text/plain": [
       "interactive(children=(Dropdown(description='Property', options=('Temperature', 'Temperature ADVM', 'Discharge'…"
      ]
     },
     "metadata": {},
     "output_type": "display_data"
    },
    {
     "data": {
      "text/plain": [
       "<function __main__.dist_plot_ts_usgs(Property, Kind='kde')>"
      ]
     },
     "execution_count": 192,
     "metadata": {},
     "output_type": "execute_result"
    }
   ],
   "source": [
    "def dist_plot_ts_usgs(Property,Kind='kde'):\n",
    "    usgs_gage[Property].plot(kind=Kind,color='blue')\n",
    "        \n",
    "interact(dist_plot_ts_usgs, \\\n",
    "         Property=usgs_gage.columns.drop(['NO3+NO2']), \\\n",
    "         Kind=['hist','kde','box'] \\\n",
    "        )"
   ]
  },
  {
   "cell_type": "code",
   "execution_count": 193,
   "metadata": {
    "extensions": {
     "jupyter_dashboards": {
      "version": 1,
      "views": {
       "grid_default": {
        "hidden": true
       },
       "report_default": {
        "hidden": true
       }
      }
     }
    }
   },
   "outputs": [
    {
     "data": {
      "application/vnd.jupyter.widget-view+json": {
       "model_id": "e4dffe31bbb9497d9610b63258179bcc",
       "version_major": 2,
       "version_minor": 0
      },
      "text/plain": [
       "interactive(children=(Dropdown(description='YProperty', options=('Temperature', 'Temperature ADVM', 'Discharge…"
      ]
     },
     "metadata": {},
     "output_type": "display_data"
    },
    {
     "data": {
      "text/plain": [
       "<function __main__.scatter_plot_timeseries_usgs(YProperty='Temperature', XProperty='Temperature ADVM', CProperty='Gage height', ColorMap='jet')>"
      ]
     },
     "execution_count": 193,
     "metadata": {},
     "output_type": "execute_result"
    }
   ],
   "source": [
    "def scatter_plot_timeseries_usgs(YProperty=usgs_gage.columns[0],XProperty=usgs_gage.columns[1],CProperty=usgs_gage.columns[3],ColorMap='jet'):\n",
    "    fig, ax = plt.subplots()\n",
    "    usgs_gage.plot.scatter(ax=ax,x=XProperty,y=YProperty,c=CProperty,cmap=ColorMap,s=1)\n",
    "    ax.set_title(\"Correlation of \"+YProperty+\" and \"+XProperty,fontsize=14)\n",
    "    \n",
    "interact(scatter_plot_timeseries_usgs, \\\n",
    "         YProperty=usgs_gage.columns.drop(['NO3+NO2']), \\\n",
    "         XProperty=usgs_gage.columns.drop(['NO3+NO2']), \\\n",
    "         CProperty=usgs_gage.columns.drop(['NO3+NO2']), \\\n",
    "         ColorMap=['jet','viridis','magma','coolwarm','seismic','Greys','Reds','Blues'] \\\n",
    "        )"
   ]
  },
  {
   "cell_type": "code",
   "execution_count": 194,
   "metadata": {
    "extensions": {
     "jupyter_dashboards": {
      "version": 1,
      "views": {
       "grid_default": {
        "col": 8,
        "height": 27,
        "hidden": false,
        "row": 84,
        "width": 4
       },
       "report_default": {
        "hidden": false
       }
      }
     }
    }
   },
   "outputs": [
    {
     "data": {
      "application/vnd.jupyter.widget-view+json": {
       "model_id": "fac7a8e010584c59a929cc50c6c51261",
       "version_major": 2,
       "version_minor": 0
      },
      "text/plain": [
       "SelectionRangeSlider(description='Dates', index=(0, 23), layout=Layout(width='500px'), options=((' Aug 2017 ',…"
      ]
     },
     "metadata": {},
     "output_type": "display_data"
    }
   ],
   "source": [
    "from datetime import datetime\n",
    "start_date = datetime(2017, 8, 1)\n",
    "end_date = datetime.now()\n",
    "dates = pd.date_range(start_date, end_date, freq='M')\n",
    "date_options = [(date.strftime(' %b %Y '), date) for date in dates]\n",
    "date_index = (0, len(date_options)-1)\n",
    "\n",
    "date_range_slider = widgets.SelectionRangeSlider(\n",
    "    options=date_options,\n",
    "    index=date_index,\n",
    "    description = \"Dates\",\n",
    "    orientation = 'horizontal',\n",
    "    layout = {'width': '500px'}\n",
    ")\n",
    "date_range_slider"
   ]
  },
  {
   "cell_type": "code",
   "execution_count": 195,
   "metadata": {
    "extensions": {
     "jupyter_dashboards": {
      "version": 1,
      "views": {
       "grid_default": {
        "hidden": true
       },
       "report_default": {
        "hidden": true
       }
      }
     }
    },
    "scrolled": false
   },
   "outputs": [
    {
     "data": {
      "application/vnd.jupyter.widget-view+json": {
       "model_id": "00c3662410dd4deebbbd6c5dae140662",
       "version_major": 2,
       "version_minor": 0
      },
      "text/plain": [
       "interactive(children=(SelectionRangeSlider(description='Dates', index=(0, 23), layout=Layout(width='500px'), o…"
      ]
     },
     "metadata": {},
     "output_type": "display_data"
    },
    {
     "data": {
      "text/plain": [
       "<function __main__.plot_ts_usgs(date_range=(datetime.datetime(2017, 8, 1, 0, 0), datetime.datetime(2019, 8, 29, 20, 8, 46, 93069)))>"
      ]
     },
     "execution_count": 195,
     "metadata": {},
     "output_type": "execute_result"
    }
   ],
   "source": [
    "def plot_ts_usgs(date_range=(start_date,end_date)):\n",
    "    fig, axes = plt.subplots(nrows=len(usgs_gage.columns)-1,ncols=1,figsize=(20,30),sharex=True)\n",
    "    i = 0\n",
    "    for property in usgs_gage.columns.drop(['NO3+NO2']):\n",
    "        usgs_gage[property].plot(ax=axes[i],drawstyle='steps-post',legend=True,color='blue')\n",
    "        axes[i].legend([property],loc='upper left')\n",
    "        axes[i].set_xlim(date_range)\n",
    "        i = i+1\n",
    "            \n",
    "interact_manual(plot_ts_usgs,date_range=date_range_slider)"
   ]
  },
  {
   "cell_type": "markdown",
   "metadata": {},
   "source": [
    "## == Greenup and RCBI Locks =="
   ]
  },
  {
   "cell_type": "markdown",
   "metadata": {
    "extensions": {
     "jupyter_dashboards": {
      "version": 1,
      "views": {
       "grid_default": {
        "col": 4,
        "height": 4,
        "hidden": false,
        "row": 72,
        "width": 4
       },
       "report_default": {
        "hidden": false
       }
      }
     }
    }
   },
   "source": [
    "### RC Byrd and Greenup Locks and Dams Time Series Data "
   ]
  },
  {
   "cell_type": "markdown",
   "metadata": {
    "extensions": {
     "jupyter_dashboards": {
      "version": 1,
      "views": {
       "grid_default": {
        "col": 4,
        "height": 4,
        "hidden": false,
        "row": 72,
        "width": 4
       },
       "report_default": {
        "hidden": false
       }
      }
     }
    }
   },
   "source": [
    "#### Get Sonde data\n",
    " * TODO: remove Ironton discharge data and use USGS web service to get it"
   ]
  },
  {
   "cell_type": "code",
   "execution_count": 196,
   "metadata": {
    "extensions": {
     "jupyter_dashboards": {
      "version": 1,
      "views": {
       "grid_default": {
        "hidden": true
       },
       "report_default": {
        "hidden": true
       }
      }
     }
    }
   },
   "outputs": [],
   "source": [
    "locks_all = pd.read_csv('data/Greenup/locks_sonde.csv',encoding='latin1')"
   ]
  },
  {
   "cell_type": "markdown",
   "metadata": {},
   "source": [
    "#### Get PAR data"
   ]
  },
  {
   "cell_type": "code",
   "execution_count": 197,
   "metadata": {
    "extensions": {
     "jupyter_dashboards": {
      "version": 1,
      "views": {
       "grid_default": {
        "hidden": true
       },
       "report_default": {
        "hidden": true
       }
      }
     }
    }
   },
   "outputs": [],
   "source": [
    "locks_par = pd.read_csv('data/Greenup/locks_par.csv',encoding='latin1')"
   ]
  },
  {
   "cell_type": "markdown",
   "metadata": {},
   "source": [
    "#### Create Date-Time field as index"
   ]
  },
  {
   "cell_type": "code",
   "execution_count": 198,
   "metadata": {
    "extensions": {
     "jupyter_dashboards": {
      "version": 1,
      "views": {
       "grid_default": {
        "hidden": true
       },
       "report_default": {
        "hidden": true
       }
      }
     }
    }
   },
   "outputs": [],
   "source": [
    "def datetime_sonde(row):\n",
    "    pattern = '%m/%d/%y-%H:%M:%S'\n",
    "    dt = row['Date (MM/DD/YYYY)']+'-'+row['Time (HH:MM:SS)']\n",
    "    return pd.to_datetime(time.mktime(time.strptime(dt,pattern)),unit='s')\n",
    "    \n",
    "locks_all['Date-Time'] = locks_all.apply(lambda row: datetime_sonde(row),axis=1)\n",
    "locks_all = locks_all.set_index(['Date-Time'])"
   ]
  },
  {
   "cell_type": "code",
   "execution_count": 199,
   "metadata": {
    "extensions": {
     "jupyter_dashboards": {
      "version": 1,
      "views": {
       "grid_default": {
        "hidden": true
       },
       "report_default": {
        "hidden": true
       }
      }
     }
    }
   },
   "outputs": [],
   "source": [
    "def datetime_par(row):\n",
    "    pattern = '%m/%d/%y-%H:%M:%S %p'\n",
    "    dt = row['Date']+'-'+row['Time']\n",
    "    return pd.to_datetime(time.mktime(time.strptime(dt,pattern)),unit='s')\n",
    "    \n",
    "locks_par['Date-Time'] = locks_par.apply(lambda row: datetime_par(row),axis=1)\n",
    "locks_par = locks_par.set_index(['Date-Time'])"
   ]
  },
  {
   "cell_type": "markdown",
   "metadata": {
    "extensions": {
     "jupyter_dashboards": {
      "version": 1,
      "views": {
       "grid_default": {},
       "report_default": {
        "hidden": false
       }
      }
     }
    }
   },
   "source": [
    "#### Filter out Sonde data with zero values for conductivity-related measures (use salinity as indicator)"
   ]
  },
  {
   "cell_type": "code",
   "execution_count": 200,
   "metadata": {
    "extensions": {
     "jupyter_dashboards": {
      "version": 1,
      "views": {
       "grid_default": {},
       "report_default": {
        "hidden": true
       }
      }
     }
    }
   },
   "outputs": [],
   "source": [
    "locks_all = locks_all[locks_all['Sal psu'] != 0]"
   ]
  },
  {
   "cell_type": "code",
   "execution_count": 201,
   "metadata": {},
   "outputs": [],
   "source": [
    "locks_all['Chlorophyll µg/L'] = locks_all['Chlorophyll µg/L'].apply(lambda x: 0.0 if x < 0.0 else x)\n",
    "locks_all['BGA-PC µg/L'] = locks_all['BGA-PC µg/L'].apply(lambda x: 0.1 if x < 0.1 else x)"
   ]
  },
  {
   "cell_type": "code",
   "execution_count": 202,
   "metadata": {},
   "outputs": [],
   "source": [
    "locks_all['Chlorophyll/BGA'] = locks_all.apply(lambda x: x['Chlorophyll µg/L']/x['BGA-PC µg/L'], axis=1)"
   ]
  },
  {
   "cell_type": "markdown",
   "metadata": {
    "extensions": {
     "jupyter_dashboards": {
      "version": 1,
      "views": {
       "grid_default": {},
       "report_default": {
        "hidden": false
       }
      }
     }
    }
   },
   "source": [
    "#### Drop non-data columns, TSS (all NaN), and redunctant columns (chlorophyll, BGA, conductivity, salinity, pH, depth) from Sonde data\n",
    " * TODO: Try using Zip of desired columns instead of dropping everything else"
   ]
  },
  {
   "cell_type": "code",
   "execution_count": 203,
   "metadata": {
    "extensions": {
     "jupyter_dashboards": {
      "version": 1,
      "views": {
       "grid_default": {
        "hidden": true
       },
       "report_default": {
        "hidden": true
       }
      }
     }
    }
   },
   "outputs": [],
   "source": [
    "locks_all_dataonly = locks_all.drop(locks_all.columns[:7],axis=1).drop('Wiper Pos V',axis=1) \\\n",
    "    .drop('TSS mg/L',axis=1) \\\n",
    "    .drop('ODO % sat',axis=1).drop('Chlorophyll RFU',axis=1).drop('BGA-PC RFU',axis=1) \\\n",
    "    .drop(locks_all.columns[[15,17,18]],axis=1).drop('Sal psu',axis=1).drop('pH mV',axis=1).drop('Press psi a',axis=1)"
   ]
  },
  {
   "cell_type": "code",
   "execution_count": 204,
   "metadata": {
    "extensions": {
     "jupyter_dashboards": {
      "version": 1,
      "views": {
       "grid_default": {
        "hidden": true
       },
       "report_default": {
        "hidden": true
       }
      }
     }
    }
   },
   "outputs": [],
   "source": [
    "rcb_only = locks_all[locks_all['Site Name'].str.contains('RCB')==True]\n",
    "greenup_only = locks_all[locks_all['Site Name'].str.contains('Greenup')==True]\n",
    "rcb_dataonly = rcb_only.drop(rcb_only.columns[:7],axis=1).drop('Wiper Pos V',axis=1).drop('TSS mg/L',axis=1)\n",
    "greenup_dataonly = greenup_only.drop(greenup_only.columns[:7],axis=1).drop('Wiper Pos V',axis=1).drop('TSS mg/L',axis=1)"
   ]
  },
  {
   "cell_type": "markdown",
   "metadata": {},
   "source": [
    "#### Filter out (truncate) very large PAR values (>2000)"
   ]
  },
  {
   "cell_type": "code",
   "execution_count": 205,
   "metadata": {},
   "outputs": [],
   "source": [
    "locks_par['PAR_rcb'] = locks_par['PAR_rcb'].apply(lambda x: np.NaN if x > 2000.0 else x)\n",
    "locks_par['PAR_greenup'] = locks_par['PAR_greenup'].apply(lambda x: np.NaN if x > 2000.0 else x)"
   ]
  },
  {
   "cell_type": "markdown",
   "metadata": {},
   "source": [
    "<div id='locks_plots'></div>"
   ]
  },
  {
   "cell_type": "markdown",
   "metadata": {},
   "source": [
    "### Plots for Sonde and PAR data at Locks "
   ]
  },
  {
   "cell_type": "markdown",
   "metadata": {
    "extensions": {
     "jupyter_dashboards": {
      "version": 1,
      "views": {
       "grid_default": {},
       "report_default": {
        "hidden": false
       }
      }
     }
    }
   },
   "source": [
    "#### Distribution plots for Sonde data"
   ]
  },
  {
   "cell_type": "code",
   "execution_count": 206,
   "metadata": {
    "extensions": {
     "jupyter_dashboards": {
      "version": 1,
      "views": {
       "grid_default": {
        "col": 0,
        "height": 14,
        "hidden": false,
        "row": 84,
        "width": 4
       },
       "report_default": {
        "hidden": false
       }
      }
     }
    }
   },
   "outputs": [
    {
     "data": {
      "application/vnd.jupyter.widget-view+json": {
       "model_id": "27d892c032c4474f9ba2923fa20f7cd4",
       "version_major": 2,
       "version_minor": 0
      },
      "text/plain": [
       "interactive(children=(Dropdown(description='Property', options=('ODO mg/L', 'Chlorophyll µg/L', 'BGA-PC µg/L',…"
      ]
     },
     "metadata": {},
     "output_type": "display_data"
    },
    {
     "data": {
      "text/plain": [
       "<function __main__.dist_plot_ts(Property, Site='RCB', Kind='kde')>"
      ]
     },
     "execution_count": 206,
     "metadata": {},
     "output_type": "execute_result"
    }
   ],
   "source": [
    "def dist_plot_ts(Property,Site='RCB',Kind='kde'):\n",
    "    if ((Site=='RCB') | (Site=='Both')):\n",
    "        rcb_dataonly[Property].plot(kind=Kind,color='blue')\n",
    "    if ((Site=='Greenup') | (Site=='Both')):\n",
    "        greenup_dataonly[Property].plot(kind=Kind,color='green')\n",
    "        \n",
    "interact(dist_plot_ts, \\\n",
    "         Property=locks_all_dataonly.columns, \\\n",
    "         Site=['RCB','Greenup','Both'], \\\n",
    "         Kind=['hist','kde','box'] \\\n",
    "        )"
   ]
  },
  {
   "cell_type": "markdown",
   "metadata": {},
   "source": [
    "#### Distribution plots for PAR data"
   ]
  },
  {
   "cell_type": "code",
   "execution_count": 207,
   "metadata": {
    "extensions": {
     "jupyter_dashboards": {
      "version": 1,
      "views": {
       "grid_default": {
        "col": 0,
        "height": 14,
        "hidden": false,
        "row": 84,
        "width": 4
       },
       "report_default": {
        "hidden": false
       }
      }
     }
    }
   },
   "outputs": [
    {
     "data": {
      "application/vnd.jupyter.widget-view+json": {
       "model_id": "6d400a710db04496ae00820574fe2646",
       "version_major": 2,
       "version_minor": 0
      },
      "text/plain": [
       "interactive(children=(Dropdown(description='Site', options=('RCB', 'Greenup', 'Both'), value='RCB'), Dropdown(…"
      ]
     },
     "metadata": {},
     "output_type": "display_data"
    },
    {
     "data": {
      "text/plain": [
       "<function __main__.dist_plot_par(Site='rcb', Kind='kde')>"
      ]
     },
     "execution_count": 207,
     "metadata": {},
     "output_type": "execute_result"
    }
   ],
   "source": [
    "def dist_plot_par(Site='rcb',Kind='kde'):\n",
    "    if ((Site=='RCB') | (Site=='Both')):\n",
    "        locks_par[\"PAR_rcb\"].plot(kind=Kind,color='blue')\n",
    "    if ((Site=='Greenup') | (Site=='Both')):\n",
    "        locks_par[\"PAR_greenup\"].plot(kind=Kind,color='green')\n",
    "        \n",
    "interact(dist_plot_par, \\\n",
    "         Site=['RCB','Greenup','Both'], \\\n",
    "         Kind=['hist','kde','box'] \\\n",
    "        )"
   ]
  },
  {
   "cell_type": "markdown",
   "metadata": {
    "extensions": {
     "jupyter_dashboards": {
      "version": 1,
      "views": {
       "grid_default": {},
       "report_default": {
        "hidden": false
       }
      }
     }
    }
   },
   "source": [
    "#### Scatter (correlation) plots for all Sonde data"
   ]
  },
  {
   "cell_type": "code",
   "execution_count": 208,
   "metadata": {
    "extensions": {
     "jupyter_dashboards": {
      "version": 1,
      "views": {
       "grid_default": {
        "col": 4,
        "height": 14,
        "hidden": false,
        "row": 84,
        "width": 4
       },
       "report_default": {
        "hidden": false
       }
      }
     }
    }
   },
   "outputs": [
    {
     "data": {
      "application/vnd.jupyter.widget-view+json": {
       "model_id": "e0748993bfa0401f9b25bc0c566350b3",
       "version_major": 2,
       "version_minor": 0
      },
      "text/plain": [
       "interactive(children=(Dropdown(description='YProperty', options=('ODO mg/L', 'Chlorophyll µg/L', 'BGA-PC µg/L'…"
      ]
     },
     "metadata": {},
     "output_type": "display_data"
    },
    {
     "data": {
      "text/plain": [
       "<function __main__.scatter_plot_timeseries(YProperty='ODO mg/L', XProperty='Chlorophyll µg/L', CProperty='Temp °C', ColorMap='jet')>"
      ]
     },
     "execution_count": 208,
     "metadata": {},
     "output_type": "execute_result"
    }
   ],
   "source": [
    "def scatter_plot_timeseries(YProperty=locks_all_dataonly.columns[0],XProperty=locks_all_dataonly.columns[1],CProperty=locks_all_dataonly.columns[3],ColorMap='jet'):\n",
    "    fig, ax = plt.subplots()\n",
    "    locks_all_dataonly.plot.scatter(ax=ax,x=XProperty,y=YProperty,c=CProperty,cmap=ColorMap,s=1)\n",
    "    ax.set_title(\"Correlation of \"+YProperty+\" and \"+XProperty,fontsize=14)\n",
    "    \n",
    "interact(scatter_plot_timeseries, \\\n",
    "         YProperty=locks_all_dataonly.columns, \\\n",
    "         XProperty=locks_all_dataonly.columns, \\\n",
    "         CProperty=locks_all_dataonly.columns, \\\n",
    "         ColorMap=['jet','viridis','magma','coolwarm','seismic','Greys','Reds','Blues'] \\\n",
    "        )"
   ]
  },
  {
   "cell_type": "markdown",
   "metadata": {
    "extensions": {
     "jupyter_dashboards": {
      "version": 1,
      "views": {
       "grid_default": {},
       "report_default": {
        "hidden": false
       }
      }
     }
    }
   },
   "source": [
    "#### Scatter (correlation) plots for PAR data between locks"
   ]
  },
  {
   "cell_type": "code",
   "execution_count": 209,
   "metadata": {},
   "outputs": [
    {
     "data": {
      "text/plain": [
       "Text(0.5, 1.0, 'Correlation of PAR data between locks')"
      ]
     },
     "execution_count": 209,
     "metadata": {},
     "output_type": "execute_result"
    },
    {
     "data": {
      "image/png": "[encoded data removed]",
      "text/plain": [
       "<Figure size 432x288 with 1 Axes>"
      ]
     },
     "metadata": {
      "needs_background": "light"
     },
     "output_type": "display_data"
    }
   ],
   "source": [
    "fig, ax = plt.subplots()\n",
    "locks_par.plot.scatter(ax=ax,x='PAR_rcb',y='PAR_greenup')\n",
    "ax.set_title(\"Correlation of PAR data between locks\",fontsize=14)"
   ]
  },
  {
   "cell_type": "markdown",
   "metadata": {
    "extensions": {
     "jupyter_dashboards": {
      "version": 1,
      "views": {
       "grid_default": {},
       "report_default": {
        "hidden": false
       }
      }
     }
    }
   },
   "source": [
    "#### Get Sonde deployment data"
   ]
  },
  {
   "cell_type": "code",
   "execution_count": 210,
   "metadata": {
    "extensions": {
     "jupyter_dashboards": {
      "version": 1,
      "views": {
       "grid_default": {
        "hidden": true
       },
       "report_default": {
        "hidden": true
       }
      }
     }
    }
   },
   "outputs": [],
   "source": [
    "sonde_deployments = pd.read_csv('data/Greenup/sonde_deployments.csv',encoding='latin1')\n",
    "sonde_deployments = sonde_deployments.drop(sonde_deployments.columns[9:],axis=1)\n",
    "sonde_deployments = sonde_deployments.dropna(thresh=6)\n",
    "#sonde_deployments.columns"
   ]
  },
  {
   "cell_type": "markdown",
   "metadata": {
    "extensions": {
     "jupyter_dashboards": {
      "version": 1,
      "views": {
       "grid_default": {},
       "report_default": {
        "hidden": false
       }
      }
     }
    }
   },
   "source": [
    "#### Index with Date-Time"
   ]
  },
  {
   "cell_type": "code",
   "execution_count": 211,
   "metadata": {
    "extensions": {
     "jupyter_dashboards": {
      "version": 1,
      "views": {
       "grid_default": {
        "hidden": true
       },
       "report_default": {
        "hidden": true
       }
      }
     }
    }
   },
   "outputs": [],
   "source": [
    "def datetime_sonde2(row):\n",
    "    pattern = '%m/%d/%y-%H:%M:%S'\n",
    "    dt = row['Date ']+'-'+row['Time']\n",
    "    return pd.to_datetime(time.mktime(time.strptime(dt,pattern)),unit='s')\n",
    "    \n",
    "sonde_deployments['Date-Time'] = sonde_deployments.apply(lambda row: datetime_sonde2(row),axis=1)\n",
    "sonde_deployments = sonde_deployments.set_index(['Date-Time'])\n",
    "rcb_sonde_deployments = sonde_deployments[sonde_deployments['Location ']=='RCB']\n",
    "greenup_sonde_deployments = sonde_deployments[sonde_deployments['Location ']=='Greenup']"
   ]
  },
  {
   "cell_type": "markdown",
   "metadata": {
    "extensions": {
     "jupyter_dashboards": {
      "version": 1,
      "views": {
       "grid_default": {},
       "report_default": {
        "hidden": false
       }
      }
     }
    }
   },
   "source": [
    "#### Disable scrolling for time series plots"
   ]
  },
  {
   "cell_type": "code",
   "execution_count": 212,
   "metadata": {
    "extensions": {
     "jupyter_dashboards": {
      "version": 1,
      "views": {
       "grid_default": {},
       "report_default": {
        "hidden": true
       }
      }
     }
    }
   },
   "outputs": [
    {
     "data": {
      "application/javascript": [
       "IPython.OutputArea.prototype._should_scroll = function(lines) {\n",
       "    return false;\n",
       "}\n"
      ],
      "text/plain": [
       "<IPython.core.display.Javascript object>"
      ]
     },
     "metadata": {},
     "output_type": "display_data"
    }
   ],
   "source": [
    "%%javascript\n",
    "IPython.OutputArea.prototype._should_scroll = function(lines) {\n",
    "    return false;\n",
    "}"
   ]
  },
  {
   "cell_type": "markdown",
   "metadata": {
    "extensions": {
     "jupyter_dashboards": {
      "version": 1,
      "views": {
       "grid_default": {},
       "report_default": {
        "hidden": false
       }
      }
     }
    }
   },
   "source": [
    "### Interactive timeseries plots for Sonde data, including transect data and sonde deployments"
   ]
  },
  {
   "cell_type": "code",
   "execution_count": 213,
   "metadata": {
    "extensions": {
     "jupyter_dashboards": {
      "version": 1,
      "views": {
       "grid_default": {
        "col": 8,
        "height": 27,
        "hidden": false,
        "row": 84,
        "width": 4
       },
       "report_default": {
        "hidden": false
       }
      }
     }
    },
    "scrolled": false
   },
   "outputs": [
    {
     "data": {
      "application/vnd.jupyter.widget-view+json": {
       "model_id": "4158d0899ede4add8425d75cdb075295",
       "version_major": 2,
       "version_minor": 0
      },
      "text/plain": [
       "interactive(children=(Dropdown(description='Site', index=2, options=('RCB', 'Greenup', 'Both'), value='Both'),…"
      ]
     },
     "metadata": {},
     "output_type": "display_data"
    },
    {
     "data": {
      "text/plain": [
       "<function __main__.plot_ts_all(Site='Both', date_range=(datetime.datetime(2017, 8, 1, 0, 0), datetime.datetime(2019, 8, 29, 20, 8, 46, 93069)))>"
      ]
     },
     "execution_count": 213,
     "metadata": {},
     "output_type": "execute_result"
    }
   ],
   "source": [
    "def plot_ts_all(Site='Both',date_range=(start_date,end_date)):\n",
    "    fig, axes = plt.subplots(nrows=len(locks_all_dataonly.columns)+1,ncols=1,figsize=(20,60),sharex=True)\n",
    "    i = 0\n",
    "    for property in locks_all_dataonly.columns:\n",
    "        if ((Site=='RCB') | (Site=='Both')):\n",
    "            rcb_dataonly[property].plot(ax=axes[i],drawstyle='steps-post',legend=True,color='blue')\n",
    "        if ((Site=='Greenup') | (Site=='Both')):\n",
    "            greenup_dataonly[property].plot(ax=axes[i],drawstyle='steps-post',legend=True,color='green')\n",
    "        if (property!='Depth m'):\n",
    "            transects_sonde_par[property].plot(ax=axes[i],color='red',marker='o',linestyle='',ms=2)\n",
    "        if (Site=='Both'):\n",
    "            axes[i].legend([property+' at RCB',property+' at Greenup',property+' at transects'],loc='upper left')\n",
    "        else:\n",
    "            axes[i].legend([property+' at '+Site,property+' at transects'],loc='upper left')\n",
    "        axes[i].set_xlim(date_range)\n",
    "        i = i+1\n",
    "        \n",
    "    if ((Site=='RCB') | (Site=='Both')):\n",
    "        rcb_sonde_deployments['Sonde in Place Now'].plot(ax=axes[i],drawstyle='steps',color='blue')\n",
    "    if ((Site=='Greenup') | (Site=='Both')):\n",
    "        greenup_sonde_deployments['Sonde in Place Now'].plot(ax=axes[i],drawstyle='steps',color='green')\n",
    "    if (Site=='Both'):\n",
    "        axes[i].legend(['Sonde in place at RCB','Sonde in place at Greenup'],loc='upper left')\n",
    "    else:\n",
    "        axes[i].legend(['Sonde in Place at '+Site],loc='upper left')\n",
    "    axes[i].set_xlim(date_range)\n",
    "    axes[i].set_ylim(0,5.0)\n",
    "    \n",
    "interact_manual(plot_ts_all,Site=['RCB','Greenup','Both'],date_range=date_range_slider)"
   ]
  },
  {
   "cell_type": "markdown",
   "metadata": {
    "extensions": {
     "jupyter_dashboards": {
      "version": 1,
      "views": {
       "grid_default": {},
       "report_default": {
        "hidden": false
       }
      }
     }
    }
   },
   "source": [
    "### Timeseries plots for PAR data, including transects"
   ]
  },
  {
   "cell_type": "code",
   "execution_count": 214,
   "metadata": {
    "extensions": {
     "jupyter_dashboards": {
      "version": 1,
      "views": {
       "grid_default": {
        "col": 8,
        "height": 27,
        "hidden": false,
        "row": 84,
        "width": 4
       },
       "report_default": {
        "hidden": false
       }
      }
     }
    },
    "scrolled": false
   },
   "outputs": [
    {
     "data": {
      "application/vnd.jupyter.widget-view+json": {
       "model_id": "cec34b03cdf244dca7d9aece878c58b1",
       "version_major": 2,
       "version_minor": 0
      },
      "text/plain": [
       "interactive(children=(Dropdown(description='Site', index=2, options=('RCB', 'Greenup', 'Both'), value='Both'),…"
      ]
     },
     "metadata": {},
     "output_type": "display_data"
    },
    {
     "data": {
      "text/plain": [
       "<function __main__.plot_ts_par(Site='Both', date_range=(datetime.datetime(2017, 8, 1, 0, 0), datetime.datetime(2019, 8, 29, 20, 8, 46, 93069)))>"
      ]
     },
     "execution_count": 214,
     "metadata": {},
     "output_type": "execute_result"
    }
   ],
   "source": [
    "def plot_ts_par(Site='Both',date_range=(start_date,end_date)):\n",
    "    fig, ax = plt.subplots(figsize=(20,5))\n",
    "    if ((Site=='RCB') | (Site=='Both')):\n",
    "        locks_par['PAR_rcb'].plot(ax=ax,marker='o',linestyle='',ms=1,legend=True,color='blue')\n",
    "    if ((Site=='Greenup') | (Site=='Both')):\n",
    "        locks_par['PAR_greenup'].plot(ax=ax,marker='o',linestyle='',ms=1,legend=True,color='green')\n",
    "    transects_sonde_par['PAR'].plot(ax=ax,color='red',marker='o',linestyle='',ms=2)\n",
    "    if (Site=='Both'):\n",
    "        ax.legend(['PAR at RCB','PAR at Greenup','PAR at transects'],loc='upper left')\n",
    "    else:\n",
    "        ax.legend(['PAR at '+Site,'PAR at transects'],loc='upper left')\n",
    "    ax.set_xlim(date_range)\n",
    "    \n",
    "interact(plot_ts_par,Site=['RCB','Greenup','Both'],date_range=date_range_slider)"
   ]
  },
  {
   "cell_type": "markdown",
   "metadata": {
    "extensions": {
     "jupyter_dashboards": {
      "version": 1,
      "views": {
       "grid_default": {},
       "report_default": {
        "hidden": false
       }
      }
     }
    }
   },
   "source": [
    "### Resample timeseries data"
   ]
  },
  {
   "cell_type": "code",
   "execution_count": 215,
   "metadata": {
    "extensions": {
     "jupyter_dashboards": {
      "version": 1,
      "views": {
       "grid_default": {},
       "report_default": {
        "hidden": true
       }
      }
     }
    }
   },
   "outputs": [],
   "source": [
    "rcb_resampled_means = rcb_dataonly.resample('12H').mean()\n",
    "greenup_resampled_means = greenup_dataonly.resample('12H').mean()\n",
    "locks_par_means = locks_par.resample('12H').mean()\n",
    "usgs_gage_means = usgs_gage.resample('12H').mean()\n",
    "transects_resampled = transects_sonde_par.resample('12H')\n",
    "transects_resampled_means = transects_resampled.mean()\n",
    "transects_resampled_max = transects_resampled.max()\n",
    "transects_resampled_min = transects_resampled.min()"
   ]
  },
  {
   "cell_type": "code",
   "execution_count": null,
   "metadata": {},
   "outputs": [],
   "source": []
  },
  {
   "cell_type": "raw",
   "metadata": {},
   "source": []
  },
  {
   "cell_type": "markdown",
   "metadata": {},
   "source": [
    "### TODO: \n",
    " * Add PAR data\n",
    " * Create time-series plot similar the ones below, but provide interactive menus for\n",
    "   * Property to plot\n",
    "   * RCB, Greenup, or Both\n",
    "   * Options to include (if available):\n",
    "     * Ironton gage data\n",
    "     * Transects\n",
    "     * Sonde deployments"
   ]
  },
  {
   "cell_type": "code",
   "execution_count": 216,
   "metadata": {
    "extensions": {
     "jupyter_dashboards": {
      "version": 1,
      "views": {
       "grid_default": {
        "hidden": true
       },
       "report_default": {
        "hidden": true
       }
      }
     }
    },
    "scrolled": false
   },
   "outputs": [
    {
     "data": {
      "application/vnd.jupyter.widget-view+json": {
       "model_id": "30319c1e66b64dd9b3405fdb6b0eb374",
       "version_major": 2,
       "version_minor": 0
      },
      "text/plain": [
       "interactive(children=(Dropdown(description='Site', index=2, options=('RCB', 'Greenup', 'Both'), value='Both'),…"
      ]
     },
     "metadata": {},
     "output_type": "display_data"
    },
    {
     "data": {
      "text/plain": [
       "<function __main__.plot_ts_all(Site='Both', date_range=(datetime.datetime(2017, 8, 1, 0, 0), datetime.datetime(2019, 8, 29, 20, 8, 46, 93069)))>"
      ]
     },
     "execution_count": 216,
     "metadata": {},
     "output_type": "execute_result"
    }
   ],
   "source": [
    "def plot_ts_all(Site='Both',date_range=(start_date,end_date)):\n",
    "    fig, axes = plt.subplots(nrows=len(locks_all_dataonly.columns)+3,ncols=1,figsize=(20,60),sharex=True)\n",
    "    i = 0\n",
    "    for property in locks_all_dataonly.columns:\n",
    "        if ((Site=='RCB') | (Site=='Both')):\n",
    "            rcb_resampled_means[property].plot(ax=axes[i],drawstyle='steps-post',legend=True,color='blue')\n",
    "        if ((Site=='Greenup') | (Site=='Both')):\n",
    "            greenup_resampled_means[property].plot(ax=axes[i],drawstyle='steps-post',legend=True,color='green')\n",
    "        if (property!='Depth m'):\n",
    "            transects_resampled_means[property].plot(ax=axes[i],color='red',marker='o',linestyle='',ms=4)\n",
    "            transects_resampled_max[property].plot(ax=axes[i],color='red',marker='+',linestyle='',ms=4)\n",
    "            transects_resampled_min[property].plot(ax=axes[i],color='red',marker='+',linestyle='',ms=4)\n",
    "            for k, row in transects_resampled_means.iterrows():\n",
    "                if (math.isfinite(row[property])):\n",
    "                    axes[i].text(k, row[property], str(int(row['T Pos'])), fontsize=12)\n",
    "        elif (Site=='Both'):\n",
    "            axes[i].legend([property+' at RCB',property+' at Greenup',property+' at transects'],loc='upper left')\n",
    "        else:\n",
    "            axes[i].legend([property+' at '+Site,property+' at transects'],loc='upper left')\n",
    "        axes[i].set_xlim(date_range)\n",
    "        i = i+1\n",
    "        \n",
    "    usgs_gage_means['Discharge'].plot(ax=axes[i],drawstyle='steps-post',legend=True,color='orange')   \n",
    "    axes[i].legend(['Discharge CFS at Ironton'],loc='upper left')            \n",
    "    i = i+1\n",
    "       \n",
    "    if ((Site=='RCB') | (Site=='Both')):\n",
    "        locks_par_means['PAR_rcb'].plot(ax=axes[i],marker='o',linestyle='',ms=2,legend=True,color='blue')\n",
    "    if ((Site=='Greenup') | (Site=='Both')):\n",
    "        locks_par_means['PAR_greenup'].plot(ax=axes[i],marker='o',linestyle='',ms=2,legend=True,color='green')  \n",
    "    transects_resampled_means['PAR'].plot(ax=axes[i],color='red',marker='o',linestyle='',ms=4)\n",
    "    transects_resampled_max['PAR'].plot(ax=axes[i],color='red',marker='+',linestyle='',ms=4)\n",
    "    transects_resampled_min['PAR'].plot(ax=axes[i],color='red',marker='+',linestyle='',ms=4)\n",
    "    for k, row in transects_resampled_means.iterrows():\n",
    "        if (math.isfinite(row['PAR'])):\n",
    "            axes[i].text(k, row['PAR'], str(int(row['T Pos'])), fontsize=12)\n",
    "\n",
    "    if (Site=='Both'):\n",
    "        axes[i].legend(['PAR at RCB','PAR at Greenup','PAR at transects'],loc='upper left')\n",
    "    else:\n",
    "        axes[i].legend(['PAR at '+Site,'PAR at transects'],loc='upper left')\n",
    "    axes[i].set_xlim(date_range)\n",
    "    i = i+1\n",
    "        \n",
    "    if ((Site=='RCB') | (Site=='Both')):\n",
    "        rcb_sonde_deployments['Sonde in Place Now'].plot(ax=axes[i],drawstyle='steps',color='blue')\n",
    "    if ((Site=='Greenup') | (Site=='Both')):\n",
    "        greenup_sonde_deployments['Sonde in Place Now'].plot(ax=axes[i],drawstyle='steps',color='green')\n",
    "    if (Site=='Both'):\n",
    "        axes[i].legend(['Sonde in place at RCB','Sonde in place at Greenup'],loc='upper left')\n",
    "    else:\n",
    "        axes[i].legend(['Sonde in Place at '+Site],loc='upper left')\n",
    "    axes[i].set_xlim(date_range)\n",
    "    axes[i].set_ylim(0,5.0)\n",
    "    \n",
    "interact_manual(plot_ts_all,Site=['RCB','Greenup','Both'],date_range=date_range_slider)"
   ]
  },
  {
   "cell_type": "markdown",
   "metadata": {},
   "source": [
    "## Merge RCB and Greenup resampled means"
   ]
  },
  {
   "cell_type": "code",
   "execution_count": 217,
   "metadata": {
    "extensions": {
     "jupyter_dashboards": {
      "version": 1,
      "views": {
       "grid_default": {},
       "report_default": {
        "hidden": true
       }
      }
     }
    }
   },
   "outputs": [],
   "source": [
    "locks_resampled_means = pd.merge(rcb_resampled_means, greenup_resampled_means, how='outer', left_index=True, right_index=True, suffixes=('_rcb','_greenup'))\n",
    "locks_resampled_means.to_csv(\"data/Greenup/out/locks_resampled_means.csv\")"
   ]
  },
  {
   "cell_type": "markdown",
   "metadata": {
    "extensions": {
     "jupyter_dashboards": {
      "version": 1,
      "views": {
       "grid_default": {},
       "report_default": {
        "hidden": false
       }
      }
     }
    }
   },
   "source": [
    "### Cross correlation between RC Byrd and Greenup Locks readings"
   ]
  },
  {
   "cell_type": "code",
   "execution_count": 218,
   "metadata": {
    "extensions": {
     "jupyter_dashboards": {
      "version": 1,
      "views": {
       "grid_default": {
        "hidden": true
       },
       "report_default": {
        "hidden": true
       }
      }
     }
    }
   },
   "outputs": [
    {
     "data": {
      "application/vnd.jupyter.widget-view+json": {
       "model_id": "2df476787b7c4dabbada081e39845e12",
       "version_major": 2,
       "version_minor": 0
      },
      "text/plain": [
       "interactive(children=(Dropdown(description='Property', options=('ODO mg/L', 'Chlorophyll µg/L', 'BGA-PC µg/L',…"
      ]
     },
     "metadata": {},
     "output_type": "display_data"
    },
    {
     "data": {
      "text/plain": [
       "<function __main__.scatter_plot_cross_timeseries(Property, CProperty='Temp °C', ColorMap='jet')>"
      ]
     },
     "execution_count": 218,
     "metadata": {},
     "output_type": "execute_result"
    }
   ],
   "source": [
    "def scatter_plot_cross_timeseries(Property,CProperty='Temp °C',ColorMap='jet'):\n",
    "    fig, ax = plt.subplots()\n",
    "    locks_resampled_means.plot.scatter(ax=ax,x=Property+'_rcb',y=Property+'_greenup',c=CProperty+'_rcb',cmap=ColorMap,s=1)\n",
    "    ax.set_title(\"Correlation of \"+Property+\" at RCB and Greenup Locks\",fontsize=14)\n",
    "    \n",
    "interact(scatter_plot_cross_timeseries, \\\n",
    "         Property=locks_all_dataonly.columns, \\\n",
    "         CProperty=locks_all_dataonly.columns, \\\n",
    "         ColorMap=['jet','viridis','magma','coolwarm','seismic','Greys','Reds','Blues'] \\\n",
    "        )"
   ]
  },
  {
   "cell_type": "markdown",
   "metadata": {},
   "source": [
    "## Merge Locks and USGS Gage data\n",
    " * TODO: \n",
    "   * Only merge Discharge data until issues (column mismatches) are resolved\n",
    "   * Estimate Locks discharge from Ironton gage data\n",
    "   * Move this up after reading Locks data"
   ]
  },
  {
   "cell_type": "code",
   "execution_count": 219,
   "metadata": {
    "extensions": {
     "jupyter_dashboards": {
      "version": 1,
      "views": {
       "grid_default": {
        "hidden": true
       },
       "report_default": {
        "hidden": true
       }
      }
     }
    }
   },
   "outputs": [],
   "source": [
    "locks_usgs_resampled_means = pd.merge(locks_resampled_means, usgs_gage_means, how='outer', left_index=True, right_index=True, suffixes=('','_ironton'))\n",
    "locks_usgs_resampled_means.to_csv(\"data/Greenup/out/locks_usgs_resampled_means.csv\")"
   ]
  },
  {
   "cell_type": "markdown",
   "metadata": {
    "extensions": {
     "jupyter_dashboards": {
      "version": 1,
      "views": {
       "grid_default": {},
       "report_default": {
        "hidden": false
       }
      }
     }
    }
   },
   "source": [
    "### Correlation between Locks and Ironton gage data"
   ]
  },
  {
   "cell_type": "code",
   "execution_count": 235,
   "metadata": {
    "extensions": {
     "jupyter_dashboards": {
      "version": 1,
      "views": {
       "grid_default": {
        "hidden": true
       },
       "report_default": {
        "hidden": true
       }
      }
     }
    }
   },
   "outputs": [
    {
     "data": {
      "application/vnd.jupyter.widget-view+json": {
       "model_id": "e274a7320ae840308db2708ffd8712f9",
       "version_major": 2,
       "version_minor": 0
      },
      "text/plain": [
       "interactive(children=(Dropdown(description='YProperty', options=('ODO % sat_rcb', 'ODO mg/L_rcb', 'Chlorophyll…"
      ]
     },
     "metadata": {},
     "output_type": "display_data"
    },
    {
     "data": {
      "text/plain": [
       "<function __main__.scatter_plot_cross_all_timeseries(YProperty, XProperty, CProperty='Temp °C', ColorMap='jet')>"
      ]
     },
     "execution_count": 235,
     "metadata": {},
     "output_type": "execute_result"
    }
   ],
   "source": [
    "def scatter_plot_cross_all_timeseries(YProperty,XProperty,CProperty='Temp °C',ColorMap='jet'):\n",
    "    fig, ax = plt.subplots()\n",
    "    locks_usgs_resampled_means.plot.scatter(ax=ax,x=XProperty,y=YProperty,c=CProperty,cmap=ColorMap,s=4)\n",
    "    ax.set_title(\"RCB and Greenup Locks vs Ironton Gage\",fontsize=14)\n",
    "    \n",
    "interact(scatter_plot_cross_all_timeseries, \\\n",
    "         YProperty=locks_resampled_means.columns, \\\n",
    "         XProperty=usgs_gage_means.columns, \\\n",
    "         CProperty=locks_usgs_resampled_means.columns, \\\n",
    "         ColorMap=['jet','viridis','magma','coolwarm','seismic','Greys','Reds','Blues'] \\\n",
    "        )"
   ]
  },
  {
   "cell_type": "markdown",
   "metadata": {},
   "source": [
    "## Merge Locks Sonde and PAR, and USGS gage data"
   ]
  },
  {
   "cell_type": "code",
   "execution_count": 221,
   "metadata": {
    "extensions": {
     "jupyter_dashboards": {
      "version": 1,
      "views": {
       "grid_default": {
        "hidden": true
       },
       "report_default": {
        "hidden": true
       }
      }
     }
    }
   },
   "outputs": [],
   "source": [
    "locks_par_usgs_resampled_means = pd.merge(locks_usgs_resampled_means, locks_par_means, how='outer', left_index=True, right_index=True)\n",
    "locks_par_usgs_resampled_means.to_csv(\"data/Greenup/out/locks_par_usgs_resampled_means.csv\")"
   ]
  },
  {
   "cell_type": "code",
   "execution_count": 222,
   "metadata": {
    "extensions": {
     "jupyter_dashboards": {
      "version": 1,
      "views": {
       "grid_default": {
        "hidden": true
       },
       "report_default": {
        "hidden": true
       }
      }
     }
    }
   },
   "outputs": [
    {
     "data": {
      "application/vnd.jupyter.widget-view+json": {
       "model_id": "5d57c890c5944bd891f6ebd88c951f31",
       "version_major": 2,
       "version_minor": 0
      },
      "text/plain": [
       "interactive(children=(Dropdown(description='YProperty', options=('ODO % sat_rcb', 'ODO mg/L_rcb', 'Chlorophyll…"
      ]
     },
     "metadata": {},
     "output_type": "display_data"
    },
    {
     "data": {
      "text/plain": [
       "<function __main__.scatter_plot_locks_par_usgs(YProperty, XProperty, CProperty='Temp °C_rcb', ColorMap='jet')>"
      ]
     },
     "execution_count": 222,
     "metadata": {},
     "output_type": "execute_result"
    }
   ],
   "source": [
    "def scatter_plot_locks_par_usgs(YProperty,XProperty,CProperty='Temp °C_rcb',ColorMap='jet'):\n",
    "    fig, ax = plt.subplots()\n",
    "    locks_par_usgs_resampled_means.plot.scatter(ax=ax,x=XProperty,y=YProperty,c=CProperty,cmap=ColorMap,s=1)\n",
    "    ax.set_title(\"RCB and Greenup Locks vs Ironton Gage\",fontsize=14)\n",
    "    \n",
    "interact(scatter_plot_locks_par_usgs, \\\n",
    "         YProperty=locks_par_usgs_resampled_means.columns, \\\n",
    "         XProperty=locks_par_usgs_resampled_means.columns, \\\n",
    "         CProperty=locks_par_usgs_resampled_means.columns, \\\n",
    "         ColorMap=['jet','viridis','magma','coolwarm','seismic','Greys','Reds','Blues'] \\\n",
    "        )"
   ]
  },
  {
   "cell_type": "markdown",
   "metadata": {},
   "source": [
    "## Merge transects with locks and gage data "
   ]
  },
  {
   "cell_type": "code",
   "execution_count": 237,
   "metadata": {
    "extensions": {
     "jupyter_dashboards": {
      "version": 1,
      "views": {
       "grid_default": {},
       "report_default": {
        "hidden": true
       }
      }
     }
    }
   },
   "outputs": [],
   "source": [
    "merge_all_means = pd.merge(locks_par_usgs_resampled_means, transects_resampled_means, how='outer', left_index=True, right_index=True)\n",
    "merge_all_means.to_csv(\"data/Greenup/out/merge_all_means.csv\")\n",
    "#merge_all_means.columns"
   ]
  },
  {
   "cell_type": "markdown",
   "metadata": {
    "extensions": {
     "jupyter_dashboards": {
      "version": 1,
      "views": {
       "grid_default": {},
       "report_default": {
        "hidden": false
       }
      }
     }
    }
   },
   "source": [
    "### Correlation of transects with locks data"
   ]
  },
  {
   "cell_type": "code",
   "execution_count": 238,
   "metadata": {
    "extensions": {
     "jupyter_dashboards": {
      "version": 1,
      "views": {
       "grid_default": {
        "hidden": true
       },
       "report_default": {
        "hidden": true
       }
      }
     }
    }
   },
   "outputs": [
    {
     "data": {
      "application/vnd.jupyter.widget-view+json": {
       "model_id": "42cdb5b94b38481bbafdbe76394f762d",
       "version_major": 2,
       "version_minor": 0
      },
      "text/plain": [
       "interactive(children=(Dropdown(description='Property', options=('ODO mg/L', 'Chlorophyll µg/L', 'BGA-PC µg/L',…"
      ]
     },
     "metadata": {},
     "output_type": "display_data"
    },
    {
     "data": {
      "text/plain": [
       "<function __main__.scatter_plot_all(Property='Chlorophyll RFU')>"
      ]
     },
     "execution_count": 238,
     "metadata": {},
     "output_type": "execute_result"
    }
   ],
   "source": [
    "def scatter_plot_all(Property='Chlorophyll RFU'):\n",
    "    fig, ax = plt.subplots()\n",
    "    merge_all_means.plot.scatter(ax=ax,x=Property,y=Property+'_rcb',color='blue')\n",
    "    merge_all_means.plot.scatter(ax=ax,x=Property,y=Property+'_greenup',color='green')\n",
    "    ax.set_title(\"Correlation of \"+Property+\" at Transects and Greenup (green) and RCB (blue) Locks\",fontsize=14)\n",
    "    ax.set_xlabel(Property+\" at Transects\")\n",
    "    ax.set_ylabel(Property+\" at Locks\")\n",
    "    \n",
    "interact(scatter_plot_all, \\\n",
    "         Property=locks_all_dataonly.drop(['Depth m'],axis=1).columns.tolist()+['PAR'] \\\n",
    "        )"
   ]
  },
  {
   "cell_type": "markdown",
   "metadata": {
    "extensions": {
     "jupyter_dashboards": {
      "version": 1,
      "views": {
       "grid_default": {},
       "report_default": {
        "hidden": false
       }
      }
     }
    }
   },
   "source": [
    "#### Generate means of resampled data as baseline and mean values and use for transects 3D profiles"
   ]
  },
  {
   "cell_type": "code",
   "execution_count": 239,
   "metadata": {
    "extensions": {
     "jupyter_dashboards": {
      "version": 1,
      "views": {
       "grid_default": {},
       "report_default": {
        "hidden": true
       }
      }
     }
    }
   },
   "outputs": [],
   "source": [
    "merge_all_bypos = merge_all_means.groupby(['T Pos'])\n",
    "merge_all_bypos_means = merge_all_bypos.mean()\n",
    "merge_all_bypos_means.to_csv('data/Greenup/out/merge_all_bypos_means.csv')\n",
    "#merge_all_bypos_means.columns"
   ]
  },
  {
   "cell_type": "markdown",
   "metadata": {
    "extensions": {
     "jupyter_dashboards": {
      "version": 1,
      "views": {
       "grid_default": {},
       "report_default": {
        "hidden": false
       }
      }
     }
    }
   },
   "source": [
    "### Get transect means and baseline values from corresponding measurements at the RC Byrd and Greenup Locks and Dams\n",
    " * **TODO**: \n",
    "   * Use baseline based on 6-Hr x RMI grid fit to above"
   ]
  },
  {
   "cell_type": "code",
   "execution_count": 240,
   "metadata": {},
   "outputs": [
    {
     "name": "stderr",
     "output_type": "stream",
     "text": [
      "/opt/conda/lib/python3.7/site-packages/pandas/core/reshape/merge.py:946: UserWarning: You are merging on int and float columns where the float values are not equal to their int representation\n",
      "  'representation', UserWarning)\n"
     ]
    },
    {
     "data": {
      "text/plain": [
       "Index(['ODO mg/L', 'Chlorophyll µg/L', 'BGA-PC µg/L', 'Temp °C', 'Cond µS/cm',\n",
       "       'Sal psu', 'Turbidity NTU', 'pH', 'Depth m', 'T Pos', 'H Pos', 'PAR',\n",
       "       'Chlorophyll/BGA', 'RMI', 'ODO % sat_rcb', 'ODO mg/L_rcb',\n",
       "       'Chlorophyll RFU_rcb', 'Chlorophyll µg/L_rcb', 'BGA-PC RFU_rcb',\n",
       "       'BGA-PC µg/L_rcb', 'Temp °C_rcb', 'Cond µS/cm_rcb', 'SpCond µS/cm_rcb',\n",
       "       'Sal psu_rcb', 'nLF Cond µS/cm_rcb', 'TDS mg/L_rcb',\n",
       "       'Turbidity NTU_rcb', 'pH_rcb', 'pH mV_rcb', 'Press psi a_rcb',\n",
       "       'Depth m_rcb', 'Chlorophyll/BGA_rcb', 'ODO % sat_greenup',\n",
       "       'ODO mg/L_greenup', 'Chlorophyll RFU_greenup',\n",
       "       'Chlorophyll µg/L_greenup', 'BGA-PC RFU_greenup', 'BGA-PC µg/L_greenup',\n",
       "       'Temp °C_greenup', 'Cond µS/cm_greenup', 'SpCond µS/cm_greenup',\n",
       "       'Sal psu_greenup', 'nLF Cond µS/cm_greenup', 'TDS mg/L_greenup',\n",
       "       'Turbidity NTU_greenup', 'pH_greenup', 'pH mV_greenup',\n",
       "       'Press psi a_greenup', 'Depth m_greenup', 'Chlorophyll/BGA_greenup',\n",
       "       'Temperature', 'Temperature ADVM', 'Discharge', 'Gage height',\n",
       "       'Specific cond', 'Dissolved oxygen', 'pH_x', 'Turbidity',\n",
       "       'Sensor velocity', 'Mean velocity', 'PAR_rcb', 'PAR_greenup',\n",
       "       'ODO mg/L_mean', 'Chlorophyll µg/L_mean', 'BGA-PC µg/L_mean',\n",
       "       'Temp °C_mean', 'Cond µS/cm_mean', 'Sal psu_mean', 'Turbidity NTU_mean',\n",
       "       'pH_y', 'Depth m_mean', 'H Pos_mean', 'PAR_mean',\n",
       "       'Chlorophyll/BGA_mean', 'RMI_mean'],\n",
       "      dtype='object')"
      ]
     },
     "execution_count": 240,
     "metadata": {},
     "output_type": "execute_result"
    }
   ],
   "source": [
    "transects_means_bases_new = pd.merge(transects_sonde_par, merge_all_means, how='inner', on=['T Pos'], suffixes=('','_mean'))\n",
    "transects_means_bases_new.columns"
   ]
  },
  {
   "cell_type": "code",
   "execution_count": 241,
   "metadata": {},
   "outputs": [
    {
     "data": {
      "text/plain": [
       "Index(['ODO mg/L', 'Chlorophyll µg/L', 'BGA-PC µg/L', 'Temp °C', 'Cond µS/cm',\n",
       "       'Sal psu', 'Turbidity NTU', 'pH', 'Depth m', 'T Pos', 'H Pos', 'PAR',\n",
       "       'Chlorophyll/BGA', 'RMI', 'ODO % sat_rcb', 'ODO mg/L_rcb',\n",
       "       'Chlorophyll RFU_rcb', 'Chlorophyll µg/L_rcb', 'BGA-PC RFU_rcb',\n",
       "       'BGA-PC µg/L_rcb', 'Temp °C_rcb', 'Cond µS/cm_rcb', 'SpCond µS/cm_rcb',\n",
       "       'Sal psu_rcb', 'nLF Cond µS/cm_rcb', 'TDS mg/L_rcb',\n",
       "       'Turbidity NTU_rcb', 'pH_rcb', 'pH mV_rcb', 'Press psi a_rcb',\n",
       "       'Depth m_rcb', 'Chlorophyll/BGA_rcb', 'ODO % sat_greenup',\n",
       "       'ODO mg/L_greenup', 'Chlorophyll RFU_greenup',\n",
       "       'Chlorophyll µg/L_greenup', 'BGA-PC RFU_greenup', 'BGA-PC µg/L_greenup',\n",
       "       'Temp °C_greenup', 'Cond µS/cm_greenup', 'SpCond µS/cm_greenup',\n",
       "       'Sal psu_greenup', 'nLF Cond µS/cm_greenup', 'TDS mg/L_greenup',\n",
       "       'Turbidity NTU_greenup', 'pH_greenup', 'pH mV_greenup',\n",
       "       'Press psi a_greenup', 'Depth m_greenup', 'Chlorophyll/BGA_greenup',\n",
       "       'Temperature', 'Temperature ADVM', 'Discharge', 'Gage height',\n",
       "       'Specific cond', 'Dissolved oxygen', 'pH_x', 'Turbidity',\n",
       "       'Sensor velocity', 'Mean velocity', 'PAR_rcb', 'PAR_greenup',\n",
       "       'ODO mg/L_mean', 'Chlorophyll µg/L_mean', 'BGA-PC µg/L_mean',\n",
       "       'Temp °C_mean', 'Cond µS/cm_mean', 'Sal psu_mean', 'Turbidity NTU_mean',\n",
       "       'pH_y', 'Depth m_mean', 'H Pos_mean', 'PAR_mean',\n",
       "       'Chlorophyll/BGA_mean', 'RMI_mean', 'ODO mg/L_base',\n",
       "       'Chlorophyll µg/L_base', 'BGA-PC µg/L_base', 'Temp °C_base',\n",
       "       'Cond µS/cm_base', 'Sal psu_base', 'Turbidity NTU_base', 'pH_base'],\n",
       "      dtype='object')"
      ]
     },
     "execution_count": 241,
     "metadata": {},
     "output_type": "execute_result"
    }
   ],
   "source": [
    "transects_means_bases_new['ODO mg/L_base'] = transects_means_bases_new.apply(lambda x: x['ODO mg/L_rcb']+(x['RMI']-280)*x['ODO mg/L_greenup']/61, axis=1)\n",
    "transects_means_bases_new['Chlorophyll µg/L_base'] = transects_means_bases_new.apply(lambda x: x['Chlorophyll µg/L_rcb']+(x['RMI']-280)*x['Chlorophyll µg/L_greenup']/61, axis=1)\n",
    "transects_means_bases_new['BGA-PC µg/L_base'] = transects_means_bases_new.apply(lambda x: x['BGA-PC µg/L_rcb']+(x['RMI']-280)*x['BGA-PC µg/L_greenup']/61, axis=1)\n",
    "transects_means_bases_new['Temp °C_base'] = transects_means_bases_new.apply(lambda x: x['Temp °C_rcb']+(x['RMI']-280)*x['Temp °C_greenup']/61, axis=1)\n",
    "transects_means_bases_new['Cond µS/cm_base'] = transects_means_bases_new.apply(lambda x: x['Cond µS/cm_rcb']+(x['RMI']-280)*x['Cond µS/cm_greenup']/61, axis=1)\n",
    "transects_means_bases_new['Sal psu_base'] = transects_means_bases_new.apply(lambda x: x['Sal psu_rcb']+(x['RMI']-280)*x['Sal psu_greenup']/61, axis=1)\n",
    "transects_means_bases_new['Turbidity NTU_base'] = transects_means_bases_new.apply(lambda x: x['Turbidity NTU_rcb']+(x['RMI']-280)*x['Turbidity NTU_greenup']/61, axis=1)\n",
    "transects_means_bases_new['pH_base'] = transects_means_bases_new.apply(lambda x: x['pH_rcb']+(x['RMI']-280)*x['pH_greenup']/61, axis=1)\n",
    "transects_means_bases_new.columns"
   ]
  },
  {
   "cell_type": "code",
   "execution_count": 249,
   "metadata": {},
   "outputs": [],
   "source": [
    "transects_means_bases_new.to_csv(\"data/Greenup/out/transects_means_bases_new.csv\")"
   ]
  },
  {
   "cell_type": "code",
   "execution_count": 257,
   "metadata": {
    "extensions": {
     "jupyter_dashboards": {
      "version": 1,
      "views": {
       "grid_default": {},
       "report_default": {
        "hidden": true
       }
      }
     }
    }
   },
   "outputs": [
    {
     "data": {
      "text/html": [
       "<div>\n",
       "<style scoped>\n",
       "    .dataframe tbody tr th:only-of-type {\n",
       "        vertical-align: middle;\n",
       "    }\n",
       "\n",
       "    .dataframe tbody tr th {\n",
       "        vertical-align: top;\n",
       "    }\n",
       "\n",
       "    .dataframe thead th {\n",
       "        text-align: right;\n",
       "    }\n",
       "</style>\n",
       "<table border=\"1\" class=\"dataframe\">\n",
       "  <thead>\n",
       "    <tr style=\"text-align: right;\">\n",
       "      <th></th>\n",
       "      <th>ODO mg/L</th>\n",
       "      <th>Chlorophyll µg/L</th>\n",
       "      <th>BGA-PC µg/L</th>\n",
       "      <th>Temp °C</th>\n",
       "      <th>Cond µS/cm</th>\n",
       "      <th>Sal psu</th>\n",
       "      <th>Turbidity NTU</th>\n",
       "      <th>pH</th>\n",
       "      <th>Depth m</th>\n",
       "      <th>T Pos</th>\n",
       "      <th>...</th>\n",
       "      <th>Chlorophyll/BGA_mean</th>\n",
       "      <th>RMI_mean</th>\n",
       "      <th>ODO mg/L_base</th>\n",
       "      <th>Chlorophyll µg/L_base</th>\n",
       "      <th>BGA-PC µg/L_base</th>\n",
       "      <th>Temp °C_base</th>\n",
       "      <th>Cond µS/cm_base</th>\n",
       "      <th>Sal psu_base</th>\n",
       "      <th>Turbidity NTU_base</th>\n",
       "      <th>pH_base</th>\n",
       "    </tr>\n",
       "  </thead>\n",
       "  <tbody>\n",
       "    <tr>\n",
       "      <th>0</th>\n",
       "      <td>7.7</td>\n",
       "      <td>1.7</td>\n",
       "      <td>0.14</td>\n",
       "      <td>23.488</td>\n",
       "      <td>285.5</td>\n",
       "      <td>0.14</td>\n",
       "      <td>24.0</td>\n",
       "      <td>7.6</td>\n",
       "      <td>0.788</td>\n",
       "      <td>3</td>\n",
       "      <td>...</td>\n",
       "      <td>11.336662</td>\n",
       "      <td>286.5</td>\n",
       "      <td>7.732203</td>\n",
       "      <td>2.103395</td>\n",
       "      <td>0.115716</td>\n",
       "      <td>26.039056</td>\n",
       "      <td>273.342725</td>\n",
       "      <td>0.134237</td>\n",
       "      <td>21.609201</td>\n",
       "      <td>8.362450</td>\n",
       "    </tr>\n",
       "    <tr>\n",
       "      <th>1</th>\n",
       "      <td>7.7</td>\n",
       "      <td>1.7</td>\n",
       "      <td>0.14</td>\n",
       "      <td>23.488</td>\n",
       "      <td>285.5</td>\n",
       "      <td>0.14</td>\n",
       "      <td>24.0</td>\n",
       "      <td>7.6</td>\n",
       "      <td>0.788</td>\n",
       "      <td>3</td>\n",
       "      <td>...</td>\n",
       "      <td>11.172667</td>\n",
       "      <td>286.5</td>\n",
       "      <td>7.740774</td>\n",
       "      <td>1.781614</td>\n",
       "      <td>0.114047</td>\n",
       "      <td>26.654992</td>\n",
       "      <td>277.281814</td>\n",
       "      <td>0.135961</td>\n",
       "      <td>19.205972</td>\n",
       "      <td>8.387587</td>\n",
       "    </tr>\n",
       "    <tr>\n",
       "      <th>2</th>\n",
       "      <td>7.7</td>\n",
       "      <td>1.7</td>\n",
       "      <td>0.14</td>\n",
       "      <td>23.488</td>\n",
       "      <td>285.5</td>\n",
       "      <td>0.14</td>\n",
       "      <td>24.0</td>\n",
       "      <td>7.6</td>\n",
       "      <td>0.788</td>\n",
       "      <td>3</td>\n",
       "      <td>...</td>\n",
       "      <td>11.336662</td>\n",
       "      <td>286.5</td>\n",
       "      <td>7.732203</td>\n",
       "      <td>2.103395</td>\n",
       "      <td>0.115716</td>\n",
       "      <td>26.039056</td>\n",
       "      <td>273.342725</td>\n",
       "      <td>0.134237</td>\n",
       "      <td>21.609201</td>\n",
       "      <td>8.362450</td>\n",
       "    </tr>\n",
       "    <tr>\n",
       "      <th>3</th>\n",
       "      <td>7.7</td>\n",
       "      <td>1.7</td>\n",
       "      <td>0.14</td>\n",
       "      <td>23.488</td>\n",
       "      <td>285.5</td>\n",
       "      <td>0.14</td>\n",
       "      <td>24.0</td>\n",
       "      <td>7.6</td>\n",
       "      <td>0.788</td>\n",
       "      <td>3</td>\n",
       "      <td>...</td>\n",
       "      <td>11.172667</td>\n",
       "      <td>286.5</td>\n",
       "      <td>7.740774</td>\n",
       "      <td>1.781614</td>\n",
       "      <td>0.114047</td>\n",
       "      <td>26.654992</td>\n",
       "      <td>277.281814</td>\n",
       "      <td>0.135961</td>\n",
       "      <td>19.205972</td>\n",
       "      <td>8.387587</td>\n",
       "    </tr>\n",
       "    <tr>\n",
       "      <th>4</th>\n",
       "      <td>7.7</td>\n",
       "      <td>1.7</td>\n",
       "      <td>0.14</td>\n",
       "      <td>23.488</td>\n",
       "      <td>285.5</td>\n",
       "      <td>0.14</td>\n",
       "      <td>24.0</td>\n",
       "      <td>7.6</td>\n",
       "      <td>0.788</td>\n",
       "      <td>3</td>\n",
       "      <td>...</td>\n",
       "      <td>11.336662</td>\n",
       "      <td>286.5</td>\n",
       "      <td>7.732203</td>\n",
       "      <td>2.103395</td>\n",
       "      <td>0.115716</td>\n",
       "      <td>26.039056</td>\n",
       "      <td>273.342725</td>\n",
       "      <td>0.134237</td>\n",
       "      <td>21.609201</td>\n",
       "      <td>8.362450</td>\n",
       "    </tr>\n",
       "  </tbody>\n",
       "</table>\n",
       "<p>5 rows × 96 columns</p>\n",
       "</div>"
      ],
      "text/plain": [
       "   ODO mg/L  Chlorophyll µg/L  BGA-PC µg/L  Temp °C  Cond µS/cm  Sal psu  \\\n",
       "0       7.7               1.7         0.14   23.488       285.5     0.14   \n",
       "1       7.7               1.7         0.14   23.488       285.5     0.14   \n",
       "2       7.7               1.7         0.14   23.488       285.5     0.14   \n",
       "3       7.7               1.7         0.14   23.488       285.5     0.14   \n",
       "4       7.7               1.7         0.14   23.488       285.5     0.14   \n",
       "\n",
       "   Turbidity NTU   pH  Depth m  T Pos  ...  Chlorophyll/BGA_mean  RMI_mean  \\\n",
       "0           24.0  7.6    0.788      3  ...             11.336662     286.5   \n",
       "1           24.0  7.6    0.788      3  ...             11.172667     286.5   \n",
       "2           24.0  7.6    0.788      3  ...             11.336662     286.5   \n",
       "3           24.0  7.6    0.788      3  ...             11.172667     286.5   \n",
       "4           24.0  7.6    0.788      3  ...             11.336662     286.5   \n",
       "\n",
       "   ODO mg/L_base  Chlorophyll µg/L_base  BGA-PC µg/L_base  Temp °C_base  \\\n",
       "0       7.732203               2.103395          0.115716     26.039056   \n",
       "1       7.740774               1.781614          0.114047     26.654992   \n",
       "2       7.732203               2.103395          0.115716     26.039056   \n",
       "3       7.740774               1.781614          0.114047     26.654992   \n",
       "4       7.732203               2.103395          0.115716     26.039056   \n",
       "\n",
       "   Cond µS/cm_base  Sal psu_base  Turbidity NTU_base   pH_base  \n",
       "0       273.342725      0.134237           21.609201  8.362450  \n",
       "1       277.281814      0.135961           19.205972  8.387587  \n",
       "2       273.342725      0.134237           21.609201  8.362450  \n",
       "3       277.281814      0.135961           19.205972  8.387587  \n",
       "4       273.342725      0.134237           21.609201  8.362450  \n",
       "\n",
       "[5 rows x 96 columns]"
      ]
     },
     "execution_count": 257,
     "metadata": {},
     "output_type": "execute_result"
    }
   ],
   "source": [
    "transects_with_bases_new = pd.merge(transects_sonde_par,transects_means_bases_new,on=['T Pos'],suffixes=('','_old'))\n",
    "transects_with_bases_new.to_csv('data/Greenup/out/transects_with_bases_new.csv')\n",
    "transects_with_bases_new.head()"
   ]
  },
  {
   "cell_type": "code",
   "execution_count": 258,
   "metadata": {
    "extensions": {
     "jupyter_dashboards": {
      "version": 1,
      "views": {
       "grid_default": {
        "col": 0,
        "height": 6,
        "hidden": false,
        "row": 72,
        "width": 4
       },
       "report_default": {
        "hidden": false
       }
      }
     }
    }
   },
   "outputs": [
    {
     "data": {
      "application/vnd.jupyter.widget-view+json": {
       "model_id": "f6eb6f1b0324443db3795cc29aca8e83",
       "version_major": 2,
       "version_minor": 0
      },
      "text/plain": [
       "interactive(children=(Dropdown(description='Property', options=('ODO mg/L', 'Chlorophyll µg/L', 'BGA-PC µg/L',…"
      ]
     },
     "metadata": {},
     "output_type": "display_data"
    },
    {
     "data": {
      "text/plain": [
       "<function __main__.plot_3d_transects_new(Property, Type='Absolute', ColorMap='jet', HAng=30, VAng=0)>"
      ]
     },
     "execution_count": 258,
     "metadata": {},
     "output_type": "execute_result"
    },
    {
     "data": {
      "image/png": "[encoded data removed]",
      "text/plain": [
       "<Figure size 360x288 with 1 Axes>"
      ]
     },
     "metadata": {
      "needs_background": "light"
     },
     "output_type": "display_data"
    }
   ],
   "source": [
    "def plot_3d_transects_new(Property,Type='Absolute',ColorMap='jet',HAng=30,VAng=0):\n",
    "    fig = plt.figure(figsize=(5,4))\n",
    "    ax = plt.axes((0.0,0.0,5.0,1.0),projection='3d',title=Property+' '+Type)\n",
    "    z = -transects_sonde_par['Depth m']\n",
    "    y = -transects_sonde_par['RMI']\n",
    "    x = transects_sonde_par['H Pos']\n",
    "    if (Type == 'Absolute'):\n",
    "        c = transects_sonde_par[Property]\n",
    "    elif(Type == 'WRT Baseline'):\n",
    "        c = (transects_with_bases_new[Property]-transects_with_bases_new[Property+'_base'])/transects_with_bases_new[Property+'_base']\n",
    "    elif(Type == 'WRT Transect Mean'):\n",
    "        c = (transects_with_bases_new[Property]-transects_with_bases_new[Property+'_mean'])/transects_with_bases_new[Property+'_mean']\n",
    "    scat = ax.scatter(x,y,z,c=c,cmap=ColorMap,s=100,marker='H')\n",
    "    fig.colorbar(scat)\n",
    "    ax.view_init(HAng,VAng)\n",
    "    \n",
    "interact(plot_3d_transects_new, \\\n",
    "         Property=transects_sonde_par.columns.drop(['Depth m','T Pos','H Pos','PAR','RMI']),\n",
    "         Type=['Absolute','WRT Baseline','WRT Transect Mean'],\n",
    "         ColorMap=['jet','viridis','magma','coolwarm','seismic','Greys','Reds','Blues'],\n",
    "         HAng=(0,90,5),VAng=(-5,5) \\\n",
    "        )"
   ]
  },
  {
   "cell_type": "code",
   "execution_count": 252,
   "metadata": {
    "extensions": {
     "jupyter_dashboards": {
      "version": 1,
      "views": {
       "grid_default": {},
       "report_default": {
        "hidden": true
       }
      }
     }
    }
   },
   "outputs": [],
   "source": [
    "transects_means_bases = pd.read_csv('data/Greenup/transects_with_bases.csv',encoding='latin1')"
   ]
  },
  {
   "cell_type": "code",
   "execution_count": 253,
   "metadata": {
    "extensions": {
     "jupyter_dashboards": {
      "version": 1,
      "views": {
       "grid_default": {
        "hidden": true
       },
       "report_default": {
        "hidden": true
       }
      }
     }
    }
   },
   "outputs": [
    {
     "data": {
      "text/plain": [
       "Index(['T Pos', 'ODO mg/L_mean', 'ODO mg/L_base', 'Chlorophyll µg/L_mean',\n",
       "       'Chlorophyll µg/L_base', 'BGA-PC µg/L_mean', 'BGA-PC µg/L_base',\n",
       "       'Temp °C_mean', 'Temp °C_base', 'Cond µS/cm_mean', 'Cond µS/cm_base',\n",
       "       'Sal psu_mean', 'Sal psu_base', 'Turbidity NTU_mean',\n",
       "       'Turbidity NTU_base', 'pH_mean', 'pH_base', 'ODO mg/L_RCB',\n",
       "       'Chlorophyll Âµg/L_RCB', 'BGA-PC Âµg/L_RCB', 'Temp Â°C_RCB',\n",
       "       'Cond ÂµS/cm_RCB', 'Sal psu_RCB', 'Turbidity NTU_RCB', 'pH_RCB',\n",
       "       'Depth m_RCB', 'ODO mg/L_Greenup', 'Chlorophyll Âµg/L_Greenup',\n",
       "       'BGA-PC Âµg/L_Greenup', 'Temp Â°C_Greenup', 'Cond ÂµS/cm_Greenup',\n",
       "       'Sal psu_Greenup', 'Turbidity NTU_Greenup', 'pH_Greenup',\n",
       "       'Depth m_Greenup'],\n",
       "      dtype='object')"
      ]
     },
     "execution_count": 253,
     "metadata": {},
     "output_type": "execute_result"
    }
   ],
   "source": [
    "transects_means_bases = transects_means_bases.drop(['ODO % sat_mean', 'ODO % sat_base', \\\n",
    "    'Chlorophyll RFU_mean', 'Chlorophyll RFU_base', \\\n",
    "    'BGA-PC RFU_mean', 'BGA-PC RFU_base', \\\n",
    "    'SpCond µS/cm_mean', 'SpCond µS/cm_base', \\\n",
    "    'nLF Cond µS/cm_mean', 'nLF Cond µS/cm_base', \\\n",
    "    'TDS mg/L_mean', 'TDS mg/L_base', \\\n",
    "    'pH mV_mean', 'pH mV_base', \\\n",
    "    'PAR_mean', 'PAR_MIN_mean', 'PAR_MAX_mean', \\\n",
    "    'ODO % sat_RCB', 'Chlorophyll RFU_RCB', 'BGA-PC RFU_RCB', 'SpCond ÂµS/cm_RCB', 'nLF Cond ÂµS/cm_RCB', 'TDS mg/L_RCB', 'pH mV_RCB', 'Press psi a_RCB', \\\n",
    "    'ODO % sat_Greenup', 'Chlorophyll RFU_Greenup', 'BGA-PC RFU_Greenup', 'SpCond ÂµS/cm_Greenup', 'nLF Cond ÂµS/cm_Greenup', 'TDS mg/L_Greenup', 'pH mV_Greenup', 'Press psi a_Greenup'],axis=1)\n",
    "transects_means_bases.columns"
   ]
  },
  {
   "cell_type": "code",
   "execution_count": 254,
   "metadata": {},
   "outputs": [],
   "source": [
    "transects_means_bases['Chlorophyll/BGA_mean'] = transects_means_bases.apply(lambda x: x['Chlorophyll µg/L_mean']/x['BGA-PC µg/L_mean'], axis=1)\n",
    "transects_means_bases['Chlorophyll/BGA_base'] = transects_means_bases.apply(lambda x: x['Chlorophyll µg/L_base']/x['BGA-PC µg/L_base'], axis=1)"
   ]
  },
  {
   "cell_type": "markdown",
   "metadata": {
    "extensions": {
     "jupyter_dashboards": {
      "version": 1,
      "views": {
       "grid_default": {},
       "report_default": {
        "hidden": false
       }
      }
     }
    }
   },
   "source": [
    "#### Merge with transect data to do baseline corrections and comparisons with means"
   ]
  },
  {
   "cell_type": "code",
   "execution_count": 255,
   "metadata": {
    "extensions": {
     "jupyter_dashboards": {
      "version": 1,
      "views": {
       "grid_default": {},
       "report_default": {
        "hidden": true
       }
      }
     }
    }
   },
   "outputs": [],
   "source": [
    "transects_with_bases = pd.merge(transects_sonde_par,transects_means_bases,on=['T Pos'])\n",
    "#transects_with_bases.to_csv('data/Greenup/out/transects_with_bases')\n",
    "#transects_with_bases.head()"
   ]
  },
  {
   "cell_type": "markdown",
   "metadata": {},
   "source": [
    "<div id='transect_3d_profiles'></div>"
   ]
  },
  {
   "cell_type": "markdown",
   "metadata": {
    "extensions": {
     "jupyter_dashboards": {
      "version": 1,
      "views": {
       "grid_default": {
        "col": 0,
        "height": 4,
        "hidden": false,
        "row": 47,
        "width": 4
       },
       "report_default": {
        "hidden": false
       }
      }
     }
    }
   },
   "source": [
    "### Create pseudo 3D profile showing all transects"
   ]
  },
  {
   "cell_type": "code",
   "execution_count": 256,
   "metadata": {
    "extensions": {
     "jupyter_dashboards": {
      "version": 1,
      "views": {
       "grid_default": {
        "col": 0,
        "height": 6,
        "hidden": false,
        "row": 72,
        "width": 4
       },
       "report_default": {
        "hidden": false
       }
      }
     }
    }
   },
   "outputs": [
    {
     "data": {
      "application/vnd.jupyter.widget-view+json": {
       "model_id": "454c10dfb6114f60be292c1298ed191e",
       "version_major": 2,
       "version_minor": 0
      },
      "text/plain": [
       "interactive(children=(Dropdown(description='Property', options=('ODO mg/L', 'Chlorophyll µg/L', 'BGA-PC µg/L',…"
      ]
     },
     "metadata": {},
     "output_type": "display_data"
    },
    {
     "data": {
      "text/plain": [
       "<function __main__.plot_3d_transects(Property, Type='Absolute', ColorMap='jet', HAng=30, VAng=0)>"
      ]
     },
     "execution_count": 256,
     "metadata": {},
     "output_type": "execute_result"
    }
   ],
   "source": [
    "def plot_3d_transects(Property,Type='Absolute',ColorMap='jet',HAng=30,VAng=0):\n",
    "    fig = plt.figure(figsize=(5,4))\n",
    "    ax = plt.axes((0.0,0.0,5.0,1.0),projection='3d',title=Property+' '+Type)\n",
    "    z = -transects_sonde_par['Depth m']\n",
    "    y = -transects_sonde_par['RMI']\n",
    "    x = transects_sonde_par['H Pos']\n",
    "    if (Type == 'Absolute'):\n",
    "        c = transects_sonde_par[Property]\n",
    "    elif(Type == 'WRT Baseline'):\n",
    "        c = (transects_with_bases[Property]-transects_with_bases[Property+'_base'])/transects_with_bases[Property+'_base']\n",
    "    elif(Type == 'WRT Transect Mean'):\n",
    "        c = (transects_with_bases[Property]-transects_with_bases[Property+'_mean'])/transects_with_bases[Property+'_mean']\n",
    "    scat = ax.scatter(x,y,z,c=c,cmap=ColorMap,s=100,marker='H')\n",
    "    fig.colorbar(scat)\n",
    "    ax.view_init(HAng,VAng)\n",
    "    \n",
    "interact(plot_3d_transects, \\\n",
    "         Property=transects_sonde_par.columns.drop(['Depth m','T Pos','H Pos','PAR','RMI']),\n",
    "         Type=['Absolute','WRT Baseline','WRT Transect Mean'],\n",
    "         ColorMap=['jet','viridis','magma','coolwarm','seismic','Greys','Reds','Blues'],\n",
    "         HAng=(0,90,5),VAng=(-5,5) \\\n",
    "        )"
   ]
  },
  {
   "cell_type": "code",
   "execution_count": null,
   "metadata": {},
   "outputs": [],
   "source": []
  }
 ],
 "metadata": {
  "extensions": {
   "jupyter_dashboards": {
    "activeView": "report_default",
    "version": 1,
    "views": {
     "grid_default": {
      "cellMargin": 10,
      "defaultCellHeight": 20,
      "maxColumns": 12,
      "name": "grid",
      "type": "grid"
     },
     "report_default": {
      "name": "report",
      "type": "report"
     }
    }
   }
  },
  "kernelspec": {
   "display_name": "Python 3",
   "language": "python",
   "name": "python3"
  },
  "language_info": {
   "codemirror_mode": {
    "name": "ipython",
    "version": 3
   },
   "file_extension": ".py",
   "mimetype": "text/x-python",
   "name": "python",
   "nbconvert_exporter": "python",
   "pygments_lexer": "ipython3",
   "version": "3.7.3"
  }
 },
 "nbformat": 4,
 "nbformat_minor": 2
}
